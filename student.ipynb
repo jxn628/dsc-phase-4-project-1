{
 "cells": [
  {
   "cell_type": "markdown",
   "metadata": {},
   "source": [
    "# Phase 4 Project Notebook\n",
    "- Author: Jonathan Holt\n",
    "- Data Science Flex"
   ]
  },
  {
   "cell_type": "markdown",
   "metadata": {},
   "source": [
    "## Business Problem\n",
    "- What are the top 5 best zip codes for us to invest in?"
   ]
  },
  {
   "cell_type": "markdown",
   "metadata": {},
   "source": [
    "## Questions to Answer"
   ]
  },
  {
   "cell_type": "markdown",
   "metadata": {},
   "source": [
    "1. What is the average (mean) home price for zip codes?\n",
    "    a. also by: State, Metro Region, etc.\n",
    "2. Which zip codes performed above expectations?\n",
    "3. Do the top performing zip codes have any identifiers?\n"
   ]
  },
  {
   "cell_type": "markdown",
   "metadata": {},
   "source": [
    "## What Models & Metrics I plan on using"
   ]
  },
  {
   "cell_type": "markdown",
   "metadata": {},
   "source": [
    "## Helper Functions\n",
    "- Functions provided by Flatiron"
   ]
  },
  {
   "cell_type": "code",
   "execution_count": 1,
   "metadata": {
    "ExecuteTime": {
     "end_time": "2022-05-02T18:35:01.779387Z",
     "start_time": "2022-05-02T18:35:01.771467Z"
    }
   },
   "outputs": [],
   "source": [
    "def get_datetimes(df):\n",
    "    \"\"\"\n",
    "    Takes a dataframe:\n",
    "    returns only those column names that can be converted into datetime objects \n",
    "    as datetime objects.\n",
    "    NOTE number of returned columns may not match total number of columns in passed dataframe\n",
    "    \"\"\"\n",
    "    \n",
    "    return pd.to_datetime(df.columns.values[1:], format='%Y-%m')"
   ]
  },
  {
   "cell_type": "code",
   "execution_count": 40,
   "metadata": {
    "ExecuteTime": {
     "end_time": "2022-05-02T18:58:14.880969Z",
     "start_time": "2022-05-02T18:58:14.866353Z"
    }
   },
   "outputs": [],
   "source": [
    "def melt_data(df):\n",
    "    \"\"\"\n",
    "    Takes the zillow_data dataset in wide form or a subset of the zillow_dataset.  \n",
    "    Returns a long-form datetime dataframe \n",
    "    with the datetime column names as the index and the values as the 'values' column.\n",
    "    \n",
    "    If more than one row is passes in the wide-form dataset, the values column\n",
    "    will be the mean of the values from the datetime columns in all of the rows.\n",
    "    \"\"\"\n",
    "    \n",
    "    melted = pd.melt(df, id_vars=['RegionName', 'RegionID', 'SizeRank', 'City', 'State', 'Metro', 'CountyName'], var_name='time')\n",
    "    melted['time'] = pd.to_datetime(melted['time'], infer_datetime_format=True)\n",
    "    melted = melted.dropna(subset=['value'])\n",
    "    return melted.groupby('time').aggregate({'value':'mean'})"
   ]
  },
  {
   "cell_type": "markdown",
   "metadata": {},
   "source": [
    "## Loading Data"
   ]
  },
  {
   "cell_type": "code",
   "execution_count": 3,
   "metadata": {
    "ExecuteTime": {
     "end_time": "2022-05-02T18:35:05.145188Z",
     "start_time": "2022-05-02T18:35:04.295059Z"
    }
   },
   "outputs": [],
   "source": [
    "import pandas as pd\n",
    "import numpy as np\n",
    "import matplotlib.pyplot as plt\n",
    "%matplotlib inline\n",
    "import matplotlib.ticker as mtick\n",
    "import seaborn as sns\n",
    "\n",
    "plt.style.use('seaborn')\n",
    "pd.set_option('display.max_rows', 1000) #change the amount of rows displayed"
   ]
  },
  {
   "cell_type": "code",
   "execution_count": 4,
   "metadata": {
    "ExecuteTime": {
     "end_time": "2022-05-02T18:35:07.120288Z",
     "start_time": "2022-05-02T18:35:06.798414Z"
    }
   },
   "outputs": [],
   "source": [
    "df = pd.read_csv(\"zillow_data.csv\")"
   ]
  },
  {
   "cell_type": "code",
   "execution_count": 5,
   "metadata": {
    "ExecuteTime": {
     "end_time": "2022-05-02T18:35:08.248198Z",
     "start_time": "2022-05-02T18:35:08.217546Z"
    }
   },
   "outputs": [
    {
     "data": {
      "text/html": [
       "<div>\n",
       "<style scoped>\n",
       "    .dataframe tbody tr th:only-of-type {\n",
       "        vertical-align: middle;\n",
       "    }\n",
       "\n",
       "    .dataframe tbody tr th {\n",
       "        vertical-align: top;\n",
       "    }\n",
       "\n",
       "    .dataframe thead th {\n",
       "        text-align: right;\n",
       "    }\n",
       "</style>\n",
       "<table border=\"1\" class=\"dataframe\">\n",
       "  <thead>\n",
       "    <tr style=\"text-align: right;\">\n",
       "      <th></th>\n",
       "      <th>RegionID</th>\n",
       "      <th>RegionName</th>\n",
       "      <th>City</th>\n",
       "      <th>State</th>\n",
       "      <th>Metro</th>\n",
       "      <th>CountyName</th>\n",
       "      <th>SizeRank</th>\n",
       "      <th>1996-04</th>\n",
       "      <th>1996-05</th>\n",
       "      <th>1996-06</th>\n",
       "      <th>...</th>\n",
       "      <th>2017-07</th>\n",
       "      <th>2017-08</th>\n",
       "      <th>2017-09</th>\n",
       "      <th>2017-10</th>\n",
       "      <th>2017-11</th>\n",
       "      <th>2017-12</th>\n",
       "      <th>2018-01</th>\n",
       "      <th>2018-02</th>\n",
       "      <th>2018-03</th>\n",
       "      <th>2018-04</th>\n",
       "    </tr>\n",
       "  </thead>\n",
       "  <tbody>\n",
       "    <tr>\n",
       "      <th>0</th>\n",
       "      <td>84654</td>\n",
       "      <td>60657</td>\n",
       "      <td>Chicago</td>\n",
       "      <td>IL</td>\n",
       "      <td>Chicago</td>\n",
       "      <td>Cook</td>\n",
       "      <td>1</td>\n",
       "      <td>334200.0</td>\n",
       "      <td>335400.0</td>\n",
       "      <td>336500.0</td>\n",
       "      <td>...</td>\n",
       "      <td>1005500</td>\n",
       "      <td>1007500</td>\n",
       "      <td>1007800</td>\n",
       "      <td>1009600</td>\n",
       "      <td>1013300</td>\n",
       "      <td>1018700</td>\n",
       "      <td>1024400</td>\n",
       "      <td>1030700</td>\n",
       "      <td>1033800</td>\n",
       "      <td>1030600</td>\n",
       "    </tr>\n",
       "    <tr>\n",
       "      <th>1</th>\n",
       "      <td>90668</td>\n",
       "      <td>75070</td>\n",
       "      <td>McKinney</td>\n",
       "      <td>TX</td>\n",
       "      <td>Dallas-Fort Worth</td>\n",
       "      <td>Collin</td>\n",
       "      <td>2</td>\n",
       "      <td>235700.0</td>\n",
       "      <td>236900.0</td>\n",
       "      <td>236700.0</td>\n",
       "      <td>...</td>\n",
       "      <td>308000</td>\n",
       "      <td>310000</td>\n",
       "      <td>312500</td>\n",
       "      <td>314100</td>\n",
       "      <td>315000</td>\n",
       "      <td>316600</td>\n",
       "      <td>318100</td>\n",
       "      <td>319600</td>\n",
       "      <td>321100</td>\n",
       "      <td>321800</td>\n",
       "    </tr>\n",
       "    <tr>\n",
       "      <th>2</th>\n",
       "      <td>91982</td>\n",
       "      <td>77494</td>\n",
       "      <td>Katy</td>\n",
       "      <td>TX</td>\n",
       "      <td>Houston</td>\n",
       "      <td>Harris</td>\n",
       "      <td>3</td>\n",
       "      <td>210400.0</td>\n",
       "      <td>212200.0</td>\n",
       "      <td>212200.0</td>\n",
       "      <td>...</td>\n",
       "      <td>321000</td>\n",
       "      <td>320600</td>\n",
       "      <td>320200</td>\n",
       "      <td>320400</td>\n",
       "      <td>320800</td>\n",
       "      <td>321200</td>\n",
       "      <td>321200</td>\n",
       "      <td>323000</td>\n",
       "      <td>326900</td>\n",
       "      <td>329900</td>\n",
       "    </tr>\n",
       "    <tr>\n",
       "      <th>3</th>\n",
       "      <td>84616</td>\n",
       "      <td>60614</td>\n",
       "      <td>Chicago</td>\n",
       "      <td>IL</td>\n",
       "      <td>Chicago</td>\n",
       "      <td>Cook</td>\n",
       "      <td>4</td>\n",
       "      <td>498100.0</td>\n",
       "      <td>500900.0</td>\n",
       "      <td>503100.0</td>\n",
       "      <td>...</td>\n",
       "      <td>1289800</td>\n",
       "      <td>1287700</td>\n",
       "      <td>1287400</td>\n",
       "      <td>1291500</td>\n",
       "      <td>1296600</td>\n",
       "      <td>1299000</td>\n",
       "      <td>1302700</td>\n",
       "      <td>1306400</td>\n",
       "      <td>1308500</td>\n",
       "      <td>1307000</td>\n",
       "    </tr>\n",
       "    <tr>\n",
       "      <th>4</th>\n",
       "      <td>93144</td>\n",
       "      <td>79936</td>\n",
       "      <td>El Paso</td>\n",
       "      <td>TX</td>\n",
       "      <td>El Paso</td>\n",
       "      <td>El Paso</td>\n",
       "      <td>5</td>\n",
       "      <td>77300.0</td>\n",
       "      <td>77300.0</td>\n",
       "      <td>77300.0</td>\n",
       "      <td>...</td>\n",
       "      <td>119100</td>\n",
       "      <td>119400</td>\n",
       "      <td>120000</td>\n",
       "      <td>120300</td>\n",
       "      <td>120300</td>\n",
       "      <td>120300</td>\n",
       "      <td>120300</td>\n",
       "      <td>120500</td>\n",
       "      <td>121000</td>\n",
       "      <td>121500</td>\n",
       "    </tr>\n",
       "  </tbody>\n",
       "</table>\n",
       "<p>5 rows × 272 columns</p>\n",
       "</div>"
      ],
      "text/plain": [
       "   RegionID  RegionName      City State              Metro CountyName  \\\n",
       "0     84654       60657   Chicago    IL            Chicago       Cook   \n",
       "1     90668       75070  McKinney    TX  Dallas-Fort Worth     Collin   \n",
       "2     91982       77494      Katy    TX            Houston     Harris   \n",
       "3     84616       60614   Chicago    IL            Chicago       Cook   \n",
       "4     93144       79936   El Paso    TX            El Paso    El Paso   \n",
       "\n",
       "   SizeRank   1996-04   1996-05   1996-06  ...  2017-07  2017-08  2017-09  \\\n",
       "0         1  334200.0  335400.0  336500.0  ...  1005500  1007500  1007800   \n",
       "1         2  235700.0  236900.0  236700.0  ...   308000   310000   312500   \n",
       "2         3  210400.0  212200.0  212200.0  ...   321000   320600   320200   \n",
       "3         4  498100.0  500900.0  503100.0  ...  1289800  1287700  1287400   \n",
       "4         5   77300.0   77300.0   77300.0  ...   119100   119400   120000   \n",
       "\n",
       "   2017-10  2017-11  2017-12  2018-01  2018-02  2018-03  2018-04  \n",
       "0  1009600  1013300  1018700  1024400  1030700  1033800  1030600  \n",
       "1   314100   315000   316600   318100   319600   321100   321800  \n",
       "2   320400   320800   321200   321200   323000   326900   329900  \n",
       "3  1291500  1296600  1299000  1302700  1306400  1308500  1307000  \n",
       "4   120300   120300   120300   120300   120500   121000   121500  \n",
       "\n",
       "[5 rows x 272 columns]"
      ]
     },
     "execution_count": 5,
     "metadata": {},
     "output_type": "execute_result"
    }
   ],
   "source": [
    "df.head()"
   ]
  },
  {
   "cell_type": "markdown",
   "metadata": {},
   "source": [
    "## Checking for Null Values"
   ]
  },
  {
   "cell_type": "code",
   "execution_count": 8,
   "metadata": {
    "ExecuteTime": {
     "end_time": "2022-05-02T18:36:18.368796Z",
     "start_time": "2022-05-02T18:36:18.334699Z"
    }
   },
   "outputs": [
    {
     "data": {
      "text/plain": [
       "RegionID         0\n",
       "RegionName       0\n",
       "City             0\n",
       "State            0\n",
       "Metro         1043\n",
       "CountyName       0\n",
       "SizeRank         0\n",
       "1996-04       1039\n",
       "1996-05       1039\n",
       "1996-06       1039\n",
       "1996-07       1039\n",
       "1996-08       1039\n",
       "1996-09       1039\n",
       "1996-10       1039\n",
       "1996-11       1039\n",
       "1996-12       1039\n",
       "1997-01       1039\n",
       "1997-02       1039\n",
       "1997-03       1039\n",
       "1997-04       1039\n",
       "1997-05       1039\n",
       "1997-06       1039\n",
       "1997-07       1038\n",
       "1997-08       1038\n",
       "1997-09       1038\n",
       "1997-10       1038\n",
       "1997-11       1038\n",
       "1997-12       1038\n",
       "1998-01       1036\n",
       "1998-02       1036\n",
       "1998-03       1036\n",
       "1998-04       1036\n",
       "1998-05       1036\n",
       "1998-06       1036\n",
       "1998-07       1036\n",
       "1998-08       1036\n",
       "1998-09       1036\n",
       "1998-10       1036\n",
       "1998-11       1036\n",
       "1998-12       1036\n",
       "1999-01       1036\n",
       "1999-02       1036\n",
       "1999-03       1036\n",
       "1999-04       1036\n",
       "1999-05       1036\n",
       "1999-06       1036\n",
       "1999-07       1036\n",
       "1999-08       1036\n",
       "1999-09       1036\n",
       "1999-10       1036\n",
       "1999-11       1036\n",
       "1999-12       1036\n",
       "2000-01       1036\n",
       "2000-02       1036\n",
       "2000-03       1036\n",
       "2000-04       1036\n",
       "2000-05       1036\n",
       "2000-06       1036\n",
       "2000-07       1036\n",
       "2000-08       1036\n",
       "2000-09       1036\n",
       "2000-10       1036\n",
       "2000-11       1036\n",
       "2000-12       1036\n",
       "2001-01       1036\n",
       "2001-02       1036\n",
       "2001-03       1036\n",
       "2001-04       1036\n",
       "2001-05       1036\n",
       "2001-06       1036\n",
       "2001-07       1036\n",
       "2001-08       1036\n",
       "2001-09       1036\n",
       "2001-10       1036\n",
       "2001-11       1036\n",
       "2001-12       1036\n",
       "2002-01       1036\n",
       "2002-02       1036\n",
       "2002-03       1036\n",
       "2002-04       1036\n",
       "2002-05       1036\n",
       "2002-06       1036\n",
       "2002-07       1036\n",
       "2002-08       1036\n",
       "2002-09       1036\n",
       "2002-10       1036\n",
       "2002-11       1036\n",
       "2002-12       1036\n",
       "2003-01       1036\n",
       "2003-02       1036\n",
       "2003-03       1036\n",
       "2003-04       1036\n",
       "2003-05       1036\n",
       "2003-06       1036\n",
       "2003-07        918\n",
       "2003-08        918\n",
       "2003-09        918\n",
       "2003-10        918\n",
       "2003-11        918\n",
       "2003-12        918\n",
       "2004-01        887\n",
       "2004-02        887\n",
       "2004-03        887\n",
       "2004-04        887\n",
       "2004-05        887\n",
       "2004-06        887\n",
       "2004-07        866\n",
       "2004-08        866\n",
       "2004-09        866\n",
       "2004-10        866\n",
       "2004-11        866\n",
       "2004-12        866\n",
       "2005-01        814\n",
       "2005-02        814\n",
       "2005-03        801\n",
       "2005-04        801\n",
       "2005-05        801\n",
       "2005-06        801\n",
       "2005-07        723\n",
       "2005-08        723\n",
       "2005-09        723\n",
       "2005-10        723\n",
       "2005-11        723\n",
       "2005-12        723\n",
       "2006-01        667\n",
       "2006-02        667\n",
       "2006-03        667\n",
       "2006-04        667\n",
       "2006-05        667\n",
       "2006-06        667\n",
       "2006-07        640\n",
       "2006-08        640\n",
       "2006-09        640\n",
       "2006-10        640\n",
       "2006-11        640\n",
       "2006-12        640\n",
       "2007-01        620\n",
       "2007-02        620\n",
       "2007-03        620\n",
       "2007-04        620\n",
       "2007-05        620\n",
       "2007-06        620\n",
       "2007-07        613\n",
       "2007-08        613\n",
       "2007-09        613\n",
       "2007-10        613\n",
       "2007-11        613\n",
       "2007-12        613\n",
       "2008-01        607\n",
       "2008-02        607\n",
       "2008-03        607\n",
       "2008-04        607\n",
       "2008-05        607\n",
       "2008-06        607\n",
       "2008-07        598\n",
       "2008-08        598\n",
       "2008-09        598\n",
       "2008-10        598\n",
       "2008-11        598\n",
       "2008-12        598\n",
       "2009-01        587\n",
       "2009-02        587\n",
       "2009-03        587\n",
       "2009-04        587\n",
       "2009-05        587\n",
       "2009-06        587\n",
       "2009-07        580\n",
       "2009-08        580\n",
       "2009-09        580\n",
       "2009-10        580\n",
       "2009-11        580\n",
       "2009-12        580\n",
       "2010-01        579\n",
       "2010-02        579\n",
       "2010-03        349\n",
       "2010-04        349\n",
       "2010-05        349\n",
       "2010-06        349\n",
       "2010-07        308\n",
       "2010-08        308\n",
       "2010-09        308\n",
       "2010-10        308\n",
       "2010-11        308\n",
       "2010-12        308\n",
       "2011-01        275\n",
       "2011-02        275\n",
       "2011-03        275\n",
       "2011-04        275\n",
       "2011-05        275\n",
       "2011-06        275\n",
       "2011-07        251\n",
       "2011-08        251\n",
       "2011-09        251\n",
       "2011-10        251\n",
       "2011-11        251\n",
       "2011-12        251\n",
       "2012-01        224\n",
       "2012-02        224\n",
       "2012-03        224\n",
       "2012-04        224\n",
       "2012-05        224\n",
       "2012-06        224\n",
       "2012-07        206\n",
       "2012-08        206\n",
       "2012-09        206\n",
       "2012-10        206\n",
       "2012-11        206\n",
       "2012-12        206\n",
       "2013-01        151\n",
       "2013-02        151\n",
       "2013-03        151\n",
       "2013-04        151\n",
       "2013-05        151\n",
       "2013-06        151\n",
       "2013-07        109\n",
       "2013-08        109\n",
       "2013-09        109\n",
       "2013-10        109\n",
       "2013-11        109\n",
       "2013-12        109\n",
       "2014-01         56\n",
       "2014-02         56\n",
       "2014-03         56\n",
       "2014-04         56\n",
       "2014-05         56\n",
       "2014-06         56\n",
       "2014-07          0\n",
       "2014-08          0\n",
       "2014-09          0\n",
       "2014-10          0\n",
       "2014-11          0\n",
       "2014-12          0\n",
       "2015-01          0\n",
       "2015-02          0\n",
       "2015-03          0\n",
       "2015-04          0\n",
       "2015-05          0\n",
       "2015-06          0\n",
       "2015-07          0\n",
       "2015-08          0\n",
       "2015-09          0\n",
       "2015-10          0\n",
       "2015-11          0\n",
       "2015-12          0\n",
       "2016-01          0\n",
       "2016-02          0\n",
       "2016-03          0\n",
       "2016-04          0\n",
       "2016-05          0\n",
       "2016-06          0\n",
       "2016-07          0\n",
       "2016-08          0\n",
       "2016-09          0\n",
       "2016-10          0\n",
       "2016-11          0\n",
       "2016-12          0\n",
       "2017-01          0\n",
       "2017-02          0\n",
       "2017-03          0\n",
       "2017-04          0\n",
       "2017-05          0\n",
       "2017-06          0\n",
       "2017-07          0\n",
       "2017-08          0\n",
       "2017-09          0\n",
       "2017-10          0\n",
       "2017-11          0\n",
       "2017-12          0\n",
       "2018-01          0\n",
       "2018-02          0\n",
       "2018-03          0\n",
       "2018-04          0\n",
       "dtype: int64"
      ]
     },
     "execution_count": 8,
     "metadata": {},
     "output_type": "execute_result"
    }
   ],
   "source": [
    "df.isnull().sum()"
   ]
  },
  {
   "cell_type": "markdown",
   "metadata": {
    "ExecuteTime": {
     "end_time": "2022-05-02T18:37:24.860879Z",
     "start_time": "2022-05-02T18:37:24.837397Z"
    }
   },
   "source": [
    "### Analysis\n",
    "There are many Null Values. \n",
    "- For categorical data, 7% of Metro are null (1043 of 14,723).\n",
    "- Dates from 1996 - mid 2003, also have 7% null values.\n",
    "- Then it starts to get better. 6% null and decreasing.\n",
    "\n",
    "What is my decision on null values?\n",
    "- keep?\n",
    "- delete?\n",
    "- change (mean)?"
   ]
  },
  {
   "cell_type": "markdown",
   "metadata": {},
   "source": [
    "## RegionName\n",
    "A google search shows that RegionName is the ZipCode for each Region. However, upon sorting, I discovered that any ZipCode beginning with a 0 was ignoring it and displaying as a 4 digit number. I will use the .str().zfill() method to ensure that all RegionNames are displaying the as 5 digits."
   ]
  },
  {
   "cell_type": "code",
   "execution_count": null,
   "metadata": {},
   "outputs": [],
   "source": []
  },
  {
   "cell_type": "markdown",
   "metadata": {},
   "source": [
    "## Dealing with Nulls"
   ]
  },
  {
   "cell_type": "markdown",
   "metadata": {},
   "source": [
    "DEAL WITH NULLS HERE!"
   ]
  },
  {
   "cell_type": "markdown",
   "metadata": {},
   "source": [
    "## Grouping By State"
   ]
  },
  {
   "cell_type": "code",
   "execution_count": 15,
   "metadata": {
    "ExecuteTime": {
     "end_time": "2022-05-02T18:42:32.143826Z",
     "start_time": "2022-05-02T18:42:32.092066Z"
    }
   },
   "outputs": [
    {
     "data": {
      "text/html": [
       "<div>\n",
       "<style scoped>\n",
       "    .dataframe tbody tr th:only-of-type {\n",
       "        vertical-align: middle;\n",
       "    }\n",
       "\n",
       "    .dataframe tbody tr th {\n",
       "        vertical-align: top;\n",
       "    }\n",
       "\n",
       "    .dataframe thead th {\n",
       "        text-align: right;\n",
       "    }\n",
       "</style>\n",
       "<table border=\"1\" class=\"dataframe\">\n",
       "  <thead>\n",
       "    <tr style=\"text-align: right;\">\n",
       "      <th></th>\n",
       "      <th>1996-04</th>\n",
       "      <th>1996-05</th>\n",
       "      <th>1996-06</th>\n",
       "      <th>1996-07</th>\n",
       "      <th>1996-08</th>\n",
       "      <th>1996-09</th>\n",
       "      <th>1996-10</th>\n",
       "      <th>1996-11</th>\n",
       "      <th>1996-12</th>\n",
       "      <th>1997-01</th>\n",
       "      <th>...</th>\n",
       "      <th>2017-07</th>\n",
       "      <th>2017-08</th>\n",
       "      <th>2017-09</th>\n",
       "      <th>2017-10</th>\n",
       "      <th>2017-11</th>\n",
       "      <th>2017-12</th>\n",
       "      <th>2018-01</th>\n",
       "      <th>2018-02</th>\n",
       "      <th>2018-03</th>\n",
       "      <th>2018-04</th>\n",
       "    </tr>\n",
       "    <tr>\n",
       "      <th>State</th>\n",
       "      <th></th>\n",
       "      <th></th>\n",
       "      <th></th>\n",
       "      <th></th>\n",
       "      <th></th>\n",
       "      <th></th>\n",
       "      <th></th>\n",
       "      <th></th>\n",
       "      <th></th>\n",
       "      <th></th>\n",
       "      <th></th>\n",
       "      <th></th>\n",
       "      <th></th>\n",
       "      <th></th>\n",
       "      <th></th>\n",
       "      <th></th>\n",
       "      <th></th>\n",
       "      <th></th>\n",
       "      <th></th>\n",
       "      <th></th>\n",
       "      <th></th>\n",
       "    </tr>\n",
       "  </thead>\n",
       "  <tbody>\n",
       "    <tr>\n",
       "      <th>AK</th>\n",
       "      <td>128382.142857</td>\n",
       "      <td>128832.142857</td>\n",
       "      <td>129253.571429</td>\n",
       "      <td>129639.285714</td>\n",
       "      <td>130028.571429</td>\n",
       "      <td>130367.857143</td>\n",
       "      <td>130710.714286</td>\n",
       "      <td>131085.714286</td>\n",
       "      <td>131557.142857</td>\n",
       "      <td>132107.142857</td>\n",
       "      <td>...</td>\n",
       "      <td>317921.428571</td>\n",
       "      <td>318610.714286</td>\n",
       "      <td>319382.142857</td>\n",
       "      <td>320185.714286</td>\n",
       "      <td>321378.571429</td>\n",
       "      <td>322657.142857</td>\n",
       "      <td>323775.000000</td>\n",
       "      <td>324167.857143</td>\n",
       "      <td>323692.857143</td>\n",
       "      <td>323046.428571</td>\n",
       "    </tr>\n",
       "    <tr>\n",
       "      <th>AL</th>\n",
       "      <td>86795.569620</td>\n",
       "      <td>87122.151899</td>\n",
       "      <td>87460.759494</td>\n",
       "      <td>87798.734177</td>\n",
       "      <td>88156.962025</td>\n",
       "      <td>88531.012658</td>\n",
       "      <td>88918.987342</td>\n",
       "      <td>89327.848101</td>\n",
       "      <td>89800.632911</td>\n",
       "      <td>90325.949367</td>\n",
       "      <td>...</td>\n",
       "      <td>149255.191257</td>\n",
       "      <td>149675.956284</td>\n",
       "      <td>150125.136612</td>\n",
       "      <td>150537.704918</td>\n",
       "      <td>150969.945355</td>\n",
       "      <td>151629.508197</td>\n",
       "      <td>152402.732240</td>\n",
       "      <td>153625.683060</td>\n",
       "      <td>155504.371585</td>\n",
       "      <td>157033.879781</td>\n",
       "    </tr>\n",
       "    <tr>\n",
       "      <th>AR</th>\n",
       "      <td>68868.041237</td>\n",
       "      <td>69015.463918</td>\n",
       "      <td>69140.206186</td>\n",
       "      <td>69262.886598</td>\n",
       "      <td>69378.350515</td>\n",
       "      <td>69507.216495</td>\n",
       "      <td>69674.226804</td>\n",
       "      <td>69885.567010</td>\n",
       "      <td>70167.010309</td>\n",
       "      <td>70535.051546</td>\n",
       "      <td>...</td>\n",
       "      <td>131952.380952</td>\n",
       "      <td>132379.047619</td>\n",
       "      <td>132778.095238</td>\n",
       "      <td>132973.333333</td>\n",
       "      <td>133020.000000</td>\n",
       "      <td>133188.571429</td>\n",
       "      <td>133522.857143</td>\n",
       "      <td>134456.190476</td>\n",
       "      <td>136192.380952</td>\n",
       "      <td>137620.000000</td>\n",
       "    </tr>\n",
       "    <tr>\n",
       "      <th>AZ</th>\n",
       "      <td>116202.790698</td>\n",
       "      <td>116562.790698</td>\n",
       "      <td>116934.883721</td>\n",
       "      <td>117315.348837</td>\n",
       "      <td>117719.534884</td>\n",
       "      <td>118150.232558</td>\n",
       "      <td>118626.511628</td>\n",
       "      <td>119141.395349</td>\n",
       "      <td>119773.488372</td>\n",
       "      <td>120472.093023</td>\n",
       "      <td>...</td>\n",
       "      <td>257896.086957</td>\n",
       "      <td>259598.260870</td>\n",
       "      <td>261243.043478</td>\n",
       "      <td>262884.347826</td>\n",
       "      <td>264369.130435</td>\n",
       "      <td>265908.260870</td>\n",
       "      <td>267327.826087</td>\n",
       "      <td>268714.782609</td>\n",
       "      <td>270488.695652</td>\n",
       "      <td>271952.173913</td>\n",
       "    </tr>\n",
       "    <tr>\n",
       "      <th>CA</th>\n",
       "      <td>200220.959596</td>\n",
       "      <td>200124.831650</td>\n",
       "      <td>200035.942761</td>\n",
       "      <td>199965.572391</td>\n",
       "      <td>199958.754209</td>\n",
       "      <td>200037.626263</td>\n",
       "      <td>200277.020202</td>\n",
       "      <td>200643.013468</td>\n",
       "      <td>201309.680135</td>\n",
       "      <td>202229.124579</td>\n",
       "      <td>...</td>\n",
       "      <td>692367.156863</td>\n",
       "      <td>697869.607843</td>\n",
       "      <td>704045.669935</td>\n",
       "      <td>710515.114379</td>\n",
       "      <td>716760.866013</td>\n",
       "      <td>723263.480392</td>\n",
       "      <td>729496.405229</td>\n",
       "      <td>735525.980392</td>\n",
       "      <td>742146.323529</td>\n",
       "      <td>746329.084967</td>\n",
       "    </tr>\n",
       "  </tbody>\n",
       "</table>\n",
       "<p>5 rows × 265 columns</p>\n",
       "</div>"
      ],
      "text/plain": [
       "             1996-04        1996-05        1996-06        1996-07  \\\n",
       "State                                                               \n",
       "AK     128382.142857  128832.142857  129253.571429  129639.285714   \n",
       "AL      86795.569620   87122.151899   87460.759494   87798.734177   \n",
       "AR      68868.041237   69015.463918   69140.206186   69262.886598   \n",
       "AZ     116202.790698  116562.790698  116934.883721  117315.348837   \n",
       "CA     200220.959596  200124.831650  200035.942761  199965.572391   \n",
       "\n",
       "             1996-08        1996-09        1996-10        1996-11  \\\n",
       "State                                                               \n",
       "AK     130028.571429  130367.857143  130710.714286  131085.714286   \n",
       "AL      88156.962025   88531.012658   88918.987342   89327.848101   \n",
       "AR      69378.350515   69507.216495   69674.226804   69885.567010   \n",
       "AZ     117719.534884  118150.232558  118626.511628  119141.395349   \n",
       "CA     199958.754209  200037.626263  200277.020202  200643.013468   \n",
       "\n",
       "             1996-12        1997-01  ...        2017-07        2017-08  \\\n",
       "State                                ...                                 \n",
       "AK     131557.142857  132107.142857  ...  317921.428571  318610.714286   \n",
       "AL      89800.632911   90325.949367  ...  149255.191257  149675.956284   \n",
       "AR      70167.010309   70535.051546  ...  131952.380952  132379.047619   \n",
       "AZ     119773.488372  120472.093023  ...  257896.086957  259598.260870   \n",
       "CA     201309.680135  202229.124579  ...  692367.156863  697869.607843   \n",
       "\n",
       "             2017-09        2017-10        2017-11        2017-12  \\\n",
       "State                                                               \n",
       "AK     319382.142857  320185.714286  321378.571429  322657.142857   \n",
       "AL     150125.136612  150537.704918  150969.945355  151629.508197   \n",
       "AR     132778.095238  132973.333333  133020.000000  133188.571429   \n",
       "AZ     261243.043478  262884.347826  264369.130435  265908.260870   \n",
       "CA     704045.669935  710515.114379  716760.866013  723263.480392   \n",
       "\n",
       "             2018-01        2018-02        2018-03        2018-04  \n",
       "State                                                              \n",
       "AK     323775.000000  324167.857143  323692.857143  323046.428571  \n",
       "AL     152402.732240  153625.683060  155504.371585  157033.879781  \n",
       "AR     133522.857143  134456.190476  136192.380952  137620.000000  \n",
       "AZ     267327.826087  268714.782609  270488.695652  271952.173913  \n",
       "CA     729496.405229  735525.980392  742146.323529  746329.084967  \n",
       "\n",
       "[5 rows x 265 columns]"
      ]
     },
     "execution_count": 15,
     "metadata": {},
     "output_type": "execute_result"
    }
   ],
   "source": [
    "#recent_data.groupby('genres_list')['production_budget'].describe().sort_values('mean', ascending=False)\n",
    "state_df = df.groupby('State')\n",
    "state_df = state_df.mean() # Getting the mean value for each month\n",
    "state_df.drop(columns=['RegionID', 'RegionName', 'SizeRank'], axis=1, inplace=True)\n",
    "state_df.head()"
   ]
  },
  {
   "cell_type": "code",
   "execution_count": 55,
   "metadata": {
    "ExecuteTime": {
     "end_time": "2022-05-02T19:14:40.619634Z",
     "start_time": "2022-05-02T19:14:40.520151Z"
    }
   },
   "outputs": [
    {
     "data": {
      "text/plain": [
       "<AxesSubplot:>"
      ]
     },
     "execution_count": 55,
     "metadata": {},
     "output_type": "execute_result"
    },
    {
     "data": {
      "image/png": "[encoded data removed]",
      "text/plain": [
       "<Figure size 576x396 with 1 Axes>"
      ]
     },
     "metadata": {},
     "output_type": "display_data"
    }
   ],
   "source": [
    "p2 = state_df.mean().plot(color='red')\n",
    "p2"
   ]
  },
  {
   "cell_type": "markdown",
   "metadata": {},
   "source": [
    "# Using Virginia as an example to figure out the process"
   ]
  },
  {
   "cell_type": "code",
   "execution_count": null,
   "metadata": {},
   "outputs": [],
   "source": [
    "def melt_data(df):\n",
    "    \n",
    "    melted = pd.melt(df, id_vars=['RegionName', 'RegionID', 'SizeRank', 'City', 'State', 'Metro', 'CountyName'], var_name='time')\n",
    "    melted['time'] = pd.to_datetime(melted['time'], infer_datetime_format=True)\n",
    "    melted = melted.dropna(subset=['value'])\n",
    "    return melted.groupby('time').aggregate({'value':'mean'})"
   ]
  },
  {
   "cell_type": "code",
   "execution_count": 36,
   "metadata": {
    "ExecuteTime": {
     "end_time": "2022-05-02T18:48:52.571887Z",
     "start_time": "2022-05-02T18:48:52.544041Z"
    }
   },
   "outputs": [],
   "source": [
    "va_df = state_df.iloc[45]\n",
    "va_df = va_df.reset_index()\n",
    "va_df.rename(columns={\"index\": \"Date\", \"VA\": \"home_sales\"}, inplace=True)\n",
    "va_df['Date'] = pd.to_datetime(va_df['Date'])\n",
    "va_df['home_sales'] = va_df['home_sales'].apply(lambda x: float(\"{:.2f}\".format(x)))\n",
    "va_df = va_df.set_index('Date')"
   ]
  },
  {
   "cell_type": "code",
   "execution_count": 62,
   "metadata": {
    "ExecuteTime": {
     "end_time": "2022-05-02T19:18:02.028777Z",
     "start_time": "2022-05-02T19:18:02.012004Z"
    }
   },
   "outputs": [
    {
     "data": {
      "text/html": [
       "<div>\n",
       "<style scoped>\n",
       "    .dataframe tbody tr th:only-of-type {\n",
       "        vertical-align: middle;\n",
       "    }\n",
       "\n",
       "    .dataframe tbody tr th {\n",
       "        vertical-align: top;\n",
       "    }\n",
       "\n",
       "    .dataframe thead th {\n",
       "        text-align: right;\n",
       "    }\n",
       "</style>\n",
       "<table border=\"1\" class=\"dataframe\">\n",
       "  <thead>\n",
       "    <tr style=\"text-align: right;\">\n",
       "      <th></th>\n",
       "      <th>home_sales</th>\n",
       "    </tr>\n",
       "    <tr>\n",
       "      <th>Date</th>\n",
       "      <th></th>\n",
       "    </tr>\n",
       "  </thead>\n",
       "  <tbody>\n",
       "    <tr>\n",
       "      <th>1996-04-01</th>\n",
       "      <td>122071.24</td>\n",
       "    </tr>\n",
       "    <tr>\n",
       "      <th>1996-05-01</th>\n",
       "      <td>122136.83</td>\n",
       "    </tr>\n",
       "    <tr>\n",
       "      <th>1996-06-01</th>\n",
       "      <td>122201.08</td>\n",
       "    </tr>\n",
       "    <tr>\n",
       "      <th>1996-07-01</th>\n",
       "      <td>122267.20</td>\n",
       "    </tr>\n",
       "    <tr>\n",
       "      <th>1996-08-01</th>\n",
       "      <td>122352.42</td>\n",
       "    </tr>\n",
       "  </tbody>\n",
       "</table>\n",
       "</div>"
      ],
      "text/plain": [
       "            home_sales\n",
       "Date                  \n",
       "1996-04-01   122071.24\n",
       "1996-05-01   122136.83\n",
       "1996-06-01   122201.08\n",
       "1996-07-01   122267.20\n",
       "1996-08-01   122352.42"
      ]
     },
     "execution_count": 62,
     "metadata": {},
     "output_type": "execute_result"
    }
   ],
   "source": [
    "va_df.head()"
   ]
  },
  {
   "cell_type": "markdown",
   "metadata": {},
   "source": [
    "## Visualization"
   ]
  },
  {
   "cell_type": "code",
   "execution_count": 60,
   "metadata": {
    "ExecuteTime": {
     "end_time": "2022-05-02T19:16:25.709011Z",
     "start_time": "2022-05-02T19:16:25.413880Z"
    }
   },
   "outputs": [
    {
     "data": {
      "image/png": "[encoded data removed]",
      "text/plain": [
       "<Figure size 3600x1440 with 1 Axes>"
      ]
     },
     "metadata": {},
     "output_type": "display_data"
    }
   ],
   "source": [
    "fig, ax = plt.subplots(figsize=(50, 20))\n",
    "p = sns.lineplot(data=va_df, x='Date', y='home_sales', color='blue');\n",
    "\n",
    "p.set_xlabel(\"Date\", fontsize = 50)\n",
    "p.set_ylabel(\"Median Housing\", fontsize = 50)\n",
    "\n",
    "plt.xticks(fontsize=40)\n",
    "plt.yticks(fontsize=40)\n",
    "\n",
    "fmt = '${x:,.0f}'\n",
    "tick = mtick.StrMethodFormatter(fmt)\n",
    "ax.yaxis.set_major_formatter(tick) \n",
    "\n",
    "p.set_title(\"Median Housing Sales in Virginia by Year\", fontsize = 100)\n",
    "plt.figsize=(50,25)\n",
    "\n",
    "plt.show();"
   ]
  },
  {
   "cell_type": "markdown",
   "metadata": {},
   "source": [
    "### Histogram (needs work)"
   ]
  },
  {
   "cell_type": "code",
   "execution_count": 63,
   "metadata": {
    "ExecuteTime": {
     "end_time": "2022-05-02T19:20:17.845659Z",
     "start_time": "2022-05-02T19:20:17.722901Z"
    }
   },
   "outputs": [
    {
     "data": {
      "image/png": "[encoded data removed]",
      "text/plain": [
       "<Figure size 864x432 with 1 Axes>"
      ]
     },
     "metadata": {},
     "output_type": "display_data"
    }
   ],
   "source": [
    "va_df.hist(figsize = (12,6))\n",
    "plt.show()"
   ]
  },
  {
   "cell_type": "markdown",
   "metadata": {},
   "source": [
    "### Density Plot"
   ]
  },
  {
   "cell_type": "code",
   "execution_count": 64,
   "metadata": {
    "ExecuteTime": {
     "end_time": "2022-05-02T19:21:39.690485Z",
     "start_time": "2022-05-02T19:21:39.539336Z"
    }
   },
   "outputs": [
    {
     "data": {
      "image/png": "[encoded data removed]",
      "text/plain": [
       "<Figure size 864x432 with 1 Axes>"
      ]
     },
     "metadata": {},
     "output_type": "display_data"
    }
   ],
   "source": [
    "va_df.plot(kind='kde', figsize = (12,6))\n",
    "plt.show()"
   ]
  },
  {
   "cell_type": "code",
   "execution_count": null,
   "metadata": {},
   "outputs": [],
   "source": []
  },
  {
   "cell_type": "code",
   "execution_count": 69,
   "metadata": {
    "ExecuteTime": {
     "end_time": "2022-05-02T19:26:28.574534Z",
     "start_time": "2022-05-02T19:26:28.536517Z"
    }
   },
   "outputs": [],
   "source": [
    "# Determine rolling statistics\n",
    "roll_mean = va_df.rolling(window=12, center=False).mean()\n",
    "roll_std = va_df.rolling(window=12, center=False).std()"
   ]
  },
  {
   "cell_type": "code",
   "execution_count": 74,
   "metadata": {
    "ExecuteTime": {
     "end_time": "2022-05-02T19:29:03.520540Z",
     "start_time": "2022-05-02T19:29:03.300736Z"
    }
   },
   "outputs": [
    {
     "data": {
      "image/png": "[encoded data removed]",
      "text/plain": [
       "<Figure size 1440x720 with 1 Axes>"
      ]
     },
     "metadata": {},
     "output_type": "display_data"
    }
   ],
   "source": [
    "fig, ax = plt.subplots(figsize=(20, 10))\n",
    "p = sns.lineplot(data=va_df, x='Date', y='home_sales', color='blue', label='Original');\n",
    "plt.plot(roll_mean, color='red', label='Rolling Mean')\n",
    "plt.plot(roll_std, color='black', label = 'Rolling Std')\n",
    "\n",
    "p.set_xlabel(\"Date\", fontsize = 50)\n",
    "p.set_ylabel(\"Median Housing\", fontsize = 50)\n",
    "\n",
    "plt.xticks(fontsize=40)\n",
    "plt.yticks(fontsize=40)\n",
    "\n",
    "fmt = '${x:,.0f}'\n",
    "tick = mtick.StrMethodFormatter(fmt)\n",
    "ax.yaxis.set_major_formatter(tick) \n",
    "\n",
    "p.set_title(\"Median Housing Sales in Virginia by Year\", fontsize = 100)\n",
    "plt.figsize=(50,25)\n",
    "plt.legend(loc='best')\n",
    "\n",
    "plt.show();"
   ]
  },
  {
   "cell_type": "markdown",
   "metadata": {},
   "source": [
    "## Analysis:\n",
    "- Mean increases over time and therefore is not stationary"
   ]
  },
  {
   "cell_type": "markdown",
   "metadata": {},
   "source": [
    "## Dickey Fuller Test"
   ]
  },
  {
   "cell_type": "code",
   "execution_count": 75,
   "metadata": {
    "ExecuteTime": {
     "end_time": "2022-05-02T19:31:41.465325Z",
     "start_time": "2022-05-02T19:31:41.237267Z"
    }
   },
   "outputs": [
    {
     "name": "stdout",
     "output_type": "stream",
     "text": [
      "Results of Dickey-Fuller Test: \n",
      "\n",
      "Test Statistic                  -1.730338\n",
      "p-value                          0.415553\n",
      "#Lags Used                      12.000000\n",
      "Number of Observations Used    252.000000\n",
      "Critical Value (1%)             -3.456569\n",
      "Critical Value (5%)             -2.873079\n",
      "Critical Value (10%)            -2.572919\n",
      "dtype: float64\n"
     ]
    }
   ],
   "source": [
    "from statsmodels.tsa.stattools import adfuller\n",
    "\n",
    "# Perform Dickey-Fuller test:\n",
    "print ('Results of Dickey-Fuller Test: \\n')\n",
    "#dftest = adfuller(data['#Passengers'])\n",
    "dftest = adfuller(va_df)\n",
    "\n",
    "# Extract and display test results in a user friendly manner\n",
    "dfoutput = pd.Series(dftest[0:4], index=['Test Statistic', 'p-value', '#Lags Used', 'Number of Observations Used'])\n",
    "for key,value in dftest[4].items():\n",
    "    dfoutput['Critical Value (%s)'%key] = value\n",
    "print(dfoutput)"
   ]
  },
  {
   "cell_type": "code",
   "execution_count": null,
   "metadata": {},
   "outputs": [],
   "source": []
  },
  {
   "cell_type": "markdown",
   "metadata": {},
   "source": [
    "# Data DF"
   ]
  },
  {
   "cell_type": "code",
   "execution_count": null,
   "metadata": {},
   "outputs": [],
   "source": []
  },
  {
   "cell_type": "markdown",
   "metadata": {},
   "source": [
    "# Turn Code from Virginia into a fuction"
   ]
  },
  {
   "cell_type": "code",
   "execution_count": null,
   "metadata": {},
   "outputs": [],
   "source": [
    "def melt_data(df):\n",
    "    \"\"\"\n",
    "    Takes the zillow_data dataset in wide form or a subset of the zillow_dataset.  \n",
    "    Returns a long-form datetime dataframe \n",
    "    with the datetime column names as the index and the values as the 'values' column.\n",
    "    \n",
    "    If more than one row is passes in the wide-form dataset, the values column\n",
    "    will be the mean of the values from the datetime columns in all of the rows.\n",
    "    \"\"\"\n",
    "    \n",
    "    melted = pd.melt(df, id_vars=['RegionName', 'RegionID', 'SizeRank', 'City', 'State', 'Metro', 'CountyName'], var_name='time')\n",
    "    melted['time'] = pd.to_datetime(melted['time'], infer_datetime_format=True)\n",
    "    melted = melted.dropna(subset=['value'])\n",
    "    return melted.groupby('time').aggregate({'value':'mean'})"
   ]
  },
  {
   "cell_type": "code",
   "execution_count": null,
   "metadata": {},
   "outputs": [],
   "source": [
    "va_df = state_df.iloc[45]\n",
    "va_df = va_df.reset_index()\n",
    "va_df.rename(columns={\"index\": \"Date\", \"VA\": \"home_sales\"}, inplace=True)\n",
    "va_df['Date'] = pd.to_datetime(va_df['Date'])\n",
    "va_df['home_sales'] = va_df['home_sales'].apply(lambda x: float(\"{:.2f}\".format(x)))\n",
    "va_df = va_df.set_index('Date')"
   ]
  },
  {
   "cell_type": "code",
   "execution_count": 42,
   "metadata": {
    "ExecuteTime": {
     "end_time": "2022-05-02T19:04:24.429821Z",
     "start_time": "2022-05-02T19:04:24.400684Z"
    }
   },
   "outputs": [
    {
     "data": {
      "text/html": [
       "<div>\n",
       "<style scoped>\n",
       "    .dataframe tbody tr th:only-of-type {\n",
       "        vertical-align: middle;\n",
       "    }\n",
       "\n",
       "    .dataframe tbody tr th {\n",
       "        vertical-align: top;\n",
       "    }\n",
       "\n",
       "    .dataframe thead th {\n",
       "        text-align: right;\n",
       "    }\n",
       "</style>\n",
       "<table border=\"1\" class=\"dataframe\">\n",
       "  <thead>\n",
       "    <tr style=\"text-align: right;\">\n",
       "      <th></th>\n",
       "      <th>1996-04</th>\n",
       "      <th>1996-05</th>\n",
       "      <th>1996-06</th>\n",
       "      <th>1996-07</th>\n",
       "      <th>1996-08</th>\n",
       "      <th>1996-09</th>\n",
       "      <th>1996-10</th>\n",
       "      <th>1996-11</th>\n",
       "      <th>1996-12</th>\n",
       "      <th>1997-01</th>\n",
       "      <th>...</th>\n",
       "      <th>2017-07</th>\n",
       "      <th>2017-08</th>\n",
       "      <th>2017-09</th>\n",
       "      <th>2017-10</th>\n",
       "      <th>2017-11</th>\n",
       "      <th>2017-12</th>\n",
       "      <th>2018-01</th>\n",
       "      <th>2018-02</th>\n",
       "      <th>2018-03</th>\n",
       "      <th>2018-04</th>\n",
       "    </tr>\n",
       "    <tr>\n",
       "      <th>State</th>\n",
       "      <th></th>\n",
       "      <th></th>\n",
       "      <th></th>\n",
       "      <th></th>\n",
       "      <th></th>\n",
       "      <th></th>\n",
       "      <th></th>\n",
       "      <th></th>\n",
       "      <th></th>\n",
       "      <th></th>\n",
       "      <th></th>\n",
       "      <th></th>\n",
       "      <th></th>\n",
       "      <th></th>\n",
       "      <th></th>\n",
       "      <th></th>\n",
       "      <th></th>\n",
       "      <th></th>\n",
       "      <th></th>\n",
       "      <th></th>\n",
       "      <th></th>\n",
       "    </tr>\n",
       "  </thead>\n",
       "  <tbody>\n",
       "    <tr>\n",
       "      <th>AK</th>\n",
       "      <td>128382.142857</td>\n",
       "      <td>128832.142857</td>\n",
       "      <td>129253.571429</td>\n",
       "      <td>129639.285714</td>\n",
       "      <td>130028.571429</td>\n",
       "      <td>130367.857143</td>\n",
       "      <td>130710.714286</td>\n",
       "      <td>131085.714286</td>\n",
       "      <td>131557.142857</td>\n",
       "      <td>132107.142857</td>\n",
       "      <td>...</td>\n",
       "      <td>317921.428571</td>\n",
       "      <td>318610.714286</td>\n",
       "      <td>319382.142857</td>\n",
       "      <td>320185.714286</td>\n",
       "      <td>321378.571429</td>\n",
       "      <td>322657.142857</td>\n",
       "      <td>323775.00000</td>\n",
       "      <td>324167.857143</td>\n",
       "      <td>323692.857143</td>\n",
       "      <td>323046.428571</td>\n",
       "    </tr>\n",
       "    <tr>\n",
       "      <th>AL</th>\n",
       "      <td>86795.569620</td>\n",
       "      <td>87122.151899</td>\n",
       "      <td>87460.759494</td>\n",
       "      <td>87798.734177</td>\n",
       "      <td>88156.962025</td>\n",
       "      <td>88531.012658</td>\n",
       "      <td>88918.987342</td>\n",
       "      <td>89327.848101</td>\n",
       "      <td>89800.632911</td>\n",
       "      <td>90325.949367</td>\n",
       "      <td>...</td>\n",
       "      <td>149255.191257</td>\n",
       "      <td>149675.956284</td>\n",
       "      <td>150125.136612</td>\n",
       "      <td>150537.704918</td>\n",
       "      <td>150969.945355</td>\n",
       "      <td>151629.508197</td>\n",
       "      <td>152402.73224</td>\n",
       "      <td>153625.683060</td>\n",
       "      <td>155504.371585</td>\n",
       "      <td>157033.879781</td>\n",
       "    </tr>\n",
       "  </tbody>\n",
       "</table>\n",
       "<p>2 rows × 265 columns</p>\n",
       "</div>"
      ],
      "text/plain": [
       "             1996-04        1996-05        1996-06        1996-07  \\\n",
       "State                                                               \n",
       "AK     128382.142857  128832.142857  129253.571429  129639.285714   \n",
       "AL      86795.569620   87122.151899   87460.759494   87798.734177   \n",
       "\n",
       "             1996-08        1996-09        1996-10        1996-11  \\\n",
       "State                                                               \n",
       "AK     130028.571429  130367.857143  130710.714286  131085.714286   \n",
       "AL      88156.962025   88531.012658   88918.987342   89327.848101   \n",
       "\n",
       "             1996-12        1997-01  ...        2017-07        2017-08  \\\n",
       "State                                ...                                 \n",
       "AK     131557.142857  132107.142857  ...  317921.428571  318610.714286   \n",
       "AL      89800.632911   90325.949367  ...  149255.191257  149675.956284   \n",
       "\n",
       "             2017-09        2017-10        2017-11        2017-12  \\\n",
       "State                                                               \n",
       "AK     319382.142857  320185.714286  321378.571429  322657.142857   \n",
       "AL     150125.136612  150537.704918  150969.945355  151629.508197   \n",
       "\n",
       "            2018-01        2018-02        2018-03        2018-04  \n",
       "State                                                             \n",
       "AK     323775.00000  324167.857143  323692.857143  323046.428571  \n",
       "AL     152402.73224  153625.683060  155504.371585  157033.879781  \n",
       "\n",
       "[2 rows x 265 columns]"
      ]
     },
     "execution_count": 42,
     "metadata": {},
     "output_type": "execute_result"
    }
   ],
   "source": [
    "state_df.head(2)"
   ]
  },
  {
   "cell_type": "code",
   "execution_count": 46,
   "metadata": {
    "ExecuteTime": {
     "end_time": "2022-05-02T19:07:42.045228Z",
     "start_time": "2022-05-02T19:07:42.035400Z"
    }
   },
   "outputs": [
    {
     "data": {
      "text/plain": [
       "State\n",
       "AK    128382.142857\n",
       "AL     86795.569620\n",
       "AR     68868.041237\n",
       "AZ    116202.790698\n",
       "CA    200220.959596\n",
       "CO    142561.943320\n",
       "CT    157189.516129\n",
       "DC    189216.666667\n",
       "DE    125784.615385\n",
       "FL    104529.019608\n",
       "GA     95783.161512\n",
       "HI    211811.764706\n",
       "IA     78396.621622\n",
       "ID     91951.578947\n",
       "IL    127624.665392\n",
       "IN     87843.112245\n",
       "KS     77842.261905\n",
       "KY     82155.000000\n",
       "LA     65484.827586\n",
       "MA    159684.541063\n",
       "MD    146417.891374\n",
       "ME     98218.181818\n",
       "MI     92833.995585\n",
       "MN     90961.918605\n",
       "MO     91146.468401\n",
       "MS     86397.014925\n",
       "MT    157838.461538\n",
       "NC     91146.019900\n",
       "ND              NaN\n",
       "NE     89468.571429\n",
       "NH    107132.820513\n",
       "NJ    175215.936255\n",
       "NM    137096.226415\n",
       "NV    153680.681818\n",
       "NY    129927.512690\n",
       "OH     88665.973535\n",
       "OK     53432.380952\n",
       "OR    124325.714286\n",
       "PA     89103.011292\n",
       "RI    125286.440678\n",
       "SC     82504.687500\n",
       "SD     54320.000000\n",
       "TN     66087.468672\n",
       "TX    109384.639831\n",
       "UT    159645.689655\n",
       "VA    122071.236559\n",
       "VT     82825.000000\n",
       "WA    140589.285714\n",
       "WI    115151.376147\n",
       "WV     66461.666667\n",
       "WY    138712.500000\n",
       "Name: 1996-04, dtype: float64"
      ]
     },
     "execution_count": 46,
     "metadata": {},
     "output_type": "execute_result"
    }
   ],
   "source": [
    "state_df.iloc[:, 0]"
   ]
  },
  {
   "cell_type": "code",
   "execution_count": null,
   "metadata": {},
   "outputs": [],
   "source": [
    "state_df.apply(lambda x:  )"
   ]
  },
  {
   "cell_type": "code",
   "execution_count": null,
   "metadata": {},
   "outputs": [],
   "source": [
    "def get_state_data(df):\n",
    "    \n",
    "    for row in df:\n",
    "        temp_df = .reset_index()\n",
    "va_df.rename(columns={\"index\": \"Date\", \"VA\": \"home_sales\"}, inplace=True)\n",
    "va_df['Date'] = pd.to_datetime(va_df['Date'])\n",
    "va_df['home_sales'] = va_df['home_sales'].apply(lambda x: float(\"{:.2f}\".format(x)))\n",
    "va_df = va_df.set_index('Date')"
   ]
  },
  {
   "cell_type": "code",
   "execution_count": null,
   "metadata": {},
   "outputs": [],
   "source": []
  },
  {
   "cell_type": "code",
   "execution_count": null,
   "metadata": {},
   "outputs": [],
   "source": []
  },
  {
   "cell_type": "code",
   "execution_count": null,
   "metadata": {},
   "outputs": [],
   "source": []
  },
  {
   "cell_type": "code",
   "execution_count": null,
   "metadata": {},
   "outputs": [],
   "source": []
  },
  {
   "cell_type": "code",
   "execution_count": null,
   "metadata": {},
   "outputs": [],
   "source": []
  },
  {
   "cell_type": "markdown",
   "metadata": {},
   "source": [
    "# New Archive - 5/2"
   ]
  },
  {
   "cell_type": "markdown",
   "metadata": {},
   "source": [
    "## Attempting to slice out a zip code and test"
   ]
  },
  {
   "cell_type": "code",
   "execution_count": null,
   "metadata": {
    "ExecuteTime": {
     "end_time": "2022-05-02T18:25:59.573218Z",
     "start_time": "2022-05-02T18:25:59.566002Z"
    }
   },
   "outputs": [],
   "source": [
    "zip_test = data_df.iloc[0]"
   ]
  },
  {
   "cell_type": "code",
   "execution_count": null,
   "metadata": {
    "ExecuteTime": {
     "end_time": "2022-05-02T18:26:06.692751Z",
     "start_time": "2022-05-02T18:26:06.671229Z"
    }
   },
   "outputs": [],
   "source": [
    "zip_test"
   ]
  },
  {
   "cell_type": "code",
   "execution_count": null,
   "metadata": {
    "ExecuteTime": {
     "end_time": "2022-05-02T18:26:22.048904Z",
     "start_time": "2022-05-02T18:26:22.039598Z"
    }
   },
   "outputs": [],
   "source": [
    "zip_test = zip_test.reset_index()"
   ]
  },
  {
   "cell_type": "code",
   "execution_count": null,
   "metadata": {
    "ExecuteTime": {
     "end_time": "2022-05-02T18:27:33.546663Z",
     "start_time": "2022-05-02T18:27:33.525127Z"
    }
   },
   "outputs": [],
   "source": [
    "zip_test.head()"
   ]
  },
  {
   "cell_type": "code",
   "execution_count": null,
   "metadata": {
    "ExecuteTime": {
     "end_time": "2022-05-02T18:28:22.310990Z",
     "start_time": "2022-05-02T18:28:22.303927Z"
    }
   },
   "outputs": [],
   "source": [
    "zip_test.rename(columns={\"index\": \"date\"}, inplace=True)"
   ]
  },
  {
   "cell_type": "code",
   "execution_count": null,
   "metadata": {
    "ExecuteTime": {
     "end_time": "2022-05-02T18:28:51.045869Z",
     "start_time": "2022-05-02T18:28:51.036992Z"
    }
   },
   "outputs": [],
   "source": [
    "zip_test['date'] = pd.to_datetime(zip_test['date'])"
   ]
  },
  {
   "cell_type": "code",
   "execution_count": null,
   "metadata": {
    "ExecuteTime": {
     "end_time": "2022-05-02T18:28:59.264784Z",
     "start_time": "2022-05-02T18:28:59.249215Z"
    }
   },
   "outputs": [],
   "source": [
    "zip_test.head()"
   ]
  },
  {
   "cell_type": "code",
   "execution_count": null,
   "metadata": {
    "ExecuteTime": {
     "end_time": "2022-05-02T18:30:20.064311Z",
     "start_time": "2022-05-02T18:30:20.057030Z"
    }
   },
   "outputs": [],
   "source": [
    "zip_test = zip_test.set_index('date')"
   ]
  },
  {
   "cell_type": "code",
   "execution_count": null,
   "metadata": {
    "ExecuteTime": {
     "end_time": "2022-05-02T18:31:05.597960Z",
     "start_time": "2022-05-02T18:31:05.575402Z"
    }
   },
   "outputs": [],
   "source": [
    "zip_test.resample(\"Y\").mean()"
   ]
  },
  {
   "cell_type": "code",
   "execution_count": null,
   "metadata": {
    "ExecuteTime": {
     "end_time": "2022-05-02T18:30:30.079639Z",
     "start_time": "2022-05-02T18:30:30.064027Z"
    }
   },
   "outputs": [],
   "source": [
    "zip_test.info()"
   ]
  },
  {
   "cell_type": "code",
   "execution_count": null,
   "metadata": {
    "ExecuteTime": {
     "end_time": "2022-05-02T18:23:44.338472Z",
     "start_time": "2022-05-02T18:23:44.299551Z"
    }
   },
   "outputs": [],
   "source": [
    "zip_test.drop([0])"
   ]
  },
  {
   "cell_type": "code",
   "execution_count": null,
   "metadata": {
    "ExecuteTime": {
     "end_time": "2022-05-02T18:11:00.134268Z",
     "start_time": "2022-05-02T18:11:00.072582Z"
    }
   },
   "outputs": [],
   "source": [
    "df.iloc[:, 7:].mean()"
   ]
  },
  {
   "cell_type": "code",
   "execution_count": null,
   "metadata": {
    "ExecuteTime": {
     "end_time": "2022-05-02T17:31:08.942620Z",
     "start_time": "2022-05-02T17:31:08.565010Z"
    }
   },
   "outputs": [],
   "source": [
    "df.describe()"
   ]
  },
  {
   "cell_type": "code",
   "execution_count": null,
   "metadata": {},
   "outputs": [],
   "source": []
  },
  {
   "cell_type": "code",
   "execution_count": null,
   "metadata": {},
   "outputs": [],
   "source": []
  },
  {
   "cell_type": "code",
   "execution_count": null,
   "metadata": {},
   "outputs": [],
   "source": []
  },
  {
   "cell_type": "code",
   "execution_count": null,
   "metadata": {},
   "outputs": [],
   "source": []
  },
  {
   "cell_type": "markdown",
   "metadata": {},
   "source": [
    "## Finding Average Values"
   ]
  },
  {
   "cell_type": "code",
   "execution_count": null,
   "metadata": {},
   "outputs": [],
   "source": []
  },
  {
   "cell_type": "code",
   "execution_count": null,
   "metadata": {},
   "outputs": [],
   "source": []
  },
  {
   "cell_type": "code",
   "execution_count": null,
   "metadata": {},
   "outputs": [],
   "source": []
  },
  {
   "cell_type": "code",
   "execution_count": null,
   "metadata": {},
   "outputs": [],
   "source": []
  },
  {
   "cell_type": "code",
   "execution_count": null,
   "metadata": {},
   "outputs": [],
   "source": []
  },
  {
   "cell_type": "code",
   "execution_count": null,
   "metadata": {},
   "outputs": [],
   "source": []
  },
  {
   "cell_type": "markdown",
   "metadata": {},
   "source": []
  },
  {
   "cell_type": "markdown",
   "metadata": {},
   "source": [
    "## Melting State_df and attempting to get all the states"
   ]
  },
  {
   "cell_type": "code",
   "execution_count": null,
   "metadata": {
    "ExecuteTime": {
     "end_time": "2022-05-02T17:43:19.259247Z",
     "start_time": "2022-05-02T17:43:19.228188Z"
    }
   },
   "outputs": [],
   "source": [
    "state_df.head()"
   ]
  },
  {
   "cell_type": "code",
   "execution_count": null,
   "metadata": {},
   "outputs": [],
   "source": [
    " #melted = pd.melt(df, id_vars=['RegionName', 'RegionID', 'SizeRank', 'City', 'State', 'Metro', 'CountyName'],\n",
    " #   var_name='time')"
   ]
  },
  {
   "cell_type": "code",
   "execution_count": null,
   "metadata": {},
   "outputs": [],
   "source": [
    "state_df"
   ]
  },
  {
   "cell_type": "code",
   "execution_count": null,
   "metadata": {
    "ExecuteTime": {
     "end_time": "2022-05-02T17:44:33.867848Z",
     "start_time": "2022-05-02T17:44:33.855551Z"
    }
   },
   "outputs": [],
   "source": [
    "state_melt_df = pd.melt(state_df)"
   ]
  },
  {
   "cell_type": "code",
   "execution_count": null,
   "metadata": {
    "ExecuteTime": {
     "end_time": "2022-05-02T17:44:41.862035Z",
     "start_time": "2022-05-02T17:44:41.843330Z"
    }
   },
   "outputs": [],
   "source": [
    "state_melt_df"
   ]
  },
  {
   "cell_type": "code",
   "execution_count": null,
   "metadata": {
    "ExecuteTime": {
     "end_time": "2022-05-02T17:45:17.775551Z",
     "start_time": "2022-05-02T17:45:17.738436Z"
    }
   },
   "outputs": [],
   "source": []
  },
  {
   "cell_type": "code",
   "execution_count": null,
   "metadata": {},
   "outputs": [],
   "source": []
  },
  {
   "cell_type": "code",
   "execution_count": null,
   "metadata": {},
   "outputs": [],
   "source": []
  },
  {
   "cell_type": "code",
   "execution_count": null,
   "metadata": {},
   "outputs": [],
   "source": []
  },
  {
   "cell_type": "code",
   "execution_count": null,
   "metadata": {},
   "outputs": [],
   "source": []
  },
  {
   "cell_type": "code",
   "execution_count": null,
   "metadata": {},
   "outputs": [],
   "source": []
  },
  {
   "cell_type": "code",
   "execution_count": null,
   "metadata": {},
   "outputs": [],
   "source": []
  },
  {
   "cell_type": "code",
   "execution_count": null,
   "metadata": {},
   "outputs": [],
   "source": []
  },
  {
   "cell_type": "code",
   "execution_count": null,
   "metadata": {},
   "outputs": [],
   "source": []
  },
  {
   "cell_type": "code",
   "execution_count": null,
   "metadata": {},
   "outputs": [],
   "source": []
  },
  {
   "cell_type": "code",
   "execution_count": null,
   "metadata": {},
   "outputs": [],
   "source": []
  },
  {
   "cell_type": "code",
   "execution_count": null,
   "metadata": {},
   "outputs": [],
   "source": []
  },
  {
   "cell_type": "code",
   "execution_count": null,
   "metadata": {},
   "outputs": [],
   "source": []
  },
  {
   "cell_type": "markdown",
   "metadata": {},
   "source": [
    "### Need to change columns to datetime objects"
   ]
  },
  {
   "cell_type": "code",
   "execution_count": null,
   "metadata": {
    "ExecuteTime": {
     "end_time": "2022-05-02T16:26:12.613768Z",
     "start_time": "2022-05-02T16:26:12.608017Z"
    }
   },
   "outputs": [],
   "source": [
    "state_df.columns"
   ]
  },
  {
   "cell_type": "code",
   "execution_count": null,
   "metadata": {
    "ExecuteTime": {
     "end_time": "2022-05-02T16:26:12.632840Z",
     "start_time": "2022-05-02T16:26:12.616986Z"
    }
   },
   "outputs": [],
   "source": [
    "state_df.columns = get_datetimes(state_df)"
   ]
  },
  {
   "cell_type": "code",
   "execution_count": null,
   "metadata": {
    "ExecuteTime": {
     "end_time": "2022-05-02T16:26:12.634526Z",
     "start_time": "2022-05-02T16:26:12.608Z"
    }
   },
   "outputs": [],
   "source": [
    "#state_df = state_df.reset_index()"
   ]
  },
  {
   "cell_type": "code",
   "execution_count": null,
   "metadata": {
    "ExecuteTime": {
     "end_time": "2022-05-02T16:26:12.635348Z",
     "start_time": "2022-05-02T16:26:12.611Z"
    }
   },
   "outputs": [],
   "source": [
    "state_df.head()"
   ]
  },
  {
   "cell_type": "code",
   "execution_count": null,
   "metadata": {
    "ExecuteTime": {
     "end_time": "2022-05-02T16:26:12.636003Z",
     "start_time": "2022-05-02T16:26:12.615Z"
    }
   },
   "outputs": [],
   "source": [
    "state_df.groupby('State').sum().mean()"
   ]
  },
  {
   "cell_type": "markdown",
   "metadata": {},
   "source": [
    "## Feature Engineering: Adding Total Mean Value & Annual Mean Value"
   ]
  },
  {
   "cell_type": "code",
   "execution_count": null,
   "metadata": {
    "ExecuteTime": {
     "end_time": "2022-05-02T16:26:12.636636Z",
     "start_time": "2022-05-02T16:26:12.619Z"
    }
   },
   "outputs": [],
   "source": [
    "#state_df['1996'] =\n",
    "#state_df.apply(lambda x: x[''] / x[''], axis=1)\n",
    "df['Fruit Total']= df.iloc[:, -4:-1].sum(axis=1)"
   ]
  },
  {
   "cell_type": "code",
   "execution_count": null,
   "metadata": {
    "ExecuteTime": {
     "end_time": "2022-05-02T16:26:12.637279Z",
     "start_time": "2022-05-02T16:26:12.622Z"
    }
   },
   "outputs": [],
   "source": [
    "state_df.iloc[:, 22:34].head(3)"
   ]
  },
  {
   "cell_type": "code",
   "execution_count": null,
   "metadata": {
    "ExecuteTime": {
     "end_time": "2022-05-02T16:26:12.637939Z",
     "start_time": "2022-05-02T16:26:12.626Z"
    }
   },
   "outputs": [],
   "source": [
    "#sum_1996 = state_df.iloc[:, 1:10].sum(axis=1)\n",
    "#sum_1997 = state_df.iloc[:, 10:22].sum(axis=1)\n",
    "#sum_1998 = state_df.iloc[:, 22:34].sum(axis=1)\n",
    "#sum_1999 = state_df.iloc[:, 34:46].sum(axis=1)\n",
    "#sum_2000 = state_df.iloc[:, 46:58].sum(axis=1)\n",
    "#sum_2001 = state_df.iloc[:, 58:70].sum(axis=1)\n",
    "#sum_2002 = state_df.iloc[:, 70:82].sum(axis=1)\n",
    "#sum_2003 = state_df.iloc[:, 82:94].sum(axis=1)\n",
    "#sum_2004 = state_df.iloc[:, 94:106].sum(axis=1)\n",
    "#sum_2005 = state_df.iloc[:, 106:118].sum(axis=1)\n",
    "#sum_2006 = state_df.iloc[:, 118:130].sum(axis=1)"
   ]
  },
  {
   "cell_type": "code",
   "execution_count": null,
   "metadata": {},
   "outputs": [],
   "source": []
  },
  {
   "cell_type": "code",
   "execution_count": null,
   "metadata": {},
   "outputs": [],
   "source": []
  },
  {
   "cell_type": "code",
   "execution_count": null,
   "metadata": {
    "ExecuteTime": {
     "end_time": "2022-05-02T16:26:12.742166Z",
     "start_time": "2022-05-02T16:26:12.739514Z"
    }
   },
   "outputs": [],
   "source": [
    "#state_df['RegionID'] = state_df['RegionID'].astype(object)"
   ]
  },
  {
   "cell_type": "code",
   "execution_count": null,
   "metadata": {
    "ExecuteTime": {
     "end_time": "2022-05-02T16:26:47.043697Z",
     "start_time": "2022-05-02T16:26:47.038329Z"
    }
   },
   "outputs": [],
   "source": [
    "# plot feature importance\n",
    "#fig, ax = plt.subplots(figsize=(50,20))\n",
    "#p = sns.barplot(data=feature_importance_df, x='Importance', y='Feature', color ='mediumseagreen' );\n",
    "#p.set_xlabel(\"Importance\", fontsize = 50)\n",
    "\n",
    "#p.set_ylabel(\"Feature\", fontsize = 50)\n",
    "#plt.xticks(fontsize=40)\n",
    "#plt.yticks(fontsize=40)\n",
    "\n",
    "#p.set_title(\"Features by Importance\", fontsize = 100)\n",
    "#plt.figsize=(30,20) \n",
    "#plt.savefig('images/project_3_Feature_Importance')\n",
    "\n",
    "#plt.show();"
   ]
  },
  {
   "cell_type": "code",
   "execution_count": null,
   "metadata": {
    "ExecuteTime": {
     "end_time": "2022-05-02T16:26:54.403638Z",
     "start_time": "2022-05-02T16:26:49.123623Z"
    }
   },
   "outputs": [],
   "source": [
    "fig, ax = plt.subplots(figsize=(50, 50))\n",
    "p = sns.lineplot(data=state_df);\n",
    "p.set_xlabel(\"State\", fontsize = 50)\n",
    "p.set_ylabel(\"Median Home Value\", fontsize = 50)\n",
    "\n",
    "plt.xticks(fontsize=40)\n",
    "plt.yticks(fontsize=40)\n",
    "\n",
    "p.set_title(\"Title Goes Here\", fontsize = 100)\n",
    "plt.figsize=(50,25)\n",
    "\n",
    "plt.show();"
   ]
  },
  {
   "cell_type": "code",
   "execution_count": null,
   "metadata": {
    "ExecuteTime": {
     "end_time": "2022-05-02T16:26:12.908495Z",
     "start_time": "2022-05-02T16:26:12.641Z"
    }
   },
   "outputs": [],
   "source": [
    "state_df.mean().plot()"
   ]
  },
  {
   "cell_type": "code",
   "execution_count": null,
   "metadata": {},
   "outputs": [],
   "source": []
  },
  {
   "cell_type": "code",
   "execution_count": null,
   "metadata": {},
   "outputs": [],
   "source": []
  },
  {
   "cell_type": "code",
   "execution_count": null,
   "metadata": {},
   "outputs": [],
   "source": []
  },
  {
   "cell_type": "code",
   "execution_count": null,
   "metadata": {},
   "outputs": [],
   "source": []
  },
  {
   "cell_type": "code",
   "execution_count": null,
   "metadata": {},
   "outputs": [],
   "source": []
  },
  {
   "cell_type": "code",
   "execution_count": null,
   "metadata": {
    "ExecuteTime": {
     "end_time": "2022-05-02T16:26:12.909171Z",
     "start_time": "2022-05-02T16:26:12.652Z"
    }
   },
   "outputs": [],
   "source": [
    "df.reset_index()\n",
    "df.head()"
   ]
  },
  {
   "cell_type": "markdown",
   "metadata": {},
   "source": [
    "## Analysis of Categories"
   ]
  },
  {
   "cell_type": "code",
   "execution_count": null,
   "metadata": {
    "ExecuteTime": {
     "end_time": "2022-05-02T16:26:12.909734Z",
     "start_time": "2022-05-02T16:26:12.654Z"
    }
   },
   "outputs": [],
   "source": [
    "#cat_df = df.iloc[:,0:7]\n",
    "#cat_df.head()"
   ]
  },
  {
   "cell_type": "code",
   "execution_count": null,
   "metadata": {
    "ExecuteTime": {
     "end_time": "2022-05-02T16:26:12.910243Z",
     "start_time": "2022-05-02T16:26:12.657Z"
    }
   },
   "outputs": [],
   "source": [
    "#cat_df.info()"
   ]
  },
  {
   "cell_type": "code",
   "execution_count": null,
   "metadata": {
    "ExecuteTime": {
     "end_time": "2022-05-02T16:26:12.910921Z",
     "start_time": "2022-05-02T16:26:12.659Z"
    }
   },
   "outputs": [],
   "source": [
    "#cat_df['RegionName'] = cat_df['RegionName'].astype('object')\n",
    "#cat_df.info()"
   ]
  },
  {
   "cell_type": "code",
   "execution_count": null,
   "metadata": {
    "ExecuteTime": {
     "end_time": "2022-05-02T16:26:12.911436Z",
     "start_time": "2022-05-02T16:26:12.661Z"
    }
   },
   "outputs": [],
   "source": [
    "df.nunique()"
   ]
  },
  {
   "cell_type": "code",
   "execution_count": null,
   "metadata": {
    "ExecuteTime": {
     "end_time": "2022-05-02T16:26:12.911903Z",
     "start_time": "2022-05-02T16:26:12.663Z"
    }
   },
   "outputs": [],
   "source": [
    "#print(\"RegionID unique values:\", cat_df['RegionID'].nunique())\n",
    "#print(\"RegionName unique values:\", cat_df['RegionName'].nunique())\n",
    "#print(\"City unique values:\", cat_df['City'].nunique())\n",
    "#print(\"State unique values:\", cat_df['State'].nunique())\n",
    "#print(\"Metro unique values:\", cat_df['Metro'].nunique())\n",
    "#print(\"CountyName unique values:\", cat_df['CountyName'].nunique())\n",
    "#print(\"SizeRank unique values:\", cat_df['SizeRank'].nunique())"
   ]
  },
  {
   "cell_type": "code",
   "execution_count": null,
   "metadata": {
    "ExecuteTime": {
     "end_time": "2022-05-02T16:26:12.912457Z",
     "start_time": "2022-05-02T16:26:12.665Z"
    }
   },
   "outputs": [],
   "source": [
    "#cat_df.sort_values(by = ['RegionName'], ascending = True).head()\n",
    "df.sort_values(by = ['RegionName'], ascending = True).head()"
   ]
  },
  {
   "cell_type": "markdown",
   "metadata": {},
   "source": [
    "A google search shows that RegionName is the ZipCode for each Region. However, upon sorting, I discovered that any ZipCode beginning with a 0 was ignoring it and displaying as a 4 digit number. I will use the .str().zfill() method to ensure that all RegionNames are displaying the as 5 digits."
   ]
  },
  {
   "cell_type": "code",
   "execution_count": null,
   "metadata": {
    "ExecuteTime": {
     "end_time": "2022-05-02T16:26:12.913234Z",
     "start_time": "2022-05-02T16:26:12.668Z"
    }
   },
   "outputs": [],
   "source": [
    "#cat_df['RegionName'] = cat_df['RegionName'].astype(str).str.zfill(5)\n",
    "df['RegionName'] = df['RegionName'].astype(str).str.zfill(5)"
   ]
  },
  {
   "cell_type": "code",
   "execution_count": null,
   "metadata": {
    "ExecuteTime": {
     "end_time": "2022-05-02T16:26:12.913846Z",
     "start_time": "2022-05-02T16:26:12.670Z"
    }
   },
   "outputs": [],
   "source": [
    "df.sort_values(by = ['RegionName'], ascending = True).head()"
   ]
  },
  {
   "cell_type": "code",
   "execution_count": null,
   "metadata": {
    "ExecuteTime": {
     "end_time": "2022-05-02T16:26:12.914459Z",
     "start_time": "2022-05-02T16:26:12.672Z"
    }
   },
   "outputs": [],
   "source": [
    "#cat_df = cat_df.reset_index()\n",
    "#cat_df"
   ]
  },
  {
   "cell_type": "code",
   "execution_count": null,
   "metadata": {
    "ExecuteTime": {
     "end_time": "2022-05-02T16:26:12.915065Z",
     "start_time": "2022-05-02T16:26:12.674Z"
    }
   },
   "outputs": [],
   "source": [
    "#cat_df.sort_values(by = ['RegionName'], ascending = True).head()"
   ]
  },
  {
   "cell_type": "markdown",
   "metadata": {},
   "source": [
    "That seems to have fixed it!"
   ]
  },
  {
   "cell_type": "markdown",
   "metadata": {},
   "source": [
    "## Grouping Data"
   ]
  },
  {
   "cell_type": "code",
   "execution_count": null,
   "metadata": {
    "ExecuteTime": {
     "end_time": "2022-05-02T16:26:12.915855Z",
     "start_time": "2022-05-02T16:26:12.677Z"
    }
   },
   "outputs": [],
   "source": [
    "metro_df = "
   ]
  },
  {
   "cell_type": "code",
   "execution_count": null,
   "metadata": {
    "ExecuteTime": {
     "end_time": "2022-05-02T16:26:12.916381Z",
     "start_time": "2022-05-02T16:26:12.679Z"
    }
   },
   "outputs": [],
   "source": [
    "melt_data(df)"
   ]
  },
  {
   "cell_type": "markdown",
   "metadata": {},
   "source": [
    "## Analysis of Data Values"
   ]
  },
  {
   "cell_type": "code",
   "execution_count": null,
   "metadata": {
    "ExecuteTime": {
     "end_time": "2022-05-02T16:26:12.917110Z",
     "start_time": "2022-05-02T16:26:12.681Z"
    }
   },
   "outputs": [],
   "source": [
    "#df['RegionID_copy'] = df['RegionID']"
   ]
  },
  {
   "cell_type": "code",
   "execution_count": null,
   "metadata": {
    "ExecuteTime": {
     "end_time": "2022-05-02T16:26:12.917706Z",
     "start_time": "2022-05-02T16:26:12.684Z"
    }
   },
   "outputs": [],
   "source": [
    "#df.head()"
   ]
  },
  {
   "cell_type": "code",
   "execution_count": null,
   "metadata": {},
   "outputs": [],
   "source": []
  },
  {
   "cell_type": "code",
   "execution_count": null,
   "metadata": {
    "ExecuteTime": {
     "end_time": "2022-05-02T16:26:12.918198Z",
     "start_time": "2022-05-02T16:26:12.686Z"
    }
   },
   "outputs": [],
   "source": [
    "data_df = df.iloc[:, 7:]\n",
    "data_df.head()"
   ]
  },
  {
   "cell_type": "code",
   "execution_count": null,
   "metadata": {
    "ExecuteTime": {
     "end_time": "2022-05-02T16:26:12.918946Z",
     "start_time": "2022-05-02T16:26:12.688Z"
    }
   },
   "outputs": [],
   "source": [
    "data_df.columns = pd.to_datetime(data_df.columns, format='%Y-%m')\n",
    "data_df.head()"
   ]
  },
  {
   "cell_type": "code",
   "execution_count": null,
   "metadata": {
    "ExecuteTime": {
     "end_time": "2022-05-02T16:26:12.919615Z",
     "start_time": "2022-05-02T16:26:12.691Z"
    }
   },
   "outputs": [],
   "source": [
    "# changing values to thousands for ease of reading\n",
    "data_df = data_df.applymap(lambda x: x/1000)\n",
    "data_df.head()"
   ]
  },
  {
   "cell_type": "code",
   "execution_count": null,
   "metadata": {
    "ExecuteTime": {
     "end_time": "2022-05-02T16:26:12.920288Z",
     "start_time": "2022-05-02T16:26:12.693Z"
    }
   },
   "outputs": [],
   "source": [
    "data_df.describe().round(2)"
   ]
  },
  {
   "cell_type": "code",
   "execution_count": null,
   "metadata": {
    "ExecuteTime": {
     "end_time": "2022-05-02T16:26:12.920857Z",
     "start_time": "2022-05-02T16:26:12.695Z"
    }
   },
   "outputs": [],
   "source": [
    "#flipped_df = data_df.transpose()"
   ]
  },
  {
   "cell_type": "code",
   "execution_count": null,
   "metadata": {
    "ExecuteTime": {
     "end_time": "2022-05-02T16:26:12.921504Z",
     "start_time": "2022-05-02T16:26:12.697Z"
    }
   },
   "outputs": [],
   "source": [
    "#flipped_df"
   ]
  },
  {
   "cell_type": "code",
   "execution_count": null,
   "metadata": {
    "ExecuteTime": {
     "end_time": "2022-05-02T16:26:12.922201Z",
     "start_time": "2022-05-02T16:26:12.699Z"
    }
   },
   "outputs": [],
   "source": [
    "#flipped_df.info()"
   ]
  },
  {
   "cell_type": "code",
   "execution_count": null,
   "metadata": {
    "ExecuteTime": {
     "end_time": "2022-05-02T16:26:12.922743Z",
     "start_time": "2022-05-02T16:26:12.701Z"
    }
   },
   "outputs": [],
   "source": [
    "#data_df.groupby(pd.Grouper(freq ='A'))"
   ]
  },
  {
   "cell_type": "markdown",
   "metadata": {},
   "source": [
    "## Slicing out Years - data_df"
   ]
  },
  {
   "cell_type": "code",
   "execution_count": null,
   "metadata": {
    "ExecuteTime": {
     "end_time": "2022-05-02T16:26:12.923715Z",
     "start_time": "2022-05-02T16:26:12.704Z"
    }
   },
   "outputs": [],
   "source": [
    "yr_1996 = data_df.iloc[:, :9]\n",
    "yr_1996.head()"
   ]
  },
  {
   "cell_type": "code",
   "execution_count": null,
   "metadata": {
    "ExecuteTime": {
     "end_time": "2022-05-02T16:26:12.924926Z",
     "start_time": "2022-05-02T16:26:12.706Z"
    }
   },
   "outputs": [],
   "source": [
    "yr_1997 = data_df.iloc[:, 9:21]\n",
    "yr_1998 = data_df.iloc[:, 21:33]\n",
    "yr_1999 = data_df.iloc[:, 33:45]"
   ]
  },
  {
   "cell_type": "markdown",
   "metadata": {},
   "source": [
    "## CONTINUE TO SLICE OUT THE YEARS"
   ]
  },
  {
   "cell_type": "code",
   "execution_count": null,
   "metadata": {
    "ExecuteTime": {
     "end_time": "2022-05-02T16:26:12.925768Z",
     "start_time": "2022-05-02T16:26:12.708Z"
    }
   },
   "outputs": [],
   "source": [
    "df.index"
   ]
  },
  {
   "cell_type": "code",
   "execution_count": null,
   "metadata": {},
   "outputs": [],
   "source": []
  },
  {
   "cell_type": "code",
   "execution_count": null,
   "metadata": {},
   "outputs": [],
   "source": []
  },
  {
   "cell_type": "markdown",
   "metadata": {},
   "source": [
    "## EDA through Visualizations"
   ]
  },
  {
   "cell_type": "code",
   "execution_count": null,
   "metadata": {
    "ExecuteTime": {
     "end_time": "2022-05-02T16:26:12.926628Z",
     "start_time": "2022-05-02T16:26:12.713Z"
    }
   },
   "outputs": [],
   "source": [
    "font = {'family' : 'normal',\n",
    "        'weight' : 'bold',\n",
    "        'size'   : 22}\n",
    "\n",
    "plt.rc('font', **font)"
   ]
  },
  {
   "cell_type": "code",
   "execution_count": null,
   "metadata": {
    "ExecuteTime": {
     "end_time": "2022-05-02T16:26:12.927548Z",
     "start_time": "2022-05-02T16:26:12.716Z"
    }
   },
   "outputs": [],
   "source": [
    "plt.gcf().autofmt_xdate()"
   ]
  },
  {
   "cell_type": "code",
   "execution_count": null,
   "metadata": {
    "ExecuteTime": {
     "end_time": "2022-05-02T16:26:12.928078Z",
     "start_time": "2022-05-02T16:26:12.718Z"
    }
   },
   "outputs": [],
   "source": [
    "data_df.plot(figsize = (20,6), style = '.b');"
   ]
  },
  {
   "cell_type": "code",
   "execution_count": null,
   "metadata": {},
   "outputs": [],
   "source": []
  },
  {
   "cell_type": "code",
   "execution_count": null,
   "metadata": {},
   "outputs": [],
   "source": []
  },
  {
   "cell_type": "code",
   "execution_count": null,
   "metadata": {},
   "outputs": [],
   "source": []
  },
  {
   "cell_type": "code",
   "execution_count": null,
   "metadata": {},
   "outputs": [],
   "source": []
  },
  {
   "cell_type": "code",
   "execution_count": null,
   "metadata": {},
   "outputs": [],
   "source": []
  },
  {
   "cell_type": "code",
   "execution_count": null,
   "metadata": {},
   "outputs": [],
   "source": []
  },
  {
   "cell_type": "markdown",
   "metadata": {},
   "source": [
    "## Melting Practice"
   ]
  },
  {
   "cell_type": "code",
   "execution_count": null,
   "metadata": {
    "ExecuteTime": {
     "end_time": "2022-05-02T16:26:12.928773Z",
     "start_time": "2022-05-02T16:26:12.728Z"
    }
   },
   "outputs": [],
   "source": [
    "df.head(2)"
   ]
  },
  {
   "cell_type": "code",
   "execution_count": null,
   "metadata": {
    "ExecuteTime": {
     "end_time": "2022-05-02T16:26:12.929567Z",
     "start_time": "2022-05-02T16:26:12.730Z"
    }
   },
   "outputs": [],
   "source": [
    "melt_test = df.iloc[:, :8]\n",
    "melt_test.head()"
   ]
  },
  {
   "cell_type": "code",
   "execution_count": null,
   "metadata": {
    "ExecuteTime": {
     "end_time": "2022-05-02T16:26:12.930253Z",
     "start_time": "2022-05-02T16:26:12.732Z"
    }
   },
   "outputs": [],
   "source": [
    "melt_data(melt_test)"
   ]
  },
  {
   "cell_type": "code",
   "execution_count": null,
   "metadata": {
    "ExecuteTime": {
     "end_time": "2022-05-02T16:26:12.931055Z",
     "start_time": "2022-05-02T16:26:12.733Z"
    }
   },
   "outputs": [],
   "source": [
    "melted_df = melt_data(df)"
   ]
  },
  {
   "cell_type": "code",
   "execution_count": null,
   "metadata": {
    "ExecuteTime": {
     "end_time": "2022-05-02T16:26:12.931668Z",
     "start_time": "2022-05-02T16:26:12.735Z"
    }
   },
   "outputs": [],
   "source": [
    "melted_df"
   ]
  },
  {
   "cell_type": "markdown",
   "metadata": {},
   "source": [
    "## Merge Attempt"
   ]
  },
  {
   "cell_type": "code",
   "execution_count": null,
   "metadata": {
    "ExecuteTime": {
     "end_time": "2022-05-02T16:26:12.932290Z",
     "start_time": "2022-05-02T16:26:12.737Z"
    }
   },
   "outputs": [],
   "source": [
    "#data_df = data_df.reset_index()"
   ]
  },
  {
   "cell_type": "code",
   "execution_count": null,
   "metadata": {
    "ExecuteTime": {
     "end_time": "2022-05-02T16:26:12.932874Z",
     "start_time": "2022-05-02T16:26:12.740Z"
    }
   },
   "outputs": [],
   "source": [
    "#data_df"
   ]
  },
  {
   "cell_type": "code",
   "execution_count": null,
   "metadata": {
    "ExecuteTime": {
     "end_time": "2022-05-02T16:26:12.933577Z",
     "start_time": "2022-05-02T16:26:12.742Z"
    }
   },
   "outputs": [],
   "source": [
    "#merged_df = cat_df.merge(data_df, on='index')"
   ]
  },
  {
   "cell_type": "code",
   "execution_count": null,
   "metadata": {
    "ExecuteTime": {
     "end_time": "2022-05-02T16:26:12.934549Z",
     "start_time": "2022-05-02T16:26:12.744Z"
    }
   },
   "outputs": [],
   "source": [
    "#merged_df"
   ]
  },
  {
   "cell_type": "code",
   "execution_count": null,
   "metadata": {},
   "outputs": [],
   "source": []
  },
  {
   "cell_type": "markdown",
   "metadata": {},
   "source": [
    "## Slicing out Years and attempting to Melt - Full DF"
   ]
  },
  {
   "cell_type": "code",
   "execution_count": null,
   "metadata": {
    "ExecuteTime": {
     "end_time": "2022-05-02T16:26:12.935276Z",
     "start_time": "2022-05-02T16:26:12.747Z"
    }
   },
   "outputs": [],
   "source": [
    "df.head()"
   ]
  },
  {
   "cell_type": "code",
   "execution_count": null,
   "metadata": {
    "ExecuteTime": {
     "end_time": "2022-05-02T16:26:12.936467Z",
     "start_time": "2022-05-02T16:26:12.749Z"
    }
   },
   "outputs": [],
   "source": [
    "df.iloc[:, :16].head(2)"
   ]
  },
  {
   "cell_type": "code",
   "execution_count": null,
   "metadata": {
    "ExecuteTime": {
     "end_time": "2022-05-02T16:26:12.937446Z",
     "start_time": "2022-05-02T16:26:12.751Z"
    }
   },
   "outputs": [],
   "source": [
    "yr_1996 = df.iloc[:, :16]\n",
    "yr_1996.head()"
   ]
  },
  {
   "cell_type": "code",
   "execution_count": null,
   "metadata": {
    "ExecuteTime": {
     "end_time": "2022-05-02T16:26:12.938285Z",
     "start_time": "2022-05-02T16:26:12.753Z"
    }
   },
   "outputs": [],
   "source": [
    "melt_data(yr_1996)"
   ]
  },
  {
   "cell_type": "code",
   "execution_count": null,
   "metadata": {},
   "outputs": [],
   "source": []
  },
  {
   "cell_type": "code",
   "execution_count": null,
   "metadata": {},
   "outputs": [],
   "source": []
  },
  {
   "cell_type": "code",
   "execution_count": null,
   "metadata": {},
   "outputs": [],
   "source": []
  },
  {
   "cell_type": "code",
   "execution_count": null,
   "metadata": {},
   "outputs": [],
   "source": []
  },
  {
   "cell_type": "code",
   "execution_count": null,
   "metadata": {},
   "outputs": [],
   "source": []
  },
  {
   "cell_type": "code",
   "execution_count": null,
   "metadata": {},
   "outputs": [],
   "source": []
  },
  {
   "cell_type": "code",
   "execution_count": null,
   "metadata": {},
   "outputs": [],
   "source": []
  },
  {
   "cell_type": "code",
   "execution_count": null,
   "metadata": {},
   "outputs": [],
   "source": []
  },
  {
   "cell_type": "code",
   "execution_count": null,
   "metadata": {},
   "outputs": [],
   "source": []
  },
  {
   "cell_type": "code",
   "execution_count": null,
   "metadata": {},
   "outputs": [],
   "source": []
  },
  {
   "cell_type": "code",
   "execution_count": null,
   "metadata": {},
   "outputs": [],
   "source": []
  },
  {
   "cell_type": "code",
   "execution_count": null,
   "metadata": {},
   "outputs": [],
   "source": []
  },
  {
   "cell_type": "code",
   "execution_count": null,
   "metadata": {},
   "outputs": [],
   "source": []
  },
  {
   "cell_type": "code",
   "execution_count": null,
   "metadata": {},
   "outputs": [],
   "source": []
  },
  {
   "cell_type": "code",
   "execution_count": null,
   "metadata": {},
   "outputs": [],
   "source": []
  },
  {
   "cell_type": "code",
   "execution_count": null,
   "metadata": {},
   "outputs": [],
   "source": []
  },
  {
   "cell_type": "code",
   "execution_count": null,
   "metadata": {},
   "outputs": [],
   "source": []
  },
  {
   "cell_type": "code",
   "execution_count": null,
   "metadata": {},
   "outputs": [],
   "source": []
  },
  {
   "cell_type": "code",
   "execution_count": null,
   "metadata": {},
   "outputs": [],
   "source": []
  },
  {
   "cell_type": "markdown",
   "metadata": {},
   "source": [
    "# Old Archive"
   ]
  },
  {
   "cell_type": "code",
   "execution_count": null,
   "metadata": {
    "ExecuteTime": {
     "end_time": "2022-05-02T16:26:12.938978Z",
     "start_time": "2022-05-02T16:26:12.784Z"
    }
   },
   "outputs": [],
   "source": [
    "#data_df.isnull().sum()"
   ]
  },
  {
   "cell_type": "code",
   "execution_count": null,
   "metadata": {
    "ExecuteTime": {
     "end_time": "2022-05-02T16:26:12.939709Z",
     "start_time": "2022-05-02T16:26:12.787Z"
    }
   },
   "outputs": [],
   "source": [
    "#df.columns[7:]"
   ]
  },
  {
   "cell_type": "code",
   "execution_count": null,
   "metadata": {
    "ExecuteTime": {
     "end_time": "2022-05-02T16:26:12.940250Z",
     "start_time": "2022-05-02T16:26:12.789Z"
    }
   },
   "outputs": [],
   "source": [
    "#date_time_cols = pd.to_datetime(df.columns[7:])\n",
    "#date_time_cols"
   ]
  },
  {
   "cell_type": "code",
   "execution_count": null,
   "metadata": {
    "ExecuteTime": {
     "end_time": "2022-05-02T16:26:12.940816Z",
     "start_time": "2022-05-02T16:26:12.792Z"
    }
   },
   "outputs": [],
   "source": [
    "#cat_cols = df.columns[:7]\n",
    "#cat_cols"
   ]
  },
  {
   "cell_type": "code",
   "execution_count": null,
   "metadata": {
    "ExecuteTime": {
     "end_time": "2022-05-02T16:26:12.941452Z",
     "start_time": "2022-05-02T16:26:12.794Z"
    }
   },
   "outputs": [],
   "source": [
    "#new_cols = cat_cols + date_time_cols\n",
    "#new_cols"
   ]
  },
  {
   "cell_type": "code",
   "execution_count": null,
   "metadata": {
    "ExecuteTime": {
     "end_time": "2022-05-02T16:26:12.942088Z",
     "start_time": "2022-05-02T16:26:12.796Z"
    }
   },
   "outputs": [],
   "source": [
    "#df.rename(columns[7:] = date_time_cols)"
   ]
  },
  {
   "cell_type": "markdown",
   "metadata": {
    "ExecuteTime": {
     "end_time": "2022-04-28T19:14:02.905552Z",
     "start_time": "2022-04-28T19:14:02.901647Z"
    }
   },
   "source": [
    "## Exploring SizeRank"
   ]
  },
  {
   "cell_type": "code",
   "execution_count": null,
   "metadata": {
    "ExecuteTime": {
     "end_time": "2022-05-02T16:26:12.945301Z",
     "start_time": "2022-05-02T16:26:12.814Z"
    }
   },
   "outputs": [],
   "source": [
    "df.sort_values('SizeRank').head()"
   ]
  },
  {
   "cell_type": "code",
   "execution_count": null,
   "metadata": {
    "ExecuteTime": {
     "end_time": "2022-05-02T16:26:12.945991Z",
     "start_time": "2022-05-02T16:26:12.817Z"
    }
   },
   "outputs": [],
   "source": [
    "df.sort_values(by = ['State', 'City'], ascending = True)"
   ]
  },
  {
   "cell_type": "code",
   "execution_count": null,
   "metadata": {
    "ExecuteTime": {
     "end_time": "2022-05-02T16:26:12.946646Z",
     "start_time": "2022-05-02T16:26:12.819Z"
    }
   },
   "outputs": [],
   "source": [
    "cat_data = df[['RegionID', 'RegionName', 'City', 'State', 'Metro', 'CountyName', 'SizeRank']]"
   ]
  },
  {
   "cell_type": "code",
   "execution_count": null,
   "metadata": {
    "ExecuteTime": {
     "end_time": "2022-05-02T16:26:12.947240Z",
     "start_time": "2022-05-02T16:26:12.822Z"
    }
   },
   "outputs": [],
   "source": [
    "cat_data"
   ]
  },
  {
   "cell_type": "code",
   "execution_count": null,
   "metadata": {
    "ExecuteTime": {
     "end_time": "2022-05-02T16:26:12.947831Z",
     "start_time": "2022-05-02T16:26:12.824Z"
    }
   },
   "outputs": [],
   "source": [
    "df.head()"
   ]
  },
  {
   "cell_type": "code",
   "execution_count": null,
   "metadata": {
    "ExecuteTime": {
     "end_time": "2022-05-02T16:26:12.948294Z",
     "start_time": "2022-05-02T16:26:12.826Z"
    }
   },
   "outputs": [],
   "source": [
    "date_data = df.drop(['RegionID', 'RegionName', 'City', 'State', 'Metro', 'CountyName', 'SizeRank'], axis=1)"
   ]
  },
  {
   "cell_type": "code",
   "execution_count": null,
   "metadata": {
    "ExecuteTime": {
     "end_time": "2022-05-02T16:26:12.948838Z",
     "start_time": "2022-05-02T16:26:12.829Z"
    }
   },
   "outputs": [],
   "source": [
    "date_data.head()"
   ]
  },
  {
   "cell_type": "code",
   "execution_count": null,
   "metadata": {
    "ExecuteTime": {
     "end_time": "2022-05-02T16:26:12.949731Z",
     "start_time": "2022-05-02T16:26:12.832Z"
    }
   },
   "outputs": [],
   "source": [
    "date_time_data = get_datetimes(date_data)"
   ]
  },
  {
   "cell_type": "code",
   "execution_count": null,
   "metadata": {
    "ExecuteTime": {
     "end_time": "2022-05-02T16:26:12.950532Z",
     "start_time": "2022-05-02T16:26:12.835Z"
    }
   },
   "outputs": [],
   "source": [
    "date_time_data"
   ]
  },
  {
   "cell_type": "code",
   "execution_count": null,
   "metadata": {
    "ExecuteTime": {
     "end_time": "2022-05-02T16:26:12.951338Z",
     "start_time": "2022-05-02T16:26:12.837Z"
    }
   },
   "outputs": [],
   "source": [
    "len(date_time_data)"
   ]
  },
  {
   "cell_type": "code",
   "execution_count": null,
   "metadata": {
    "ExecuteTime": {
     "end_time": "2022-05-02T16:26:12.952143Z",
     "start_time": "2022-05-02T16:26:12.840Z"
    }
   },
   "outputs": [],
   "source": [
    "list(date_data.columns)"
   ]
  },
  {
   "cell_type": "code",
   "execution_count": null,
   "metadata": {
    "ExecuteTime": {
     "end_time": "2022-05-02T16:26:12.953123Z",
     "start_time": "2022-05-02T16:26:12.842Z"
    }
   },
   "outputs": [],
   "source": [
    "#df2 = date_data.append(date_time_data)"
   ]
  },
  {
   "cell_type": "markdown",
   "metadata": {},
   "source": [
    "## Changing column names to DateTime Format"
   ]
  },
  {
   "cell_type": "code",
   "execution_count": null,
   "metadata": {
    "ExecuteTime": {
     "end_time": "2022-05-02T16:26:12.953763Z",
     "start_time": "2022-05-02T16:26:12.845Z"
    }
   },
   "outputs": [],
   "source": [
    "#df.columns = pd.to_datetime(df.columns)\n",
    "date_data.columns = pd.to_datetime(date_data.columns)"
   ]
  },
  {
   "cell_type": "code",
   "execution_count": null,
   "metadata": {
    "ExecuteTime": {
     "end_time": "2022-05-02T16:26:12.954308Z",
     "start_time": "2022-05-02T16:26:12.848Z"
    }
   },
   "outputs": [],
   "source": [
    "date_data"
   ]
  },
  {
   "cell_type": "markdown",
   "metadata": {},
   "source": [
    "### Merging with Categories"
   ]
  },
  {
   "cell_type": "code",
   "execution_count": null,
   "metadata": {
    "ExecuteTime": {
     "end_time": "2022-05-02T16:26:12.954805Z",
     "start_time": "2022-05-02T16:26:12.851Z"
    }
   },
   "outputs": [],
   "source": [
    "#imdb_df = pd.merge(table7, table4, on= 'tconst', how='inner')\n",
    "base_df = pd.merge(cat_data, date_data, how='outer')"
   ]
  },
  {
   "cell_type": "markdown",
   "metadata": {},
   "source": [
    "# Mod 4 Project - Starter Notebook\n",
    "\n",
    "This notebook has been provided to you so that you can make use of the following starter code to help with the trickier parts of preprocessing the Zillow dataset. \n",
    "\n",
    "The notebook contains a rough outline the general order you'll likely want to take in this project. You'll notice that most of the areas are left blank. This is so that it's more obvious exactly when you should make use of the starter code provided for preprocessing. \n",
    "\n",
    "**_NOTE:_** The number of empty cells are not meant to infer how much or how little code should be involved in any given step--we've just provided a few for your convenience. Add, delete, and change things around in this notebook as needed!\n",
    "\n",
    "## Some Notes Before Starting\n",
    "\n",
    "This project will be one of the more challenging projects you complete in this program. This is because working with Time Series data is a bit different than working with regular datasets. In order to make this a bit less frustrating and help you understand what you need to do (and when you need to do it), we'll quickly review the dataset formats that you'll encounter in this project. \n",
    "\n",
    "### Wide Format vs Long Format\n",
    "\n",
    "If you take a look at the format of the data in `zillow_data.csv`, you'll notice that the actual Time Series values are stored as separate columns. Here's a sample: \n",
    "\n",
    "<img src='https://raw.githubusercontent.com/learn-co-students/dsc-mod-4-project-seattle-ds-102819/master/images/df_head.png'>\n",
    "\n",
    "You'll notice that the first seven columns look like any other dataset you're used to working with. However, column 8 refers to the median housing sales values for April 1996, column 9 for May 1996, and so on. This This is called **_Wide Format_**, and it makes the dataframe intuitive and easy to read. However, there are problems with this format when it comes to actually learning from the data, because the data only makes sense if you know the name of the column that the data can be found it. Since column names are metadata, our algorithms will miss out on what dates each value is for. This means that before we pass this data to our ARIMA model, we'll need to reshape our dataset to **_Long Format_**. Reshaped into long format, the dataframe above would now look like:\n",
    "\n",
    "<img src='https://raw.githubusercontent.com/learn-co-students/dsc-mod-4-project-seattle-ds-102819/master/images/melted1.png'>\n",
    "\n",
    "There are now many more rows in this dataset--one for each unique time and zipcode combination in the data! Once our dataset is in this format, we'll be able to train an ARIMA model on it. The method used to convert from Wide to Long is `pd.melt()`, and it is common to refer to our dataset as 'melted' after the transition to denote that it is in long format. \n",
    "\n",
    "## Helper Functions Provided\n",
    "\n",
    "Melting a dataset can be tricky if you've never done it before, so you'll see that we have provided a sample function, `melt_data()`, to help you with this step below. Also provided is:\n",
    "\n",
    "* `get_datetimes()`, a function to deal with converting the column values for datetimes as a pandas series of datetime objects\n",
    "* Some good parameters for matplotlib to help make your visualizations more readable. \n",
    "\n",
    "Good luck!\n",
    "\n",
    "\n",
    "## Step 1: Load the Data/Filtering for Chosen Zipcodes"
   ]
  },
  {
   "cell_type": "code",
   "execution_count": null,
   "metadata": {},
   "outputs": [],
   "source": []
  },
  {
   "cell_type": "code",
   "execution_count": null,
   "metadata": {},
   "outputs": [],
   "source": []
  },
  {
   "cell_type": "code",
   "execution_count": null,
   "metadata": {},
   "outputs": [],
   "source": []
  },
  {
   "cell_type": "markdown",
   "metadata": {},
   "source": [
    "## Step 2: Data Preprocessing"
   ]
  },
  {
   "cell_type": "code",
   "execution_count": null,
   "metadata": {
    "ExecuteTime": {
     "end_time": "2022-05-02T16:26:12.955426Z",
     "start_time": "2022-05-02T16:26:12.858Z"
    }
   },
   "outputs": [],
   "source": [
    "def get_datetimes(df):\n",
    "    \"\"\"\n",
    "    Takes a dataframe:\n",
    "    returns only those column names that can be converted into datetime objects \n",
    "    as datetime objects.\n",
    "    NOTE number of returned columns may not match total number of columns in passed dataframe\n",
    "    \"\"\"\n",
    "    \n",
    "    return pd.to_datetime(df.columns.values[1:], format='%Y-%m')"
   ]
  },
  {
   "cell_type": "code",
   "execution_count": null,
   "metadata": {},
   "outputs": [],
   "source": []
  },
  {
   "cell_type": "code",
   "execution_count": null,
   "metadata": {},
   "outputs": [],
   "source": []
  },
  {
   "cell_type": "code",
   "execution_count": null,
   "metadata": {},
   "outputs": [],
   "source": []
  },
  {
   "cell_type": "markdown",
   "metadata": {},
   "source": [
    "## Step 3: EDA and Visualization"
   ]
  },
  {
   "cell_type": "code",
   "execution_count": null,
   "metadata": {
    "ExecuteTime": {
     "end_time": "2022-05-02T16:26:12.956056Z",
     "start_time": "2022-05-02T16:26:12.865Z"
    }
   },
   "outputs": [],
   "source": [
    "font = {'family' : 'normal',\n",
    "        'weight' : 'bold',\n",
    "        'size'   : 22}\n",
    "\n",
    "matplotlib.rc('font', **font)\n",
    "\n",
    "# NOTE: if you visualizations are too cluttered to read, try calling 'plt.gcf().autofmt_xdate()'!"
   ]
  },
  {
   "cell_type": "code",
   "execution_count": null,
   "metadata": {},
   "outputs": [],
   "source": []
  },
  {
   "cell_type": "code",
   "execution_count": null,
   "metadata": {},
   "outputs": [],
   "source": []
  },
  {
   "cell_type": "code",
   "execution_count": null,
   "metadata": {},
   "outputs": [],
   "source": []
  },
  {
   "cell_type": "markdown",
   "metadata": {},
   "source": [
    "## Step 4: Reshape from Wide to Long Format"
   ]
  },
  {
   "cell_type": "code",
   "execution_count": null,
   "metadata": {
    "ExecuteTime": {
     "end_time": "2022-05-02T16:26:12.956655Z",
     "start_time": "2022-05-02T16:26:12.872Z"
    }
   },
   "outputs": [],
   "source": [
    "def melt_data(df):\n",
    "    \"\"\"\n",
    "    Takes the zillow_data dataset in wide form or a subset of the zillow_dataset.  \n",
    "    Returns a long-form datetime dataframe \n",
    "    with the datetime column names as the index and the values as the 'values' column.\n",
    "    \n",
    "    If more than one row is passes in the wide-form dataset, the values column\n",
    "    will be the mean of the values from the datetime columns in all of the rows.\n",
    "    \"\"\"\n",
    "    \n",
    "    melted = pd.melt(df, id_vars=['RegionName', 'RegionID', 'SizeRank', 'City', 'State', 'Metro', 'CountyName'], var_name='time')\n",
    "    melted['time'] = pd.to_datetime(melted['time'], infer_datetime_format=True)\n",
    "    melted = melted.dropna(subset=['value'])\n",
    "    return melted.groupby('time').aggregate({'value':'mean'})"
   ]
  },
  {
   "cell_type": "code",
   "execution_count": null,
   "metadata": {},
   "outputs": [],
   "source": []
  },
  {
   "cell_type": "code",
   "execution_count": null,
   "metadata": {},
   "outputs": [],
   "source": []
  },
  {
   "cell_type": "code",
   "execution_count": null,
   "metadata": {},
   "outputs": [],
   "source": []
  },
  {
   "cell_type": "markdown",
   "metadata": {},
   "source": [
    "## Step 5: ARIMA Modeling"
   ]
  },
  {
   "cell_type": "code",
   "execution_count": null,
   "metadata": {},
   "outputs": [],
   "source": []
  },
  {
   "cell_type": "code",
   "execution_count": null,
   "metadata": {},
   "outputs": [],
   "source": []
  },
  {
   "cell_type": "code",
   "execution_count": null,
   "metadata": {},
   "outputs": [],
   "source": []
  },
  {
   "cell_type": "code",
   "execution_count": null,
   "metadata": {},
   "outputs": [],
   "source": []
  },
  {
   "cell_type": "code",
   "execution_count": null,
   "metadata": {},
   "outputs": [],
   "source": []
  },
  {
   "cell_type": "code",
   "execution_count": null,
   "metadata": {},
   "outputs": [],
   "source": []
  },
  {
   "cell_type": "markdown",
   "metadata": {},
   "source": [
    "## Step 6: Interpreting Results"
   ]
  },
  {
   "cell_type": "code",
   "execution_count": null,
   "metadata": {},
   "outputs": [],
   "source": []
  },
  {
   "cell_type": "code",
   "execution_count": null,
   "metadata": {},
   "outputs": [],
   "source": []
  },
  {
   "cell_type": "code",
   "execution_count": null,
   "metadata": {},
   "outputs": [],
   "source": []
  }
 ],
 "metadata": {
  "kernelspec": {
   "display_name": "Python 3",
   "language": "python",
   "name": "python3"
  },
  "language_info": {
   "codemirror_mode": {
    "name": "ipython",
    "version": 3
   },
   "file_extension": ".py",
   "mimetype": "text/x-python",
   "name": "python",
   "nbconvert_exporter": "python",
   "pygments_lexer": "ipython3",
   "version": "3.8.5"
  },
  "toc": {
   "base_numbering": 1,
   "nav_menu": {},
   "number_sections": true,
   "sideBar": true,
   "skip_h1_title": false,
   "title_cell": "Table of Contents",
   "title_sidebar": "Contents",
   "toc_cell": false,
   "toc_position": {
    "height": "641px",
    "left": "45px",
    "top": "111.141px",
    "width": "288px"
   },
   "toc_section_display": true,
   "toc_window_display": true
  },
  "varInspector": {
   "cols": {
    "lenName": 16,
    "lenType": 16,
    "lenVar": 40
   },
   "kernels_config": {
    "python": {
     "delete_cmd_postfix": "",
     "delete_cmd_prefix": "del ",
     "library": "var_list.py",
     "varRefreshCmd": "print(var_dic_list())"
    },
    "r": {
     "delete_cmd_postfix": ") ",
     "delete_cmd_prefix": "rm(",
     "library": "var_list.r",
     "varRefreshCmd": "cat(var_dic_list()) "
    }
   },
   "types_to_exclude": [
    "module",
    "function",
    "builtin_function_or_method",
    "instance",
    "_Feature"
   ],
   "window_display": false
  }
 },
 "nbformat": 4,
 "nbformat_minor": 2
}
