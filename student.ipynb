{
 "cells": [
  {
   "cell_type": "markdown",
   "metadata": {},
   "source": [
    "# Phase 4 Project Notebook\n",
    "- Author: Jonathan Holt\n",
    "- Data Science Flex"
   ]
  },
  {
   "cell_type": "markdown",
   "metadata": {},
   "source": [
    "## Business Problem\n",
    "- What are the top 5 best zip codes for us to invest in?"
   ]
  },
  {
   "cell_type": "markdown",
   "metadata": {},
   "source": [
    "## Questions to Answer"
   ]
  },
  {
   "cell_type": "markdown",
   "metadata": {},
   "source": [
    "1. What is the average (mean) home price for zip codes?\n",
    "    a. also by: State, Metro Region, etc.\n",
    "2. Which zip codes performed above expectations?\n",
    "3. Do the top performing zip codes have any identifiers?\n"
   ]
  },
  {
   "cell_type": "markdown",
   "metadata": {},
   "source": [
    "## What Models & Metrics I plan on using"
   ]
  },
  {
   "cell_type": "markdown",
   "metadata": {},
   "source": [
    "## Helper Functions\n",
    "- Functions provided by Flatiron"
   ]
  },
  {
   "cell_type": "code",
   "execution_count": 1,
   "metadata": {
    "ExecuteTime": {
     "end_time": "2022-05-02T17:31:07.321339Z",
     "start_time": "2022-05-02T17:31:07.314160Z"
    }
   },
   "outputs": [],
   "source": [
    "def get_datetimes(df):\n",
    "    \"\"\"\n",
    "    Takes a dataframe:\n",
    "    returns only those column names that can be converted into datetime objects \n",
    "    as datetime objects.\n",
    "    NOTE number of returned columns may not match total number of columns in passed dataframe\n",
    "    \"\"\"\n",
    "    \n",
    "    return pd.to_datetime(df.columns.values[1:], format='%Y-%m')"
   ]
  },
  {
   "cell_type": "code",
   "execution_count": 2,
   "metadata": {
    "ExecuteTime": {
     "end_time": "2022-05-02T17:31:07.331914Z",
     "start_time": "2022-05-02T17:31:07.325644Z"
    }
   },
   "outputs": [],
   "source": [
    "def melt_data(df):\n",
    "    \"\"\"\n",
    "    Takes the zillow_data dataset in wide form or a subset of the zillow_dataset.  \n",
    "    Returns a long-form datetime dataframe \n",
    "    with the datetime column names as the index and the values as the 'values' column.\n",
    "    \n",
    "    If more than one row is passed in the wide-form dataset, the values column\n",
    "    will be the mean of the values from the datetime columns in all of the rows.\n",
    "    \"\"\"\n",
    "    \n",
    "    melted = pd.melt(df, id_vars=['RegionName', 'RegionID', 'SizeRank', 'City', 'State', 'Metro', 'CountyName'], var_name='time')\n",
    "    melted['time'] = pd.to_datetime(melted['time'], infer_datetime_format=True)\n",
    "    melted = melted.dropna(subset=['value'])\n",
    "    return melted.groupby('time').aggregate({'value':'mean'})"
   ]
  },
  {
   "cell_type": "markdown",
   "metadata": {},
   "source": [
    "## Loading Data"
   ]
  },
  {
   "cell_type": "code",
   "execution_count": 3,
   "metadata": {
    "ExecuteTime": {
     "end_time": "2022-05-02T17:31:08.140792Z",
     "start_time": "2022-05-02T17:31:07.334751Z"
    }
   },
   "outputs": [],
   "source": [
    "import pandas as pd\n",
    "import numpy as np\n",
    "import matplotlib.pyplot as plt\n",
    "%matplotlib inline\n",
    "import matplotlib.ticker as mtick\n",
    "import seaborn as sns\n",
    "\n",
    "plt.style.use('seaborn')\n",
    "pd.set_option('display.max_rows', 1000) #change the amount of rows displayed"
   ]
  },
  {
   "cell_type": "code",
   "execution_count": 4,
   "metadata": {
    "ExecuteTime": {
     "end_time": "2022-05-02T17:31:08.549589Z",
     "start_time": "2022-05-02T17:31:08.141946Z"
    }
   },
   "outputs": [],
   "source": [
    "df = pd.read_csv(\"zillow_data.csv\")"
   ]
  },
  {
   "cell_type": "code",
   "execution_count": 5,
   "metadata": {
    "ExecuteTime": {
     "end_time": "2022-05-02T17:31:08.563987Z",
     "start_time": "2022-05-02T17:31:08.550493Z"
    }
   },
   "outputs": [
    {
     "data": {
      "text/html": [
       "<div>\n",
       "<style scoped>\n",
       "    .dataframe tbody tr th:only-of-type {\n",
       "        vertical-align: middle;\n",
       "    }\n",
       "\n",
       "    .dataframe tbody tr th {\n",
       "        vertical-align: top;\n",
       "    }\n",
       "\n",
       "    .dataframe thead th {\n",
       "        text-align: right;\n",
       "    }\n",
       "</style>\n",
       "<table border=\"1\" class=\"dataframe\">\n",
       "  <thead>\n",
       "    <tr style=\"text-align: right;\">\n",
       "      <th></th>\n",
       "      <th>RegionID</th>\n",
       "      <th>RegionName</th>\n",
       "      <th>City</th>\n",
       "      <th>State</th>\n",
       "      <th>Metro</th>\n",
       "      <th>CountyName</th>\n",
       "      <th>SizeRank</th>\n",
       "      <th>1996-04</th>\n",
       "      <th>1996-05</th>\n",
       "      <th>1996-06</th>\n",
       "      <th>...</th>\n",
       "      <th>2017-07</th>\n",
       "      <th>2017-08</th>\n",
       "      <th>2017-09</th>\n",
       "      <th>2017-10</th>\n",
       "      <th>2017-11</th>\n",
       "      <th>2017-12</th>\n",
       "      <th>2018-01</th>\n",
       "      <th>2018-02</th>\n",
       "      <th>2018-03</th>\n",
       "      <th>2018-04</th>\n",
       "    </tr>\n",
       "  </thead>\n",
       "  <tbody>\n",
       "    <tr>\n",
       "      <th>0</th>\n",
       "      <td>84654</td>\n",
       "      <td>60657</td>\n",
       "      <td>Chicago</td>\n",
       "      <td>IL</td>\n",
       "      <td>Chicago</td>\n",
       "      <td>Cook</td>\n",
       "      <td>1</td>\n",
       "      <td>334200.0</td>\n",
       "      <td>335400.0</td>\n",
       "      <td>336500.0</td>\n",
       "      <td>...</td>\n",
       "      <td>1005500</td>\n",
       "      <td>1007500</td>\n",
       "      <td>1007800</td>\n",
       "      <td>1009600</td>\n",
       "      <td>1013300</td>\n",
       "      <td>1018700</td>\n",
       "      <td>1024400</td>\n",
       "      <td>1030700</td>\n",
       "      <td>1033800</td>\n",
       "      <td>1030600</td>\n",
       "    </tr>\n",
       "    <tr>\n",
       "      <th>1</th>\n",
       "      <td>90668</td>\n",
       "      <td>75070</td>\n",
       "      <td>McKinney</td>\n",
       "      <td>TX</td>\n",
       "      <td>Dallas-Fort Worth</td>\n",
       "      <td>Collin</td>\n",
       "      <td>2</td>\n",
       "      <td>235700.0</td>\n",
       "      <td>236900.0</td>\n",
       "      <td>236700.0</td>\n",
       "      <td>...</td>\n",
       "      <td>308000</td>\n",
       "      <td>310000</td>\n",
       "      <td>312500</td>\n",
       "      <td>314100</td>\n",
       "      <td>315000</td>\n",
       "      <td>316600</td>\n",
       "      <td>318100</td>\n",
       "      <td>319600</td>\n",
       "      <td>321100</td>\n",
       "      <td>321800</td>\n",
       "    </tr>\n",
       "    <tr>\n",
       "      <th>2</th>\n",
       "      <td>91982</td>\n",
       "      <td>77494</td>\n",
       "      <td>Katy</td>\n",
       "      <td>TX</td>\n",
       "      <td>Houston</td>\n",
       "      <td>Harris</td>\n",
       "      <td>3</td>\n",
       "      <td>210400.0</td>\n",
       "      <td>212200.0</td>\n",
       "      <td>212200.0</td>\n",
       "      <td>...</td>\n",
       "      <td>321000</td>\n",
       "      <td>320600</td>\n",
       "      <td>320200</td>\n",
       "      <td>320400</td>\n",
       "      <td>320800</td>\n",
       "      <td>321200</td>\n",
       "      <td>321200</td>\n",
       "      <td>323000</td>\n",
       "      <td>326900</td>\n",
       "      <td>329900</td>\n",
       "    </tr>\n",
       "    <tr>\n",
       "      <th>3</th>\n",
       "      <td>84616</td>\n",
       "      <td>60614</td>\n",
       "      <td>Chicago</td>\n",
       "      <td>IL</td>\n",
       "      <td>Chicago</td>\n",
       "      <td>Cook</td>\n",
       "      <td>4</td>\n",
       "      <td>498100.0</td>\n",
       "      <td>500900.0</td>\n",
       "      <td>503100.0</td>\n",
       "      <td>...</td>\n",
       "      <td>1289800</td>\n",
       "      <td>1287700</td>\n",
       "      <td>1287400</td>\n",
       "      <td>1291500</td>\n",
       "      <td>1296600</td>\n",
       "      <td>1299000</td>\n",
       "      <td>1302700</td>\n",
       "      <td>1306400</td>\n",
       "      <td>1308500</td>\n",
       "      <td>1307000</td>\n",
       "    </tr>\n",
       "    <tr>\n",
       "      <th>4</th>\n",
       "      <td>93144</td>\n",
       "      <td>79936</td>\n",
       "      <td>El Paso</td>\n",
       "      <td>TX</td>\n",
       "      <td>El Paso</td>\n",
       "      <td>El Paso</td>\n",
       "      <td>5</td>\n",
       "      <td>77300.0</td>\n",
       "      <td>77300.0</td>\n",
       "      <td>77300.0</td>\n",
       "      <td>...</td>\n",
       "      <td>119100</td>\n",
       "      <td>119400</td>\n",
       "      <td>120000</td>\n",
       "      <td>120300</td>\n",
       "      <td>120300</td>\n",
       "      <td>120300</td>\n",
       "      <td>120300</td>\n",
       "      <td>120500</td>\n",
       "      <td>121000</td>\n",
       "      <td>121500</td>\n",
       "    </tr>\n",
       "  </tbody>\n",
       "</table>\n",
       "<p>5 rows × 272 columns</p>\n",
       "</div>"
      ],
      "text/plain": [
       "   RegionID  RegionName      City State              Metro CountyName  \\\n",
       "0     84654       60657   Chicago    IL            Chicago       Cook   \n",
       "1     90668       75070  McKinney    TX  Dallas-Fort Worth     Collin   \n",
       "2     91982       77494      Katy    TX            Houston     Harris   \n",
       "3     84616       60614   Chicago    IL            Chicago       Cook   \n",
       "4     93144       79936   El Paso    TX            El Paso    El Paso   \n",
       "\n",
       "   SizeRank   1996-04   1996-05   1996-06  ...  2017-07  2017-08  2017-09  \\\n",
       "0         1  334200.0  335400.0  336500.0  ...  1005500  1007500  1007800   \n",
       "1         2  235700.0  236900.0  236700.0  ...   308000   310000   312500   \n",
       "2         3  210400.0  212200.0  212200.0  ...   321000   320600   320200   \n",
       "3         4  498100.0  500900.0  503100.0  ...  1289800  1287700  1287400   \n",
       "4         5   77300.0   77300.0   77300.0  ...   119100   119400   120000   \n",
       "\n",
       "   2017-10  2017-11  2017-12  2018-01  2018-02  2018-03  2018-04  \n",
       "0  1009600  1013300  1018700  1024400  1030700  1033800  1030600  \n",
       "1   314100   315000   316600   318100   319600   321100   321800  \n",
       "2   320400   320800   321200   321200   323000   326900   329900  \n",
       "3  1291500  1296600  1299000  1302700  1306400  1308500  1307000  \n",
       "4   120300   120300   120300   120300   120500   121000   121500  \n",
       "\n",
       "[5 rows x 272 columns]"
      ]
     },
     "execution_count": 5,
     "metadata": {},
     "output_type": "execute_result"
    }
   ],
   "source": [
    "df.head()"
   ]
  },
  {
   "cell_type": "code",
   "execution_count": 100,
   "metadata": {
    "ExecuteTime": {
     "end_time": "2022-05-02T18:12:24.338587Z",
     "start_time": "2022-05-02T18:12:24.326398Z"
    }
   },
   "outputs": [
    {
     "data": {
      "text/plain": [
       "743978.8679245283"
      ]
     },
     "execution_count": 100,
     "metadata": {},
     "output_type": "execute_result"
    }
   ],
   "source": [
    "df.iloc[0, 7:].mean()"
   ]
  },
  {
   "cell_type": "code",
   "execution_count": 125,
   "metadata": {
    "ExecuteTime": {
     "end_time": "2022-05-02T18:25:25.415441Z",
     "start_time": "2022-05-02T18:25:25.349262Z"
    }
   },
   "outputs": [
    {
     "data": {
      "text/html": [
       "<div>\n",
       "<style scoped>\n",
       "    .dataframe tbody tr th:only-of-type {\n",
       "        vertical-align: middle;\n",
       "    }\n",
       "\n",
       "    .dataframe tbody tr th {\n",
       "        vertical-align: top;\n",
       "    }\n",
       "\n",
       "    .dataframe thead th {\n",
       "        text-align: right;\n",
       "    }\n",
       "</style>\n",
       "<table border=\"1\" class=\"dataframe\">\n",
       "  <thead>\n",
       "    <tr style=\"text-align: right;\">\n",
       "      <th></th>\n",
       "      <th>1996-04</th>\n",
       "      <th>1996-05</th>\n",
       "      <th>1996-06</th>\n",
       "      <th>1996-07</th>\n",
       "      <th>1996-08</th>\n",
       "      <th>1996-09</th>\n",
       "      <th>1996-10</th>\n",
       "      <th>1996-11</th>\n",
       "      <th>1996-12</th>\n",
       "      <th>1997-01</th>\n",
       "      <th>...</th>\n",
       "      <th>2017-07</th>\n",
       "      <th>2017-08</th>\n",
       "      <th>2017-09</th>\n",
       "      <th>2017-10</th>\n",
       "      <th>2017-11</th>\n",
       "      <th>2017-12</th>\n",
       "      <th>2018-01</th>\n",
       "      <th>2018-02</th>\n",
       "      <th>2018-03</th>\n",
       "      <th>2018-04</th>\n",
       "    </tr>\n",
       "  </thead>\n",
       "  <tbody>\n",
       "    <tr>\n",
       "      <th>0</th>\n",
       "      <td>334200.0</td>\n",
       "      <td>335400.0</td>\n",
       "      <td>336500.0</td>\n",
       "      <td>337600.0</td>\n",
       "      <td>338500.0</td>\n",
       "      <td>339500.0</td>\n",
       "      <td>340400.0</td>\n",
       "      <td>341300.0</td>\n",
       "      <td>342600.0</td>\n",
       "      <td>344400.0</td>\n",
       "      <td>...</td>\n",
       "      <td>1005500</td>\n",
       "      <td>1007500</td>\n",
       "      <td>1007800</td>\n",
       "      <td>1009600</td>\n",
       "      <td>1013300</td>\n",
       "      <td>1018700</td>\n",
       "      <td>1024400</td>\n",
       "      <td>1030700</td>\n",
       "      <td>1033800</td>\n",
       "      <td>1030600</td>\n",
       "    </tr>\n",
       "    <tr>\n",
       "      <th>1</th>\n",
       "      <td>235700.0</td>\n",
       "      <td>236900.0</td>\n",
       "      <td>236700.0</td>\n",
       "      <td>235400.0</td>\n",
       "      <td>233300.0</td>\n",
       "      <td>230600.0</td>\n",
       "      <td>227300.0</td>\n",
       "      <td>223400.0</td>\n",
       "      <td>219600.0</td>\n",
       "      <td>215800.0</td>\n",
       "      <td>...</td>\n",
       "      <td>308000</td>\n",
       "      <td>310000</td>\n",
       "      <td>312500</td>\n",
       "      <td>314100</td>\n",
       "      <td>315000</td>\n",
       "      <td>316600</td>\n",
       "      <td>318100</td>\n",
       "      <td>319600</td>\n",
       "      <td>321100</td>\n",
       "      <td>321800</td>\n",
       "    </tr>\n",
       "    <tr>\n",
       "      <th>2</th>\n",
       "      <td>210400.0</td>\n",
       "      <td>212200.0</td>\n",
       "      <td>212200.0</td>\n",
       "      <td>210700.0</td>\n",
       "      <td>208300.0</td>\n",
       "      <td>205500.0</td>\n",
       "      <td>202500.0</td>\n",
       "      <td>199800.0</td>\n",
       "      <td>198300.0</td>\n",
       "      <td>197300.0</td>\n",
       "      <td>...</td>\n",
       "      <td>321000</td>\n",
       "      <td>320600</td>\n",
       "      <td>320200</td>\n",
       "      <td>320400</td>\n",
       "      <td>320800</td>\n",
       "      <td>321200</td>\n",
       "      <td>321200</td>\n",
       "      <td>323000</td>\n",
       "      <td>326900</td>\n",
       "      <td>329900</td>\n",
       "    </tr>\n",
       "    <tr>\n",
       "      <th>3</th>\n",
       "      <td>498100.0</td>\n",
       "      <td>500900.0</td>\n",
       "      <td>503100.0</td>\n",
       "      <td>504600.0</td>\n",
       "      <td>505500.0</td>\n",
       "      <td>505700.0</td>\n",
       "      <td>505300.0</td>\n",
       "      <td>504200.0</td>\n",
       "      <td>503600.0</td>\n",
       "      <td>503400.0</td>\n",
       "      <td>...</td>\n",
       "      <td>1289800</td>\n",
       "      <td>1287700</td>\n",
       "      <td>1287400</td>\n",
       "      <td>1291500</td>\n",
       "      <td>1296600</td>\n",
       "      <td>1299000</td>\n",
       "      <td>1302700</td>\n",
       "      <td>1306400</td>\n",
       "      <td>1308500</td>\n",
       "      <td>1307000</td>\n",
       "    </tr>\n",
       "    <tr>\n",
       "      <th>4</th>\n",
       "      <td>77300.0</td>\n",
       "      <td>77300.0</td>\n",
       "      <td>77300.0</td>\n",
       "      <td>77300.0</td>\n",
       "      <td>77400.0</td>\n",
       "      <td>77500.0</td>\n",
       "      <td>77600.0</td>\n",
       "      <td>77700.0</td>\n",
       "      <td>77700.0</td>\n",
       "      <td>77800.0</td>\n",
       "      <td>...</td>\n",
       "      <td>119100</td>\n",
       "      <td>119400</td>\n",
       "      <td>120000</td>\n",
       "      <td>120300</td>\n",
       "      <td>120300</td>\n",
       "      <td>120300</td>\n",
       "      <td>120300</td>\n",
       "      <td>120500</td>\n",
       "      <td>121000</td>\n",
       "      <td>121500</td>\n",
       "    </tr>\n",
       "  </tbody>\n",
       "</table>\n",
       "<p>5 rows × 265 columns</p>\n",
       "</div>"
      ],
      "text/plain": [
       "    1996-04   1996-05   1996-06   1996-07   1996-08   1996-09   1996-10  \\\n",
       "0  334200.0  335400.0  336500.0  337600.0  338500.0  339500.0  340400.0   \n",
       "1  235700.0  236900.0  236700.0  235400.0  233300.0  230600.0  227300.0   \n",
       "2  210400.0  212200.0  212200.0  210700.0  208300.0  205500.0  202500.0   \n",
       "3  498100.0  500900.0  503100.0  504600.0  505500.0  505700.0  505300.0   \n",
       "4   77300.0   77300.0   77300.0   77300.0   77400.0   77500.0   77600.0   \n",
       "\n",
       "    1996-11   1996-12   1997-01  ...  2017-07  2017-08  2017-09  2017-10  \\\n",
       "0  341300.0  342600.0  344400.0  ...  1005500  1007500  1007800  1009600   \n",
       "1  223400.0  219600.0  215800.0  ...   308000   310000   312500   314100   \n",
       "2  199800.0  198300.0  197300.0  ...   321000   320600   320200   320400   \n",
       "3  504200.0  503600.0  503400.0  ...  1289800  1287700  1287400  1291500   \n",
       "4   77700.0   77700.0   77800.0  ...   119100   119400   120000   120300   \n",
       "\n",
       "   2017-11  2017-12  2018-01  2018-02  2018-03  2018-04  \n",
       "0  1013300  1018700  1024400  1030700  1033800  1030600  \n",
       "1   315000   316600   318100   319600   321100   321800  \n",
       "2   320800   321200   321200   323000   326900   329900  \n",
       "3  1296600  1299000  1302700  1306400  1308500  1307000  \n",
       "4   120300   120300   120300   120500   121000   121500  \n",
       "\n",
       "[5 rows x 265 columns]"
      ]
     },
     "execution_count": 125,
     "metadata": {},
     "output_type": "execute_result"
    }
   ],
   "source": [
    "data_df = df.iloc[:, 7:]\n",
    "data_df.head()"
   ]
  },
  {
   "cell_type": "code",
   "execution_count": 126,
   "metadata": {
    "ExecuteTime": {
     "end_time": "2022-05-02T18:25:59.573218Z",
     "start_time": "2022-05-02T18:25:59.566002Z"
    }
   },
   "outputs": [],
   "source": [
    "zip_test = data_df.iloc[0]"
   ]
  },
  {
   "cell_type": "code",
   "execution_count": 127,
   "metadata": {
    "ExecuteTime": {
     "end_time": "2022-05-02T18:26:06.692751Z",
     "start_time": "2022-05-02T18:26:06.671229Z"
    }
   },
   "outputs": [
    {
     "data": {
      "text/plain": [
       "1996-04     334200.0\n",
       "1996-05     335400.0\n",
       "1996-06     336500.0\n",
       "1996-07     337600.0\n",
       "1996-08     338500.0\n",
       "1996-09     339500.0\n",
       "1996-10     340400.0\n",
       "1996-11     341300.0\n",
       "1996-12     342600.0\n",
       "1997-01     344400.0\n",
       "1997-02     345700.0\n",
       "1997-03     346700.0\n",
       "1997-04     347800.0\n",
       "1997-05     349000.0\n",
       "1997-06     350400.0\n",
       "1997-07     352000.0\n",
       "1997-08     353900.0\n",
       "1997-09     356200.0\n",
       "1997-10     358800.0\n",
       "1997-11     361800.0\n",
       "1997-12     365700.0\n",
       "1998-01     370200.0\n",
       "1998-02     374700.0\n",
       "1998-03     378900.0\n",
       "1998-04     383500.0\n",
       "1998-05     388300.0\n",
       "1998-06     393300.0\n",
       "1998-07     398500.0\n",
       "1998-08     403800.0\n",
       "1998-09     409100.0\n",
       "1998-10     414600.0\n",
       "1998-11     420100.0\n",
       "1998-12     426200.0\n",
       "1999-01     432600.0\n",
       "1999-02     438600.0\n",
       "1999-03     444200.0\n",
       "1999-04     450000.0\n",
       "1999-05     455900.0\n",
       "1999-06     462100.0\n",
       "1999-07     468500.0\n",
       "1999-08     475300.0\n",
       "1999-09     482500.0\n",
       "1999-10     490200.0\n",
       "1999-11     498200.0\n",
       "1999-12     507200.0\n",
       "2000-01     516800.0\n",
       "2000-02     526300.0\n",
       "2000-03     535300.0\n",
       "2000-04     544500.0\n",
       "2000-05     553500.0\n",
       "2000-06     562400.0\n",
       "2000-07     571200.0\n",
       "2000-08     579800.0\n",
       "2000-09     588100.0\n",
       "2000-10     596300.0\n",
       "2000-11     604200.0\n",
       "2000-12     612200.0\n",
       "2001-01     620200.0\n",
       "2001-02     627700.0\n",
       "2001-03     634500.0\n",
       "2001-04     641000.0\n",
       "2001-05     647000.0\n",
       "2001-06     652700.0\n",
       "2001-07     658100.0\n",
       "2001-08     663300.0\n",
       "2001-09     668400.0\n",
       "2001-10     673400.0\n",
       "2001-11     678300.0\n",
       "2001-12     683200.0\n",
       "2002-01     688300.0\n",
       "2002-02     693300.0\n",
       "2002-03     698000.0\n",
       "2002-04     702400.0\n",
       "2002-05     706400.0\n",
       "2002-06     710200.0\n",
       "2002-07     714000.0\n",
       "2002-08     717800.0\n",
       "2002-09     721700.0\n",
       "2002-10     725700.0\n",
       "2002-11     729900.0\n",
       "2002-12     733400.0\n",
       "2003-01     735600.0\n",
       "2003-02     737200.0\n",
       "2003-03     739000.0\n",
       "2003-04     740900.0\n",
       "2003-05     742700.0\n",
       "2003-06     744400.0\n",
       "2003-07     746000.0\n",
       "2003-08     747200.0\n",
       "2003-09     748000.0\n",
       "2003-10     749000.0\n",
       "2003-11     750200.0\n",
       "2003-12     752300.0\n",
       "2004-01     755300.0\n",
       "2004-02     759200.0\n",
       "2004-03     764000.0\n",
       "2004-04     769600.0\n",
       "2004-05     775600.0\n",
       "2004-06     781900.0\n",
       "2004-07     787900.0\n",
       "2004-08     793200.0\n",
       "2004-09     798200.0\n",
       "2004-10     803100.0\n",
       "2004-11     807900.0\n",
       "2004-12     812900.0\n",
       "2005-01     818100.0\n",
       "2005-02     823100.0\n",
       "2005-03     828300.0\n",
       "2005-04     834100.0\n",
       "2005-05     839800.0\n",
       "2005-06     845600.0\n",
       "2005-07     851800.0\n",
       "2005-08     858000.0\n",
       "2005-09     864400.0\n",
       "2005-10     870700.0\n",
       "2005-11     876200.0\n",
       "2005-12     880700.0\n",
       "2006-01     884400.0\n",
       "2006-02     887600.0\n",
       "2006-03     890500.0\n",
       "2006-04     893300.0\n",
       "2006-05     895500.0\n",
       "2006-06     897300.0\n",
       "2006-07     899000.0\n",
       "2006-08     900400.0\n",
       "2006-09     902000.0\n",
       "2006-10     904400.0\n",
       "2006-11     907100.0\n",
       "2006-12     909700.0\n",
       "2007-01     911900.0\n",
       "2007-02     913000.0\n",
       "2007-03     913000.0\n",
       "2007-04     912000.0\n",
       "2007-05     909300.0\n",
       "2007-06     905300.0\n",
       "2007-07     901400.0\n",
       "2007-08     897900.0\n",
       "2007-09     895400.0\n",
       "2007-10     893600.0\n",
       "2007-11     891100.0\n",
       "2007-12     887000.0\n",
       "2008-01     881700.0\n",
       "2008-02     875900.0\n",
       "2008-03     870300.0\n",
       "2008-04     865100.0\n",
       "2008-05     859000.0\n",
       "2008-06     851500.0\n",
       "2008-07     843800.0\n",
       "2008-08     836400.0\n",
       "2008-09     830700.0\n",
       "2008-10     827300.0\n",
       "2008-11     824800.0\n",
       "2008-12     821600.0\n",
       "2009-01     818300.0\n",
       "2009-02     814600.0\n",
       "2009-03     809800.0\n",
       "2009-04     803600.0\n",
       "2009-05     795500.0\n",
       "2009-06     786900.0\n",
       "2009-07     780700.0\n",
       "2009-08     776900.0\n",
       "2009-09     774700.0\n",
       "2009-10     774200.0\n",
       "2009-11     774400.0\n",
       "2009-12     774600.0\n",
       "2010-01     775600.0\n",
       "2010-02     777800.0\n",
       "2010-03     775200.0\n",
       "2010-04     767900.0\n",
       "2010-05     764700.0\n",
       "2010-06     766100.0\n",
       "2010-07     764100.0\n",
       "2010-08     759700.0\n",
       "2010-09     754900.0\n",
       "2010-10     746200.0\n",
       "2010-11     737300.0\n",
       "2010-12     730800.0\n",
       "2011-01     729300.0\n",
       "2011-02     730200.0\n",
       "2011-03     730700.0\n",
       "2011-04     730000.0\n",
       "2011-05     730100.0\n",
       "2011-06     730100.0\n",
       "2011-07     731200.0\n",
       "2011-08     733900.0\n",
       "2011-09     735500.0\n",
       "2011-10     735400.0\n",
       "2011-11     734400.0\n",
       "2011-12     737500.0\n",
       "2012-01     737700.0\n",
       "2012-02     733700.0\n",
       "2012-03     734000.0\n",
       "2012-04     740300.0\n",
       "2012-05     744600.0\n",
       "2012-06     750500.0\n",
       "2012-07     760400.0\n",
       "2012-08     771800.0\n",
       "2012-09     780600.0\n",
       "2012-10     787900.0\n",
       "2012-11     794100.0\n",
       "2012-12     798900.0\n",
       "2013-01     802300.0\n",
       "2013-02     806100.0\n",
       "2013-03     810900.0\n",
       "2013-04     817400.0\n",
       "2013-05     826800.0\n",
       "2013-06     837900.0\n",
       "2013-07     848100.0\n",
       "2013-08     853800.0\n",
       "2013-09     856700.0\n",
       "2013-10     856600.0\n",
       "2013-11     854400.0\n",
       "2013-12     853000.0\n",
       "2014-01     856200.0\n",
       "2014-02     859700.0\n",
       "2014-03     863900.0\n",
       "2014-04     872900.0\n",
       "2014-05     883300.0\n",
       "2014-06     889500.0\n",
       "2014-07     892800.0\n",
       "2014-08     893600.0\n",
       "2014-09     891300.0\n",
       "2014-10     889900.0\n",
       "2014-11     891500.0\n",
       "2014-12     893000.0\n",
       "2015-01     893000.0\n",
       "2015-02     895000.0\n",
       "2015-03     901200.0\n",
       "2015-04     909400.0\n",
       "2015-05     915000.0\n",
       "2015-06     916700.0\n",
       "2015-07     917700.0\n",
       "2015-08     919800.0\n",
       "2015-09     925800.0\n",
       "2015-10     937100.0\n",
       "2015-11     948200.0\n",
       "2015-12     951000.0\n",
       "2016-01     952500.0\n",
       "2016-02     958600.0\n",
       "2016-03     966200.0\n",
       "2016-04     970400.0\n",
       "2016-05     973900.0\n",
       "2016-06     974700.0\n",
       "2016-07     972600.0\n",
       "2016-08     974300.0\n",
       "2016-09     980800.0\n",
       "2016-10     988000.0\n",
       "2016-11     994700.0\n",
       "2016-12     998700.0\n",
       "2017-01     997000.0\n",
       "2017-02     993700.0\n",
       "2017-03     991300.0\n",
       "2017-04     989200.0\n",
       "2017-05     991300.0\n",
       "2017-06     999100.0\n",
       "2017-07    1005500.0\n",
       "2017-08    1007500.0\n",
       "2017-09    1007800.0\n",
       "2017-10    1009600.0\n",
       "2017-11    1013300.0\n",
       "2017-12    1018700.0\n",
       "2018-01    1024400.0\n",
       "2018-02    1030700.0\n",
       "2018-03    1033800.0\n",
       "2018-04    1030600.0\n",
       "Name: 0, dtype: float64"
      ]
     },
     "execution_count": 127,
     "metadata": {},
     "output_type": "execute_result"
    }
   ],
   "source": [
    "zip_test"
   ]
  },
  {
   "cell_type": "code",
   "execution_count": 128,
   "metadata": {
    "ExecuteTime": {
     "end_time": "2022-05-02T18:26:22.048904Z",
     "start_time": "2022-05-02T18:26:22.039598Z"
    }
   },
   "outputs": [],
   "source": [
    "zip_test = zip_test.reset_index()"
   ]
  },
  {
   "cell_type": "code",
   "execution_count": 130,
   "metadata": {
    "ExecuteTime": {
     "end_time": "2022-05-02T18:27:33.546663Z",
     "start_time": "2022-05-02T18:27:33.525127Z"
    }
   },
   "outputs": [
    {
     "data": {
      "text/html": [
       "<div>\n",
       "<style scoped>\n",
       "    .dataframe tbody tr th:only-of-type {\n",
       "        vertical-align: middle;\n",
       "    }\n",
       "\n",
       "    .dataframe tbody tr th {\n",
       "        vertical-align: top;\n",
       "    }\n",
       "\n",
       "    .dataframe thead th {\n",
       "        text-align: right;\n",
       "    }\n",
       "</style>\n",
       "<table border=\"1\" class=\"dataframe\">\n",
       "  <thead>\n",
       "    <tr style=\"text-align: right;\">\n",
       "      <th></th>\n",
       "      <th>index</th>\n",
       "      <th>0</th>\n",
       "    </tr>\n",
       "  </thead>\n",
       "  <tbody>\n",
       "    <tr>\n",
       "      <th>0</th>\n",
       "      <td>1996-04</td>\n",
       "      <td>334200.0</td>\n",
       "    </tr>\n",
       "    <tr>\n",
       "      <th>1</th>\n",
       "      <td>1996-05</td>\n",
       "      <td>335400.0</td>\n",
       "    </tr>\n",
       "    <tr>\n",
       "      <th>2</th>\n",
       "      <td>1996-06</td>\n",
       "      <td>336500.0</td>\n",
       "    </tr>\n",
       "    <tr>\n",
       "      <th>3</th>\n",
       "      <td>1996-07</td>\n",
       "      <td>337600.0</td>\n",
       "    </tr>\n",
       "    <tr>\n",
       "      <th>4</th>\n",
       "      <td>1996-08</td>\n",
       "      <td>338500.0</td>\n",
       "    </tr>\n",
       "  </tbody>\n",
       "</table>\n",
       "</div>"
      ],
      "text/plain": [
       "     index         0\n",
       "0  1996-04  334200.0\n",
       "1  1996-05  335400.0\n",
       "2  1996-06  336500.0\n",
       "3  1996-07  337600.0\n",
       "4  1996-08  338500.0"
      ]
     },
     "execution_count": 130,
     "metadata": {},
     "output_type": "execute_result"
    }
   ],
   "source": [
    "zip_test.head()"
   ]
  },
  {
   "cell_type": "code",
   "execution_count": 131,
   "metadata": {
    "ExecuteTime": {
     "end_time": "2022-05-02T18:28:22.310990Z",
     "start_time": "2022-05-02T18:28:22.303927Z"
    }
   },
   "outputs": [],
   "source": [
    "zip_test.rename(columns={\"index\": \"date\"}, inplace=True)"
   ]
  },
  {
   "cell_type": "code",
   "execution_count": 134,
   "metadata": {
    "ExecuteTime": {
     "end_time": "2022-05-02T18:28:51.045869Z",
     "start_time": "2022-05-02T18:28:51.036992Z"
    }
   },
   "outputs": [],
   "source": [
    "zip_test['date'] = pd.to_datetime(zip_test['date'])"
   ]
  },
  {
   "cell_type": "code",
   "execution_count": 135,
   "metadata": {
    "ExecuteTime": {
     "end_time": "2022-05-02T18:28:59.264784Z",
     "start_time": "2022-05-02T18:28:59.249215Z"
    }
   },
   "outputs": [
    {
     "data": {
      "text/html": [
       "<div>\n",
       "<style scoped>\n",
       "    .dataframe tbody tr th:only-of-type {\n",
       "        vertical-align: middle;\n",
       "    }\n",
       "\n",
       "    .dataframe tbody tr th {\n",
       "        vertical-align: top;\n",
       "    }\n",
       "\n",
       "    .dataframe thead th {\n",
       "        text-align: right;\n",
       "    }\n",
       "</style>\n",
       "<table border=\"1\" class=\"dataframe\">\n",
       "  <thead>\n",
       "    <tr style=\"text-align: right;\">\n",
       "      <th></th>\n",
       "      <th>date</th>\n",
       "      <th>0</th>\n",
       "    </tr>\n",
       "  </thead>\n",
       "  <tbody>\n",
       "    <tr>\n",
       "      <th>0</th>\n",
       "      <td>1996-04-01</td>\n",
       "      <td>334200.0</td>\n",
       "    </tr>\n",
       "    <tr>\n",
       "      <th>1</th>\n",
       "      <td>1996-05-01</td>\n",
       "      <td>335400.0</td>\n",
       "    </tr>\n",
       "    <tr>\n",
       "      <th>2</th>\n",
       "      <td>1996-06-01</td>\n",
       "      <td>336500.0</td>\n",
       "    </tr>\n",
       "    <tr>\n",
       "      <th>3</th>\n",
       "      <td>1996-07-01</td>\n",
       "      <td>337600.0</td>\n",
       "    </tr>\n",
       "    <tr>\n",
       "      <th>4</th>\n",
       "      <td>1996-08-01</td>\n",
       "      <td>338500.0</td>\n",
       "    </tr>\n",
       "  </tbody>\n",
       "</table>\n",
       "</div>"
      ],
      "text/plain": [
       "        date         0\n",
       "0 1996-04-01  334200.0\n",
       "1 1996-05-01  335400.0\n",
       "2 1996-06-01  336500.0\n",
       "3 1996-07-01  337600.0\n",
       "4 1996-08-01  338500.0"
      ]
     },
     "execution_count": 135,
     "metadata": {},
     "output_type": "execute_result"
    }
   ],
   "source": [
    "zip_test.head()"
   ]
  },
  {
   "cell_type": "code",
   "execution_count": 139,
   "metadata": {
    "ExecuteTime": {
     "end_time": "2022-05-02T18:30:20.064311Z",
     "start_time": "2022-05-02T18:30:20.057030Z"
    }
   },
   "outputs": [],
   "source": [
    "zip_test = zip_test.set_index('date')"
   ]
  },
  {
   "cell_type": "code",
   "execution_count": 143,
   "metadata": {
    "ExecuteTime": {
     "end_time": "2022-05-02T18:31:05.597960Z",
     "start_time": "2022-05-02T18:31:05.575402Z"
    }
   },
   "outputs": [
    {
     "data": {
      "text/html": [
       "<div>\n",
       "<style scoped>\n",
       "    .dataframe tbody tr th:only-of-type {\n",
       "        vertical-align: middle;\n",
       "    }\n",
       "\n",
       "    .dataframe tbody tr th {\n",
       "        vertical-align: top;\n",
       "    }\n",
       "\n",
       "    .dataframe thead th {\n",
       "        text-align: right;\n",
       "    }\n",
       "</style>\n",
       "<table border=\"1\" class=\"dataframe\">\n",
       "  <thead>\n",
       "    <tr style=\"text-align: right;\">\n",
       "      <th></th>\n",
       "      <th>0</th>\n",
       "    </tr>\n",
       "    <tr>\n",
       "      <th>date</th>\n",
       "      <th></th>\n",
       "    </tr>\n",
       "  </thead>\n",
       "  <tbody>\n",
       "    <tr>\n",
       "      <th>1996-12-31</th>\n",
       "      <td>3.384444e+05</td>\n",
       "    </tr>\n",
       "    <tr>\n",
       "      <th>1997-12-31</th>\n",
       "      <td>3.527000e+05</td>\n",
       "    </tr>\n",
       "    <tr>\n",
       "      <th>1998-12-31</th>\n",
       "      <td>3.967667e+05</td>\n",
       "    </tr>\n",
       "    <tr>\n",
       "      <th>1999-12-31</th>\n",
       "      <td>4.671083e+05</td>\n",
       "    </tr>\n",
       "    <tr>\n",
       "      <th>2000-12-31</th>\n",
       "      <td>5.658833e+05</td>\n",
       "    </tr>\n",
       "    <tr>\n",
       "      <th>2001-12-31</th>\n",
       "      <td>6.539833e+05</td>\n",
       "    </tr>\n",
       "    <tr>\n",
       "      <th>2002-12-31</th>\n",
       "      <td>7.117583e+05</td>\n",
       "    </tr>\n",
       "    <tr>\n",
       "      <th>2003-12-31</th>\n",
       "      <td>7.443750e+05</td>\n",
       "    </tr>\n",
       "    <tr>\n",
       "      <th>2004-12-31</th>\n",
       "      <td>7.840667e+05</td>\n",
       "    </tr>\n",
       "    <tr>\n",
       "      <th>2005-12-31</th>\n",
       "      <td>8.492333e+05</td>\n",
       "    </tr>\n",
       "    <tr>\n",
       "      <th>2006-12-31</th>\n",
       "      <td>8.976000e+05</td>\n",
       "    </tr>\n",
       "    <tr>\n",
       "      <th>2007-12-31</th>\n",
       "      <td>9.025750e+05</td>\n",
       "    </tr>\n",
       "    <tr>\n",
       "      <th>2008-12-31</th>\n",
       "      <td>8.490083e+05</td>\n",
       "    </tr>\n",
       "    <tr>\n",
       "      <th>2009-12-31</th>\n",
       "      <td>7.903500e+05</td>\n",
       "    </tr>\n",
       "    <tr>\n",
       "      <th>2010-12-31</th>\n",
       "      <td>7.600250e+05</td>\n",
       "    </tr>\n",
       "    <tr>\n",
       "      <th>2011-12-31</th>\n",
       "      <td>7.323583e+05</td>\n",
       "    </tr>\n",
       "    <tr>\n",
       "      <th>2012-12-31</th>\n",
       "      <td>7.612083e+05</td>\n",
       "    </tr>\n",
       "    <tr>\n",
       "      <th>2013-12-31</th>\n",
       "      <td>8.353333e+05</td>\n",
       "    </tr>\n",
       "    <tr>\n",
       "      <th>2014-12-31</th>\n",
       "      <td>8.814667e+05</td>\n",
       "    </tr>\n",
       "    <tr>\n",
       "      <th>2015-12-31</th>\n",
       "      <td>9.191583e+05</td>\n",
       "    </tr>\n",
       "    <tr>\n",
       "      <th>2016-12-31</th>\n",
       "      <td>9.754500e+05</td>\n",
       "    </tr>\n",
       "    <tr>\n",
       "      <th>2017-12-31</th>\n",
       "      <td>1.002000e+06</td>\n",
       "    </tr>\n",
       "    <tr>\n",
       "      <th>2018-12-31</th>\n",
       "      <td>1.029875e+06</td>\n",
       "    </tr>\n",
       "  </tbody>\n",
       "</table>\n",
       "</div>"
      ],
      "text/plain": [
       "                       0\n",
       "date                    \n",
       "1996-12-31  3.384444e+05\n",
       "1997-12-31  3.527000e+05\n",
       "1998-12-31  3.967667e+05\n",
       "1999-12-31  4.671083e+05\n",
       "2000-12-31  5.658833e+05\n",
       "2001-12-31  6.539833e+05\n",
       "2002-12-31  7.117583e+05\n",
       "2003-12-31  7.443750e+05\n",
       "2004-12-31  7.840667e+05\n",
       "2005-12-31  8.492333e+05\n",
       "2006-12-31  8.976000e+05\n",
       "2007-12-31  9.025750e+05\n",
       "2008-12-31  8.490083e+05\n",
       "2009-12-31  7.903500e+05\n",
       "2010-12-31  7.600250e+05\n",
       "2011-12-31  7.323583e+05\n",
       "2012-12-31  7.612083e+05\n",
       "2013-12-31  8.353333e+05\n",
       "2014-12-31  8.814667e+05\n",
       "2015-12-31  9.191583e+05\n",
       "2016-12-31  9.754500e+05\n",
       "2017-12-31  1.002000e+06\n",
       "2018-12-31  1.029875e+06"
      ]
     },
     "execution_count": 143,
     "metadata": {},
     "output_type": "execute_result"
    }
   ],
   "source": [
    "zip_test.resample(\"Y\").mean()"
   ]
  },
  {
   "cell_type": "code",
   "execution_count": 140,
   "metadata": {
    "ExecuteTime": {
     "end_time": "2022-05-02T18:30:30.079639Z",
     "start_time": "2022-05-02T18:30:30.064027Z"
    }
   },
   "outputs": [
    {
     "name": "stdout",
     "output_type": "stream",
     "text": [
      "<class 'pandas.core.frame.DataFrame'>\n",
      "DatetimeIndex: 265 entries, 1996-04-01 to 2018-04-01\n",
      "Data columns (total 1 columns):\n",
      " #   Column  Non-Null Count  Dtype  \n",
      "---  ------  --------------  -----  \n",
      " 0   0       265 non-null    float64\n",
      "dtypes: float64(1)\n",
      "memory usage: 4.1 KB\n"
     ]
    }
   ],
   "source": [
    "zip_test.info()"
   ]
  },
  {
   "cell_type": "code",
   "execution_count": 124,
   "metadata": {
    "ExecuteTime": {
     "end_time": "2022-05-02T18:23:44.338472Z",
     "start_time": "2022-05-02T18:23:44.299551Z"
    }
   },
   "outputs": [
    {
     "data": {
      "text/html": [
       "<div>\n",
       "<style scoped>\n",
       "    .dataframe tbody tr th:only-of-type {\n",
       "        vertical-align: middle;\n",
       "    }\n",
       "\n",
       "    .dataframe tbody tr th {\n",
       "        vertical-align: top;\n",
       "    }\n",
       "\n",
       "    .dataframe thead th {\n",
       "        text-align: right;\n",
       "    }\n",
       "</style>\n",
       "<table border=\"1\" class=\"dataframe\">\n",
       "  <thead>\n",
       "    <tr style=\"text-align: right;\">\n",
       "      <th></th>\n",
       "      <th>time</th>\n",
       "      <th>0</th>\n",
       "    </tr>\n",
       "  </thead>\n",
       "  <tbody>\n",
       "    <tr>\n",
       "      <th>1</th>\n",
       "      <td>RegionName</td>\n",
       "      <td>60657</td>\n",
       "    </tr>\n",
       "    <tr>\n",
       "      <th>2</th>\n",
       "      <td>City</td>\n",
       "      <td>Chicago</td>\n",
       "    </tr>\n",
       "    <tr>\n",
       "      <th>3</th>\n",
       "      <td>State</td>\n",
       "      <td>IL</td>\n",
       "    </tr>\n",
       "    <tr>\n",
       "      <th>4</th>\n",
       "      <td>Metro</td>\n",
       "      <td>Chicago</td>\n",
       "    </tr>\n",
       "    <tr>\n",
       "      <th>5</th>\n",
       "      <td>CountyName</td>\n",
       "      <td>Cook</td>\n",
       "    </tr>\n",
       "    <tr>\n",
       "      <th>6</th>\n",
       "      <td>SizeRank</td>\n",
       "      <td>1</td>\n",
       "    </tr>\n",
       "    <tr>\n",
       "      <th>7</th>\n",
       "      <td>1996-04</td>\n",
       "      <td>334200</td>\n",
       "    </tr>\n",
       "    <tr>\n",
       "      <th>8</th>\n",
       "      <td>1996-05</td>\n",
       "      <td>335400</td>\n",
       "    </tr>\n",
       "    <tr>\n",
       "      <th>9</th>\n",
       "      <td>1996-06</td>\n",
       "      <td>336500</td>\n",
       "    </tr>\n",
       "    <tr>\n",
       "      <th>10</th>\n",
       "      <td>1996-07</td>\n",
       "      <td>337600</td>\n",
       "    </tr>\n",
       "    <tr>\n",
       "      <th>11</th>\n",
       "      <td>1996-08</td>\n",
       "      <td>338500</td>\n",
       "    </tr>\n",
       "    <tr>\n",
       "      <th>12</th>\n",
       "      <td>1996-09</td>\n",
       "      <td>339500</td>\n",
       "    </tr>\n",
       "    <tr>\n",
       "      <th>13</th>\n",
       "      <td>1996-10</td>\n",
       "      <td>340400</td>\n",
       "    </tr>\n",
       "    <tr>\n",
       "      <th>14</th>\n",
       "      <td>1996-11</td>\n",
       "      <td>341300</td>\n",
       "    </tr>\n",
       "    <tr>\n",
       "      <th>15</th>\n",
       "      <td>1996-12</td>\n",
       "      <td>342600</td>\n",
       "    </tr>\n",
       "    <tr>\n",
       "      <th>16</th>\n",
       "      <td>1997-01</td>\n",
       "      <td>344400</td>\n",
       "    </tr>\n",
       "    <tr>\n",
       "      <th>17</th>\n",
       "      <td>1997-02</td>\n",
       "      <td>345700</td>\n",
       "    </tr>\n",
       "    <tr>\n",
       "      <th>18</th>\n",
       "      <td>1997-03</td>\n",
       "      <td>346700</td>\n",
       "    </tr>\n",
       "    <tr>\n",
       "      <th>19</th>\n",
       "      <td>1997-04</td>\n",
       "      <td>347800</td>\n",
       "    </tr>\n",
       "    <tr>\n",
       "      <th>20</th>\n",
       "      <td>1997-05</td>\n",
       "      <td>349000</td>\n",
       "    </tr>\n",
       "    <tr>\n",
       "      <th>21</th>\n",
       "      <td>1997-06</td>\n",
       "      <td>350400</td>\n",
       "    </tr>\n",
       "    <tr>\n",
       "      <th>22</th>\n",
       "      <td>1997-07</td>\n",
       "      <td>352000</td>\n",
       "    </tr>\n",
       "    <tr>\n",
       "      <th>23</th>\n",
       "      <td>1997-08</td>\n",
       "      <td>353900</td>\n",
       "    </tr>\n",
       "    <tr>\n",
       "      <th>24</th>\n",
       "      <td>1997-09</td>\n",
       "      <td>356200</td>\n",
       "    </tr>\n",
       "    <tr>\n",
       "      <th>25</th>\n",
       "      <td>1997-10</td>\n",
       "      <td>358800</td>\n",
       "    </tr>\n",
       "    <tr>\n",
       "      <th>26</th>\n",
       "      <td>1997-11</td>\n",
       "      <td>361800</td>\n",
       "    </tr>\n",
       "    <tr>\n",
       "      <th>27</th>\n",
       "      <td>1997-12</td>\n",
       "      <td>365700</td>\n",
       "    </tr>\n",
       "    <tr>\n",
       "      <th>28</th>\n",
       "      <td>1998-01</td>\n",
       "      <td>370200</td>\n",
       "    </tr>\n",
       "    <tr>\n",
       "      <th>29</th>\n",
       "      <td>1998-02</td>\n",
       "      <td>374700</td>\n",
       "    </tr>\n",
       "    <tr>\n",
       "      <th>30</th>\n",
       "      <td>1998-03</td>\n",
       "      <td>378900</td>\n",
       "    </tr>\n",
       "    <tr>\n",
       "      <th>31</th>\n",
       "      <td>1998-04</td>\n",
       "      <td>383500</td>\n",
       "    </tr>\n",
       "    <tr>\n",
       "      <th>32</th>\n",
       "      <td>1998-05</td>\n",
       "      <td>388300</td>\n",
       "    </tr>\n",
       "    <tr>\n",
       "      <th>33</th>\n",
       "      <td>1998-06</td>\n",
       "      <td>393300</td>\n",
       "    </tr>\n",
       "    <tr>\n",
       "      <th>34</th>\n",
       "      <td>1998-07</td>\n",
       "      <td>398500</td>\n",
       "    </tr>\n",
       "    <tr>\n",
       "      <th>35</th>\n",
       "      <td>1998-08</td>\n",
       "      <td>403800</td>\n",
       "    </tr>\n",
       "    <tr>\n",
       "      <th>36</th>\n",
       "      <td>1998-09</td>\n",
       "      <td>409100</td>\n",
       "    </tr>\n",
       "    <tr>\n",
       "      <th>37</th>\n",
       "      <td>1998-10</td>\n",
       "      <td>414600</td>\n",
       "    </tr>\n",
       "    <tr>\n",
       "      <th>38</th>\n",
       "      <td>1998-11</td>\n",
       "      <td>420100</td>\n",
       "    </tr>\n",
       "    <tr>\n",
       "      <th>39</th>\n",
       "      <td>1998-12</td>\n",
       "      <td>426200</td>\n",
       "    </tr>\n",
       "    <tr>\n",
       "      <th>40</th>\n",
       "      <td>1999-01</td>\n",
       "      <td>432600</td>\n",
       "    </tr>\n",
       "    <tr>\n",
       "      <th>41</th>\n",
       "      <td>1999-02</td>\n",
       "      <td>438600</td>\n",
       "    </tr>\n",
       "    <tr>\n",
       "      <th>42</th>\n",
       "      <td>1999-03</td>\n",
       "      <td>444200</td>\n",
       "    </tr>\n",
       "    <tr>\n",
       "      <th>43</th>\n",
       "      <td>1999-04</td>\n",
       "      <td>450000</td>\n",
       "    </tr>\n",
       "    <tr>\n",
       "      <th>44</th>\n",
       "      <td>1999-05</td>\n",
       "      <td>455900</td>\n",
       "    </tr>\n",
       "    <tr>\n",
       "      <th>45</th>\n",
       "      <td>1999-06</td>\n",
       "      <td>462100</td>\n",
       "    </tr>\n",
       "    <tr>\n",
       "      <th>46</th>\n",
       "      <td>1999-07</td>\n",
       "      <td>468500</td>\n",
       "    </tr>\n",
       "    <tr>\n",
       "      <th>47</th>\n",
       "      <td>1999-08</td>\n",
       "      <td>475300</td>\n",
       "    </tr>\n",
       "    <tr>\n",
       "      <th>48</th>\n",
       "      <td>1999-09</td>\n",
       "      <td>482500</td>\n",
       "    </tr>\n",
       "    <tr>\n",
       "      <th>49</th>\n",
       "      <td>1999-10</td>\n",
       "      <td>490200</td>\n",
       "    </tr>\n",
       "    <tr>\n",
       "      <th>50</th>\n",
       "      <td>1999-11</td>\n",
       "      <td>498200</td>\n",
       "    </tr>\n",
       "    <tr>\n",
       "      <th>51</th>\n",
       "      <td>1999-12</td>\n",
       "      <td>507200</td>\n",
       "    </tr>\n",
       "    <tr>\n",
       "      <th>52</th>\n",
       "      <td>2000-01</td>\n",
       "      <td>516800</td>\n",
       "    </tr>\n",
       "    <tr>\n",
       "      <th>53</th>\n",
       "      <td>2000-02</td>\n",
       "      <td>526300</td>\n",
       "    </tr>\n",
       "    <tr>\n",
       "      <th>54</th>\n",
       "      <td>2000-03</td>\n",
       "      <td>535300</td>\n",
       "    </tr>\n",
       "    <tr>\n",
       "      <th>55</th>\n",
       "      <td>2000-04</td>\n",
       "      <td>544500</td>\n",
       "    </tr>\n",
       "    <tr>\n",
       "      <th>56</th>\n",
       "      <td>2000-05</td>\n",
       "      <td>553500</td>\n",
       "    </tr>\n",
       "    <tr>\n",
       "      <th>57</th>\n",
       "      <td>2000-06</td>\n",
       "      <td>562400</td>\n",
       "    </tr>\n",
       "    <tr>\n",
       "      <th>58</th>\n",
       "      <td>2000-07</td>\n",
       "      <td>571200</td>\n",
       "    </tr>\n",
       "    <tr>\n",
       "      <th>59</th>\n",
       "      <td>2000-08</td>\n",
       "      <td>579800</td>\n",
       "    </tr>\n",
       "    <tr>\n",
       "      <th>60</th>\n",
       "      <td>2000-09</td>\n",
       "      <td>588100</td>\n",
       "    </tr>\n",
       "    <tr>\n",
       "      <th>61</th>\n",
       "      <td>2000-10</td>\n",
       "      <td>596300</td>\n",
       "    </tr>\n",
       "    <tr>\n",
       "      <th>62</th>\n",
       "      <td>2000-11</td>\n",
       "      <td>604200</td>\n",
       "    </tr>\n",
       "    <tr>\n",
       "      <th>63</th>\n",
       "      <td>2000-12</td>\n",
       "      <td>612200</td>\n",
       "    </tr>\n",
       "    <tr>\n",
       "      <th>64</th>\n",
       "      <td>2001-01</td>\n",
       "      <td>620200</td>\n",
       "    </tr>\n",
       "    <tr>\n",
       "      <th>65</th>\n",
       "      <td>2001-02</td>\n",
       "      <td>627700</td>\n",
       "    </tr>\n",
       "    <tr>\n",
       "      <th>66</th>\n",
       "      <td>2001-03</td>\n",
       "      <td>634500</td>\n",
       "    </tr>\n",
       "    <tr>\n",
       "      <th>67</th>\n",
       "      <td>2001-04</td>\n",
       "      <td>641000</td>\n",
       "    </tr>\n",
       "    <tr>\n",
       "      <th>68</th>\n",
       "      <td>2001-05</td>\n",
       "      <td>647000</td>\n",
       "    </tr>\n",
       "    <tr>\n",
       "      <th>69</th>\n",
       "      <td>2001-06</td>\n",
       "      <td>652700</td>\n",
       "    </tr>\n",
       "    <tr>\n",
       "      <th>70</th>\n",
       "      <td>2001-07</td>\n",
       "      <td>658100</td>\n",
       "    </tr>\n",
       "    <tr>\n",
       "      <th>71</th>\n",
       "      <td>2001-08</td>\n",
       "      <td>663300</td>\n",
       "    </tr>\n",
       "    <tr>\n",
       "      <th>72</th>\n",
       "      <td>2001-09</td>\n",
       "      <td>668400</td>\n",
       "    </tr>\n",
       "    <tr>\n",
       "      <th>73</th>\n",
       "      <td>2001-10</td>\n",
       "      <td>673400</td>\n",
       "    </tr>\n",
       "    <tr>\n",
       "      <th>74</th>\n",
       "      <td>2001-11</td>\n",
       "      <td>678300</td>\n",
       "    </tr>\n",
       "    <tr>\n",
       "      <th>75</th>\n",
       "      <td>2001-12</td>\n",
       "      <td>683200</td>\n",
       "    </tr>\n",
       "    <tr>\n",
       "      <th>76</th>\n",
       "      <td>2002-01</td>\n",
       "      <td>688300</td>\n",
       "    </tr>\n",
       "    <tr>\n",
       "      <th>77</th>\n",
       "      <td>2002-02</td>\n",
       "      <td>693300</td>\n",
       "    </tr>\n",
       "    <tr>\n",
       "      <th>78</th>\n",
       "      <td>2002-03</td>\n",
       "      <td>698000</td>\n",
       "    </tr>\n",
       "    <tr>\n",
       "      <th>79</th>\n",
       "      <td>2002-04</td>\n",
       "      <td>702400</td>\n",
       "    </tr>\n",
       "    <tr>\n",
       "      <th>80</th>\n",
       "      <td>2002-05</td>\n",
       "      <td>706400</td>\n",
       "    </tr>\n",
       "    <tr>\n",
       "      <th>81</th>\n",
       "      <td>2002-06</td>\n",
       "      <td>710200</td>\n",
       "    </tr>\n",
       "    <tr>\n",
       "      <th>82</th>\n",
       "      <td>2002-07</td>\n",
       "      <td>714000</td>\n",
       "    </tr>\n",
       "    <tr>\n",
       "      <th>83</th>\n",
       "      <td>2002-08</td>\n",
       "      <td>717800</td>\n",
       "    </tr>\n",
       "    <tr>\n",
       "      <th>84</th>\n",
       "      <td>2002-09</td>\n",
       "      <td>721700</td>\n",
       "    </tr>\n",
       "    <tr>\n",
       "      <th>85</th>\n",
       "      <td>2002-10</td>\n",
       "      <td>725700</td>\n",
       "    </tr>\n",
       "    <tr>\n",
       "      <th>86</th>\n",
       "      <td>2002-11</td>\n",
       "      <td>729900</td>\n",
       "    </tr>\n",
       "    <tr>\n",
       "      <th>87</th>\n",
       "      <td>2002-12</td>\n",
       "      <td>733400</td>\n",
       "    </tr>\n",
       "    <tr>\n",
       "      <th>88</th>\n",
       "      <td>2003-01</td>\n",
       "      <td>735600</td>\n",
       "    </tr>\n",
       "    <tr>\n",
       "      <th>89</th>\n",
       "      <td>2003-02</td>\n",
       "      <td>737200</td>\n",
       "    </tr>\n",
       "    <tr>\n",
       "      <th>90</th>\n",
       "      <td>2003-03</td>\n",
       "      <td>739000</td>\n",
       "    </tr>\n",
       "    <tr>\n",
       "      <th>91</th>\n",
       "      <td>2003-04</td>\n",
       "      <td>740900</td>\n",
       "    </tr>\n",
       "    <tr>\n",
       "      <th>92</th>\n",
       "      <td>2003-05</td>\n",
       "      <td>742700</td>\n",
       "    </tr>\n",
       "    <tr>\n",
       "      <th>93</th>\n",
       "      <td>2003-06</td>\n",
       "      <td>744400</td>\n",
       "    </tr>\n",
       "    <tr>\n",
       "      <th>94</th>\n",
       "      <td>2003-07</td>\n",
       "      <td>746000</td>\n",
       "    </tr>\n",
       "    <tr>\n",
       "      <th>95</th>\n",
       "      <td>2003-08</td>\n",
       "      <td>747200</td>\n",
       "    </tr>\n",
       "    <tr>\n",
       "      <th>96</th>\n",
       "      <td>2003-09</td>\n",
       "      <td>748000</td>\n",
       "    </tr>\n",
       "    <tr>\n",
       "      <th>97</th>\n",
       "      <td>2003-10</td>\n",
       "      <td>749000</td>\n",
       "    </tr>\n",
       "    <tr>\n",
       "      <th>98</th>\n",
       "      <td>2003-11</td>\n",
       "      <td>750200</td>\n",
       "    </tr>\n",
       "    <tr>\n",
       "      <th>99</th>\n",
       "      <td>2003-12</td>\n",
       "      <td>752300</td>\n",
       "    </tr>\n",
       "    <tr>\n",
       "      <th>100</th>\n",
       "      <td>2004-01</td>\n",
       "      <td>755300</td>\n",
       "    </tr>\n",
       "    <tr>\n",
       "      <th>101</th>\n",
       "      <td>2004-02</td>\n",
       "      <td>759200</td>\n",
       "    </tr>\n",
       "    <tr>\n",
       "      <th>102</th>\n",
       "      <td>2004-03</td>\n",
       "      <td>764000</td>\n",
       "    </tr>\n",
       "    <tr>\n",
       "      <th>103</th>\n",
       "      <td>2004-04</td>\n",
       "      <td>769600</td>\n",
       "    </tr>\n",
       "    <tr>\n",
       "      <th>104</th>\n",
       "      <td>2004-05</td>\n",
       "      <td>775600</td>\n",
       "    </tr>\n",
       "    <tr>\n",
       "      <th>105</th>\n",
       "      <td>2004-06</td>\n",
       "      <td>781900</td>\n",
       "    </tr>\n",
       "    <tr>\n",
       "      <th>106</th>\n",
       "      <td>2004-07</td>\n",
       "      <td>787900</td>\n",
       "    </tr>\n",
       "    <tr>\n",
       "      <th>107</th>\n",
       "      <td>2004-08</td>\n",
       "      <td>793200</td>\n",
       "    </tr>\n",
       "    <tr>\n",
       "      <th>108</th>\n",
       "      <td>2004-09</td>\n",
       "      <td>798200</td>\n",
       "    </tr>\n",
       "    <tr>\n",
       "      <th>109</th>\n",
       "      <td>2004-10</td>\n",
       "      <td>803100</td>\n",
       "    </tr>\n",
       "    <tr>\n",
       "      <th>110</th>\n",
       "      <td>2004-11</td>\n",
       "      <td>807900</td>\n",
       "    </tr>\n",
       "    <tr>\n",
       "      <th>111</th>\n",
       "      <td>2004-12</td>\n",
       "      <td>812900</td>\n",
       "    </tr>\n",
       "    <tr>\n",
       "      <th>112</th>\n",
       "      <td>2005-01</td>\n",
       "      <td>818100</td>\n",
       "    </tr>\n",
       "    <tr>\n",
       "      <th>113</th>\n",
       "      <td>2005-02</td>\n",
       "      <td>823100</td>\n",
       "    </tr>\n",
       "    <tr>\n",
       "      <th>114</th>\n",
       "      <td>2005-03</td>\n",
       "      <td>828300</td>\n",
       "    </tr>\n",
       "    <tr>\n",
       "      <th>115</th>\n",
       "      <td>2005-04</td>\n",
       "      <td>834100</td>\n",
       "    </tr>\n",
       "    <tr>\n",
       "      <th>116</th>\n",
       "      <td>2005-05</td>\n",
       "      <td>839800</td>\n",
       "    </tr>\n",
       "    <tr>\n",
       "      <th>117</th>\n",
       "      <td>2005-06</td>\n",
       "      <td>845600</td>\n",
       "    </tr>\n",
       "    <tr>\n",
       "      <th>118</th>\n",
       "      <td>2005-07</td>\n",
       "      <td>851800</td>\n",
       "    </tr>\n",
       "    <tr>\n",
       "      <th>119</th>\n",
       "      <td>2005-08</td>\n",
       "      <td>858000</td>\n",
       "    </tr>\n",
       "    <tr>\n",
       "      <th>120</th>\n",
       "      <td>2005-09</td>\n",
       "      <td>864400</td>\n",
       "    </tr>\n",
       "    <tr>\n",
       "      <th>121</th>\n",
       "      <td>2005-10</td>\n",
       "      <td>870700</td>\n",
       "    </tr>\n",
       "    <tr>\n",
       "      <th>122</th>\n",
       "      <td>2005-11</td>\n",
       "      <td>876200</td>\n",
       "    </tr>\n",
       "    <tr>\n",
       "      <th>123</th>\n",
       "      <td>2005-12</td>\n",
       "      <td>880700</td>\n",
       "    </tr>\n",
       "    <tr>\n",
       "      <th>124</th>\n",
       "      <td>2006-01</td>\n",
       "      <td>884400</td>\n",
       "    </tr>\n",
       "    <tr>\n",
       "      <th>125</th>\n",
       "      <td>2006-02</td>\n",
       "      <td>887600</td>\n",
       "    </tr>\n",
       "    <tr>\n",
       "      <th>126</th>\n",
       "      <td>2006-03</td>\n",
       "      <td>890500</td>\n",
       "    </tr>\n",
       "    <tr>\n",
       "      <th>127</th>\n",
       "      <td>2006-04</td>\n",
       "      <td>893300</td>\n",
       "    </tr>\n",
       "    <tr>\n",
       "      <th>128</th>\n",
       "      <td>2006-05</td>\n",
       "      <td>895500</td>\n",
       "    </tr>\n",
       "    <tr>\n",
       "      <th>129</th>\n",
       "      <td>2006-06</td>\n",
       "      <td>897300</td>\n",
       "    </tr>\n",
       "    <tr>\n",
       "      <th>130</th>\n",
       "      <td>2006-07</td>\n",
       "      <td>899000</td>\n",
       "    </tr>\n",
       "    <tr>\n",
       "      <th>131</th>\n",
       "      <td>2006-08</td>\n",
       "      <td>900400</td>\n",
       "    </tr>\n",
       "    <tr>\n",
       "      <th>132</th>\n",
       "      <td>2006-09</td>\n",
       "      <td>902000</td>\n",
       "    </tr>\n",
       "    <tr>\n",
       "      <th>133</th>\n",
       "      <td>2006-10</td>\n",
       "      <td>904400</td>\n",
       "    </tr>\n",
       "    <tr>\n",
       "      <th>134</th>\n",
       "      <td>2006-11</td>\n",
       "      <td>907100</td>\n",
       "    </tr>\n",
       "    <tr>\n",
       "      <th>135</th>\n",
       "      <td>2006-12</td>\n",
       "      <td>909700</td>\n",
       "    </tr>\n",
       "    <tr>\n",
       "      <th>136</th>\n",
       "      <td>2007-01</td>\n",
       "      <td>911900</td>\n",
       "    </tr>\n",
       "    <tr>\n",
       "      <th>137</th>\n",
       "      <td>2007-02</td>\n",
       "      <td>913000</td>\n",
       "    </tr>\n",
       "    <tr>\n",
       "      <th>138</th>\n",
       "      <td>2007-03</td>\n",
       "      <td>913000</td>\n",
       "    </tr>\n",
       "    <tr>\n",
       "      <th>139</th>\n",
       "      <td>2007-04</td>\n",
       "      <td>912000</td>\n",
       "    </tr>\n",
       "    <tr>\n",
       "      <th>140</th>\n",
       "      <td>2007-05</td>\n",
       "      <td>909300</td>\n",
       "    </tr>\n",
       "    <tr>\n",
       "      <th>141</th>\n",
       "      <td>2007-06</td>\n",
       "      <td>905300</td>\n",
       "    </tr>\n",
       "    <tr>\n",
       "      <th>142</th>\n",
       "      <td>2007-07</td>\n",
       "      <td>901400</td>\n",
       "    </tr>\n",
       "    <tr>\n",
       "      <th>143</th>\n",
       "      <td>2007-08</td>\n",
       "      <td>897900</td>\n",
       "    </tr>\n",
       "    <tr>\n",
       "      <th>144</th>\n",
       "      <td>2007-09</td>\n",
       "      <td>895400</td>\n",
       "    </tr>\n",
       "    <tr>\n",
       "      <th>145</th>\n",
       "      <td>2007-10</td>\n",
       "      <td>893600</td>\n",
       "    </tr>\n",
       "    <tr>\n",
       "      <th>146</th>\n",
       "      <td>2007-11</td>\n",
       "      <td>891100</td>\n",
       "    </tr>\n",
       "    <tr>\n",
       "      <th>147</th>\n",
       "      <td>2007-12</td>\n",
       "      <td>887000</td>\n",
       "    </tr>\n",
       "    <tr>\n",
       "      <th>148</th>\n",
       "      <td>2008-01</td>\n",
       "      <td>881700</td>\n",
       "    </tr>\n",
       "    <tr>\n",
       "      <th>149</th>\n",
       "      <td>2008-02</td>\n",
       "      <td>875900</td>\n",
       "    </tr>\n",
       "    <tr>\n",
       "      <th>150</th>\n",
       "      <td>2008-03</td>\n",
       "      <td>870300</td>\n",
       "    </tr>\n",
       "    <tr>\n",
       "      <th>151</th>\n",
       "      <td>2008-04</td>\n",
       "      <td>865100</td>\n",
       "    </tr>\n",
       "    <tr>\n",
       "      <th>152</th>\n",
       "      <td>2008-05</td>\n",
       "      <td>859000</td>\n",
       "    </tr>\n",
       "    <tr>\n",
       "      <th>153</th>\n",
       "      <td>2008-06</td>\n",
       "      <td>851500</td>\n",
       "    </tr>\n",
       "    <tr>\n",
       "      <th>154</th>\n",
       "      <td>2008-07</td>\n",
       "      <td>843800</td>\n",
       "    </tr>\n",
       "    <tr>\n",
       "      <th>155</th>\n",
       "      <td>2008-08</td>\n",
       "      <td>836400</td>\n",
       "    </tr>\n",
       "    <tr>\n",
       "      <th>156</th>\n",
       "      <td>2008-09</td>\n",
       "      <td>830700</td>\n",
       "    </tr>\n",
       "    <tr>\n",
       "      <th>157</th>\n",
       "      <td>2008-10</td>\n",
       "      <td>827300</td>\n",
       "    </tr>\n",
       "    <tr>\n",
       "      <th>158</th>\n",
       "      <td>2008-11</td>\n",
       "      <td>824800</td>\n",
       "    </tr>\n",
       "    <tr>\n",
       "      <th>159</th>\n",
       "      <td>2008-12</td>\n",
       "      <td>821600</td>\n",
       "    </tr>\n",
       "    <tr>\n",
       "      <th>160</th>\n",
       "      <td>2009-01</td>\n",
       "      <td>818300</td>\n",
       "    </tr>\n",
       "    <tr>\n",
       "      <th>161</th>\n",
       "      <td>2009-02</td>\n",
       "      <td>814600</td>\n",
       "    </tr>\n",
       "    <tr>\n",
       "      <th>162</th>\n",
       "      <td>2009-03</td>\n",
       "      <td>809800</td>\n",
       "    </tr>\n",
       "    <tr>\n",
       "      <th>163</th>\n",
       "      <td>2009-04</td>\n",
       "      <td>803600</td>\n",
       "    </tr>\n",
       "    <tr>\n",
       "      <th>164</th>\n",
       "      <td>2009-05</td>\n",
       "      <td>795500</td>\n",
       "    </tr>\n",
       "    <tr>\n",
       "      <th>165</th>\n",
       "      <td>2009-06</td>\n",
       "      <td>786900</td>\n",
       "    </tr>\n",
       "    <tr>\n",
       "      <th>166</th>\n",
       "      <td>2009-07</td>\n",
       "      <td>780700</td>\n",
       "    </tr>\n",
       "    <tr>\n",
       "      <th>167</th>\n",
       "      <td>2009-08</td>\n",
       "      <td>776900</td>\n",
       "    </tr>\n",
       "    <tr>\n",
       "      <th>168</th>\n",
       "      <td>2009-09</td>\n",
       "      <td>774700</td>\n",
       "    </tr>\n",
       "    <tr>\n",
       "      <th>169</th>\n",
       "      <td>2009-10</td>\n",
       "      <td>774200</td>\n",
       "    </tr>\n",
       "    <tr>\n",
       "      <th>170</th>\n",
       "      <td>2009-11</td>\n",
       "      <td>774400</td>\n",
       "    </tr>\n",
       "    <tr>\n",
       "      <th>171</th>\n",
       "      <td>2009-12</td>\n",
       "      <td>774600</td>\n",
       "    </tr>\n",
       "    <tr>\n",
       "      <th>172</th>\n",
       "      <td>2010-01</td>\n",
       "      <td>775600</td>\n",
       "    </tr>\n",
       "    <tr>\n",
       "      <th>173</th>\n",
       "      <td>2010-02</td>\n",
       "      <td>777800</td>\n",
       "    </tr>\n",
       "    <tr>\n",
       "      <th>174</th>\n",
       "      <td>2010-03</td>\n",
       "      <td>775200</td>\n",
       "    </tr>\n",
       "    <tr>\n",
       "      <th>175</th>\n",
       "      <td>2010-04</td>\n",
       "      <td>767900</td>\n",
       "    </tr>\n",
       "    <tr>\n",
       "      <th>176</th>\n",
       "      <td>2010-05</td>\n",
       "      <td>764700</td>\n",
       "    </tr>\n",
       "    <tr>\n",
       "      <th>177</th>\n",
       "      <td>2010-06</td>\n",
       "      <td>766100</td>\n",
       "    </tr>\n",
       "    <tr>\n",
       "      <th>178</th>\n",
       "      <td>2010-07</td>\n",
       "      <td>764100</td>\n",
       "    </tr>\n",
       "    <tr>\n",
       "      <th>179</th>\n",
       "      <td>2010-08</td>\n",
       "      <td>759700</td>\n",
       "    </tr>\n",
       "    <tr>\n",
       "      <th>180</th>\n",
       "      <td>2010-09</td>\n",
       "      <td>754900</td>\n",
       "    </tr>\n",
       "    <tr>\n",
       "      <th>181</th>\n",
       "      <td>2010-10</td>\n",
       "      <td>746200</td>\n",
       "    </tr>\n",
       "    <tr>\n",
       "      <th>182</th>\n",
       "      <td>2010-11</td>\n",
       "      <td>737300</td>\n",
       "    </tr>\n",
       "    <tr>\n",
       "      <th>183</th>\n",
       "      <td>2010-12</td>\n",
       "      <td>730800</td>\n",
       "    </tr>\n",
       "    <tr>\n",
       "      <th>184</th>\n",
       "      <td>2011-01</td>\n",
       "      <td>729300</td>\n",
       "    </tr>\n",
       "    <tr>\n",
       "      <th>185</th>\n",
       "      <td>2011-02</td>\n",
       "      <td>730200</td>\n",
       "    </tr>\n",
       "    <tr>\n",
       "      <th>186</th>\n",
       "      <td>2011-03</td>\n",
       "      <td>730700</td>\n",
       "    </tr>\n",
       "    <tr>\n",
       "      <th>187</th>\n",
       "      <td>2011-04</td>\n",
       "      <td>730000</td>\n",
       "    </tr>\n",
       "    <tr>\n",
       "      <th>188</th>\n",
       "      <td>2011-05</td>\n",
       "      <td>730100</td>\n",
       "    </tr>\n",
       "    <tr>\n",
       "      <th>189</th>\n",
       "      <td>2011-06</td>\n",
       "      <td>730100</td>\n",
       "    </tr>\n",
       "    <tr>\n",
       "      <th>190</th>\n",
       "      <td>2011-07</td>\n",
       "      <td>731200</td>\n",
       "    </tr>\n",
       "    <tr>\n",
       "      <th>191</th>\n",
       "      <td>2011-08</td>\n",
       "      <td>733900</td>\n",
       "    </tr>\n",
       "    <tr>\n",
       "      <th>192</th>\n",
       "      <td>2011-09</td>\n",
       "      <td>735500</td>\n",
       "    </tr>\n",
       "    <tr>\n",
       "      <th>193</th>\n",
       "      <td>2011-10</td>\n",
       "      <td>735400</td>\n",
       "    </tr>\n",
       "    <tr>\n",
       "      <th>194</th>\n",
       "      <td>2011-11</td>\n",
       "      <td>734400</td>\n",
       "    </tr>\n",
       "    <tr>\n",
       "      <th>195</th>\n",
       "      <td>2011-12</td>\n",
       "      <td>737500</td>\n",
       "    </tr>\n",
       "    <tr>\n",
       "      <th>196</th>\n",
       "      <td>2012-01</td>\n",
       "      <td>737700</td>\n",
       "    </tr>\n",
       "    <tr>\n",
       "      <th>197</th>\n",
       "      <td>2012-02</td>\n",
       "      <td>733700</td>\n",
       "    </tr>\n",
       "    <tr>\n",
       "      <th>198</th>\n",
       "      <td>2012-03</td>\n",
       "      <td>734000</td>\n",
       "    </tr>\n",
       "    <tr>\n",
       "      <th>199</th>\n",
       "      <td>2012-04</td>\n",
       "      <td>740300</td>\n",
       "    </tr>\n",
       "    <tr>\n",
       "      <th>200</th>\n",
       "      <td>2012-05</td>\n",
       "      <td>744600</td>\n",
       "    </tr>\n",
       "    <tr>\n",
       "      <th>201</th>\n",
       "      <td>2012-06</td>\n",
       "      <td>750500</td>\n",
       "    </tr>\n",
       "    <tr>\n",
       "      <th>202</th>\n",
       "      <td>2012-07</td>\n",
       "      <td>760400</td>\n",
       "    </tr>\n",
       "    <tr>\n",
       "      <th>203</th>\n",
       "      <td>2012-08</td>\n",
       "      <td>771800</td>\n",
       "    </tr>\n",
       "    <tr>\n",
       "      <th>204</th>\n",
       "      <td>2012-09</td>\n",
       "      <td>780600</td>\n",
       "    </tr>\n",
       "    <tr>\n",
       "      <th>205</th>\n",
       "      <td>2012-10</td>\n",
       "      <td>787900</td>\n",
       "    </tr>\n",
       "    <tr>\n",
       "      <th>206</th>\n",
       "      <td>2012-11</td>\n",
       "      <td>794100</td>\n",
       "    </tr>\n",
       "    <tr>\n",
       "      <th>207</th>\n",
       "      <td>2012-12</td>\n",
       "      <td>798900</td>\n",
       "    </tr>\n",
       "    <tr>\n",
       "      <th>208</th>\n",
       "      <td>2013-01</td>\n",
       "      <td>802300</td>\n",
       "    </tr>\n",
       "    <tr>\n",
       "      <th>209</th>\n",
       "      <td>2013-02</td>\n",
       "      <td>806100</td>\n",
       "    </tr>\n",
       "    <tr>\n",
       "      <th>210</th>\n",
       "      <td>2013-03</td>\n",
       "      <td>810900</td>\n",
       "    </tr>\n",
       "    <tr>\n",
       "      <th>211</th>\n",
       "      <td>2013-04</td>\n",
       "      <td>817400</td>\n",
       "    </tr>\n",
       "    <tr>\n",
       "      <th>212</th>\n",
       "      <td>2013-05</td>\n",
       "      <td>826800</td>\n",
       "    </tr>\n",
       "    <tr>\n",
       "      <th>213</th>\n",
       "      <td>2013-06</td>\n",
       "      <td>837900</td>\n",
       "    </tr>\n",
       "    <tr>\n",
       "      <th>214</th>\n",
       "      <td>2013-07</td>\n",
       "      <td>848100</td>\n",
       "    </tr>\n",
       "    <tr>\n",
       "      <th>215</th>\n",
       "      <td>2013-08</td>\n",
       "      <td>853800</td>\n",
       "    </tr>\n",
       "    <tr>\n",
       "      <th>216</th>\n",
       "      <td>2013-09</td>\n",
       "      <td>856700</td>\n",
       "    </tr>\n",
       "    <tr>\n",
       "      <th>217</th>\n",
       "      <td>2013-10</td>\n",
       "      <td>856600</td>\n",
       "    </tr>\n",
       "    <tr>\n",
       "      <th>218</th>\n",
       "      <td>2013-11</td>\n",
       "      <td>854400</td>\n",
       "    </tr>\n",
       "    <tr>\n",
       "      <th>219</th>\n",
       "      <td>2013-12</td>\n",
       "      <td>853000</td>\n",
       "    </tr>\n",
       "    <tr>\n",
       "      <th>220</th>\n",
       "      <td>2014-01</td>\n",
       "      <td>856200</td>\n",
       "    </tr>\n",
       "    <tr>\n",
       "      <th>221</th>\n",
       "      <td>2014-02</td>\n",
       "      <td>859700</td>\n",
       "    </tr>\n",
       "    <tr>\n",
       "      <th>222</th>\n",
       "      <td>2014-03</td>\n",
       "      <td>863900</td>\n",
       "    </tr>\n",
       "    <tr>\n",
       "      <th>223</th>\n",
       "      <td>2014-04</td>\n",
       "      <td>872900</td>\n",
       "    </tr>\n",
       "    <tr>\n",
       "      <th>224</th>\n",
       "      <td>2014-05</td>\n",
       "      <td>883300</td>\n",
       "    </tr>\n",
       "    <tr>\n",
       "      <th>225</th>\n",
       "      <td>2014-06</td>\n",
       "      <td>889500</td>\n",
       "    </tr>\n",
       "    <tr>\n",
       "      <th>226</th>\n",
       "      <td>2014-07</td>\n",
       "      <td>892800</td>\n",
       "    </tr>\n",
       "    <tr>\n",
       "      <th>227</th>\n",
       "      <td>2014-08</td>\n",
       "      <td>893600</td>\n",
       "    </tr>\n",
       "    <tr>\n",
       "      <th>228</th>\n",
       "      <td>2014-09</td>\n",
       "      <td>891300</td>\n",
       "    </tr>\n",
       "    <tr>\n",
       "      <th>229</th>\n",
       "      <td>2014-10</td>\n",
       "      <td>889900</td>\n",
       "    </tr>\n",
       "    <tr>\n",
       "      <th>230</th>\n",
       "      <td>2014-11</td>\n",
       "      <td>891500</td>\n",
       "    </tr>\n",
       "    <tr>\n",
       "      <th>231</th>\n",
       "      <td>2014-12</td>\n",
       "      <td>893000</td>\n",
       "    </tr>\n",
       "    <tr>\n",
       "      <th>232</th>\n",
       "      <td>2015-01</td>\n",
       "      <td>893000</td>\n",
       "    </tr>\n",
       "    <tr>\n",
       "      <th>233</th>\n",
       "      <td>2015-02</td>\n",
       "      <td>895000</td>\n",
       "    </tr>\n",
       "    <tr>\n",
       "      <th>234</th>\n",
       "      <td>2015-03</td>\n",
       "      <td>901200</td>\n",
       "    </tr>\n",
       "    <tr>\n",
       "      <th>235</th>\n",
       "      <td>2015-04</td>\n",
       "      <td>909400</td>\n",
       "    </tr>\n",
       "    <tr>\n",
       "      <th>236</th>\n",
       "      <td>2015-05</td>\n",
       "      <td>915000</td>\n",
       "    </tr>\n",
       "    <tr>\n",
       "      <th>237</th>\n",
       "      <td>2015-06</td>\n",
       "      <td>916700</td>\n",
       "    </tr>\n",
       "    <tr>\n",
       "      <th>238</th>\n",
       "      <td>2015-07</td>\n",
       "      <td>917700</td>\n",
       "    </tr>\n",
       "    <tr>\n",
       "      <th>239</th>\n",
       "      <td>2015-08</td>\n",
       "      <td>919800</td>\n",
       "    </tr>\n",
       "    <tr>\n",
       "      <th>240</th>\n",
       "      <td>2015-09</td>\n",
       "      <td>925800</td>\n",
       "    </tr>\n",
       "    <tr>\n",
       "      <th>241</th>\n",
       "      <td>2015-10</td>\n",
       "      <td>937100</td>\n",
       "    </tr>\n",
       "    <tr>\n",
       "      <th>242</th>\n",
       "      <td>2015-11</td>\n",
       "      <td>948200</td>\n",
       "    </tr>\n",
       "    <tr>\n",
       "      <th>243</th>\n",
       "      <td>2015-12</td>\n",
       "      <td>951000</td>\n",
       "    </tr>\n",
       "    <tr>\n",
       "      <th>244</th>\n",
       "      <td>2016-01</td>\n",
       "      <td>952500</td>\n",
       "    </tr>\n",
       "    <tr>\n",
       "      <th>245</th>\n",
       "      <td>2016-02</td>\n",
       "      <td>958600</td>\n",
       "    </tr>\n",
       "    <tr>\n",
       "      <th>246</th>\n",
       "      <td>2016-03</td>\n",
       "      <td>966200</td>\n",
       "    </tr>\n",
       "    <tr>\n",
       "      <th>247</th>\n",
       "      <td>2016-04</td>\n",
       "      <td>970400</td>\n",
       "    </tr>\n",
       "    <tr>\n",
       "      <th>248</th>\n",
       "      <td>2016-05</td>\n",
       "      <td>973900</td>\n",
       "    </tr>\n",
       "    <tr>\n",
       "      <th>249</th>\n",
       "      <td>2016-06</td>\n",
       "      <td>974700</td>\n",
       "    </tr>\n",
       "    <tr>\n",
       "      <th>250</th>\n",
       "      <td>2016-07</td>\n",
       "      <td>972600</td>\n",
       "    </tr>\n",
       "    <tr>\n",
       "      <th>251</th>\n",
       "      <td>2016-08</td>\n",
       "      <td>974300</td>\n",
       "    </tr>\n",
       "    <tr>\n",
       "      <th>252</th>\n",
       "      <td>2016-09</td>\n",
       "      <td>980800</td>\n",
       "    </tr>\n",
       "    <tr>\n",
       "      <th>253</th>\n",
       "      <td>2016-10</td>\n",
       "      <td>988000</td>\n",
       "    </tr>\n",
       "    <tr>\n",
       "      <th>254</th>\n",
       "      <td>2016-11</td>\n",
       "      <td>994700</td>\n",
       "    </tr>\n",
       "    <tr>\n",
       "      <th>255</th>\n",
       "      <td>2016-12</td>\n",
       "      <td>998700</td>\n",
       "    </tr>\n",
       "    <tr>\n",
       "      <th>256</th>\n",
       "      <td>2017-01</td>\n",
       "      <td>997000</td>\n",
       "    </tr>\n",
       "    <tr>\n",
       "      <th>257</th>\n",
       "      <td>2017-02</td>\n",
       "      <td>993700</td>\n",
       "    </tr>\n",
       "    <tr>\n",
       "      <th>258</th>\n",
       "      <td>2017-03</td>\n",
       "      <td>991300</td>\n",
       "    </tr>\n",
       "    <tr>\n",
       "      <th>259</th>\n",
       "      <td>2017-04</td>\n",
       "      <td>989200</td>\n",
       "    </tr>\n",
       "    <tr>\n",
       "      <th>260</th>\n",
       "      <td>2017-05</td>\n",
       "      <td>991300</td>\n",
       "    </tr>\n",
       "    <tr>\n",
       "      <th>261</th>\n",
       "      <td>2017-06</td>\n",
       "      <td>999100</td>\n",
       "    </tr>\n",
       "    <tr>\n",
       "      <th>262</th>\n",
       "      <td>2017-07</td>\n",
       "      <td>1005500</td>\n",
       "    </tr>\n",
       "    <tr>\n",
       "      <th>263</th>\n",
       "      <td>2017-08</td>\n",
       "      <td>1007500</td>\n",
       "    </tr>\n",
       "    <tr>\n",
       "      <th>264</th>\n",
       "      <td>2017-09</td>\n",
       "      <td>1007800</td>\n",
       "    </tr>\n",
       "    <tr>\n",
       "      <th>265</th>\n",
       "      <td>2017-10</td>\n",
       "      <td>1009600</td>\n",
       "    </tr>\n",
       "    <tr>\n",
       "      <th>266</th>\n",
       "      <td>2017-11</td>\n",
       "      <td>1013300</td>\n",
       "    </tr>\n",
       "    <tr>\n",
       "      <th>267</th>\n",
       "      <td>2017-12</td>\n",
       "      <td>1018700</td>\n",
       "    </tr>\n",
       "    <tr>\n",
       "      <th>268</th>\n",
       "      <td>2018-01</td>\n",
       "      <td>1024400</td>\n",
       "    </tr>\n",
       "    <tr>\n",
       "      <th>269</th>\n",
       "      <td>2018-02</td>\n",
       "      <td>1030700</td>\n",
       "    </tr>\n",
       "    <tr>\n",
       "      <th>270</th>\n",
       "      <td>2018-03</td>\n",
       "      <td>1033800</td>\n",
       "    </tr>\n",
       "    <tr>\n",
       "      <th>271</th>\n",
       "      <td>2018-04</td>\n",
       "      <td>1030600</td>\n",
       "    </tr>\n",
       "  </tbody>\n",
       "</table>\n",
       "</div>"
      ],
      "text/plain": [
       "           time        0\n",
       "1    RegionName    60657\n",
       "2          City  Chicago\n",
       "3         State       IL\n",
       "4         Metro  Chicago\n",
       "5    CountyName     Cook\n",
       "6      SizeRank        1\n",
       "7       1996-04   334200\n",
       "8       1996-05   335400\n",
       "9       1996-06   336500\n",
       "10      1996-07   337600\n",
       "11      1996-08   338500\n",
       "12      1996-09   339500\n",
       "13      1996-10   340400\n",
       "14      1996-11   341300\n",
       "15      1996-12   342600\n",
       "16      1997-01   344400\n",
       "17      1997-02   345700\n",
       "18      1997-03   346700\n",
       "19      1997-04   347800\n",
       "20      1997-05   349000\n",
       "21      1997-06   350400\n",
       "22      1997-07   352000\n",
       "23      1997-08   353900\n",
       "24      1997-09   356200\n",
       "25      1997-10   358800\n",
       "26      1997-11   361800\n",
       "27      1997-12   365700\n",
       "28      1998-01   370200\n",
       "29      1998-02   374700\n",
       "30      1998-03   378900\n",
       "31      1998-04   383500\n",
       "32      1998-05   388300\n",
       "33      1998-06   393300\n",
       "34      1998-07   398500\n",
       "35      1998-08   403800\n",
       "36      1998-09   409100\n",
       "37      1998-10   414600\n",
       "38      1998-11   420100\n",
       "39      1998-12   426200\n",
       "40      1999-01   432600\n",
       "41      1999-02   438600\n",
       "42      1999-03   444200\n",
       "43      1999-04   450000\n",
       "44      1999-05   455900\n",
       "45      1999-06   462100\n",
       "46      1999-07   468500\n",
       "47      1999-08   475300\n",
       "48      1999-09   482500\n",
       "49      1999-10   490200\n",
       "50      1999-11   498200\n",
       "51      1999-12   507200\n",
       "52      2000-01   516800\n",
       "53      2000-02   526300\n",
       "54      2000-03   535300\n",
       "55      2000-04   544500\n",
       "56      2000-05   553500\n",
       "57      2000-06   562400\n",
       "58      2000-07   571200\n",
       "59      2000-08   579800\n",
       "60      2000-09   588100\n",
       "61      2000-10   596300\n",
       "62      2000-11   604200\n",
       "63      2000-12   612200\n",
       "64      2001-01   620200\n",
       "65      2001-02   627700\n",
       "66      2001-03   634500\n",
       "67      2001-04   641000\n",
       "68      2001-05   647000\n",
       "69      2001-06   652700\n",
       "70      2001-07   658100\n",
       "71      2001-08   663300\n",
       "72      2001-09   668400\n",
       "73      2001-10   673400\n",
       "74      2001-11   678300\n",
       "75      2001-12   683200\n",
       "76      2002-01   688300\n",
       "77      2002-02   693300\n",
       "78      2002-03   698000\n",
       "79      2002-04   702400\n",
       "80      2002-05   706400\n",
       "81      2002-06   710200\n",
       "82      2002-07   714000\n",
       "83      2002-08   717800\n",
       "84      2002-09   721700\n",
       "85      2002-10   725700\n",
       "86      2002-11   729900\n",
       "87      2002-12   733400\n",
       "88      2003-01   735600\n",
       "89      2003-02   737200\n",
       "90      2003-03   739000\n",
       "91      2003-04   740900\n",
       "92      2003-05   742700\n",
       "93      2003-06   744400\n",
       "94      2003-07   746000\n",
       "95      2003-08   747200\n",
       "96      2003-09   748000\n",
       "97      2003-10   749000\n",
       "98      2003-11   750200\n",
       "99      2003-12   752300\n",
       "100     2004-01   755300\n",
       "101     2004-02   759200\n",
       "102     2004-03   764000\n",
       "103     2004-04   769600\n",
       "104     2004-05   775600\n",
       "105     2004-06   781900\n",
       "106     2004-07   787900\n",
       "107     2004-08   793200\n",
       "108     2004-09   798200\n",
       "109     2004-10   803100\n",
       "110     2004-11   807900\n",
       "111     2004-12   812900\n",
       "112     2005-01   818100\n",
       "113     2005-02   823100\n",
       "114     2005-03   828300\n",
       "115     2005-04   834100\n",
       "116     2005-05   839800\n",
       "117     2005-06   845600\n",
       "118     2005-07   851800\n",
       "119     2005-08   858000\n",
       "120     2005-09   864400\n",
       "121     2005-10   870700\n",
       "122     2005-11   876200\n",
       "123     2005-12   880700\n",
       "124     2006-01   884400\n",
       "125     2006-02   887600\n",
       "126     2006-03   890500\n",
       "127     2006-04   893300\n",
       "128     2006-05   895500\n",
       "129     2006-06   897300\n",
       "130     2006-07   899000\n",
       "131     2006-08   900400\n",
       "132     2006-09   902000\n",
       "133     2006-10   904400\n",
       "134     2006-11   907100\n",
       "135     2006-12   909700\n",
       "136     2007-01   911900\n",
       "137     2007-02   913000\n",
       "138     2007-03   913000\n",
       "139     2007-04   912000\n",
       "140     2007-05   909300\n",
       "141     2007-06   905300\n",
       "142     2007-07   901400\n",
       "143     2007-08   897900\n",
       "144     2007-09   895400\n",
       "145     2007-10   893600\n",
       "146     2007-11   891100\n",
       "147     2007-12   887000\n",
       "148     2008-01   881700\n",
       "149     2008-02   875900\n",
       "150     2008-03   870300\n",
       "151     2008-04   865100\n",
       "152     2008-05   859000\n",
       "153     2008-06   851500\n",
       "154     2008-07   843800\n",
       "155     2008-08   836400\n",
       "156     2008-09   830700\n",
       "157     2008-10   827300\n",
       "158     2008-11   824800\n",
       "159     2008-12   821600\n",
       "160     2009-01   818300\n",
       "161     2009-02   814600\n",
       "162     2009-03   809800\n",
       "163     2009-04   803600\n",
       "164     2009-05   795500\n",
       "165     2009-06   786900\n",
       "166     2009-07   780700\n",
       "167     2009-08   776900\n",
       "168     2009-09   774700\n",
       "169     2009-10   774200\n",
       "170     2009-11   774400\n",
       "171     2009-12   774600\n",
       "172     2010-01   775600\n",
       "173     2010-02   777800\n",
       "174     2010-03   775200\n",
       "175     2010-04   767900\n",
       "176     2010-05   764700\n",
       "177     2010-06   766100\n",
       "178     2010-07   764100\n",
       "179     2010-08   759700\n",
       "180     2010-09   754900\n",
       "181     2010-10   746200\n",
       "182     2010-11   737300\n",
       "183     2010-12   730800\n",
       "184     2011-01   729300\n",
       "185     2011-02   730200\n",
       "186     2011-03   730700\n",
       "187     2011-04   730000\n",
       "188     2011-05   730100\n",
       "189     2011-06   730100\n",
       "190     2011-07   731200\n",
       "191     2011-08   733900\n",
       "192     2011-09   735500\n",
       "193     2011-10   735400\n",
       "194     2011-11   734400\n",
       "195     2011-12   737500\n",
       "196     2012-01   737700\n",
       "197     2012-02   733700\n",
       "198     2012-03   734000\n",
       "199     2012-04   740300\n",
       "200     2012-05   744600\n",
       "201     2012-06   750500\n",
       "202     2012-07   760400\n",
       "203     2012-08   771800\n",
       "204     2012-09   780600\n",
       "205     2012-10   787900\n",
       "206     2012-11   794100\n",
       "207     2012-12   798900\n",
       "208     2013-01   802300\n",
       "209     2013-02   806100\n",
       "210     2013-03   810900\n",
       "211     2013-04   817400\n",
       "212     2013-05   826800\n",
       "213     2013-06   837900\n",
       "214     2013-07   848100\n",
       "215     2013-08   853800\n",
       "216     2013-09   856700\n",
       "217     2013-10   856600\n",
       "218     2013-11   854400\n",
       "219     2013-12   853000\n",
       "220     2014-01   856200\n",
       "221     2014-02   859700\n",
       "222     2014-03   863900\n",
       "223     2014-04   872900\n",
       "224     2014-05   883300\n",
       "225     2014-06   889500\n",
       "226     2014-07   892800\n",
       "227     2014-08   893600\n",
       "228     2014-09   891300\n",
       "229     2014-10   889900\n",
       "230     2014-11   891500\n",
       "231     2014-12   893000\n",
       "232     2015-01   893000\n",
       "233     2015-02   895000\n",
       "234     2015-03   901200\n",
       "235     2015-04   909400\n",
       "236     2015-05   915000\n",
       "237     2015-06   916700\n",
       "238     2015-07   917700\n",
       "239     2015-08   919800\n",
       "240     2015-09   925800\n",
       "241     2015-10   937100\n",
       "242     2015-11   948200\n",
       "243     2015-12   951000\n",
       "244     2016-01   952500\n",
       "245     2016-02   958600\n",
       "246     2016-03   966200\n",
       "247     2016-04   970400\n",
       "248     2016-05   973900\n",
       "249     2016-06   974700\n",
       "250     2016-07   972600\n",
       "251     2016-08   974300\n",
       "252     2016-09   980800\n",
       "253     2016-10   988000\n",
       "254     2016-11   994700\n",
       "255     2016-12   998700\n",
       "256     2017-01   997000\n",
       "257     2017-02   993700\n",
       "258     2017-03   991300\n",
       "259     2017-04   989200\n",
       "260     2017-05   991300\n",
       "261     2017-06   999100\n",
       "262     2017-07  1005500\n",
       "263     2017-08  1007500\n",
       "264     2017-09  1007800\n",
       "265     2017-10  1009600\n",
       "266     2017-11  1013300\n",
       "267     2017-12  1018700\n",
       "268     2018-01  1024400\n",
       "269     2018-02  1030700\n",
       "270     2018-03  1033800\n",
       "271     2018-04  1030600"
      ]
     },
     "execution_count": 124,
     "metadata": {},
     "output_type": "execute_result"
    }
   ],
   "source": [
    "zip_test.drop([0])"
   ]
  },
  {
   "cell_type": "code",
   "execution_count": 97,
   "metadata": {
    "ExecuteTime": {
     "end_time": "2022-05-02T18:11:00.134268Z",
     "start_time": "2022-05-02T18:11:00.072582Z"
    }
   },
   "outputs": [
    {
     "data": {
      "text/plain": [
       "1996-04    118299.123063\n",
       "1996-05    118419.044139\n",
       "1996-06    118537.423268\n",
       "1996-07    118653.069278\n",
       "1996-08    118780.254312\n",
       "1996-09    118927.528500\n",
       "1996-10    119120.520316\n",
       "1996-11    119345.352236\n",
       "1996-12    119685.084771\n",
       "1997-01    120121.265712\n",
       "1997-02    120544.241450\n",
       "1997-03    120896.623794\n",
       "1997-04    121268.174510\n",
       "1997-05    121655.897398\n",
       "1997-06    122053.105817\n",
       "1997-07    122456.339057\n",
       "1997-08    122879.926927\n",
       "1997-09    123327.402265\n",
       "1997-10    123823.105590\n",
       "1997-11    124353.737669\n",
       "1997-12    125002.601388\n",
       "1998-01    125736.669833\n",
       "1998-02    126450.778111\n",
       "1998-03    127086.257032\n",
       "1998-04    127736.362972\n",
       "1998-05    128385.014978\n",
       "1998-06    129032.702564\n",
       "1998-07    129676.357127\n",
       "1998-08    130324.519617\n",
       "1998-09    130982.618543\n",
       "1998-10    131678.088697\n",
       "1998-11    132399.342442\n",
       "1998-12    133224.702272\n",
       "1999-01    134133.593921\n",
       "1999-02    135020.881128\n",
       "1999-03    135841.586907\n",
       "1999-04    136683.794842\n",
       "1999-05    137532.147293\n",
       "1999-06    138391.809746\n",
       "1999-07    139265.156718\n",
       "1999-08    140160.604954\n",
       "1999-09    141084.832323\n",
       "1999-10    142070.095711\n",
       "1999-11    143104.040330\n",
       "1999-12    144261.328268\n",
       "2000-01    145522.064733\n",
       "2000-02    146772.265654\n",
       "2000-03    147943.683788\n",
       "2000-04    149107.817637\n",
       "2000-05    150247.760649\n",
       "2000-06    151364.608753\n",
       "2000-07    152457.017608\n",
       "2000-08    153530.934463\n",
       "2000-09    154597.187112\n",
       "2000-10    155691.101045\n",
       "2000-11    156804.237598\n",
       "2000-12    157978.351721\n",
       "2001-01    159201.775407\n",
       "2001-02    160410.849711\n",
       "2001-03    161555.950902\n",
       "2001-04    162664.345730\n",
       "2001-05    163717.366844\n",
       "2001-06    164729.619347\n",
       "2001-07    165707.861474\n",
       "2001-08    166666.391466\n",
       "2001-09    167634.309929\n",
       "2001-10    168653.357200\n",
       "2001-11    169714.371301\n",
       "2001-12    170846.292102\n",
       "2002-01    172058.120845\n",
       "2002-02    173311.938336\n",
       "2002-03    174550.062103\n",
       "2002-04    175769.284723\n",
       "2002-05    176957.558267\n",
       "2002-06    178131.760064\n",
       "2002-07    179301.906919\n",
       "2002-08    180477.891430\n",
       "2002-09    181696.493023\n",
       "2002-10    182962.913714\n",
       "2002-11    184453.159933\n",
       "2002-12    186098.173449\n",
       "2003-01    187610.681669\n",
       "2003-02    188930.160006\n",
       "2003-03    190295.616278\n",
       "2003-04    191691.758603\n",
       "2003-05    193112.990429\n",
       "2003-06    194601.804632\n",
       "2003-07    196006.780152\n",
       "2003-08    197610.872872\n",
       "2003-09    199257.667512\n",
       "2003-10    200939.572619\n",
       "2003-11    202586.613546\n",
       "2003-12    204228.359290\n",
       "2004-01    207492.620700\n",
       "2004-02    209244.217982\n",
       "2004-03    211168.039896\n",
       "2004-04    213296.509107\n",
       "2004-05    215615.416305\n",
       "2004-06    218136.246025\n",
       "2004-07    220658.172765\n",
       "2004-08    223353.453128\n",
       "2004-09    226056.895432\n",
       "2004-10    228744.641697\n",
       "2004-11    231299.465974\n",
       "2004-12    233785.465830\n",
       "2005-01    236197.426127\n",
       "2005-02    238563.124596\n",
       "2005-03    240871.017095\n",
       "2005-04    243402.183594\n",
       "2005-05    245934.664560\n",
       "2005-06    248474.874300\n",
       "2005-07    250549.564286\n",
       "2005-08    252925.442857\n",
       "2005-09    255151.628571\n",
       "2005-10    257204.985714\n",
       "2005-11    258995.542857\n",
       "2005-12    260551.178571\n",
       "2006-01    261477.013375\n",
       "2006-02    262687.485771\n",
       "2006-03    263850.576266\n",
       "2006-04    264959.113546\n",
       "2006-05    265878.713717\n",
       "2006-06    266561.959306\n",
       "2006-07    266695.604630\n",
       "2006-08    266818.043031\n",
       "2006-09    266757.139814\n",
       "2006-10    266590.875524\n",
       "2006-11    266316.523468\n",
       "2006-12    266090.974934\n",
       "2007-01    265816.833298\n",
       "2007-02    265624.760689\n",
       "2007-03    265366.333404\n",
       "2007-04    265036.424874\n",
       "2007-05    264491.781890\n",
       "2007-06    263696.341204\n",
       "2007-07    262677.172218\n",
       "2007-08    261586.201276\n",
       "2007-09    260415.577605\n",
       "2007-10    259139.142452\n",
       "2007-11    257695.776045\n",
       "2007-12    256114.812190\n",
       "2008-01    254395.855767\n",
       "2008-02    252515.797676\n",
       "2008-03    250538.729102\n",
       "2008-04    248491.584018\n",
       "2008-05    246309.457353\n",
       "2008-06    243985.661661\n",
       "2008-07    241710.336283\n",
       "2008-08    239648.205310\n",
       "2008-09    237774.272566\n",
       "2008-10    236009.734513\n",
       "2008-11    234330.385841\n",
       "2008-12    232780.842478\n",
       "2009-01    231308.672892\n",
       "2009-02    229820.522071\n",
       "2009-03    228199.285512\n",
       "2009-04    226440.435767\n",
       "2009-05    224442.204301\n",
       "2009-06    222453.671477\n",
       "2009-07    220988.595065\n",
       "2009-08    220049.077282\n",
       "2009-09    219437.446086\n",
       "2009-10    219064.356926\n",
       "2009-11    218900.530298\n",
       "2009-12    218844.042989\n",
       "2010-01    218812.231335\n",
       "2010-02    219116.756222\n",
       "2010-03    216704.313344\n",
       "2010-04    215818.025602\n",
       "2010-05    215273.660776\n",
       "2010-06    215196.925003\n",
       "2010-07    214382.823448\n",
       "2010-08    213508.928200\n",
       "2010-09    212475.130073\n",
       "2010-10    211428.310787\n",
       "2010-11    210326.576483\n",
       "2010-12    209098.015956\n",
       "2011-01    207595.957918\n",
       "2011-02    206395.598007\n",
       "2011-03    205402.464009\n",
       "2011-04    204642.594131\n",
       "2011-05    204012.631506\n",
       "2011-06    203430.571705\n",
       "2011-07    202726.976230\n",
       "2011-08    202212.493090\n",
       "2011-09    201718.705086\n",
       "2011-10    201293.193753\n",
       "2011-11    200940.954947\n",
       "2011-12    200644.043671\n",
       "2012-01    200219.759983\n",
       "2012-02    200069.287537\n",
       "2012-03    200272.349817\n",
       "2012-04    200824.656873\n",
       "2012-05    201558.155735\n",
       "2012-06    202274.412028\n",
       "2012-07    202879.534339\n",
       "2012-08    203592.284907\n",
       "2012-09    204337.921058\n",
       "2012-10    205118.247572\n",
       "2012-11    206036.550251\n",
       "2012-12    207004.656609\n",
       "2013-01    207745.450178\n",
       "2013-02    208791.545430\n",
       "2013-03    210145.422729\n",
       "2013-04    211730.785067\n",
       "2013-05    213399.382377\n",
       "2013-06    215113.127917\n",
       "2013-07    216674.798139\n",
       "2013-08    218163.500753\n",
       "2013-09    219413.008074\n",
       "2013-10    220509.586698\n",
       "2013-11    221509.880936\n",
       "2013-12    222473.737512\n",
       "2014-01    223183.207200\n",
       "2014-02    224135.937820\n",
       "2014-03    225082.573123\n",
       "2014-04    226124.783528\n",
       "2014-05    227232.010636\n",
       "2014-06    228310.622486\n",
       "2014-07    229099.280038\n",
       "2014-08    230141.744210\n",
       "2014-09    231060.035319\n",
       "2014-10    231927.514773\n",
       "2014-11    232822.135434\n",
       "2014-12    233712.307274\n",
       "2015-01    234691.190654\n",
       "2015-02    235760.279834\n",
       "2015-03    236836.426000\n",
       "2015-04    238009.760239\n",
       "2015-05    239354.207702\n",
       "2015-06    240744.121443\n",
       "2015-07    242103.525097\n",
       "2015-08    243424.444746\n",
       "2015-09    244658.269374\n",
       "2015-10    245764.565646\n",
       "2015-11    246765.041092\n",
       "2015-12    247765.170142\n",
       "2016-01    248896.366230\n",
       "2016-02    249987.312368\n",
       "2016-03    251014.310942\n",
       "2016-04    252164.273586\n",
       "2016-05    253483.637846\n",
       "2016-06    254820.084222\n",
       "2016-07    256205.780072\n",
       "2016-08    257597.914827\n",
       "2016-09    258946.023229\n",
       "2016-10    260254.316376\n",
       "2016-11    261576.900088\n",
       "2016-12    262923.792705\n",
       "2017-01    264373.259526\n",
       "2017-02    265755.097467\n",
       "2017-03    267065.115805\n",
       "2017-04    268533.505400\n",
       "2017-05    270226.842355\n",
       "2017-06    271824.716430\n",
       "2017-07    273335.393602\n",
       "2017-08    274865.774638\n",
       "2017-09    276464.619982\n",
       "2017-10    278033.186171\n",
       "2017-11    279520.858521\n",
       "2017-12    281095.320247\n",
       "2018-01    282657.060382\n",
       "2018-02    284368.688447\n",
       "2018-03    286511.376757\n",
       "2018-04    288039.944305\n",
       "dtype: float64"
      ]
     },
     "execution_count": 97,
     "metadata": {},
     "output_type": "execute_result"
    }
   ],
   "source": [
    "df.iloc[:, 7:].mean()"
   ]
  },
  {
   "cell_type": "code",
   "execution_count": 6,
   "metadata": {
    "ExecuteTime": {
     "end_time": "2022-05-02T17:31:08.942620Z",
     "start_time": "2022-05-02T17:31:08.565010Z"
    }
   },
   "outputs": [
    {
     "data": {
      "text/html": [
       "<div>\n",
       "<style scoped>\n",
       "    .dataframe tbody tr th:only-of-type {\n",
       "        vertical-align: middle;\n",
       "    }\n",
       "\n",
       "    .dataframe tbody tr th {\n",
       "        vertical-align: top;\n",
       "    }\n",
       "\n",
       "    .dataframe thead th {\n",
       "        text-align: right;\n",
       "    }\n",
       "</style>\n",
       "<table border=\"1\" class=\"dataframe\">\n",
       "  <thead>\n",
       "    <tr style=\"text-align: right;\">\n",
       "      <th></th>\n",
       "      <th>RegionID</th>\n",
       "      <th>RegionName</th>\n",
       "      <th>SizeRank</th>\n",
       "      <th>1996-04</th>\n",
       "      <th>1996-05</th>\n",
       "      <th>1996-06</th>\n",
       "      <th>1996-07</th>\n",
       "      <th>1996-08</th>\n",
       "      <th>1996-09</th>\n",
       "      <th>1996-10</th>\n",
       "      <th>...</th>\n",
       "      <th>2017-07</th>\n",
       "      <th>2017-08</th>\n",
       "      <th>2017-09</th>\n",
       "      <th>2017-10</th>\n",
       "      <th>2017-11</th>\n",
       "      <th>2017-12</th>\n",
       "      <th>2018-01</th>\n",
       "      <th>2018-02</th>\n",
       "      <th>2018-03</th>\n",
       "      <th>2018-04</th>\n",
       "    </tr>\n",
       "  </thead>\n",
       "  <tbody>\n",
       "    <tr>\n",
       "      <th>count</th>\n",
       "      <td>14723.000000</td>\n",
       "      <td>14723.000000</td>\n",
       "      <td>14723.000000</td>\n",
       "      <td>1.368400e+04</td>\n",
       "      <td>1.368400e+04</td>\n",
       "      <td>1.368400e+04</td>\n",
       "      <td>1.368400e+04</td>\n",
       "      <td>1.368400e+04</td>\n",
       "      <td>1.368400e+04</td>\n",
       "      <td>1.368400e+04</td>\n",
       "      <td>...</td>\n",
       "      <td>1.472300e+04</td>\n",
       "      <td>1.472300e+04</td>\n",
       "      <td>1.472300e+04</td>\n",
       "      <td>1.472300e+04</td>\n",
       "      <td>1.472300e+04</td>\n",
       "      <td>1.472300e+04</td>\n",
       "      <td>1.472300e+04</td>\n",
       "      <td>1.472300e+04</td>\n",
       "      <td>1.472300e+04</td>\n",
       "      <td>1.472300e+04</td>\n",
       "    </tr>\n",
       "    <tr>\n",
       "      <th>mean</th>\n",
       "      <td>81075.010052</td>\n",
       "      <td>48222.348706</td>\n",
       "      <td>7362.000000</td>\n",
       "      <td>1.182991e+05</td>\n",
       "      <td>1.184190e+05</td>\n",
       "      <td>1.185374e+05</td>\n",
       "      <td>1.186531e+05</td>\n",
       "      <td>1.187803e+05</td>\n",
       "      <td>1.189275e+05</td>\n",
       "      <td>1.191205e+05</td>\n",
       "      <td>...</td>\n",
       "      <td>2.733354e+05</td>\n",
       "      <td>2.748658e+05</td>\n",
       "      <td>2.764646e+05</td>\n",
       "      <td>2.780332e+05</td>\n",
       "      <td>2.795209e+05</td>\n",
       "      <td>2.810953e+05</td>\n",
       "      <td>2.826571e+05</td>\n",
       "      <td>2.843687e+05</td>\n",
       "      <td>2.865114e+05</td>\n",
       "      <td>2.880399e+05</td>\n",
       "    </tr>\n",
       "    <tr>\n",
       "      <th>std</th>\n",
       "      <td>31934.118525</td>\n",
       "      <td>29359.325439</td>\n",
       "      <td>4250.308342</td>\n",
       "      <td>8.600251e+04</td>\n",
       "      <td>8.615567e+04</td>\n",
       "      <td>8.630923e+04</td>\n",
       "      <td>8.646795e+04</td>\n",
       "      <td>8.665094e+04</td>\n",
       "      <td>8.687208e+04</td>\n",
       "      <td>8.715185e+04</td>\n",
       "      <td>...</td>\n",
       "      <td>3.603984e+05</td>\n",
       "      <td>3.614678e+05</td>\n",
       "      <td>3.627563e+05</td>\n",
       "      <td>3.644610e+05</td>\n",
       "      <td>3.656003e+05</td>\n",
       "      <td>3.670454e+05</td>\n",
       "      <td>3.695727e+05</td>\n",
       "      <td>3.717739e+05</td>\n",
       "      <td>3.724612e+05</td>\n",
       "      <td>3.720544e+05</td>\n",
       "    </tr>\n",
       "    <tr>\n",
       "      <th>min</th>\n",
       "      <td>58196.000000</td>\n",
       "      <td>1001.000000</td>\n",
       "      <td>1.000000</td>\n",
       "      <td>1.130000e+04</td>\n",
       "      <td>1.150000e+04</td>\n",
       "      <td>1.160000e+04</td>\n",
       "      <td>1.180000e+04</td>\n",
       "      <td>1.180000e+04</td>\n",
       "      <td>1.200000e+04</td>\n",
       "      <td>1.210000e+04</td>\n",
       "      <td>...</td>\n",
       "      <td>1.440000e+04</td>\n",
       "      <td>1.450000e+04</td>\n",
       "      <td>1.470000e+04</td>\n",
       "      <td>1.480000e+04</td>\n",
       "      <td>1.450000e+04</td>\n",
       "      <td>1.430000e+04</td>\n",
       "      <td>1.410000e+04</td>\n",
       "      <td>1.390000e+04</td>\n",
       "      <td>1.380000e+04</td>\n",
       "      <td>1.380000e+04</td>\n",
       "    </tr>\n",
       "    <tr>\n",
       "      <th>25%</th>\n",
       "      <td>67174.500000</td>\n",
       "      <td>22101.500000</td>\n",
       "      <td>3681.500000</td>\n",
       "      <td>6.880000e+04</td>\n",
       "      <td>6.890000e+04</td>\n",
       "      <td>6.910000e+04</td>\n",
       "      <td>6.920000e+04</td>\n",
       "      <td>6.937500e+04</td>\n",
       "      <td>6.950000e+04</td>\n",
       "      <td>6.960000e+04</td>\n",
       "      <td>...</td>\n",
       "      <td>1.269000e+05</td>\n",
       "      <td>1.275000e+05</td>\n",
       "      <td>1.282000e+05</td>\n",
       "      <td>1.287000e+05</td>\n",
       "      <td>1.292500e+05</td>\n",
       "      <td>1.299000e+05</td>\n",
       "      <td>1.306000e+05</td>\n",
       "      <td>1.310500e+05</td>\n",
       "      <td>1.319500e+05</td>\n",
       "      <td>1.324000e+05</td>\n",
       "    </tr>\n",
       "    <tr>\n",
       "      <th>50%</th>\n",
       "      <td>78007.000000</td>\n",
       "      <td>46106.000000</td>\n",
       "      <td>7362.000000</td>\n",
       "      <td>9.950000e+04</td>\n",
       "      <td>9.950000e+04</td>\n",
       "      <td>9.970000e+04</td>\n",
       "      <td>9.970000e+04</td>\n",
       "      <td>9.980000e+04</td>\n",
       "      <td>9.990000e+04</td>\n",
       "      <td>9.995000e+04</td>\n",
       "      <td>...</td>\n",
       "      <td>1.884000e+05</td>\n",
       "      <td>1.896000e+05</td>\n",
       "      <td>1.905000e+05</td>\n",
       "      <td>1.914000e+05</td>\n",
       "      <td>1.925000e+05</td>\n",
       "      <td>1.934000e+05</td>\n",
       "      <td>1.941000e+05</td>\n",
       "      <td>1.950000e+05</td>\n",
       "      <td>1.967000e+05</td>\n",
       "      <td>1.981000e+05</td>\n",
       "    </tr>\n",
       "    <tr>\n",
       "      <th>75%</th>\n",
       "      <td>90920.500000</td>\n",
       "      <td>75205.500000</td>\n",
       "      <td>11042.500000</td>\n",
       "      <td>1.432000e+05</td>\n",
       "      <td>1.433000e+05</td>\n",
       "      <td>1.432250e+05</td>\n",
       "      <td>1.432250e+05</td>\n",
       "      <td>1.435000e+05</td>\n",
       "      <td>1.437000e+05</td>\n",
       "      <td>1.439000e+05</td>\n",
       "      <td>...</td>\n",
       "      <td>3.050000e+05</td>\n",
       "      <td>3.066500e+05</td>\n",
       "      <td>3.085000e+05</td>\n",
       "      <td>3.098000e+05</td>\n",
       "      <td>3.117000e+05</td>\n",
       "      <td>3.134000e+05</td>\n",
       "      <td>3.151000e+05</td>\n",
       "      <td>3.168500e+05</td>\n",
       "      <td>3.188500e+05</td>\n",
       "      <td>3.211000e+05</td>\n",
       "    </tr>\n",
       "    <tr>\n",
       "      <th>max</th>\n",
       "      <td>753844.000000</td>\n",
       "      <td>99901.000000</td>\n",
       "      <td>14723.000000</td>\n",
       "      <td>3.676700e+06</td>\n",
       "      <td>3.704200e+06</td>\n",
       "      <td>3.729600e+06</td>\n",
       "      <td>3.754600e+06</td>\n",
       "      <td>3.781800e+06</td>\n",
       "      <td>3.813500e+06</td>\n",
       "      <td>3.849600e+06</td>\n",
       "      <td>...</td>\n",
       "      <td>1.888990e+07</td>\n",
       "      <td>1.870350e+07</td>\n",
       "      <td>1.860530e+07</td>\n",
       "      <td>1.856940e+07</td>\n",
       "      <td>1.842880e+07</td>\n",
       "      <td>1.830710e+07</td>\n",
       "      <td>1.836590e+07</td>\n",
       "      <td>1.853040e+07</td>\n",
       "      <td>1.833770e+07</td>\n",
       "      <td>1.789490e+07</td>\n",
       "    </tr>\n",
       "  </tbody>\n",
       "</table>\n",
       "<p>8 rows × 268 columns</p>\n",
       "</div>"
      ],
      "text/plain": [
       "            RegionID    RegionName      SizeRank       1996-04       1996-05  \\\n",
       "count   14723.000000  14723.000000  14723.000000  1.368400e+04  1.368400e+04   \n",
       "mean    81075.010052  48222.348706   7362.000000  1.182991e+05  1.184190e+05   \n",
       "std     31934.118525  29359.325439   4250.308342  8.600251e+04  8.615567e+04   \n",
       "min     58196.000000   1001.000000      1.000000  1.130000e+04  1.150000e+04   \n",
       "25%     67174.500000  22101.500000   3681.500000  6.880000e+04  6.890000e+04   \n",
       "50%     78007.000000  46106.000000   7362.000000  9.950000e+04  9.950000e+04   \n",
       "75%     90920.500000  75205.500000  11042.500000  1.432000e+05  1.433000e+05   \n",
       "max    753844.000000  99901.000000  14723.000000  3.676700e+06  3.704200e+06   \n",
       "\n",
       "            1996-06       1996-07       1996-08       1996-09       1996-10  \\\n",
       "count  1.368400e+04  1.368400e+04  1.368400e+04  1.368400e+04  1.368400e+04   \n",
       "mean   1.185374e+05  1.186531e+05  1.187803e+05  1.189275e+05  1.191205e+05   \n",
       "std    8.630923e+04  8.646795e+04  8.665094e+04  8.687208e+04  8.715185e+04   \n",
       "min    1.160000e+04  1.180000e+04  1.180000e+04  1.200000e+04  1.210000e+04   \n",
       "25%    6.910000e+04  6.920000e+04  6.937500e+04  6.950000e+04  6.960000e+04   \n",
       "50%    9.970000e+04  9.970000e+04  9.980000e+04  9.990000e+04  9.995000e+04   \n",
       "75%    1.432250e+05  1.432250e+05  1.435000e+05  1.437000e+05  1.439000e+05   \n",
       "max    3.729600e+06  3.754600e+06  3.781800e+06  3.813500e+06  3.849600e+06   \n",
       "\n",
       "       ...       2017-07       2017-08       2017-09       2017-10  \\\n",
       "count  ...  1.472300e+04  1.472300e+04  1.472300e+04  1.472300e+04   \n",
       "mean   ...  2.733354e+05  2.748658e+05  2.764646e+05  2.780332e+05   \n",
       "std    ...  3.603984e+05  3.614678e+05  3.627563e+05  3.644610e+05   \n",
       "min    ...  1.440000e+04  1.450000e+04  1.470000e+04  1.480000e+04   \n",
       "25%    ...  1.269000e+05  1.275000e+05  1.282000e+05  1.287000e+05   \n",
       "50%    ...  1.884000e+05  1.896000e+05  1.905000e+05  1.914000e+05   \n",
       "75%    ...  3.050000e+05  3.066500e+05  3.085000e+05  3.098000e+05   \n",
       "max    ...  1.888990e+07  1.870350e+07  1.860530e+07  1.856940e+07   \n",
       "\n",
       "            2017-11       2017-12       2018-01       2018-02       2018-03  \\\n",
       "count  1.472300e+04  1.472300e+04  1.472300e+04  1.472300e+04  1.472300e+04   \n",
       "mean   2.795209e+05  2.810953e+05  2.826571e+05  2.843687e+05  2.865114e+05   \n",
       "std    3.656003e+05  3.670454e+05  3.695727e+05  3.717739e+05  3.724612e+05   \n",
       "min    1.450000e+04  1.430000e+04  1.410000e+04  1.390000e+04  1.380000e+04   \n",
       "25%    1.292500e+05  1.299000e+05  1.306000e+05  1.310500e+05  1.319500e+05   \n",
       "50%    1.925000e+05  1.934000e+05  1.941000e+05  1.950000e+05  1.967000e+05   \n",
       "75%    3.117000e+05  3.134000e+05  3.151000e+05  3.168500e+05  3.188500e+05   \n",
       "max    1.842880e+07  1.830710e+07  1.836590e+07  1.853040e+07  1.833770e+07   \n",
       "\n",
       "            2018-04  \n",
       "count  1.472300e+04  \n",
       "mean   2.880399e+05  \n",
       "std    3.720544e+05  \n",
       "min    1.380000e+04  \n",
       "25%    1.324000e+05  \n",
       "50%    1.981000e+05  \n",
       "75%    3.211000e+05  \n",
       "max    1.789490e+07  \n",
       "\n",
       "[8 rows x 268 columns]"
      ]
     },
     "execution_count": 6,
     "metadata": {},
     "output_type": "execute_result"
    }
   ],
   "source": [
    "df.describe()"
   ]
  },
  {
   "cell_type": "code",
   "execution_count": null,
   "metadata": {},
   "outputs": [],
   "source": []
  },
  {
   "cell_type": "code",
   "execution_count": null,
   "metadata": {},
   "outputs": [],
   "source": []
  },
  {
   "cell_type": "code",
   "execution_count": null,
   "metadata": {},
   "outputs": [],
   "source": []
  },
  {
   "cell_type": "code",
   "execution_count": null,
   "metadata": {},
   "outputs": [],
   "source": []
  },
  {
   "cell_type": "markdown",
   "metadata": {
    "ExecuteTime": {
     "end_time": "2022-04-29T16:36:55.918102Z",
     "start_time": "2022-04-29T16:36:55.915528Z"
    }
   },
   "source": [
    "## Checking for Null Values"
   ]
  },
  {
   "cell_type": "code",
   "execution_count": 8,
   "metadata": {
    "ExecuteTime": {
     "end_time": "2022-05-02T17:31:08.959277Z",
     "start_time": "2022-05-02T17:31:08.947891Z"
    }
   },
   "outputs": [
    {
     "data": {
      "text/plain": [
       "RegionID         0\n",
       "RegionName       0\n",
       "City             0\n",
       "State            0\n",
       "Metro         1043\n",
       "CountyName       0\n",
       "SizeRank         0\n",
       "1996-04       1039\n",
       "1996-05       1039\n",
       "1996-06       1039\n",
       "dtype: int64"
      ]
     },
     "execution_count": 8,
     "metadata": {},
     "output_type": "execute_result"
    }
   ],
   "source": [
    "df.isnull().sum().head(10)"
   ]
  },
  {
   "cell_type": "markdown",
   "metadata": {},
   "source": [
    "### Analysis"
   ]
  },
  {
   "cell_type": "markdown",
   "metadata": {},
   "source": [
    "There are many Null Values. \n",
    "- For categorical data, 7% of Metro are null (1043 of 14,723).\n",
    "- Dates from 1996 - mid 2003, also have 7% null values.\n",
    "- Then it starts to get better. 6% null and decreasing."
   ]
  },
  {
   "cell_type": "markdown",
   "metadata": {},
   "source": [
    "What is my decision on null values?\n",
    "- keep?\n",
    "- delete?\n",
    "- change (mean)?"
   ]
  },
  {
   "cell_type": "markdown",
   "metadata": {},
   "source": [
    "# Finding Average Values"
   ]
  },
  {
   "cell_type": "code",
   "execution_count": null,
   "metadata": {},
   "outputs": [],
   "source": []
  },
  {
   "cell_type": "code",
   "execution_count": null,
   "metadata": {},
   "outputs": [],
   "source": []
  },
  {
   "cell_type": "code",
   "execution_count": null,
   "metadata": {},
   "outputs": [],
   "source": []
  },
  {
   "cell_type": "code",
   "execution_count": null,
   "metadata": {},
   "outputs": [],
   "source": []
  },
  {
   "cell_type": "code",
   "execution_count": null,
   "metadata": {},
   "outputs": [],
   "source": []
  },
  {
   "cell_type": "code",
   "execution_count": null,
   "metadata": {},
   "outputs": [],
   "source": []
  },
  {
   "cell_type": "markdown",
   "metadata": {},
   "source": [
    "## Dealing with Nulls"
   ]
  },
  {
   "cell_type": "code",
   "execution_count": 9,
   "metadata": {
    "ExecuteTime": {
     "end_time": "2022-05-02T17:31:08.969311Z",
     "start_time": "2022-05-02T17:31:08.960198Z"
    }
   },
   "outputs": [
    {
     "data": {
      "text/html": [
       "<div>\n",
       "<style scoped>\n",
       "    .dataframe tbody tr th:only-of-type {\n",
       "        vertical-align: middle;\n",
       "    }\n",
       "\n",
       "    .dataframe tbody tr th {\n",
       "        vertical-align: top;\n",
       "    }\n",
       "\n",
       "    .dataframe thead th {\n",
       "        text-align: right;\n",
       "    }\n",
       "</style>\n",
       "<table border=\"1\" class=\"dataframe\">\n",
       "  <thead>\n",
       "    <tr style=\"text-align: right;\">\n",
       "      <th></th>\n",
       "      <th>RegionID</th>\n",
       "      <th>RegionName</th>\n",
       "      <th>City</th>\n",
       "      <th>State</th>\n",
       "      <th>Metro</th>\n",
       "      <th>CountyName</th>\n",
       "      <th>SizeRank</th>\n",
       "      <th>1996-04</th>\n",
       "      <th>1996-05</th>\n",
       "      <th>1996-06</th>\n",
       "      <th>...</th>\n",
       "      <th>2017-07</th>\n",
       "      <th>2017-08</th>\n",
       "      <th>2017-09</th>\n",
       "      <th>2017-10</th>\n",
       "      <th>2017-11</th>\n",
       "      <th>2017-12</th>\n",
       "      <th>2018-01</th>\n",
       "      <th>2018-02</th>\n",
       "      <th>2018-03</th>\n",
       "      <th>2018-04</th>\n",
       "    </tr>\n",
       "  </thead>\n",
       "  <tbody>\n",
       "    <tr>\n",
       "      <th>0</th>\n",
       "      <td>84654</td>\n",
       "      <td>60657</td>\n",
       "      <td>Chicago</td>\n",
       "      <td>IL</td>\n",
       "      <td>Chicago</td>\n",
       "      <td>Cook</td>\n",
       "      <td>1</td>\n",
       "      <td>334200.0</td>\n",
       "      <td>335400.0</td>\n",
       "      <td>336500.0</td>\n",
       "      <td>...</td>\n",
       "      <td>1005500</td>\n",
       "      <td>1007500</td>\n",
       "      <td>1007800</td>\n",
       "      <td>1009600</td>\n",
       "      <td>1013300</td>\n",
       "      <td>1018700</td>\n",
       "      <td>1024400</td>\n",
       "      <td>1030700</td>\n",
       "      <td>1033800</td>\n",
       "      <td>1030600</td>\n",
       "    </tr>\n",
       "    <tr>\n",
       "      <th>1</th>\n",
       "      <td>90668</td>\n",
       "      <td>75070</td>\n",
       "      <td>McKinney</td>\n",
       "      <td>TX</td>\n",
       "      <td>Dallas-Fort Worth</td>\n",
       "      <td>Collin</td>\n",
       "      <td>2</td>\n",
       "      <td>235700.0</td>\n",
       "      <td>236900.0</td>\n",
       "      <td>236700.0</td>\n",
       "      <td>...</td>\n",
       "      <td>308000</td>\n",
       "      <td>310000</td>\n",
       "      <td>312500</td>\n",
       "      <td>314100</td>\n",
       "      <td>315000</td>\n",
       "      <td>316600</td>\n",
       "      <td>318100</td>\n",
       "      <td>319600</td>\n",
       "      <td>321100</td>\n",
       "      <td>321800</td>\n",
       "    </tr>\n",
       "  </tbody>\n",
       "</table>\n",
       "<p>2 rows × 272 columns</p>\n",
       "</div>"
      ],
      "text/plain": [
       "   RegionID  RegionName      City State              Metro CountyName  \\\n",
       "0     84654       60657   Chicago    IL            Chicago       Cook   \n",
       "1     90668       75070  McKinney    TX  Dallas-Fort Worth     Collin   \n",
       "\n",
       "   SizeRank   1996-04   1996-05   1996-06  ...  2017-07  2017-08  2017-09  \\\n",
       "0         1  334200.0  335400.0  336500.0  ...  1005500  1007500  1007800   \n",
       "1         2  235700.0  236900.0  236700.0  ...   308000   310000   312500   \n",
       "\n",
       "   2017-10  2017-11  2017-12  2018-01  2018-02  2018-03  2018-04  \n",
       "0  1009600  1013300  1018700  1024400  1030700  1033800  1030600  \n",
       "1   314100   315000   316600   318100   319600   321100   321800  \n",
       "\n",
       "[2 rows x 272 columns]"
      ]
     },
     "execution_count": 9,
     "metadata": {},
     "output_type": "execute_result"
    }
   ],
   "source": [
    "df.head(2)"
   ]
  },
  {
   "cell_type": "markdown",
   "metadata": {},
   "source": [
    "## Grouping by State"
   ]
  },
  {
   "cell_type": "code",
   "execution_count": 10,
   "metadata": {
    "ExecuteTime": {
     "end_time": "2022-05-02T17:31:08.971897Z",
     "start_time": "2022-05-02T17:31:08.970208Z"
    }
   },
   "outputs": [],
   "source": [
    "#recent_data.groupby('genres_list')['production_budget'].describe().sort_values('mean', ascending=False)\n",
    "state_df = df.groupby('State')"
   ]
  },
  {
   "cell_type": "code",
   "execution_count": 11,
   "metadata": {
    "ExecuteTime": {
     "end_time": "2022-05-02T17:31:08.996370Z",
     "start_time": "2022-05-02T17:31:08.972830Z"
    }
   },
   "outputs": [
    {
     "data": {
      "text/html": [
       "<div>\n",
       "<style scoped>\n",
       "    .dataframe tbody tr th:only-of-type {\n",
       "        vertical-align: middle;\n",
       "    }\n",
       "\n",
       "    .dataframe tbody tr th {\n",
       "        vertical-align: top;\n",
       "    }\n",
       "\n",
       "    .dataframe thead th {\n",
       "        text-align: right;\n",
       "    }\n",
       "</style>\n",
       "<table border=\"1\" class=\"dataframe\">\n",
       "  <thead>\n",
       "    <tr style=\"text-align: right;\">\n",
       "      <th></th>\n",
       "      <th>RegionID</th>\n",
       "      <th>RegionName</th>\n",
       "      <th>SizeRank</th>\n",
       "      <th>1996-04</th>\n",
       "      <th>1996-05</th>\n",
       "      <th>1996-06</th>\n",
       "      <th>1996-07</th>\n",
       "      <th>1996-08</th>\n",
       "      <th>1996-09</th>\n",
       "      <th>1996-10</th>\n",
       "      <th>...</th>\n",
       "      <th>2017-07</th>\n",
       "      <th>2017-08</th>\n",
       "      <th>2017-09</th>\n",
       "      <th>2017-10</th>\n",
       "      <th>2017-11</th>\n",
       "      <th>2017-12</th>\n",
       "      <th>2018-01</th>\n",
       "      <th>2018-02</th>\n",
       "      <th>2018-03</th>\n",
       "      <th>2018-04</th>\n",
       "    </tr>\n",
       "    <tr>\n",
       "      <th>State</th>\n",
       "      <th></th>\n",
       "      <th></th>\n",
       "      <th></th>\n",
       "      <th></th>\n",
       "      <th></th>\n",
       "      <th></th>\n",
       "      <th></th>\n",
       "      <th></th>\n",
       "      <th></th>\n",
       "      <th></th>\n",
       "      <th></th>\n",
       "      <th></th>\n",
       "      <th></th>\n",
       "      <th></th>\n",
       "      <th></th>\n",
       "      <th></th>\n",
       "      <th></th>\n",
       "      <th></th>\n",
       "      <th></th>\n",
       "      <th></th>\n",
       "      <th></th>\n",
       "    </tr>\n",
       "  </thead>\n",
       "  <tbody>\n",
       "    <tr>\n",
       "      <th>AK</th>\n",
       "      <td>111822.214286</td>\n",
       "      <td>99616.785714</td>\n",
       "      <td>6321.035714</td>\n",
       "      <td>128382.142857</td>\n",
       "      <td>128832.142857</td>\n",
       "      <td>129253.571429</td>\n",
       "      <td>129639.285714</td>\n",
       "      <td>130028.571429</td>\n",
       "      <td>130367.857143</td>\n",
       "      <td>130710.714286</td>\n",
       "      <td>...</td>\n",
       "      <td>317921.428571</td>\n",
       "      <td>318610.714286</td>\n",
       "      <td>319382.142857</td>\n",
       "      <td>320185.714286</td>\n",
       "      <td>321378.571429</td>\n",
       "      <td>322657.142857</td>\n",
       "      <td>323775.000000</td>\n",
       "      <td>324167.857143</td>\n",
       "      <td>323692.857143</td>\n",
       "      <td>323046.428571</td>\n",
       "    </tr>\n",
       "    <tr>\n",
       "      <th>AL</th>\n",
       "      <td>73606.803279</td>\n",
       "      <td>35779.169399</td>\n",
       "      <td>7580.245902</td>\n",
       "      <td>86795.569620</td>\n",
       "      <td>87122.151899</td>\n",
       "      <td>87460.759494</td>\n",
       "      <td>87798.734177</td>\n",
       "      <td>88156.962025</td>\n",
       "      <td>88531.012658</td>\n",
       "      <td>88918.987342</td>\n",
       "      <td>...</td>\n",
       "      <td>149255.191257</td>\n",
       "      <td>149675.956284</td>\n",
       "      <td>150125.136612</td>\n",
       "      <td>150537.704918</td>\n",
       "      <td>150969.945355</td>\n",
       "      <td>151629.508197</td>\n",
       "      <td>152402.732240</td>\n",
       "      <td>153625.683060</td>\n",
       "      <td>155504.371585</td>\n",
       "      <td>157033.879781</td>\n",
       "    </tr>\n",
       "    <tr>\n",
       "      <th>AR</th>\n",
       "      <td>92528.914286</td>\n",
       "      <td>72470.733333</td>\n",
       "      <td>7381.476190</td>\n",
       "      <td>68868.041237</td>\n",
       "      <td>69015.463918</td>\n",
       "      <td>69140.206186</td>\n",
       "      <td>69262.886598</td>\n",
       "      <td>69378.350515</td>\n",
       "      <td>69507.216495</td>\n",
       "      <td>69674.226804</td>\n",
       "      <td>...</td>\n",
       "      <td>131952.380952</td>\n",
       "      <td>132379.047619</td>\n",
       "      <td>132778.095238</td>\n",
       "      <td>132973.333333</td>\n",
       "      <td>133020.000000</td>\n",
       "      <td>133188.571429</td>\n",
       "      <td>133522.857143</td>\n",
       "      <td>134456.190476</td>\n",
       "      <td>136192.380952</td>\n",
       "      <td>137620.000000</td>\n",
       "    </tr>\n",
       "    <tr>\n",
       "      <th>AZ</th>\n",
       "      <td>127652.643478</td>\n",
       "      <td>85506.465217</td>\n",
       "      <td>5017.873913</td>\n",
       "      <td>116202.790698</td>\n",
       "      <td>116562.790698</td>\n",
       "      <td>116934.883721</td>\n",
       "      <td>117315.348837</td>\n",
       "      <td>117719.534884</td>\n",
       "      <td>118150.232558</td>\n",
       "      <td>118626.511628</td>\n",
       "      <td>...</td>\n",
       "      <td>257896.086957</td>\n",
       "      <td>259598.260870</td>\n",
       "      <td>261243.043478</td>\n",
       "      <td>262884.347826</td>\n",
       "      <td>264369.130435</td>\n",
       "      <td>265908.260870</td>\n",
       "      <td>267327.826087</td>\n",
       "      <td>268714.782609</td>\n",
       "      <td>270488.695652</td>\n",
       "      <td>271952.173913</td>\n",
       "    </tr>\n",
       "    <tr>\n",
       "      <th>CA</th>\n",
       "      <td>99003.562092</td>\n",
       "      <td>93308.559641</td>\n",
       "      <td>5070.638889</td>\n",
       "      <td>200220.959596</td>\n",
       "      <td>200124.831650</td>\n",
       "      <td>200035.942761</td>\n",
       "      <td>199965.572391</td>\n",
       "      <td>199958.754209</td>\n",
       "      <td>200037.626263</td>\n",
       "      <td>200277.020202</td>\n",
       "      <td>...</td>\n",
       "      <td>692367.156863</td>\n",
       "      <td>697869.607843</td>\n",
       "      <td>704045.669935</td>\n",
       "      <td>710515.114379</td>\n",
       "      <td>716760.866013</td>\n",
       "      <td>723263.480392</td>\n",
       "      <td>729496.405229</td>\n",
       "      <td>735525.980392</td>\n",
       "      <td>742146.323529</td>\n",
       "      <td>746329.084967</td>\n",
       "    </tr>\n",
       "  </tbody>\n",
       "</table>\n",
       "<p>5 rows × 268 columns</p>\n",
       "</div>"
      ],
      "text/plain": [
       "            RegionID    RegionName     SizeRank        1996-04        1996-05  \\\n",
       "State                                                                           \n",
       "AK     111822.214286  99616.785714  6321.035714  128382.142857  128832.142857   \n",
       "AL      73606.803279  35779.169399  7580.245902   86795.569620   87122.151899   \n",
       "AR      92528.914286  72470.733333  7381.476190   68868.041237   69015.463918   \n",
       "AZ     127652.643478  85506.465217  5017.873913  116202.790698  116562.790698   \n",
       "CA      99003.562092  93308.559641  5070.638889  200220.959596  200124.831650   \n",
       "\n",
       "             1996-06        1996-07        1996-08        1996-09  \\\n",
       "State                                                               \n",
       "AK     129253.571429  129639.285714  130028.571429  130367.857143   \n",
       "AL      87460.759494   87798.734177   88156.962025   88531.012658   \n",
       "AR      69140.206186   69262.886598   69378.350515   69507.216495   \n",
       "AZ     116934.883721  117315.348837  117719.534884  118150.232558   \n",
       "CA     200035.942761  199965.572391  199958.754209  200037.626263   \n",
       "\n",
       "             1996-10  ...        2017-07        2017-08        2017-09  \\\n",
       "State                 ...                                                \n",
       "AK     130710.714286  ...  317921.428571  318610.714286  319382.142857   \n",
       "AL      88918.987342  ...  149255.191257  149675.956284  150125.136612   \n",
       "AR      69674.226804  ...  131952.380952  132379.047619  132778.095238   \n",
       "AZ     118626.511628  ...  257896.086957  259598.260870  261243.043478   \n",
       "CA     200277.020202  ...  692367.156863  697869.607843  704045.669935   \n",
       "\n",
       "             2017-10        2017-11        2017-12        2018-01  \\\n",
       "State                                                               \n",
       "AK     320185.714286  321378.571429  322657.142857  323775.000000   \n",
       "AL     150537.704918  150969.945355  151629.508197  152402.732240   \n",
       "AR     132973.333333  133020.000000  133188.571429  133522.857143   \n",
       "AZ     262884.347826  264369.130435  265908.260870  267327.826087   \n",
       "CA     710515.114379  716760.866013  723263.480392  729496.405229   \n",
       "\n",
       "             2018-02        2018-03        2018-04  \n",
       "State                                               \n",
       "AK     324167.857143  323692.857143  323046.428571  \n",
       "AL     153625.683060  155504.371585  157033.879781  \n",
       "AR     134456.190476  136192.380952  137620.000000  \n",
       "AZ     268714.782609  270488.695652  271952.173913  \n",
       "CA     735525.980392  742146.323529  746329.084967  \n",
       "\n",
       "[5 rows x 268 columns]"
      ]
     },
     "execution_count": 11,
     "metadata": {},
     "output_type": "execute_result"
    }
   ],
   "source": [
    "state_df = state_df.mean()\n",
    "state_df.head()"
   ]
  },
  {
   "cell_type": "code",
   "execution_count": 12,
   "metadata": {
    "ExecuteTime": {
     "end_time": "2022-05-02T17:31:09.000216Z",
     "start_time": "2022-05-02T17:31:08.997695Z"
    }
   },
   "outputs": [],
   "source": [
    "#dropping categorical columns\n",
    "state_df.drop(columns=['RegionID', 'RegionName', 'SizeRank'], axis=1, inplace=True)"
   ]
  },
  {
   "cell_type": "code",
   "execution_count": null,
   "metadata": {},
   "outputs": [],
   "source": []
  },
  {
   "cell_type": "code",
   "execution_count": 13,
   "metadata": {
    "ExecuteTime": {
     "end_time": "2022-05-02T17:31:09.003025Z",
     "start_time": "2022-05-02T17:31:09.001130Z"
    }
   },
   "outputs": [],
   "source": [
    "#new_header = df.iloc[0] #grab the first row for the header\n",
    "#df = df[1:] #take the data less the header row\n",
    "#df.columns = new_header #set the header row as the df header\n",
    "    \n",
    "#df.rename(columns=df.iloc[0])    "
   ]
  },
  {
   "cell_type": "code",
   "execution_count": 14,
   "metadata": {
    "ExecuteTime": {
     "end_time": "2022-05-02T17:31:09.008235Z",
     "start_time": "2022-05-02T17:31:09.004343Z"
    }
   },
   "outputs": [
    {
     "data": {
      "text/plain": [
       "State\n",
       "AK    128382.142857\n",
       "AL     86795.569620\n",
       "AR     68868.041237\n",
       "AZ    116202.790698\n",
       "CA    200220.959596\n",
       "CO    142561.943320\n",
       "CT    157189.516129\n",
       "DC    189216.666667\n",
       "DE    125784.615385\n",
       "FL    104529.019608\n",
       "GA     95783.161512\n",
       "HI    211811.764706\n",
       "IA     78396.621622\n",
       "ID     91951.578947\n",
       "IL    127624.665392\n",
       "IN     87843.112245\n",
       "KS     77842.261905\n",
       "KY     82155.000000\n",
       "LA     65484.827586\n",
       "MA    159684.541063\n",
       "MD    146417.891374\n",
       "ME     98218.181818\n",
       "MI     92833.995585\n",
       "MN     90961.918605\n",
       "MO     91146.468401\n",
       "MS     86397.014925\n",
       "MT    157838.461538\n",
       "NC     91146.019900\n",
       "ND              NaN\n",
       "NE     89468.571429\n",
       "NH    107132.820513\n",
       "NJ    175215.936255\n",
       "NM    137096.226415\n",
       "NV    153680.681818\n",
       "NY    129927.512690\n",
       "OH     88665.973535\n",
       "OK     53432.380952\n",
       "OR    124325.714286\n",
       "PA     89103.011292\n",
       "RI    125286.440678\n",
       "SC     82504.687500\n",
       "SD     54320.000000\n",
       "TN     66087.468672\n",
       "TX    109384.639831\n",
       "UT    159645.689655\n",
       "VA    122071.236559\n",
       "VT     82825.000000\n",
       "WA    140589.285714\n",
       "WI    115151.376147\n",
       "WV     66461.666667\n",
       "WY    138712.500000\n",
       "Name: 1996-04, dtype: float64"
      ]
     },
     "execution_count": 14,
     "metadata": {},
     "output_type": "execute_result"
    }
   ],
   "source": [
    "state_df.iloc[:, 0]"
   ]
  },
  {
   "cell_type": "code",
   "execution_count": 15,
   "metadata": {
    "ExecuteTime": {
     "end_time": "2022-05-02T17:31:09.011012Z",
     "start_time": "2022-05-02T17:31:09.009229Z"
    }
   },
   "outputs": [],
   "source": [
    "new_header = state_df.iloc[0]"
   ]
  },
  {
   "cell_type": "markdown",
   "metadata": {},
   "source": [
    "# Using Virginia as an example to figure out how to do this"
   ]
  },
  {
   "cell_type": "code",
   "execution_count": 69,
   "metadata": {
    "ExecuteTime": {
     "end_time": "2022-05-02T17:48:25.130005Z",
     "start_time": "2022-05-02T17:48:25.126308Z"
    }
   },
   "outputs": [],
   "source": [
    "new_df = va_df"
   ]
  },
  {
   "cell_type": "code",
   "execution_count": 70,
   "metadata": {
    "ExecuteTime": {
     "end_time": "2022-05-02T17:48:57.489784Z",
     "start_time": "2022-05-02T17:48:57.457884Z"
    }
   },
   "outputs": [
    {
     "data": {
      "text/html": [
       "<div>\n",
       "<style scoped>\n",
       "    .dataframe tbody tr th:only-of-type {\n",
       "        vertical-align: middle;\n",
       "    }\n",
       "\n",
       "    .dataframe tbody tr th {\n",
       "        vertical-align: top;\n",
       "    }\n",
       "\n",
       "    .dataframe thead th {\n",
       "        text-align: right;\n",
       "    }\n",
       "</style>\n",
       "<table border=\"1\" class=\"dataframe\">\n",
       "  <thead>\n",
       "    <tr style=\"text-align: right;\">\n",
       "      <th></th>\n",
       "      <th>1996-04</th>\n",
       "      <th>1996-05</th>\n",
       "      <th>1996-06</th>\n",
       "      <th>1996-07</th>\n",
       "      <th>1996-08</th>\n",
       "      <th>1996-09</th>\n",
       "      <th>1996-10</th>\n",
       "      <th>1996-11</th>\n",
       "      <th>1996-12</th>\n",
       "      <th>1997-01</th>\n",
       "      <th>...</th>\n",
       "      <th>2017-07</th>\n",
       "      <th>2017-08</th>\n",
       "      <th>2017-09</th>\n",
       "      <th>2017-10</th>\n",
       "      <th>2017-11</th>\n",
       "      <th>2017-12</th>\n",
       "      <th>2018-01</th>\n",
       "      <th>2018-02</th>\n",
       "      <th>2018-03</th>\n",
       "      <th>2018-04</th>\n",
       "    </tr>\n",
       "    <tr>\n",
       "      <th>State</th>\n",
       "      <th></th>\n",
       "      <th></th>\n",
       "      <th></th>\n",
       "      <th></th>\n",
       "      <th></th>\n",
       "      <th></th>\n",
       "      <th></th>\n",
       "      <th></th>\n",
       "      <th></th>\n",
       "      <th></th>\n",
       "      <th></th>\n",
       "      <th></th>\n",
       "      <th></th>\n",
       "      <th></th>\n",
       "      <th></th>\n",
       "      <th></th>\n",
       "      <th></th>\n",
       "      <th></th>\n",
       "      <th></th>\n",
       "      <th></th>\n",
       "      <th></th>\n",
       "    </tr>\n",
       "  </thead>\n",
       "  <tbody>\n",
       "    <tr>\n",
       "      <th>AK</th>\n",
       "      <td>128382.142857</td>\n",
       "      <td>128832.142857</td>\n",
       "      <td>129253.571429</td>\n",
       "      <td>129639.285714</td>\n",
       "      <td>130028.571429</td>\n",
       "      <td>130367.857143</td>\n",
       "      <td>130710.714286</td>\n",
       "      <td>131085.714286</td>\n",
       "      <td>131557.142857</td>\n",
       "      <td>132107.142857</td>\n",
       "      <td>...</td>\n",
       "      <td>317921.428571</td>\n",
       "      <td>318610.714286</td>\n",
       "      <td>319382.142857</td>\n",
       "      <td>320185.714286</td>\n",
       "      <td>321378.571429</td>\n",
       "      <td>322657.142857</td>\n",
       "      <td>323775.000000</td>\n",
       "      <td>324167.857143</td>\n",
       "      <td>323692.857143</td>\n",
       "      <td>323046.428571</td>\n",
       "    </tr>\n",
       "    <tr>\n",
       "      <th>AL</th>\n",
       "      <td>86795.569620</td>\n",
       "      <td>87122.151899</td>\n",
       "      <td>87460.759494</td>\n",
       "      <td>87798.734177</td>\n",
       "      <td>88156.962025</td>\n",
       "      <td>88531.012658</td>\n",
       "      <td>88918.987342</td>\n",
       "      <td>89327.848101</td>\n",
       "      <td>89800.632911</td>\n",
       "      <td>90325.949367</td>\n",
       "      <td>...</td>\n",
       "      <td>149255.191257</td>\n",
       "      <td>149675.956284</td>\n",
       "      <td>150125.136612</td>\n",
       "      <td>150537.704918</td>\n",
       "      <td>150969.945355</td>\n",
       "      <td>151629.508197</td>\n",
       "      <td>152402.732240</td>\n",
       "      <td>153625.683060</td>\n",
       "      <td>155504.371585</td>\n",
       "      <td>157033.879781</td>\n",
       "    </tr>\n",
       "    <tr>\n",
       "      <th>AR</th>\n",
       "      <td>68868.041237</td>\n",
       "      <td>69015.463918</td>\n",
       "      <td>69140.206186</td>\n",
       "      <td>69262.886598</td>\n",
       "      <td>69378.350515</td>\n",
       "      <td>69507.216495</td>\n",
       "      <td>69674.226804</td>\n",
       "      <td>69885.567010</td>\n",
       "      <td>70167.010309</td>\n",
       "      <td>70535.051546</td>\n",
       "      <td>...</td>\n",
       "      <td>131952.380952</td>\n",
       "      <td>132379.047619</td>\n",
       "      <td>132778.095238</td>\n",
       "      <td>132973.333333</td>\n",
       "      <td>133020.000000</td>\n",
       "      <td>133188.571429</td>\n",
       "      <td>133522.857143</td>\n",
       "      <td>134456.190476</td>\n",
       "      <td>136192.380952</td>\n",
       "      <td>137620.000000</td>\n",
       "    </tr>\n",
       "    <tr>\n",
       "      <th>AZ</th>\n",
       "      <td>116202.790698</td>\n",
       "      <td>116562.790698</td>\n",
       "      <td>116934.883721</td>\n",
       "      <td>117315.348837</td>\n",
       "      <td>117719.534884</td>\n",
       "      <td>118150.232558</td>\n",
       "      <td>118626.511628</td>\n",
       "      <td>119141.395349</td>\n",
       "      <td>119773.488372</td>\n",
       "      <td>120472.093023</td>\n",
       "      <td>...</td>\n",
       "      <td>257896.086957</td>\n",
       "      <td>259598.260870</td>\n",
       "      <td>261243.043478</td>\n",
       "      <td>262884.347826</td>\n",
       "      <td>264369.130435</td>\n",
       "      <td>265908.260870</td>\n",
       "      <td>267327.826087</td>\n",
       "      <td>268714.782609</td>\n",
       "      <td>270488.695652</td>\n",
       "      <td>271952.173913</td>\n",
       "    </tr>\n",
       "    <tr>\n",
       "      <th>CA</th>\n",
       "      <td>200220.959596</td>\n",
       "      <td>200124.831650</td>\n",
       "      <td>200035.942761</td>\n",
       "      <td>199965.572391</td>\n",
       "      <td>199958.754209</td>\n",
       "      <td>200037.626263</td>\n",
       "      <td>200277.020202</td>\n",
       "      <td>200643.013468</td>\n",
       "      <td>201309.680135</td>\n",
       "      <td>202229.124579</td>\n",
       "      <td>...</td>\n",
       "      <td>692367.156863</td>\n",
       "      <td>697869.607843</td>\n",
       "      <td>704045.669935</td>\n",
       "      <td>710515.114379</td>\n",
       "      <td>716760.866013</td>\n",
       "      <td>723263.480392</td>\n",
       "      <td>729496.405229</td>\n",
       "      <td>735525.980392</td>\n",
       "      <td>742146.323529</td>\n",
       "      <td>746329.084967</td>\n",
       "    </tr>\n",
       "  </tbody>\n",
       "</table>\n",
       "<p>5 rows × 265 columns</p>\n",
       "</div>"
      ],
      "text/plain": [
       "             1996-04        1996-05        1996-06        1996-07  \\\n",
       "State                                                               \n",
       "AK     128382.142857  128832.142857  129253.571429  129639.285714   \n",
       "AL      86795.569620   87122.151899   87460.759494   87798.734177   \n",
       "AR      68868.041237   69015.463918   69140.206186   69262.886598   \n",
       "AZ     116202.790698  116562.790698  116934.883721  117315.348837   \n",
       "CA     200220.959596  200124.831650  200035.942761  199965.572391   \n",
       "\n",
       "             1996-08        1996-09        1996-10        1996-11  \\\n",
       "State                                                               \n",
       "AK     130028.571429  130367.857143  130710.714286  131085.714286   \n",
       "AL      88156.962025   88531.012658   88918.987342   89327.848101   \n",
       "AR      69378.350515   69507.216495   69674.226804   69885.567010   \n",
       "AZ     117719.534884  118150.232558  118626.511628  119141.395349   \n",
       "CA     199958.754209  200037.626263  200277.020202  200643.013468   \n",
       "\n",
       "             1996-12        1997-01  ...        2017-07        2017-08  \\\n",
       "State                                ...                                 \n",
       "AK     131557.142857  132107.142857  ...  317921.428571  318610.714286   \n",
       "AL      89800.632911   90325.949367  ...  149255.191257  149675.956284   \n",
       "AR      70167.010309   70535.051546  ...  131952.380952  132379.047619   \n",
       "AZ     119773.488372  120472.093023  ...  257896.086957  259598.260870   \n",
       "CA     201309.680135  202229.124579  ...  692367.156863  697869.607843   \n",
       "\n",
       "             2017-09        2017-10        2017-11        2017-12  \\\n",
       "State                                                               \n",
       "AK     319382.142857  320185.714286  321378.571429  322657.142857   \n",
       "AL     150125.136612  150537.704918  150969.945355  151629.508197   \n",
       "AR     132778.095238  132973.333333  133020.000000  133188.571429   \n",
       "AZ     261243.043478  262884.347826  264369.130435  265908.260870   \n",
       "CA     704045.669935  710515.114379  716760.866013  723263.480392   \n",
       "\n",
       "             2018-01        2018-02        2018-03        2018-04  \n",
       "State                                                              \n",
       "AK     323775.000000  324167.857143  323692.857143  323046.428571  \n",
       "AL     152402.732240  153625.683060  155504.371585  157033.879781  \n",
       "AR     133522.857143  134456.190476  136192.380952  137620.000000  \n",
       "AZ     267327.826087  268714.782609  270488.695652  271952.173913  \n",
       "CA     729496.405229  735525.980392  742146.323529  746329.084967  \n",
       "\n",
       "[5 rows x 265 columns]"
      ]
     },
     "execution_count": 70,
     "metadata": {},
     "output_type": "execute_result"
    }
   ],
   "source": [
    "state_df.head()"
   ]
  },
  {
   "cell_type": "code",
   "execution_count": null,
   "metadata": {},
   "outputs": [],
   "source": [
    "state_df.map()\n",
    "    "
   ]
  },
  {
   "cell_type": "code",
   "execution_count": null,
   "metadata": {},
   "outputs": [],
   "source": []
  },
  {
   "cell_type": "code",
   "execution_count": null,
   "metadata": {},
   "outputs": [],
   "source": []
  },
  {
   "cell_type": "code",
   "execution_count": 16,
   "metadata": {
    "ExecuteTime": {
     "end_time": "2022-05-02T17:31:09.015190Z",
     "start_time": "2022-05-02T17:31:09.011930Z"
    }
   },
   "outputs": [
    {
     "data": {
      "text/plain": [
       "1996-04    122071.236559\n",
       "1996-05    122136.827957\n",
       "1996-06    122201.075269\n",
       "1996-07    122267.204301\n",
       "1996-08    122352.419355\n",
       "Name: VA, dtype: float64"
      ]
     },
     "execution_count": 16,
     "metadata": {},
     "output_type": "execute_result"
    }
   ],
   "source": [
    "va_df = state_df.iloc[45]\n",
    "va_df.head()"
   ]
  },
  {
   "cell_type": "code",
   "execution_count": 17,
   "metadata": {
    "ExecuteTime": {
     "end_time": "2022-05-02T17:31:09.021560Z",
     "start_time": "2022-05-02T17:31:09.016086Z"
    }
   },
   "outputs": [
    {
     "data": {
      "text/html": [
       "<div>\n",
       "<style scoped>\n",
       "    .dataframe tbody tr th:only-of-type {\n",
       "        vertical-align: middle;\n",
       "    }\n",
       "\n",
       "    .dataframe tbody tr th {\n",
       "        vertical-align: top;\n",
       "    }\n",
       "\n",
       "    .dataframe thead th {\n",
       "        text-align: right;\n",
       "    }\n",
       "</style>\n",
       "<table border=\"1\" class=\"dataframe\">\n",
       "  <thead>\n",
       "    <tr style=\"text-align: right;\">\n",
       "      <th></th>\n",
       "      <th>index</th>\n",
       "      <th>VA</th>\n",
       "    </tr>\n",
       "  </thead>\n",
       "  <tbody>\n",
       "    <tr>\n",
       "      <th>0</th>\n",
       "      <td>1996-04</td>\n",
       "      <td>122071.236559</td>\n",
       "    </tr>\n",
       "    <tr>\n",
       "      <th>1</th>\n",
       "      <td>1996-05</td>\n",
       "      <td>122136.827957</td>\n",
       "    </tr>\n",
       "    <tr>\n",
       "      <th>2</th>\n",
       "      <td>1996-06</td>\n",
       "      <td>122201.075269</td>\n",
       "    </tr>\n",
       "    <tr>\n",
       "      <th>3</th>\n",
       "      <td>1996-07</td>\n",
       "      <td>122267.204301</td>\n",
       "    </tr>\n",
       "    <tr>\n",
       "      <th>4</th>\n",
       "      <td>1996-08</td>\n",
       "      <td>122352.419355</td>\n",
       "    </tr>\n",
       "  </tbody>\n",
       "</table>\n",
       "</div>"
      ],
      "text/plain": [
       "     index             VA\n",
       "0  1996-04  122071.236559\n",
       "1  1996-05  122136.827957\n",
       "2  1996-06  122201.075269\n",
       "3  1996-07  122267.204301\n",
       "4  1996-08  122352.419355"
      ]
     },
     "execution_count": 17,
     "metadata": {},
     "output_type": "execute_result"
    }
   ],
   "source": [
    "va_df = va_df.reset_index()\n",
    "va_df.head()"
   ]
  },
  {
   "cell_type": "code",
   "execution_count": 18,
   "metadata": {
    "ExecuteTime": {
     "end_time": "2022-05-02T17:31:09.026898Z",
     "start_time": "2022-05-02T17:31:09.024923Z"
    }
   },
   "outputs": [],
   "source": [
    "va_df.rename(columns={\"index\": \"Date\", \"VA\": \"home_sales\"}, inplace=True)"
   ]
  },
  {
   "cell_type": "code",
   "execution_count": 19,
   "metadata": {
    "ExecuteTime": {
     "end_time": "2022-05-02T17:31:09.033264Z",
     "start_time": "2022-05-02T17:31:09.029242Z"
    }
   },
   "outputs": [
    {
     "data": {
      "text/html": [
       "<div>\n",
       "<style scoped>\n",
       "    .dataframe tbody tr th:only-of-type {\n",
       "        vertical-align: middle;\n",
       "    }\n",
       "\n",
       "    .dataframe tbody tr th {\n",
       "        vertical-align: top;\n",
       "    }\n",
       "\n",
       "    .dataframe thead th {\n",
       "        text-align: right;\n",
       "    }\n",
       "</style>\n",
       "<table border=\"1\" class=\"dataframe\">\n",
       "  <thead>\n",
       "    <tr style=\"text-align: right;\">\n",
       "      <th></th>\n",
       "      <th>Date</th>\n",
       "      <th>home_sales</th>\n",
       "    </tr>\n",
       "  </thead>\n",
       "  <tbody>\n",
       "    <tr>\n",
       "      <th>0</th>\n",
       "      <td>1996-04</td>\n",
       "      <td>122071.236559</td>\n",
       "    </tr>\n",
       "    <tr>\n",
       "      <th>1</th>\n",
       "      <td>1996-05</td>\n",
       "      <td>122136.827957</td>\n",
       "    </tr>\n",
       "    <tr>\n",
       "      <th>2</th>\n",
       "      <td>1996-06</td>\n",
       "      <td>122201.075269</td>\n",
       "    </tr>\n",
       "    <tr>\n",
       "      <th>3</th>\n",
       "      <td>1996-07</td>\n",
       "      <td>122267.204301</td>\n",
       "    </tr>\n",
       "    <tr>\n",
       "      <th>4</th>\n",
       "      <td>1996-08</td>\n",
       "      <td>122352.419355</td>\n",
       "    </tr>\n",
       "  </tbody>\n",
       "</table>\n",
       "</div>"
      ],
      "text/plain": [
       "      Date     home_sales\n",
       "0  1996-04  122071.236559\n",
       "1  1996-05  122136.827957\n",
       "2  1996-06  122201.075269\n",
       "3  1996-07  122267.204301\n",
       "4  1996-08  122352.419355"
      ]
     },
     "execution_count": 19,
     "metadata": {},
     "output_type": "execute_result"
    }
   ],
   "source": [
    "va_df.head()"
   ]
  },
  {
   "cell_type": "code",
   "execution_count": 20,
   "metadata": {
    "ExecuteTime": {
     "end_time": "2022-05-02T17:31:09.039089Z",
     "start_time": "2022-05-02T17:31:09.034214Z"
    }
   },
   "outputs": [
    {
     "name": "stdout",
     "output_type": "stream",
     "text": [
      "<class 'pandas.core.frame.DataFrame'>\n",
      "RangeIndex: 265 entries, 0 to 264\n",
      "Data columns (total 2 columns):\n",
      " #   Column      Non-Null Count  Dtype  \n",
      "---  ------      --------------  -----  \n",
      " 0   Date        265 non-null    object \n",
      " 1   home_sales  265 non-null    float64\n",
      "dtypes: float64(1), object(1)\n",
      "memory usage: 4.3+ KB\n"
     ]
    }
   ],
   "source": [
    "va_df.info()"
   ]
  },
  {
   "cell_type": "code",
   "execution_count": 21,
   "metadata": {
    "ExecuteTime": {
     "end_time": "2022-05-02T17:31:09.042616Z",
     "start_time": "2022-05-02T17:31:09.040014Z"
    }
   },
   "outputs": [],
   "source": [
    "va_df['Date'] = pd.to_datetime(va_df['Date'])"
   ]
  },
  {
   "cell_type": "code",
   "execution_count": 22,
   "metadata": {
    "ExecuteTime": {
     "end_time": "2022-05-02T17:31:09.047730Z",
     "start_time": "2022-05-02T17:31:09.044257Z"
    }
   },
   "outputs": [],
   "source": [
    "va_df['home_sales'] = va_df['home_sales'].apply(lambda x: float(\"{:.2f}\".format(x)))"
   ]
  },
  {
   "cell_type": "code",
   "execution_count": 23,
   "metadata": {
    "ExecuteTime": {
     "end_time": "2022-05-02T17:31:09.053984Z",
     "start_time": "2022-05-02T17:31:09.049077Z"
    }
   },
   "outputs": [
    {
     "data": {
      "text/html": [
       "<div>\n",
       "<style scoped>\n",
       "    .dataframe tbody tr th:only-of-type {\n",
       "        vertical-align: middle;\n",
       "    }\n",
       "\n",
       "    .dataframe tbody tr th {\n",
       "        vertical-align: top;\n",
       "    }\n",
       "\n",
       "    .dataframe thead th {\n",
       "        text-align: right;\n",
       "    }\n",
       "</style>\n",
       "<table border=\"1\" class=\"dataframe\">\n",
       "  <thead>\n",
       "    <tr style=\"text-align: right;\">\n",
       "      <th></th>\n",
       "      <th>Date</th>\n",
       "      <th>home_sales</th>\n",
       "    </tr>\n",
       "  </thead>\n",
       "  <tbody>\n",
       "    <tr>\n",
       "      <th>0</th>\n",
       "      <td>1996-04-01</td>\n",
       "      <td>122071.24</td>\n",
       "    </tr>\n",
       "    <tr>\n",
       "      <th>1</th>\n",
       "      <td>1996-05-01</td>\n",
       "      <td>122136.83</td>\n",
       "    </tr>\n",
       "    <tr>\n",
       "      <th>2</th>\n",
       "      <td>1996-06-01</td>\n",
       "      <td>122201.08</td>\n",
       "    </tr>\n",
       "    <tr>\n",
       "      <th>3</th>\n",
       "      <td>1996-07-01</td>\n",
       "      <td>122267.20</td>\n",
       "    </tr>\n",
       "    <tr>\n",
       "      <th>4</th>\n",
       "      <td>1996-08-01</td>\n",
       "      <td>122352.42</td>\n",
       "    </tr>\n",
       "  </tbody>\n",
       "</table>\n",
       "</div>"
      ],
      "text/plain": [
       "        Date  home_sales\n",
       "0 1996-04-01   122071.24\n",
       "1 1996-05-01   122136.83\n",
       "2 1996-06-01   122201.08\n",
       "3 1996-07-01   122267.20\n",
       "4 1996-08-01   122352.42"
      ]
     },
     "execution_count": 23,
     "metadata": {},
     "output_type": "execute_result"
    }
   ],
   "source": [
    "va_df.head()"
   ]
  },
  {
   "cell_type": "code",
   "execution_count": 24,
   "metadata": {
    "ExecuteTime": {
     "end_time": "2022-05-02T17:31:09.057180Z",
     "start_time": "2022-05-02T17:31:09.054869Z"
    }
   },
   "outputs": [],
   "source": [
    "va_df = va_df.set_index('Date')"
   ]
  },
  {
   "cell_type": "code",
   "execution_count": 25,
   "metadata": {
    "ExecuteTime": {
     "end_time": "2022-05-02T17:31:09.062789Z",
     "start_time": "2022-05-02T17:31:09.058132Z"
    }
   },
   "outputs": [
    {
     "data": {
      "text/html": [
       "<div>\n",
       "<style scoped>\n",
       "    .dataframe tbody tr th:only-of-type {\n",
       "        vertical-align: middle;\n",
       "    }\n",
       "\n",
       "    .dataframe tbody tr th {\n",
       "        vertical-align: top;\n",
       "    }\n",
       "\n",
       "    .dataframe thead th {\n",
       "        text-align: right;\n",
       "    }\n",
       "</style>\n",
       "<table border=\"1\" class=\"dataframe\">\n",
       "  <thead>\n",
       "    <tr style=\"text-align: right;\">\n",
       "      <th></th>\n",
       "      <th>home_sales</th>\n",
       "    </tr>\n",
       "    <tr>\n",
       "      <th>Date</th>\n",
       "      <th></th>\n",
       "    </tr>\n",
       "  </thead>\n",
       "  <tbody>\n",
       "    <tr>\n",
       "      <th>1996-04-01</th>\n",
       "      <td>122071.24</td>\n",
       "    </tr>\n",
       "    <tr>\n",
       "      <th>1996-05-01</th>\n",
       "      <td>122136.83</td>\n",
       "    </tr>\n",
       "    <tr>\n",
       "      <th>1996-06-01</th>\n",
       "      <td>122201.08</td>\n",
       "    </tr>\n",
       "    <tr>\n",
       "      <th>1996-07-01</th>\n",
       "      <td>122267.20</td>\n",
       "    </tr>\n",
       "    <tr>\n",
       "      <th>1996-08-01</th>\n",
       "      <td>122352.42</td>\n",
       "    </tr>\n",
       "    <tr>\n",
       "      <th>1996-09-01</th>\n",
       "      <td>122473.92</td>\n",
       "    </tr>\n",
       "    <tr>\n",
       "      <th>1996-10-01</th>\n",
       "      <td>122653.49</td>\n",
       "    </tr>\n",
       "    <tr>\n",
       "      <th>1996-11-01</th>\n",
       "      <td>122871.51</td>\n",
       "    </tr>\n",
       "    <tr>\n",
       "      <th>1996-12-01</th>\n",
       "      <td>123210.48</td>\n",
       "    </tr>\n",
       "    <tr>\n",
       "      <th>1997-01-01</th>\n",
       "      <td>123636.29</td>\n",
       "    </tr>\n",
       "  </tbody>\n",
       "</table>\n",
       "</div>"
      ],
      "text/plain": [
       "            home_sales\n",
       "Date                  \n",
       "1996-04-01   122071.24\n",
       "1996-05-01   122136.83\n",
       "1996-06-01   122201.08\n",
       "1996-07-01   122267.20\n",
       "1996-08-01   122352.42\n",
       "1996-09-01   122473.92\n",
       "1996-10-01   122653.49\n",
       "1996-11-01   122871.51\n",
       "1996-12-01   123210.48\n",
       "1997-01-01   123636.29"
      ]
     },
     "execution_count": 25,
     "metadata": {},
     "output_type": "execute_result"
    }
   ],
   "source": [
    "va_df.head(10)"
   ]
  },
  {
   "cell_type": "code",
   "execution_count": 26,
   "metadata": {
    "ExecuteTime": {
     "end_time": "2022-05-02T17:31:09.068566Z",
     "start_time": "2022-05-02T17:31:09.063854Z"
    }
   },
   "outputs": [
    {
     "name": "stdout",
     "output_type": "stream",
     "text": [
      "<class 'pandas.core.frame.DataFrame'>\n",
      "DatetimeIndex: 265 entries, 1996-04-01 to 2018-04-01\n",
      "Data columns (total 1 columns):\n",
      " #   Column      Non-Null Count  Dtype  \n",
      "---  ------      --------------  -----  \n",
      " 0   home_sales  265 non-null    float64\n",
      "dtypes: float64(1)\n",
      "memory usage: 4.1 KB\n"
     ]
    }
   ],
   "source": [
    "va_df.info()"
   ]
  },
  {
   "cell_type": "code",
   "execution_count": 27,
   "metadata": {
    "ExecuteTime": {
     "end_time": "2022-05-02T17:31:09.071193Z",
     "start_time": "2022-05-02T17:31:09.069562Z"
    }
   },
   "outputs": [],
   "source": [
    "import matplotlib.ticker as mtick"
   ]
  },
  {
   "cell_type": "code",
   "execution_count": 28,
   "metadata": {
    "ExecuteTime": {
     "end_time": "2022-05-02T17:31:09.391574Z",
     "start_time": "2022-05-02T17:31:09.072168Z"
    }
   },
   "outputs": [
    {
     "data": {
      "image/png": "[encoded data removed]",
      "text/plain": [
       "<Figure size 3600x1440 with 1 Axes>"
      ]
     },
     "metadata": {},
     "output_type": "display_data"
    }
   ],
   "source": [
    "fig, ax = plt.subplots(figsize=(50, 20))\n",
    "p = sns.lineplot(data=va_df, x='Date', y='home_sales');\n",
    "p.set_xlabel(\"Date\", fontsize = 50)\n",
    "p.set_ylabel(\"Median Housing\", fontsize = 50)\n",
    "\n",
    "plt.xticks(fontsize=40)\n",
    "plt.yticks(fontsize=40)\n",
    "\n",
    "fmt = '${x:,.0f}'\n",
    "tick = mtick.StrMethodFormatter(fmt)\n",
    "ax.yaxis.set_major_formatter(tick) \n",
    "\n",
    "p.set_title(\"Median Housing Sales in Virginia by Year\", fontsize = 100)\n",
    "plt.figsize=(50,25)\n",
    "\n",
    "plt.show();"
   ]
  },
  {
   "cell_type": "code",
   "execution_count": 29,
   "metadata": {
    "ExecuteTime": {
     "end_time": "2022-05-02T17:31:09.397927Z",
     "start_time": "2022-05-02T17:31:09.393054Z"
    }
   },
   "outputs": [
    {
     "data": {
      "text/html": [
       "<div>\n",
       "<style scoped>\n",
       "    .dataframe tbody tr th:only-of-type {\n",
       "        vertical-align: middle;\n",
       "    }\n",
       "\n",
       "    .dataframe tbody tr th {\n",
       "        vertical-align: top;\n",
       "    }\n",
       "\n",
       "    .dataframe thead th {\n",
       "        text-align: right;\n",
       "    }\n",
       "</style>\n",
       "<table border=\"1\" class=\"dataframe\">\n",
       "  <thead>\n",
       "    <tr style=\"text-align: right;\">\n",
       "      <th></th>\n",
       "      <th>home_sales</th>\n",
       "    </tr>\n",
       "    <tr>\n",
       "      <th>Date</th>\n",
       "      <th></th>\n",
       "    </tr>\n",
       "  </thead>\n",
       "  <tbody>\n",
       "    <tr>\n",
       "      <th>1996-04-01</th>\n",
       "      <td>122071.24</td>\n",
       "    </tr>\n",
       "    <tr>\n",
       "      <th>1996-05-01</th>\n",
       "      <td>122136.83</td>\n",
       "    </tr>\n",
       "  </tbody>\n",
       "</table>\n",
       "</div>"
      ],
      "text/plain": [
       "            home_sales\n",
       "Date                  \n",
       "1996-04-01   122071.24\n",
       "1996-05-01   122136.83"
      ]
     },
     "execution_count": 29,
     "metadata": {},
     "output_type": "execute_result"
    }
   ],
   "source": [
    "va_df.head(2)"
   ]
  },
  {
   "cell_type": "code",
   "execution_count": 30,
   "metadata": {
    "ExecuteTime": {
     "end_time": "2022-05-02T17:31:09.407330Z",
     "start_time": "2022-05-02T17:31:09.398941Z"
    }
   },
   "outputs": [
    {
     "data": {
      "text/html": [
       "<div>\n",
       "<style scoped>\n",
       "    .dataframe tbody tr th:only-of-type {\n",
       "        vertical-align: middle;\n",
       "    }\n",
       "\n",
       "    .dataframe tbody tr th {\n",
       "        vertical-align: top;\n",
       "    }\n",
       "\n",
       "    .dataframe thead th {\n",
       "        text-align: right;\n",
       "    }\n",
       "</style>\n",
       "<table border=\"1\" class=\"dataframe\">\n",
       "  <thead>\n",
       "    <tr style=\"text-align: right;\">\n",
       "      <th></th>\n",
       "      <th>home_sales</th>\n",
       "    </tr>\n",
       "    <tr>\n",
       "      <th>Date</th>\n",
       "      <th></th>\n",
       "    </tr>\n",
       "  </thead>\n",
       "  <tbody>\n",
       "    <tr>\n",
       "      <th>1996-12-31</th>\n",
       "      <td>1102238.17</td>\n",
       "    </tr>\n",
       "    <tr>\n",
       "      <th>1997-12-31</th>\n",
       "      <td>1503780.55</td>\n",
       "    </tr>\n",
       "    <tr>\n",
       "      <th>1998-12-31</th>\n",
       "      <td>1577539.50</td>\n",
       "    </tr>\n",
       "    <tr>\n",
       "      <th>1999-12-31</th>\n",
       "      <td>1682607.20</td>\n",
       "    </tr>\n",
       "    <tr>\n",
       "      <th>2000-12-31</th>\n",
       "      <td>1829035.99</td>\n",
       "    </tr>\n",
       "    <tr>\n",
       "      <th>2001-12-31</th>\n",
       "      <td>2024666.94</td>\n",
       "    </tr>\n",
       "    <tr>\n",
       "      <th>2002-12-31</th>\n",
       "      <td>2231875.20</td>\n",
       "    </tr>\n",
       "    <tr>\n",
       "      <th>2003-12-31</th>\n",
       "      <td>2470413.59</td>\n",
       "    </tr>\n",
       "    <tr>\n",
       "      <th>2004-12-31</th>\n",
       "      <td>2864042.71</td>\n",
       "    </tr>\n",
       "    <tr>\n",
       "      <th>2005-12-31</th>\n",
       "      <td>3402741.51</td>\n",
       "    </tr>\n",
       "    <tr>\n",
       "      <th>2006-12-31</th>\n",
       "      <td>3565441.72</td>\n",
       "    </tr>\n",
       "    <tr>\n",
       "      <th>2007-12-31</th>\n",
       "      <td>3471776.39</td>\n",
       "    </tr>\n",
       "    <tr>\n",
       "      <th>2008-12-31</th>\n",
       "      <td>3209524.62</td>\n",
       "    </tr>\n",
       "    <tr>\n",
       "      <th>2009-12-31</th>\n",
       "      <td>3009447.24</td>\n",
       "    </tr>\n",
       "    <tr>\n",
       "      <th>2010-12-31</th>\n",
       "      <td>2951313.06</td>\n",
       "    </tr>\n",
       "    <tr>\n",
       "      <th>2011-12-31</th>\n",
       "      <td>2850283.94</td>\n",
       "    </tr>\n",
       "    <tr>\n",
       "      <th>2012-12-31</th>\n",
       "      <td>2865744.00</td>\n",
       "    </tr>\n",
       "    <tr>\n",
       "      <th>2013-12-31</th>\n",
       "      <td>2970101.50</td>\n",
       "    </tr>\n",
       "    <tr>\n",
       "      <th>2014-12-31</th>\n",
       "      <td>3055268.74</td>\n",
       "    </tr>\n",
       "    <tr>\n",
       "      <th>2015-12-31</th>\n",
       "      <td>3100633.43</td>\n",
       "    </tr>\n",
       "    <tr>\n",
       "      <th>2016-12-31</th>\n",
       "      <td>3178734.42</td>\n",
       "    </tr>\n",
       "    <tr>\n",
       "      <th>2017-12-31</th>\n",
       "      <td>3309708.73</td>\n",
       "    </tr>\n",
       "    <tr>\n",
       "      <th>2018-12-31</th>\n",
       "      <td>1132771.82</td>\n",
       "    </tr>\n",
       "  </tbody>\n",
       "</table>\n",
       "</div>"
      ],
      "text/plain": [
       "            home_sales\n",
       "Date                  \n",
       "1996-12-31  1102238.17\n",
       "1997-12-31  1503780.55\n",
       "1998-12-31  1577539.50\n",
       "1999-12-31  1682607.20\n",
       "2000-12-31  1829035.99\n",
       "2001-12-31  2024666.94\n",
       "2002-12-31  2231875.20\n",
       "2003-12-31  2470413.59\n",
       "2004-12-31  2864042.71\n",
       "2005-12-31  3402741.51\n",
       "2006-12-31  3565441.72\n",
       "2007-12-31  3471776.39\n",
       "2008-12-31  3209524.62\n",
       "2009-12-31  3009447.24\n",
       "2010-12-31  2951313.06\n",
       "2011-12-31  2850283.94\n",
       "2012-12-31  2865744.00\n",
       "2013-12-31  2970101.50\n",
       "2014-12-31  3055268.74\n",
       "2015-12-31  3100633.43\n",
       "2016-12-31  3178734.42\n",
       "2017-12-31  3309708.73\n",
       "2018-12-31  1132771.82"
      ]
     },
     "execution_count": 30,
     "metadata": {},
     "output_type": "execute_result"
    }
   ],
   "source": [
    "va_df.resample('Y').sum()"
   ]
  },
  {
   "cell_type": "markdown",
   "metadata": {},
   "source": [
    "# Melting State_df and attempting to get all the states"
   ]
  },
  {
   "cell_type": "code",
   "execution_count": 63,
   "metadata": {
    "ExecuteTime": {
     "end_time": "2022-05-02T17:43:19.259247Z",
     "start_time": "2022-05-02T17:43:19.228188Z"
    }
   },
   "outputs": [
    {
     "data": {
      "text/html": [
       "<div>\n",
       "<style scoped>\n",
       "    .dataframe tbody tr th:only-of-type {\n",
       "        vertical-align: middle;\n",
       "    }\n",
       "\n",
       "    .dataframe tbody tr th {\n",
       "        vertical-align: top;\n",
       "    }\n",
       "\n",
       "    .dataframe thead th {\n",
       "        text-align: right;\n",
       "    }\n",
       "</style>\n",
       "<table border=\"1\" class=\"dataframe\">\n",
       "  <thead>\n",
       "    <tr style=\"text-align: right;\">\n",
       "      <th></th>\n",
       "      <th>1996-04</th>\n",
       "      <th>1996-05</th>\n",
       "      <th>1996-06</th>\n",
       "      <th>1996-07</th>\n",
       "      <th>1996-08</th>\n",
       "      <th>1996-09</th>\n",
       "      <th>1996-10</th>\n",
       "      <th>1996-11</th>\n",
       "      <th>1996-12</th>\n",
       "      <th>1997-01</th>\n",
       "      <th>...</th>\n",
       "      <th>2017-07</th>\n",
       "      <th>2017-08</th>\n",
       "      <th>2017-09</th>\n",
       "      <th>2017-10</th>\n",
       "      <th>2017-11</th>\n",
       "      <th>2017-12</th>\n",
       "      <th>2018-01</th>\n",
       "      <th>2018-02</th>\n",
       "      <th>2018-03</th>\n",
       "      <th>2018-04</th>\n",
       "    </tr>\n",
       "    <tr>\n",
       "      <th>State</th>\n",
       "      <th></th>\n",
       "      <th></th>\n",
       "      <th></th>\n",
       "      <th></th>\n",
       "      <th></th>\n",
       "      <th></th>\n",
       "      <th></th>\n",
       "      <th></th>\n",
       "      <th></th>\n",
       "      <th></th>\n",
       "      <th></th>\n",
       "      <th></th>\n",
       "      <th></th>\n",
       "      <th></th>\n",
       "      <th></th>\n",
       "      <th></th>\n",
       "      <th></th>\n",
       "      <th></th>\n",
       "      <th></th>\n",
       "      <th></th>\n",
       "      <th></th>\n",
       "    </tr>\n",
       "  </thead>\n",
       "  <tbody>\n",
       "    <tr>\n",
       "      <th>AK</th>\n",
       "      <td>128382.142857</td>\n",
       "      <td>128832.142857</td>\n",
       "      <td>129253.571429</td>\n",
       "      <td>129639.285714</td>\n",
       "      <td>130028.571429</td>\n",
       "      <td>130367.857143</td>\n",
       "      <td>130710.714286</td>\n",
       "      <td>131085.714286</td>\n",
       "      <td>131557.142857</td>\n",
       "      <td>132107.142857</td>\n",
       "      <td>...</td>\n",
       "      <td>317921.428571</td>\n",
       "      <td>318610.714286</td>\n",
       "      <td>319382.142857</td>\n",
       "      <td>320185.714286</td>\n",
       "      <td>321378.571429</td>\n",
       "      <td>322657.142857</td>\n",
       "      <td>323775.000000</td>\n",
       "      <td>324167.857143</td>\n",
       "      <td>323692.857143</td>\n",
       "      <td>323046.428571</td>\n",
       "    </tr>\n",
       "    <tr>\n",
       "      <th>AL</th>\n",
       "      <td>86795.569620</td>\n",
       "      <td>87122.151899</td>\n",
       "      <td>87460.759494</td>\n",
       "      <td>87798.734177</td>\n",
       "      <td>88156.962025</td>\n",
       "      <td>88531.012658</td>\n",
       "      <td>88918.987342</td>\n",
       "      <td>89327.848101</td>\n",
       "      <td>89800.632911</td>\n",
       "      <td>90325.949367</td>\n",
       "      <td>...</td>\n",
       "      <td>149255.191257</td>\n",
       "      <td>149675.956284</td>\n",
       "      <td>150125.136612</td>\n",
       "      <td>150537.704918</td>\n",
       "      <td>150969.945355</td>\n",
       "      <td>151629.508197</td>\n",
       "      <td>152402.732240</td>\n",
       "      <td>153625.683060</td>\n",
       "      <td>155504.371585</td>\n",
       "      <td>157033.879781</td>\n",
       "    </tr>\n",
       "    <tr>\n",
       "      <th>AR</th>\n",
       "      <td>68868.041237</td>\n",
       "      <td>69015.463918</td>\n",
       "      <td>69140.206186</td>\n",
       "      <td>69262.886598</td>\n",
       "      <td>69378.350515</td>\n",
       "      <td>69507.216495</td>\n",
       "      <td>69674.226804</td>\n",
       "      <td>69885.567010</td>\n",
       "      <td>70167.010309</td>\n",
       "      <td>70535.051546</td>\n",
       "      <td>...</td>\n",
       "      <td>131952.380952</td>\n",
       "      <td>132379.047619</td>\n",
       "      <td>132778.095238</td>\n",
       "      <td>132973.333333</td>\n",
       "      <td>133020.000000</td>\n",
       "      <td>133188.571429</td>\n",
       "      <td>133522.857143</td>\n",
       "      <td>134456.190476</td>\n",
       "      <td>136192.380952</td>\n",
       "      <td>137620.000000</td>\n",
       "    </tr>\n",
       "    <tr>\n",
       "      <th>AZ</th>\n",
       "      <td>116202.790698</td>\n",
       "      <td>116562.790698</td>\n",
       "      <td>116934.883721</td>\n",
       "      <td>117315.348837</td>\n",
       "      <td>117719.534884</td>\n",
       "      <td>118150.232558</td>\n",
       "      <td>118626.511628</td>\n",
       "      <td>119141.395349</td>\n",
       "      <td>119773.488372</td>\n",
       "      <td>120472.093023</td>\n",
       "      <td>...</td>\n",
       "      <td>257896.086957</td>\n",
       "      <td>259598.260870</td>\n",
       "      <td>261243.043478</td>\n",
       "      <td>262884.347826</td>\n",
       "      <td>264369.130435</td>\n",
       "      <td>265908.260870</td>\n",
       "      <td>267327.826087</td>\n",
       "      <td>268714.782609</td>\n",
       "      <td>270488.695652</td>\n",
       "      <td>271952.173913</td>\n",
       "    </tr>\n",
       "    <tr>\n",
       "      <th>CA</th>\n",
       "      <td>200220.959596</td>\n",
       "      <td>200124.831650</td>\n",
       "      <td>200035.942761</td>\n",
       "      <td>199965.572391</td>\n",
       "      <td>199958.754209</td>\n",
       "      <td>200037.626263</td>\n",
       "      <td>200277.020202</td>\n",
       "      <td>200643.013468</td>\n",
       "      <td>201309.680135</td>\n",
       "      <td>202229.124579</td>\n",
       "      <td>...</td>\n",
       "      <td>692367.156863</td>\n",
       "      <td>697869.607843</td>\n",
       "      <td>704045.669935</td>\n",
       "      <td>710515.114379</td>\n",
       "      <td>716760.866013</td>\n",
       "      <td>723263.480392</td>\n",
       "      <td>729496.405229</td>\n",
       "      <td>735525.980392</td>\n",
       "      <td>742146.323529</td>\n",
       "      <td>746329.084967</td>\n",
       "    </tr>\n",
       "  </tbody>\n",
       "</table>\n",
       "<p>5 rows × 265 columns</p>\n",
       "</div>"
      ],
      "text/plain": [
       "             1996-04        1996-05        1996-06        1996-07  \\\n",
       "State                                                               \n",
       "AK     128382.142857  128832.142857  129253.571429  129639.285714   \n",
       "AL      86795.569620   87122.151899   87460.759494   87798.734177   \n",
       "AR      68868.041237   69015.463918   69140.206186   69262.886598   \n",
       "AZ     116202.790698  116562.790698  116934.883721  117315.348837   \n",
       "CA     200220.959596  200124.831650  200035.942761  199965.572391   \n",
       "\n",
       "             1996-08        1996-09        1996-10        1996-11  \\\n",
       "State                                                               \n",
       "AK     130028.571429  130367.857143  130710.714286  131085.714286   \n",
       "AL      88156.962025   88531.012658   88918.987342   89327.848101   \n",
       "AR      69378.350515   69507.216495   69674.226804   69885.567010   \n",
       "AZ     117719.534884  118150.232558  118626.511628  119141.395349   \n",
       "CA     199958.754209  200037.626263  200277.020202  200643.013468   \n",
       "\n",
       "             1996-12        1997-01  ...        2017-07        2017-08  \\\n",
       "State                                ...                                 \n",
       "AK     131557.142857  132107.142857  ...  317921.428571  318610.714286   \n",
       "AL      89800.632911   90325.949367  ...  149255.191257  149675.956284   \n",
       "AR      70167.010309   70535.051546  ...  131952.380952  132379.047619   \n",
       "AZ     119773.488372  120472.093023  ...  257896.086957  259598.260870   \n",
       "CA     201309.680135  202229.124579  ...  692367.156863  697869.607843   \n",
       "\n",
       "             2017-09        2017-10        2017-11        2017-12  \\\n",
       "State                                                               \n",
       "AK     319382.142857  320185.714286  321378.571429  322657.142857   \n",
       "AL     150125.136612  150537.704918  150969.945355  151629.508197   \n",
       "AR     132778.095238  132973.333333  133020.000000  133188.571429   \n",
       "AZ     261243.043478  262884.347826  264369.130435  265908.260870   \n",
       "CA     704045.669935  710515.114379  716760.866013  723263.480392   \n",
       "\n",
       "             2018-01        2018-02        2018-03        2018-04  \n",
       "State                                                              \n",
       "AK     323775.000000  324167.857143  323692.857143  323046.428571  \n",
       "AL     152402.732240  153625.683060  155504.371585  157033.879781  \n",
       "AR     133522.857143  134456.190476  136192.380952  137620.000000  \n",
       "AZ     267327.826087  268714.782609  270488.695652  271952.173913  \n",
       "CA     729496.405229  735525.980392  742146.323529  746329.084967  \n",
       "\n",
       "[5 rows x 265 columns]"
      ]
     },
     "execution_count": 63,
     "metadata": {},
     "output_type": "execute_result"
    }
   ],
   "source": [
    "state_df.head()"
   ]
  },
  {
   "cell_type": "code",
   "execution_count": null,
   "metadata": {},
   "outputs": [],
   "source": [
    " #melted = pd.melt(df, id_vars=['RegionName', 'RegionID', 'SizeRank', 'City', 'State', 'Metro', 'CountyName'],\n",
    " #   var_name='time')"
   ]
  },
  {
   "cell_type": "code",
   "execution_count": null,
   "metadata": {},
   "outputs": [],
   "source": [
    "state_df"
   ]
  },
  {
   "cell_type": "code",
   "execution_count": 64,
   "metadata": {
    "ExecuteTime": {
     "end_time": "2022-05-02T17:44:33.867848Z",
     "start_time": "2022-05-02T17:44:33.855551Z"
    }
   },
   "outputs": [],
   "source": [
    "state_melt_df = pd.melt(state_df)"
   ]
  },
  {
   "cell_type": "code",
   "execution_count": 65,
   "metadata": {
    "ExecuteTime": {
     "end_time": "2022-05-02T17:44:41.862035Z",
     "start_time": "2022-05-02T17:44:41.843330Z"
    }
   },
   "outputs": [
    {
     "data": {
      "text/html": [
       "<div>\n",
       "<style scoped>\n",
       "    .dataframe tbody tr th:only-of-type {\n",
       "        vertical-align: middle;\n",
       "    }\n",
       "\n",
       "    .dataframe tbody tr th {\n",
       "        vertical-align: top;\n",
       "    }\n",
       "\n",
       "    .dataframe thead th {\n",
       "        text-align: right;\n",
       "    }\n",
       "</style>\n",
       "<table border=\"1\" class=\"dataframe\">\n",
       "  <thead>\n",
       "    <tr style=\"text-align: right;\">\n",
       "      <th></th>\n",
       "      <th>variable</th>\n",
       "      <th>value</th>\n",
       "    </tr>\n",
       "  </thead>\n",
       "  <tbody>\n",
       "    <tr>\n",
       "      <th>0</th>\n",
       "      <td>1996-04</td>\n",
       "      <td>128382.142857</td>\n",
       "    </tr>\n",
       "    <tr>\n",
       "      <th>1</th>\n",
       "      <td>1996-04</td>\n",
       "      <td>86795.569620</td>\n",
       "    </tr>\n",
       "    <tr>\n",
       "      <th>2</th>\n",
       "      <td>1996-04</td>\n",
       "      <td>68868.041237</td>\n",
       "    </tr>\n",
       "    <tr>\n",
       "      <th>3</th>\n",
       "      <td>1996-04</td>\n",
       "      <td>116202.790698</td>\n",
       "    </tr>\n",
       "    <tr>\n",
       "      <th>4</th>\n",
       "      <td>1996-04</td>\n",
       "      <td>200220.959596</td>\n",
       "    </tr>\n",
       "    <tr>\n",
       "      <th>...</th>\n",
       "      <td>...</td>\n",
       "      <td>...</td>\n",
       "    </tr>\n",
       "    <tr>\n",
       "      <th>13510</th>\n",
       "      <td>2018-04</td>\n",
       "      <td>213150.000000</td>\n",
       "    </tr>\n",
       "    <tr>\n",
       "      <th>13511</th>\n",
       "      <td>2018-04</td>\n",
       "      <td>408570.381232</td>\n",
       "    </tr>\n",
       "    <tr>\n",
       "      <th>13512</th>\n",
       "      <td>2018-04</td>\n",
       "      <td>199015.361446</td>\n",
       "    </tr>\n",
       "    <tr>\n",
       "      <th>13513</th>\n",
       "      <td>2018-04</td>\n",
       "      <td>125476.388889</td>\n",
       "    </tr>\n",
       "    <tr>\n",
       "      <th>13514</th>\n",
       "      <td>2018-04</td>\n",
       "      <td>231338.709677</td>\n",
       "    </tr>\n",
       "  </tbody>\n",
       "</table>\n",
       "<p>13515 rows × 2 columns</p>\n",
       "</div>"
      ],
      "text/plain": [
       "      variable          value\n",
       "0      1996-04  128382.142857\n",
       "1      1996-04   86795.569620\n",
       "2      1996-04   68868.041237\n",
       "3      1996-04  116202.790698\n",
       "4      1996-04  200220.959596\n",
       "...        ...            ...\n",
       "13510  2018-04  213150.000000\n",
       "13511  2018-04  408570.381232\n",
       "13512  2018-04  199015.361446\n",
       "13513  2018-04  125476.388889\n",
       "13514  2018-04  231338.709677\n",
       "\n",
       "[13515 rows x 2 columns]"
      ]
     },
     "execution_count": 65,
     "metadata": {},
     "output_type": "execute_result"
    }
   ],
   "source": [
    "state_melt_df"
   ]
  },
  {
   "cell_type": "code",
   "execution_count": 66,
   "metadata": {
    "ExecuteTime": {
     "end_time": "2022-05-02T17:45:17.775551Z",
     "start_time": "2022-05-02T17:45:17.738436Z"
    }
   },
   "outputs": [
    {
     "ename": "KeyError",
     "evalue": "\"The following 'id_vars' are not present in the DataFrame: ['City', 'CountyName', 'Metro', 'RegionID', 'RegionName', 'SizeRank', 'State']\"",
     "output_type": "error",
     "traceback": [
      "\u001b[0;31m---------------------------------------------------------------------------\u001b[0m",
      "\u001b[0;31mKeyError\u001b[0m                                  Traceback (most recent call last)",
      "\u001b[0;32m<ipython-input-66-ba05273a194e>\u001b[0m in \u001b[0;36m<module>\u001b[0;34m\u001b[0m\n\u001b[0;32m----> 1\u001b[0;31m \u001b[0mmelt_data\u001b[0m\u001b[0;34m(\u001b[0m\u001b[0mstate_df\u001b[0m\u001b[0;34m)\u001b[0m\u001b[0;34m\u001b[0m\u001b[0;34m\u001b[0m\u001b[0m\n\u001b[0m",
      "\u001b[0;32m<ipython-input-2-a324a2092299>\u001b[0m in \u001b[0;36mmelt_data\u001b[0;34m(df)\u001b[0m\n\u001b[1;32m      9\u001b[0m     \"\"\"\n\u001b[1;32m     10\u001b[0m \u001b[0;34m\u001b[0m\u001b[0m\n\u001b[0;32m---> 11\u001b[0;31m     \u001b[0mmelted\u001b[0m \u001b[0;34m=\u001b[0m \u001b[0mpd\u001b[0m\u001b[0;34m.\u001b[0m\u001b[0mmelt\u001b[0m\u001b[0;34m(\u001b[0m\u001b[0mdf\u001b[0m\u001b[0;34m,\u001b[0m \u001b[0mid_vars\u001b[0m\u001b[0;34m=\u001b[0m\u001b[0;34m[\u001b[0m\u001b[0;34m'RegionName'\u001b[0m\u001b[0;34m,\u001b[0m \u001b[0;34m'RegionID'\u001b[0m\u001b[0;34m,\u001b[0m \u001b[0;34m'SizeRank'\u001b[0m\u001b[0;34m,\u001b[0m \u001b[0;34m'City'\u001b[0m\u001b[0;34m,\u001b[0m \u001b[0;34m'State'\u001b[0m\u001b[0;34m,\u001b[0m \u001b[0;34m'Metro'\u001b[0m\u001b[0;34m,\u001b[0m \u001b[0;34m'CountyName'\u001b[0m\u001b[0;34m]\u001b[0m\u001b[0;34m,\u001b[0m \u001b[0mvar_name\u001b[0m\u001b[0;34m=\u001b[0m\u001b[0;34m'time'\u001b[0m\u001b[0;34m)\u001b[0m\u001b[0;34m\u001b[0m\u001b[0;34m\u001b[0m\u001b[0m\n\u001b[0m\u001b[1;32m     12\u001b[0m     \u001b[0mmelted\u001b[0m\u001b[0;34m[\u001b[0m\u001b[0;34m'time'\u001b[0m\u001b[0;34m]\u001b[0m \u001b[0;34m=\u001b[0m \u001b[0mpd\u001b[0m\u001b[0;34m.\u001b[0m\u001b[0mto_datetime\u001b[0m\u001b[0;34m(\u001b[0m\u001b[0mmelted\u001b[0m\u001b[0;34m[\u001b[0m\u001b[0;34m'time'\u001b[0m\u001b[0;34m]\u001b[0m\u001b[0;34m,\u001b[0m \u001b[0minfer_datetime_format\u001b[0m\u001b[0;34m=\u001b[0m\u001b[0;32mTrue\u001b[0m\u001b[0;34m)\u001b[0m\u001b[0;34m\u001b[0m\u001b[0;34m\u001b[0m\u001b[0m\n\u001b[1;32m     13\u001b[0m     \u001b[0mmelted\u001b[0m \u001b[0;34m=\u001b[0m \u001b[0mmelted\u001b[0m\u001b[0;34m.\u001b[0m\u001b[0mdropna\u001b[0m\u001b[0;34m(\u001b[0m\u001b[0msubset\u001b[0m\u001b[0;34m=\u001b[0m\u001b[0;34m[\u001b[0m\u001b[0;34m'value'\u001b[0m\u001b[0;34m]\u001b[0m\u001b[0;34m)\u001b[0m\u001b[0;34m\u001b[0m\u001b[0;34m\u001b[0m\u001b[0m\n",
      "\u001b[0;32m~/opt/anaconda3/envs/learn-env/lib/python3.8/site-packages/pandas/core/reshape/melt.py\u001b[0m in \u001b[0;36mmelt\u001b[0;34m(frame, id_vars, value_vars, var_name, value_name, col_level, ignore_index)\u001b[0m\n\u001b[1;32m     65\u001b[0m             \u001b[0mmissing\u001b[0m \u001b[0;34m=\u001b[0m \u001b[0mIndex\u001b[0m\u001b[0;34m(\u001b[0m\u001b[0mcom\u001b[0m\u001b[0;34m.\u001b[0m\u001b[0mflatten\u001b[0m\u001b[0;34m(\u001b[0m\u001b[0mid_vars\u001b[0m\u001b[0;34m)\u001b[0m\u001b[0;34m)\u001b[0m\u001b[0;34m.\u001b[0m\u001b[0mdifference\u001b[0m\u001b[0;34m(\u001b[0m\u001b[0mcols\u001b[0m\u001b[0;34m)\u001b[0m\u001b[0;34m\u001b[0m\u001b[0;34m\u001b[0m\u001b[0m\n\u001b[1;32m     66\u001b[0m             \u001b[0;32mif\u001b[0m \u001b[0;32mnot\u001b[0m \u001b[0mmissing\u001b[0m\u001b[0;34m.\u001b[0m\u001b[0mempty\u001b[0m\u001b[0;34m:\u001b[0m\u001b[0;34m\u001b[0m\u001b[0;34m\u001b[0m\u001b[0m\n\u001b[0;32m---> 67\u001b[0;31m                 raise KeyError(\n\u001b[0m\u001b[1;32m     68\u001b[0m                     \u001b[0;34m\"The following 'id_vars' are not present \"\u001b[0m\u001b[0;34m\u001b[0m\u001b[0;34m\u001b[0m\u001b[0m\n\u001b[1;32m     69\u001b[0m                     \u001b[0;34mf\"in the DataFrame: {list(missing)}\"\u001b[0m\u001b[0;34m\u001b[0m\u001b[0;34m\u001b[0m\u001b[0m\n",
      "\u001b[0;31mKeyError\u001b[0m: \"The following 'id_vars' are not present in the DataFrame: ['City', 'CountyName', 'Metro', 'RegionID', 'RegionName', 'SizeRank', 'State']\""
     ]
    }
   ],
   "source": []
  },
  {
   "cell_type": "code",
   "execution_count": 54,
   "metadata": {
    "ExecuteTime": {
     "end_time": "2022-05-02T17:39:21.644665Z",
     "start_time": "2022-05-02T17:39:21.613819Z"
    }
   },
   "outputs": [
    {
     "data": {
      "text/html": [
       "<div>\n",
       "<style scoped>\n",
       "    .dataframe tbody tr th:only-of-type {\n",
       "        vertical-align: middle;\n",
       "    }\n",
       "\n",
       "    .dataframe tbody tr th {\n",
       "        vertical-align: top;\n",
       "    }\n",
       "\n",
       "    .dataframe thead th {\n",
       "        text-align: right;\n",
       "    }\n",
       "</style>\n",
       "<table border=\"1\" class=\"dataframe\">\n",
       "  <thead>\n",
       "    <tr style=\"text-align: right;\">\n",
       "      <th>State</th>\n",
       "      <th>index</th>\n",
       "      <th>AK</th>\n",
       "      <th>AL</th>\n",
       "      <th>AR</th>\n",
       "      <th>AZ</th>\n",
       "      <th>CA</th>\n",
       "      <th>CO</th>\n",
       "      <th>CT</th>\n",
       "      <th>DC</th>\n",
       "      <th>DE</th>\n",
       "      <th>...</th>\n",
       "      <th>SD</th>\n",
       "      <th>TN</th>\n",
       "      <th>TX</th>\n",
       "      <th>UT</th>\n",
       "      <th>VA</th>\n",
       "      <th>VT</th>\n",
       "      <th>WA</th>\n",
       "      <th>WI</th>\n",
       "      <th>WV</th>\n",
       "      <th>WY</th>\n",
       "    </tr>\n",
       "  </thead>\n",
       "  <tbody>\n",
       "    <tr>\n",
       "      <th>0</th>\n",
       "      <td>1996-04</td>\n",
       "      <td>128382.142857</td>\n",
       "      <td>86795.569620</td>\n",
       "      <td>68868.041237</td>\n",
       "      <td>116202.790698</td>\n",
       "      <td>200220.959596</td>\n",
       "      <td>142561.943320</td>\n",
       "      <td>157189.516129</td>\n",
       "      <td>189216.666667</td>\n",
       "      <td>125784.615385</td>\n",
       "      <td>...</td>\n",
       "      <td>54320.0</td>\n",
       "      <td>66087.468672</td>\n",
       "      <td>109384.639831</td>\n",
       "      <td>159645.689655</td>\n",
       "      <td>122071.236559</td>\n",
       "      <td>82825.00</td>\n",
       "      <td>140589.285714</td>\n",
       "      <td>115151.376147</td>\n",
       "      <td>66461.666667</td>\n",
       "      <td>138712.500000</td>\n",
       "    </tr>\n",
       "    <tr>\n",
       "      <th>1</th>\n",
       "      <td>1996-05</td>\n",
       "      <td>128832.142857</td>\n",
       "      <td>87122.151899</td>\n",
       "      <td>69015.463918</td>\n",
       "      <td>116562.790698</td>\n",
       "      <td>200124.831650</td>\n",
       "      <td>142765.991903</td>\n",
       "      <td>157063.709677</td>\n",
       "      <td>188611.111111</td>\n",
       "      <td>126234.615385</td>\n",
       "      <td>...</td>\n",
       "      <td>54640.0</td>\n",
       "      <td>66340.852130</td>\n",
       "      <td>109406.885593</td>\n",
       "      <td>159523.275862</td>\n",
       "      <td>122136.827957</td>\n",
       "      <td>82556.25</td>\n",
       "      <td>140838.988095</td>\n",
       "      <td>115099.388379</td>\n",
       "      <td>66575.000000</td>\n",
       "      <td>138762.500000</td>\n",
       "    </tr>\n",
       "    <tr>\n",
       "      <th>2</th>\n",
       "      <td>1996-06</td>\n",
       "      <td>129253.571429</td>\n",
       "      <td>87460.759494</td>\n",
       "      <td>69140.206186</td>\n",
       "      <td>116934.883721</td>\n",
       "      <td>200035.942761</td>\n",
       "      <td>142985.425101</td>\n",
       "      <td>156926.612903</td>\n",
       "      <td>188011.111111</td>\n",
       "      <td>126665.384615</td>\n",
       "      <td>...</td>\n",
       "      <td>54960.0</td>\n",
       "      <td>66594.987469</td>\n",
       "      <td>109451.377119</td>\n",
       "      <td>159406.896552</td>\n",
       "      <td>122201.075269</td>\n",
       "      <td>82306.25</td>\n",
       "      <td>141101.488095</td>\n",
       "      <td>115032.110092</td>\n",
       "      <td>66708.333333</td>\n",
       "      <td>138741.666667</td>\n",
       "    </tr>\n",
       "    <tr>\n",
       "      <th>3</th>\n",
       "      <td>1996-07</td>\n",
       "      <td>129639.285714</td>\n",
       "      <td>87798.734177</td>\n",
       "      <td>69262.886598</td>\n",
       "      <td>117315.348837</td>\n",
       "      <td>199965.572391</td>\n",
       "      <td>143204.453441</td>\n",
       "      <td>156778.225806</td>\n",
       "      <td>187438.888889</td>\n",
       "      <td>127026.923077</td>\n",
       "      <td>...</td>\n",
       "      <td>55290.0</td>\n",
       "      <td>66843.107769</td>\n",
       "      <td>109521.504237</td>\n",
       "      <td>159313.793103</td>\n",
       "      <td>122267.204301</td>\n",
       "      <td>82037.50</td>\n",
       "      <td>141378.571429</td>\n",
       "      <td>114940.672783</td>\n",
       "      <td>66848.333333</td>\n",
       "      <td>138641.666667</td>\n",
       "    </tr>\n",
       "    <tr>\n",
       "      <th>4</th>\n",
       "      <td>1996-08</td>\n",
       "      <td>130028.571429</td>\n",
       "      <td>88156.962025</td>\n",
       "      <td>69378.350515</td>\n",
       "      <td>117719.534884</td>\n",
       "      <td>199958.754209</td>\n",
       "      <td>143461.943320</td>\n",
       "      <td>156640.322581</td>\n",
       "      <td>186900.000000</td>\n",
       "      <td>127346.153846</td>\n",
       "      <td>...</td>\n",
       "      <td>55660.0</td>\n",
       "      <td>67081.704261</td>\n",
       "      <td>109613.983051</td>\n",
       "      <td>159254.310345</td>\n",
       "      <td>122352.419355</td>\n",
       "      <td>81781.25</td>\n",
       "      <td>141686.011905</td>\n",
       "      <td>114840.978593</td>\n",
       "      <td>67016.666667</td>\n",
       "      <td>138533.333333</td>\n",
       "    </tr>\n",
       "  </tbody>\n",
       "</table>\n",
       "<p>5 rows × 52 columns</p>\n",
       "</div>"
      ],
      "text/plain": [
       "State    index             AK            AL            AR             AZ  \\\n",
       "0      1996-04  128382.142857  86795.569620  68868.041237  116202.790698   \n",
       "1      1996-05  128832.142857  87122.151899  69015.463918  116562.790698   \n",
       "2      1996-06  129253.571429  87460.759494  69140.206186  116934.883721   \n",
       "3      1996-07  129639.285714  87798.734177  69262.886598  117315.348837   \n",
       "4      1996-08  130028.571429  88156.962025  69378.350515  117719.534884   \n",
       "\n",
       "State             CA             CO             CT             DC  \\\n",
       "0      200220.959596  142561.943320  157189.516129  189216.666667   \n",
       "1      200124.831650  142765.991903  157063.709677  188611.111111   \n",
       "2      200035.942761  142985.425101  156926.612903  188011.111111   \n",
       "3      199965.572391  143204.453441  156778.225806  187438.888889   \n",
       "4      199958.754209  143461.943320  156640.322581  186900.000000   \n",
       "\n",
       "State             DE  ...       SD            TN             TX  \\\n",
       "0      125784.615385  ...  54320.0  66087.468672  109384.639831   \n",
       "1      126234.615385  ...  54640.0  66340.852130  109406.885593   \n",
       "2      126665.384615  ...  54960.0  66594.987469  109451.377119   \n",
       "3      127026.923077  ...  55290.0  66843.107769  109521.504237   \n",
       "4      127346.153846  ...  55660.0  67081.704261  109613.983051   \n",
       "\n",
       "State             UT             VA        VT             WA             WI  \\\n",
       "0      159645.689655  122071.236559  82825.00  140589.285714  115151.376147   \n",
       "1      159523.275862  122136.827957  82556.25  140838.988095  115099.388379   \n",
       "2      159406.896552  122201.075269  82306.25  141101.488095  115032.110092   \n",
       "3      159313.793103  122267.204301  82037.50  141378.571429  114940.672783   \n",
       "4      159254.310345  122352.419355  81781.25  141686.011905  114840.978593   \n",
       "\n",
       "State            WV             WY  \n",
       "0      66461.666667  138712.500000  \n",
       "1      66575.000000  138762.500000  \n",
       "2      66708.333333  138741.666667  \n",
       "3      66848.333333  138641.666667  \n",
       "4      67016.666667  138533.333333  \n",
       "\n",
       "[5 rows x 52 columns]"
      ]
     },
     "execution_count": 54,
     "metadata": {},
     "output_type": "execute_result"
    }
   ],
   "source": [
    "flipped_df.head()"
   ]
  },
  {
   "cell_type": "code",
   "execution_count": 55,
   "metadata": {
    "ExecuteTime": {
     "end_time": "2022-05-02T17:39:24.910799Z",
     "start_time": "2022-05-02T17:39:24.904004Z"
    }
   },
   "outputs": [],
   "source": [
    "flipped_df.rename(columns={\"index\": \"Date\"}, inplace=True)"
   ]
  },
  {
   "cell_type": "code",
   "execution_count": 56,
   "metadata": {
    "ExecuteTime": {
     "end_time": "2022-05-02T17:39:26.979201Z",
     "start_time": "2022-05-02T17:39:26.948448Z"
    }
   },
   "outputs": [
    {
     "data": {
      "text/html": [
       "<div>\n",
       "<style scoped>\n",
       "    .dataframe tbody tr th:only-of-type {\n",
       "        vertical-align: middle;\n",
       "    }\n",
       "\n",
       "    .dataframe tbody tr th {\n",
       "        vertical-align: top;\n",
       "    }\n",
       "\n",
       "    .dataframe thead th {\n",
       "        text-align: right;\n",
       "    }\n",
       "</style>\n",
       "<table border=\"1\" class=\"dataframe\">\n",
       "  <thead>\n",
       "    <tr style=\"text-align: right;\">\n",
       "      <th>State</th>\n",
       "      <th>Date</th>\n",
       "      <th>AK</th>\n",
       "      <th>AL</th>\n",
       "      <th>AR</th>\n",
       "      <th>AZ</th>\n",
       "      <th>CA</th>\n",
       "      <th>CO</th>\n",
       "      <th>CT</th>\n",
       "      <th>DC</th>\n",
       "      <th>DE</th>\n",
       "      <th>...</th>\n",
       "      <th>SD</th>\n",
       "      <th>TN</th>\n",
       "      <th>TX</th>\n",
       "      <th>UT</th>\n",
       "      <th>VA</th>\n",
       "      <th>VT</th>\n",
       "      <th>WA</th>\n",
       "      <th>WI</th>\n",
       "      <th>WV</th>\n",
       "      <th>WY</th>\n",
       "    </tr>\n",
       "  </thead>\n",
       "  <tbody>\n",
       "    <tr>\n",
       "      <th>0</th>\n",
       "      <td>1996-04</td>\n",
       "      <td>128382.142857</td>\n",
       "      <td>86795.569620</td>\n",
       "      <td>68868.041237</td>\n",
       "      <td>116202.790698</td>\n",
       "      <td>200220.959596</td>\n",
       "      <td>142561.943320</td>\n",
       "      <td>157189.516129</td>\n",
       "      <td>189216.666667</td>\n",
       "      <td>125784.615385</td>\n",
       "      <td>...</td>\n",
       "      <td>54320.0</td>\n",
       "      <td>66087.468672</td>\n",
       "      <td>109384.639831</td>\n",
       "      <td>159645.689655</td>\n",
       "      <td>122071.236559</td>\n",
       "      <td>82825.00</td>\n",
       "      <td>140589.285714</td>\n",
       "      <td>115151.376147</td>\n",
       "      <td>66461.666667</td>\n",
       "      <td>138712.500000</td>\n",
       "    </tr>\n",
       "    <tr>\n",
       "      <th>1</th>\n",
       "      <td>1996-05</td>\n",
       "      <td>128832.142857</td>\n",
       "      <td>87122.151899</td>\n",
       "      <td>69015.463918</td>\n",
       "      <td>116562.790698</td>\n",
       "      <td>200124.831650</td>\n",
       "      <td>142765.991903</td>\n",
       "      <td>157063.709677</td>\n",
       "      <td>188611.111111</td>\n",
       "      <td>126234.615385</td>\n",
       "      <td>...</td>\n",
       "      <td>54640.0</td>\n",
       "      <td>66340.852130</td>\n",
       "      <td>109406.885593</td>\n",
       "      <td>159523.275862</td>\n",
       "      <td>122136.827957</td>\n",
       "      <td>82556.25</td>\n",
       "      <td>140838.988095</td>\n",
       "      <td>115099.388379</td>\n",
       "      <td>66575.000000</td>\n",
       "      <td>138762.500000</td>\n",
       "    </tr>\n",
       "    <tr>\n",
       "      <th>2</th>\n",
       "      <td>1996-06</td>\n",
       "      <td>129253.571429</td>\n",
       "      <td>87460.759494</td>\n",
       "      <td>69140.206186</td>\n",
       "      <td>116934.883721</td>\n",
       "      <td>200035.942761</td>\n",
       "      <td>142985.425101</td>\n",
       "      <td>156926.612903</td>\n",
       "      <td>188011.111111</td>\n",
       "      <td>126665.384615</td>\n",
       "      <td>...</td>\n",
       "      <td>54960.0</td>\n",
       "      <td>66594.987469</td>\n",
       "      <td>109451.377119</td>\n",
       "      <td>159406.896552</td>\n",
       "      <td>122201.075269</td>\n",
       "      <td>82306.25</td>\n",
       "      <td>141101.488095</td>\n",
       "      <td>115032.110092</td>\n",
       "      <td>66708.333333</td>\n",
       "      <td>138741.666667</td>\n",
       "    </tr>\n",
       "    <tr>\n",
       "      <th>3</th>\n",
       "      <td>1996-07</td>\n",
       "      <td>129639.285714</td>\n",
       "      <td>87798.734177</td>\n",
       "      <td>69262.886598</td>\n",
       "      <td>117315.348837</td>\n",
       "      <td>199965.572391</td>\n",
       "      <td>143204.453441</td>\n",
       "      <td>156778.225806</td>\n",
       "      <td>187438.888889</td>\n",
       "      <td>127026.923077</td>\n",
       "      <td>...</td>\n",
       "      <td>55290.0</td>\n",
       "      <td>66843.107769</td>\n",
       "      <td>109521.504237</td>\n",
       "      <td>159313.793103</td>\n",
       "      <td>122267.204301</td>\n",
       "      <td>82037.50</td>\n",
       "      <td>141378.571429</td>\n",
       "      <td>114940.672783</td>\n",
       "      <td>66848.333333</td>\n",
       "      <td>138641.666667</td>\n",
       "    </tr>\n",
       "    <tr>\n",
       "      <th>4</th>\n",
       "      <td>1996-08</td>\n",
       "      <td>130028.571429</td>\n",
       "      <td>88156.962025</td>\n",
       "      <td>69378.350515</td>\n",
       "      <td>117719.534884</td>\n",
       "      <td>199958.754209</td>\n",
       "      <td>143461.943320</td>\n",
       "      <td>156640.322581</td>\n",
       "      <td>186900.000000</td>\n",
       "      <td>127346.153846</td>\n",
       "      <td>...</td>\n",
       "      <td>55660.0</td>\n",
       "      <td>67081.704261</td>\n",
       "      <td>109613.983051</td>\n",
       "      <td>159254.310345</td>\n",
       "      <td>122352.419355</td>\n",
       "      <td>81781.25</td>\n",
       "      <td>141686.011905</td>\n",
       "      <td>114840.978593</td>\n",
       "      <td>67016.666667</td>\n",
       "      <td>138533.333333</td>\n",
       "    </tr>\n",
       "  </tbody>\n",
       "</table>\n",
       "<p>5 rows × 52 columns</p>\n",
       "</div>"
      ],
      "text/plain": [
       "State     Date             AK            AL            AR             AZ  \\\n",
       "0      1996-04  128382.142857  86795.569620  68868.041237  116202.790698   \n",
       "1      1996-05  128832.142857  87122.151899  69015.463918  116562.790698   \n",
       "2      1996-06  129253.571429  87460.759494  69140.206186  116934.883721   \n",
       "3      1996-07  129639.285714  87798.734177  69262.886598  117315.348837   \n",
       "4      1996-08  130028.571429  88156.962025  69378.350515  117719.534884   \n",
       "\n",
       "State             CA             CO             CT             DC  \\\n",
       "0      200220.959596  142561.943320  157189.516129  189216.666667   \n",
       "1      200124.831650  142765.991903  157063.709677  188611.111111   \n",
       "2      200035.942761  142985.425101  156926.612903  188011.111111   \n",
       "3      199965.572391  143204.453441  156778.225806  187438.888889   \n",
       "4      199958.754209  143461.943320  156640.322581  186900.000000   \n",
       "\n",
       "State             DE  ...       SD            TN             TX  \\\n",
       "0      125784.615385  ...  54320.0  66087.468672  109384.639831   \n",
       "1      126234.615385  ...  54640.0  66340.852130  109406.885593   \n",
       "2      126665.384615  ...  54960.0  66594.987469  109451.377119   \n",
       "3      127026.923077  ...  55290.0  66843.107769  109521.504237   \n",
       "4      127346.153846  ...  55660.0  67081.704261  109613.983051   \n",
       "\n",
       "State             UT             VA        VT             WA             WI  \\\n",
       "0      159645.689655  122071.236559  82825.00  140589.285714  115151.376147   \n",
       "1      159523.275862  122136.827957  82556.25  140838.988095  115099.388379   \n",
       "2      159406.896552  122201.075269  82306.25  141101.488095  115032.110092   \n",
       "3      159313.793103  122267.204301  82037.50  141378.571429  114940.672783   \n",
       "4      159254.310345  122352.419355  81781.25  141686.011905  114840.978593   \n",
       "\n",
       "State            WV             WY  \n",
       "0      66461.666667  138712.500000  \n",
       "1      66575.000000  138762.500000  \n",
       "2      66708.333333  138741.666667  \n",
       "3      66848.333333  138641.666667  \n",
       "4      67016.666667  138533.333333  \n",
       "\n",
       "[5 rows x 52 columns]"
      ]
     },
     "execution_count": 56,
     "metadata": {},
     "output_type": "execute_result"
    }
   ],
   "source": [
    "flipped_df.head()"
   ]
  },
  {
   "cell_type": "code",
   "execution_count": 59,
   "metadata": {
    "ExecuteTime": {
     "end_time": "2022-05-02T17:41:00.411393Z",
     "start_time": "2022-05-02T17:41:00.404188Z"
    }
   },
   "outputs": [],
   "source": [
    "flipped_df = flipped_df.set_index('Date')"
   ]
  },
  {
   "cell_type": "code",
   "execution_count": 60,
   "metadata": {
    "ExecuteTime": {
     "end_time": "2022-05-02T17:41:06.531039Z",
     "start_time": "2022-05-02T17:41:06.501406Z"
    }
   },
   "outputs": [
    {
     "data": {
      "text/html": [
       "<div>\n",
       "<style scoped>\n",
       "    .dataframe tbody tr th:only-of-type {\n",
       "        vertical-align: middle;\n",
       "    }\n",
       "\n",
       "    .dataframe tbody tr th {\n",
       "        vertical-align: top;\n",
       "    }\n",
       "\n",
       "    .dataframe thead th {\n",
       "        text-align: right;\n",
       "    }\n",
       "</style>\n",
       "<table border=\"1\" class=\"dataframe\">\n",
       "  <thead>\n",
       "    <tr style=\"text-align: right;\">\n",
       "      <th>State</th>\n",
       "      <th>AK</th>\n",
       "      <th>AL</th>\n",
       "      <th>AR</th>\n",
       "      <th>AZ</th>\n",
       "      <th>CA</th>\n",
       "      <th>CO</th>\n",
       "      <th>CT</th>\n",
       "      <th>DC</th>\n",
       "      <th>DE</th>\n",
       "      <th>FL</th>\n",
       "      <th>...</th>\n",
       "      <th>SD</th>\n",
       "      <th>TN</th>\n",
       "      <th>TX</th>\n",
       "      <th>UT</th>\n",
       "      <th>VA</th>\n",
       "      <th>VT</th>\n",
       "      <th>WA</th>\n",
       "      <th>WI</th>\n",
       "      <th>WV</th>\n",
       "      <th>WY</th>\n",
       "    </tr>\n",
       "    <tr>\n",
       "      <th>Date</th>\n",
       "      <th></th>\n",
       "      <th></th>\n",
       "      <th></th>\n",
       "      <th></th>\n",
       "      <th></th>\n",
       "      <th></th>\n",
       "      <th></th>\n",
       "      <th></th>\n",
       "      <th></th>\n",
       "      <th></th>\n",
       "      <th></th>\n",
       "      <th></th>\n",
       "      <th></th>\n",
       "      <th></th>\n",
       "      <th></th>\n",
       "      <th></th>\n",
       "      <th></th>\n",
       "      <th></th>\n",
       "      <th></th>\n",
       "      <th></th>\n",
       "      <th></th>\n",
       "    </tr>\n",
       "  </thead>\n",
       "  <tbody>\n",
       "    <tr>\n",
       "      <th>1996-04</th>\n",
       "      <td>128382.142857</td>\n",
       "      <td>86795.569620</td>\n",
       "      <td>68868.041237</td>\n",
       "      <td>116202.790698</td>\n",
       "      <td>200220.959596</td>\n",
       "      <td>142561.943320</td>\n",
       "      <td>157189.516129</td>\n",
       "      <td>189216.666667</td>\n",
       "      <td>125784.615385</td>\n",
       "      <td>104529.019608</td>\n",
       "      <td>...</td>\n",
       "      <td>54320.0</td>\n",
       "      <td>66087.468672</td>\n",
       "      <td>109384.639831</td>\n",
       "      <td>159645.689655</td>\n",
       "      <td>122071.236559</td>\n",
       "      <td>82825.00</td>\n",
       "      <td>140589.285714</td>\n",
       "      <td>115151.376147</td>\n",
       "      <td>66461.666667</td>\n",
       "      <td>138712.500000</td>\n",
       "    </tr>\n",
       "    <tr>\n",
       "      <th>1996-05</th>\n",
       "      <td>128832.142857</td>\n",
       "      <td>87122.151899</td>\n",
       "      <td>69015.463918</td>\n",
       "      <td>116562.790698</td>\n",
       "      <td>200124.831650</td>\n",
       "      <td>142765.991903</td>\n",
       "      <td>157063.709677</td>\n",
       "      <td>188611.111111</td>\n",
       "      <td>126234.615385</td>\n",
       "      <td>104594.117647</td>\n",
       "      <td>...</td>\n",
       "      <td>54640.0</td>\n",
       "      <td>66340.852130</td>\n",
       "      <td>109406.885593</td>\n",
       "      <td>159523.275862</td>\n",
       "      <td>122136.827957</td>\n",
       "      <td>82556.25</td>\n",
       "      <td>140838.988095</td>\n",
       "      <td>115099.388379</td>\n",
       "      <td>66575.000000</td>\n",
       "      <td>138762.500000</td>\n",
       "    </tr>\n",
       "    <tr>\n",
       "      <th>1996-06</th>\n",
       "      <td>129253.571429</td>\n",
       "      <td>87460.759494</td>\n",
       "      <td>69140.206186</td>\n",
       "      <td>116934.883721</td>\n",
       "      <td>200035.942761</td>\n",
       "      <td>142985.425101</td>\n",
       "      <td>156926.612903</td>\n",
       "      <td>188011.111111</td>\n",
       "      <td>126665.384615</td>\n",
       "      <td>104662.352941</td>\n",
       "      <td>...</td>\n",
       "      <td>54960.0</td>\n",
       "      <td>66594.987469</td>\n",
       "      <td>109451.377119</td>\n",
       "      <td>159406.896552</td>\n",
       "      <td>122201.075269</td>\n",
       "      <td>82306.25</td>\n",
       "      <td>141101.488095</td>\n",
       "      <td>115032.110092</td>\n",
       "      <td>66708.333333</td>\n",
       "      <td>138741.666667</td>\n",
       "    </tr>\n",
       "    <tr>\n",
       "      <th>1996-07</th>\n",
       "      <td>129639.285714</td>\n",
       "      <td>87798.734177</td>\n",
       "      <td>69262.886598</td>\n",
       "      <td>117315.348837</td>\n",
       "      <td>199965.572391</td>\n",
       "      <td>143204.453441</td>\n",
       "      <td>156778.225806</td>\n",
       "      <td>187438.888889</td>\n",
       "      <td>127026.923077</td>\n",
       "      <td>104727.058824</td>\n",
       "      <td>...</td>\n",
       "      <td>55290.0</td>\n",
       "      <td>66843.107769</td>\n",
       "      <td>109521.504237</td>\n",
       "      <td>159313.793103</td>\n",
       "      <td>122267.204301</td>\n",
       "      <td>82037.50</td>\n",
       "      <td>141378.571429</td>\n",
       "      <td>114940.672783</td>\n",
       "      <td>66848.333333</td>\n",
       "      <td>138641.666667</td>\n",
       "    </tr>\n",
       "    <tr>\n",
       "      <th>1996-08</th>\n",
       "      <td>130028.571429</td>\n",
       "      <td>88156.962025</td>\n",
       "      <td>69378.350515</td>\n",
       "      <td>117719.534884</td>\n",
       "      <td>199958.754209</td>\n",
       "      <td>143461.943320</td>\n",
       "      <td>156640.322581</td>\n",
       "      <td>186900.000000</td>\n",
       "      <td>127346.153846</td>\n",
       "      <td>104816.993464</td>\n",
       "      <td>...</td>\n",
       "      <td>55660.0</td>\n",
       "      <td>67081.704261</td>\n",
       "      <td>109613.983051</td>\n",
       "      <td>159254.310345</td>\n",
       "      <td>122352.419355</td>\n",
       "      <td>81781.25</td>\n",
       "      <td>141686.011905</td>\n",
       "      <td>114840.978593</td>\n",
       "      <td>67016.666667</td>\n",
       "      <td>138533.333333</td>\n",
       "    </tr>\n",
       "  </tbody>\n",
       "</table>\n",
       "<p>5 rows × 51 columns</p>\n",
       "</div>"
      ],
      "text/plain": [
       "State               AK            AL            AR             AZ  \\\n",
       "Date                                                                \n",
       "1996-04  128382.142857  86795.569620  68868.041237  116202.790698   \n",
       "1996-05  128832.142857  87122.151899  69015.463918  116562.790698   \n",
       "1996-06  129253.571429  87460.759494  69140.206186  116934.883721   \n",
       "1996-07  129639.285714  87798.734177  69262.886598  117315.348837   \n",
       "1996-08  130028.571429  88156.962025  69378.350515  117719.534884   \n",
       "\n",
       "State               CA             CO             CT             DC  \\\n",
       "Date                                                                  \n",
       "1996-04  200220.959596  142561.943320  157189.516129  189216.666667   \n",
       "1996-05  200124.831650  142765.991903  157063.709677  188611.111111   \n",
       "1996-06  200035.942761  142985.425101  156926.612903  188011.111111   \n",
       "1996-07  199965.572391  143204.453441  156778.225806  187438.888889   \n",
       "1996-08  199958.754209  143461.943320  156640.322581  186900.000000   \n",
       "\n",
       "State               DE             FL  ...       SD            TN  \\\n",
       "Date                                   ...                          \n",
       "1996-04  125784.615385  104529.019608  ...  54320.0  66087.468672   \n",
       "1996-05  126234.615385  104594.117647  ...  54640.0  66340.852130   \n",
       "1996-06  126665.384615  104662.352941  ...  54960.0  66594.987469   \n",
       "1996-07  127026.923077  104727.058824  ...  55290.0  66843.107769   \n",
       "1996-08  127346.153846  104816.993464  ...  55660.0  67081.704261   \n",
       "\n",
       "State               TX             UT             VA        VT             WA  \\\n",
       "Date                                                                            \n",
       "1996-04  109384.639831  159645.689655  122071.236559  82825.00  140589.285714   \n",
       "1996-05  109406.885593  159523.275862  122136.827957  82556.25  140838.988095   \n",
       "1996-06  109451.377119  159406.896552  122201.075269  82306.25  141101.488095   \n",
       "1996-07  109521.504237  159313.793103  122267.204301  82037.50  141378.571429   \n",
       "1996-08  109613.983051  159254.310345  122352.419355  81781.25  141686.011905   \n",
       "\n",
       "State               WI            WV             WY  \n",
       "Date                                                 \n",
       "1996-04  115151.376147  66461.666667  138712.500000  \n",
       "1996-05  115099.388379  66575.000000  138762.500000  \n",
       "1996-06  115032.110092  66708.333333  138741.666667  \n",
       "1996-07  114940.672783  66848.333333  138641.666667  \n",
       "1996-08  114840.978593  67016.666667  138533.333333  \n",
       "\n",
       "[5 rows x 51 columns]"
      ]
     },
     "execution_count": 60,
     "metadata": {},
     "output_type": "execute_result"
    }
   ],
   "source": [
    "flipped_df.head()"
   ]
  },
  {
   "cell_type": "code",
   "execution_count": 61,
   "metadata": {
    "ExecuteTime": {
     "end_time": "2022-05-02T17:41:17.427573Z",
     "start_time": "2022-05-02T17:41:17.407486Z"
    }
   },
   "outputs": [
    {
     "name": "stdout",
     "output_type": "stream",
     "text": [
      "<class 'pandas.core.frame.DataFrame'>\n",
      "Index: 265 entries, 1996-04 to 2018-04\n",
      "Data columns (total 51 columns):\n",
      " #   Column  Non-Null Count  Dtype  \n",
      "---  ------  --------------  -----  \n",
      " 0   AK      265 non-null    float64\n",
      " 1   AL      265 non-null    float64\n",
      " 2   AR      265 non-null    float64\n",
      " 3   AZ      265 non-null    float64\n",
      " 4   CA      265 non-null    float64\n",
      " 5   CO      265 non-null    float64\n",
      " 6   CT      265 non-null    float64\n",
      " 7   DC      265 non-null    float64\n",
      " 8   DE      265 non-null    float64\n",
      " 9   FL      265 non-null    float64\n",
      " 10  GA      265 non-null    float64\n",
      " 11  HI      265 non-null    float64\n",
      " 12  IA      265 non-null    float64\n",
      " 13  ID      265 non-null    float64\n",
      " 14  IL      265 non-null    float64\n",
      " 15  IN      265 non-null    float64\n",
      " 16  KS      265 non-null    float64\n",
      " 17  KY      265 non-null    float64\n",
      " 18  LA      265 non-null    float64\n",
      " 19  MA      265 non-null    float64\n",
      " 20  MD      265 non-null    float64\n",
      " 21  ME      265 non-null    float64\n",
      " 22  MI      265 non-null    float64\n",
      " 23  MN      265 non-null    float64\n",
      " 24  MO      265 non-null    float64\n",
      " 25  MS      265 non-null    float64\n",
      " 26  MT      265 non-null    float64\n",
      " 27  NC      265 non-null    float64\n",
      " 28  ND      158 non-null    float64\n",
      " 29  NE      265 non-null    float64\n",
      " 30  NH      265 non-null    float64\n",
      " 31  NJ      265 non-null    float64\n",
      " 32  NM      265 non-null    float64\n",
      " 33  NV      265 non-null    float64\n",
      " 34  NY      265 non-null    float64\n",
      " 35  OH      265 non-null    float64\n",
      " 36  OK      265 non-null    float64\n",
      " 37  OR      265 non-null    float64\n",
      " 38  PA      265 non-null    float64\n",
      " 39  RI      265 non-null    float64\n",
      " 40  SC      265 non-null    float64\n",
      " 41  SD      265 non-null    float64\n",
      " 42  TN      265 non-null    float64\n",
      " 43  TX      265 non-null    float64\n",
      " 44  UT      265 non-null    float64\n",
      " 45  VA      265 non-null    float64\n",
      " 46  VT      265 non-null    float64\n",
      " 47  WA      265 non-null    float64\n",
      " 48  WI      265 non-null    float64\n",
      " 49  WV      265 non-null    float64\n",
      " 50  WY      265 non-null    float64\n",
      "dtypes: float64(51)\n",
      "memory usage: 107.7+ KB\n"
     ]
    }
   ],
   "source": [
    "flipped_df.info()"
   ]
  },
  {
   "cell_type": "code",
   "execution_count": null,
   "metadata": {},
   "outputs": [],
   "source": []
  },
  {
   "cell_type": "code",
   "execution_count": null,
   "metadata": {},
   "outputs": [],
   "source": []
  },
  {
   "cell_type": "code",
   "execution_count": null,
   "metadata": {},
   "outputs": [],
   "source": []
  },
  {
   "cell_type": "code",
   "execution_count": null,
   "metadata": {},
   "outputs": [],
   "source": []
  },
  {
   "cell_type": "code",
   "execution_count": null,
   "metadata": {},
   "outputs": [],
   "source": []
  },
  {
   "cell_type": "code",
   "execution_count": null,
   "metadata": {},
   "outputs": [],
   "source": []
  },
  {
   "cell_type": "code",
   "execution_count": null,
   "metadata": {},
   "outputs": [],
   "source": []
  },
  {
   "cell_type": "code",
   "execution_count": null,
   "metadata": {},
   "outputs": [],
   "source": []
  },
  {
   "cell_type": "code",
   "execution_count": null,
   "metadata": {},
   "outputs": [],
   "source": []
  },
  {
   "cell_type": "code",
   "execution_count": null,
   "metadata": {},
   "outputs": [],
   "source": []
  },
  {
   "cell_type": "code",
   "execution_count": null,
   "metadata": {},
   "outputs": [],
   "source": []
  },
  {
   "cell_type": "code",
   "execution_count": null,
   "metadata": {},
   "outputs": [],
   "source": []
  },
  {
   "cell_type": "code",
   "execution_count": null,
   "metadata": {
    "ExecuteTime": {
     "end_time": "2022-05-02T16:26:12.601527Z",
     "start_time": "2022-05-02T16:26:12.598143Z"
    }
   },
   "outputs": [],
   "source": [
    "#state_df.groupby(['State','Name']).sum()"
   ]
  },
  {
   "cell_type": "code",
   "execution_count": null,
   "metadata": {
    "ExecuteTime": {
     "end_time": "2022-05-02T16:30:25.139084Z",
     "start_time": "2022-05-02T16:30:24.793281Z"
    }
   },
   "outputs": [],
   "source": [
    "fig, ax = plt.subplots(figsize=(50, 50))\n",
    "p = sns.lineplot(data=state_df);\n",
    "p.set_xlabel(\"State\", fontsize = 50)\n",
    "p.set_ylabel(\"Median Home Value\", fontsize = 50)\n",
    "\n",
    "plt.xticks(fontsize=40)\n",
    "plt.yticks(fontsize=40)\n",
    "\n",
    "p.set_title(\"Title Goes Here\", fontsize = 100)\n",
    "plt.figsize=(50,25)\n",
    "\n",
    "plt.show();"
   ]
  },
  {
   "cell_type": "markdown",
   "metadata": {},
   "source": [
    "### Need to change columns to datetime objects"
   ]
  },
  {
   "cell_type": "code",
   "execution_count": null,
   "metadata": {
    "ExecuteTime": {
     "end_time": "2022-05-02T16:26:12.613768Z",
     "start_time": "2022-05-02T16:26:12.608017Z"
    }
   },
   "outputs": [],
   "source": [
    "state_df.columns"
   ]
  },
  {
   "cell_type": "code",
   "execution_count": null,
   "metadata": {
    "ExecuteTime": {
     "end_time": "2022-05-02T16:26:12.632840Z",
     "start_time": "2022-05-02T16:26:12.616986Z"
    }
   },
   "outputs": [],
   "source": [
    "state_df.columns = get_datetimes(state_df)"
   ]
  },
  {
   "cell_type": "code",
   "execution_count": null,
   "metadata": {
    "ExecuteTime": {
     "end_time": "2022-05-02T16:26:12.634526Z",
     "start_time": "2022-05-02T16:26:12.608Z"
    }
   },
   "outputs": [],
   "source": [
    "#state_df = state_df.reset_index()"
   ]
  },
  {
   "cell_type": "code",
   "execution_count": null,
   "metadata": {
    "ExecuteTime": {
     "end_time": "2022-05-02T16:26:12.635348Z",
     "start_time": "2022-05-02T16:26:12.611Z"
    }
   },
   "outputs": [],
   "source": [
    "state_df.head()"
   ]
  },
  {
   "cell_type": "code",
   "execution_count": null,
   "metadata": {
    "ExecuteTime": {
     "end_time": "2022-05-02T16:26:12.636003Z",
     "start_time": "2022-05-02T16:26:12.615Z"
    }
   },
   "outputs": [],
   "source": [
    "state_df.groupby('State').sum().mean()"
   ]
  },
  {
   "cell_type": "markdown",
   "metadata": {},
   "source": [
    "## Feature Engineering: Adding Total Mean Value & Annual Mean Value"
   ]
  },
  {
   "cell_type": "code",
   "execution_count": null,
   "metadata": {
    "ExecuteTime": {
     "end_time": "2022-05-02T16:26:12.636636Z",
     "start_time": "2022-05-02T16:26:12.619Z"
    }
   },
   "outputs": [],
   "source": [
    "#state_df['1996'] =\n",
    "#state_df.apply(lambda x: x[''] / x[''], axis=1)\n",
    "df['Fruit Total']= df.iloc[:, -4:-1].sum(axis=1)"
   ]
  },
  {
   "cell_type": "code",
   "execution_count": null,
   "metadata": {
    "ExecuteTime": {
     "end_time": "2022-05-02T16:26:12.637279Z",
     "start_time": "2022-05-02T16:26:12.622Z"
    }
   },
   "outputs": [],
   "source": [
    "state_df.iloc[:, 22:34].head(3)"
   ]
  },
  {
   "cell_type": "code",
   "execution_count": null,
   "metadata": {
    "ExecuteTime": {
     "end_time": "2022-05-02T16:26:12.637939Z",
     "start_time": "2022-05-02T16:26:12.626Z"
    }
   },
   "outputs": [],
   "source": [
    "#sum_1996 = state_df.iloc[:, 1:10].sum(axis=1)\n",
    "#sum_1997 = state_df.iloc[:, 10:22].sum(axis=1)\n",
    "#sum_1998 = state_df.iloc[:, 22:34].sum(axis=1)\n",
    "#sum_1999 = state_df.iloc[:, 34:46].sum(axis=1)\n",
    "#sum_2000 = state_df.iloc[:, 46:58].sum(axis=1)\n",
    "#sum_2001 = state_df.iloc[:, 58:70].sum(axis=1)\n",
    "#sum_2002 = state_df.iloc[:, 70:82].sum(axis=1)\n",
    "#sum_2003 = state_df.iloc[:, 82:94].sum(axis=1)\n",
    "#sum_2004 = state_df.iloc[:, 94:106].sum(axis=1)\n",
    "#sum_2005 = state_df.iloc[:, 106:118].sum(axis=1)\n",
    "#sum_2006 = state_df.iloc[:, 118:130].sum(axis=1)"
   ]
  },
  {
   "cell_type": "code",
   "execution_count": null,
   "metadata": {},
   "outputs": [],
   "source": []
  },
  {
   "cell_type": "code",
   "execution_count": null,
   "metadata": {},
   "outputs": [],
   "source": []
  },
  {
   "cell_type": "code",
   "execution_count": null,
   "metadata": {
    "ExecuteTime": {
     "end_time": "2022-05-02T16:26:12.742166Z",
     "start_time": "2022-05-02T16:26:12.739514Z"
    }
   },
   "outputs": [],
   "source": [
    "#state_df['RegionID'] = state_df['RegionID'].astype(object)"
   ]
  },
  {
   "cell_type": "code",
   "execution_count": null,
   "metadata": {
    "ExecuteTime": {
     "end_time": "2022-05-02T16:26:47.043697Z",
     "start_time": "2022-05-02T16:26:47.038329Z"
    }
   },
   "outputs": [],
   "source": [
    "# plot feature importance\n",
    "#fig, ax = plt.subplots(figsize=(50,20))\n",
    "#p = sns.barplot(data=feature_importance_df, x='Importance', y='Feature', color ='mediumseagreen' );\n",
    "#p.set_xlabel(\"Importance\", fontsize = 50)\n",
    "\n",
    "#p.set_ylabel(\"Feature\", fontsize = 50)\n",
    "#plt.xticks(fontsize=40)\n",
    "#plt.yticks(fontsize=40)\n",
    "\n",
    "#p.set_title(\"Features by Importance\", fontsize = 100)\n",
    "#plt.figsize=(30,20) \n",
    "#plt.savefig('images/project_3_Feature_Importance')\n",
    "\n",
    "#plt.show();"
   ]
  },
  {
   "cell_type": "code",
   "execution_count": null,
   "metadata": {
    "ExecuteTime": {
     "end_time": "2022-05-02T16:26:54.403638Z",
     "start_time": "2022-05-02T16:26:49.123623Z"
    }
   },
   "outputs": [],
   "source": [
    "fig, ax = plt.subplots(figsize=(50, 50))\n",
    "p = sns.lineplot(data=state_df);\n",
    "p.set_xlabel(\"State\", fontsize = 50)\n",
    "p.set_ylabel(\"Median Home Value\", fontsize = 50)\n",
    "\n",
    "plt.xticks(fontsize=40)\n",
    "plt.yticks(fontsize=40)\n",
    "\n",
    "p.set_title(\"Title Goes Here\", fontsize = 100)\n",
    "plt.figsize=(50,25)\n",
    "\n",
    "plt.show();"
   ]
  },
  {
   "cell_type": "code",
   "execution_count": null,
   "metadata": {
    "ExecuteTime": {
     "end_time": "2022-05-02T16:26:12.908495Z",
     "start_time": "2022-05-02T16:26:12.641Z"
    }
   },
   "outputs": [],
   "source": [
    "state_df.mean().plot()"
   ]
  },
  {
   "cell_type": "code",
   "execution_count": null,
   "metadata": {},
   "outputs": [],
   "source": []
  },
  {
   "cell_type": "code",
   "execution_count": null,
   "metadata": {},
   "outputs": [],
   "source": []
  },
  {
   "cell_type": "code",
   "execution_count": null,
   "metadata": {},
   "outputs": [],
   "source": []
  },
  {
   "cell_type": "code",
   "execution_count": null,
   "metadata": {},
   "outputs": [],
   "source": []
  },
  {
   "cell_type": "code",
   "execution_count": null,
   "metadata": {},
   "outputs": [],
   "source": []
  },
  {
   "cell_type": "code",
   "execution_count": null,
   "metadata": {
    "ExecuteTime": {
     "end_time": "2022-05-02T16:26:12.909171Z",
     "start_time": "2022-05-02T16:26:12.652Z"
    }
   },
   "outputs": [],
   "source": [
    "df.reset_index()\n",
    "df.head()"
   ]
  },
  {
   "cell_type": "markdown",
   "metadata": {},
   "source": [
    "## Analysis of Categories"
   ]
  },
  {
   "cell_type": "code",
   "execution_count": null,
   "metadata": {
    "ExecuteTime": {
     "end_time": "2022-05-02T16:26:12.909734Z",
     "start_time": "2022-05-02T16:26:12.654Z"
    }
   },
   "outputs": [],
   "source": [
    "#cat_df = df.iloc[:,0:7]\n",
    "#cat_df.head()"
   ]
  },
  {
   "cell_type": "code",
   "execution_count": null,
   "metadata": {
    "ExecuteTime": {
     "end_time": "2022-05-02T16:26:12.910243Z",
     "start_time": "2022-05-02T16:26:12.657Z"
    }
   },
   "outputs": [],
   "source": [
    "#cat_df.info()"
   ]
  },
  {
   "cell_type": "code",
   "execution_count": null,
   "metadata": {
    "ExecuteTime": {
     "end_time": "2022-05-02T16:26:12.910921Z",
     "start_time": "2022-05-02T16:26:12.659Z"
    }
   },
   "outputs": [],
   "source": [
    "#cat_df['RegionName'] = cat_df['RegionName'].astype('object')\n",
    "#cat_df.info()"
   ]
  },
  {
   "cell_type": "code",
   "execution_count": null,
   "metadata": {
    "ExecuteTime": {
     "end_time": "2022-05-02T16:26:12.911436Z",
     "start_time": "2022-05-02T16:26:12.661Z"
    }
   },
   "outputs": [],
   "source": [
    "df.nunique()"
   ]
  },
  {
   "cell_type": "code",
   "execution_count": null,
   "metadata": {
    "ExecuteTime": {
     "end_time": "2022-05-02T16:26:12.911903Z",
     "start_time": "2022-05-02T16:26:12.663Z"
    }
   },
   "outputs": [],
   "source": [
    "#print(\"RegionID unique values:\", cat_df['RegionID'].nunique())\n",
    "#print(\"RegionName unique values:\", cat_df['RegionName'].nunique())\n",
    "#print(\"City unique values:\", cat_df['City'].nunique())\n",
    "#print(\"State unique values:\", cat_df['State'].nunique())\n",
    "#print(\"Metro unique values:\", cat_df['Metro'].nunique())\n",
    "#print(\"CountyName unique values:\", cat_df['CountyName'].nunique())\n",
    "#print(\"SizeRank unique values:\", cat_df['SizeRank'].nunique())"
   ]
  },
  {
   "cell_type": "code",
   "execution_count": null,
   "metadata": {
    "ExecuteTime": {
     "end_time": "2022-05-02T16:26:12.912457Z",
     "start_time": "2022-05-02T16:26:12.665Z"
    }
   },
   "outputs": [],
   "source": [
    "#cat_df.sort_values(by = ['RegionName'], ascending = True).head()\n",
    "df.sort_values(by = ['RegionName'], ascending = True).head()"
   ]
  },
  {
   "cell_type": "markdown",
   "metadata": {},
   "source": [
    "A google search shows that RegionName is the ZipCode for each Region. However, upon sorting, I discovered that any ZipCode beginning with a 0 was ignoring it and displaying as a 4 digit number. I will use the .str().zfill() method to ensure that all RegionNames are displaying the as 5 digits."
   ]
  },
  {
   "cell_type": "code",
   "execution_count": null,
   "metadata": {
    "ExecuteTime": {
     "end_time": "2022-05-02T16:26:12.913234Z",
     "start_time": "2022-05-02T16:26:12.668Z"
    }
   },
   "outputs": [],
   "source": [
    "#cat_df['RegionName'] = cat_df['RegionName'].astype(str).str.zfill(5)\n",
    "df['RegionName'] = df['RegionName'].astype(str).str.zfill(5)"
   ]
  },
  {
   "cell_type": "code",
   "execution_count": null,
   "metadata": {
    "ExecuteTime": {
     "end_time": "2022-05-02T16:26:12.913846Z",
     "start_time": "2022-05-02T16:26:12.670Z"
    }
   },
   "outputs": [],
   "source": [
    "df.sort_values(by = ['RegionName'], ascending = True).head()"
   ]
  },
  {
   "cell_type": "code",
   "execution_count": null,
   "metadata": {
    "ExecuteTime": {
     "end_time": "2022-05-02T16:26:12.914459Z",
     "start_time": "2022-05-02T16:26:12.672Z"
    }
   },
   "outputs": [],
   "source": [
    "#cat_df = cat_df.reset_index()\n",
    "#cat_df"
   ]
  },
  {
   "cell_type": "code",
   "execution_count": null,
   "metadata": {
    "ExecuteTime": {
     "end_time": "2022-05-02T16:26:12.915065Z",
     "start_time": "2022-05-02T16:26:12.674Z"
    }
   },
   "outputs": [],
   "source": [
    "#cat_df.sort_values(by = ['RegionName'], ascending = True).head()"
   ]
  },
  {
   "cell_type": "markdown",
   "metadata": {},
   "source": [
    "That seems to have fixed it!"
   ]
  },
  {
   "cell_type": "markdown",
   "metadata": {},
   "source": [
    "# Grouping Data"
   ]
  },
  {
   "cell_type": "code",
   "execution_count": null,
   "metadata": {
    "ExecuteTime": {
     "end_time": "2022-05-02T16:26:12.915855Z",
     "start_time": "2022-05-02T16:26:12.677Z"
    }
   },
   "outputs": [],
   "source": [
    "metro_df = "
   ]
  },
  {
   "cell_type": "code",
   "execution_count": null,
   "metadata": {
    "ExecuteTime": {
     "end_time": "2022-05-02T16:26:12.916381Z",
     "start_time": "2022-05-02T16:26:12.679Z"
    }
   },
   "outputs": [],
   "source": [
    "melt_data(df)"
   ]
  },
  {
   "cell_type": "markdown",
   "metadata": {},
   "source": [
    "## Analysis of Data Values"
   ]
  },
  {
   "cell_type": "code",
   "execution_count": null,
   "metadata": {
    "ExecuteTime": {
     "end_time": "2022-05-02T16:26:12.917110Z",
     "start_time": "2022-05-02T16:26:12.681Z"
    }
   },
   "outputs": [],
   "source": [
    "#df['RegionID_copy'] = df['RegionID']"
   ]
  },
  {
   "cell_type": "code",
   "execution_count": null,
   "metadata": {
    "ExecuteTime": {
     "end_time": "2022-05-02T16:26:12.917706Z",
     "start_time": "2022-05-02T16:26:12.684Z"
    }
   },
   "outputs": [],
   "source": [
    "#df.head()"
   ]
  },
  {
   "cell_type": "code",
   "execution_count": null,
   "metadata": {
    "ExecuteTime": {
     "end_time": "2022-05-02T16:26:12.918198Z",
     "start_time": "2022-05-02T16:26:12.686Z"
    }
   },
   "outputs": [],
   "source": [
    "data_df = df.iloc[:, 7:]\n",
    "data_df.head()"
   ]
  },
  {
   "cell_type": "code",
   "execution_count": null,
   "metadata": {
    "ExecuteTime": {
     "end_time": "2022-05-02T16:26:12.918946Z",
     "start_time": "2022-05-02T16:26:12.688Z"
    }
   },
   "outputs": [],
   "source": [
    "data_df.columns = pd.to_datetime(data_df.columns, format='%Y-%m')\n",
    "data_df.head()"
   ]
  },
  {
   "cell_type": "code",
   "execution_count": null,
   "metadata": {
    "ExecuteTime": {
     "end_time": "2022-05-02T16:26:12.919615Z",
     "start_time": "2022-05-02T16:26:12.691Z"
    }
   },
   "outputs": [],
   "source": [
    "# changing values to thousands for ease of reading\n",
    "data_df = data_df.applymap(lambda x: x/1000)\n",
    "data_df.head()"
   ]
  },
  {
   "cell_type": "code",
   "execution_count": null,
   "metadata": {
    "ExecuteTime": {
     "end_time": "2022-05-02T16:26:12.920288Z",
     "start_time": "2022-05-02T16:26:12.693Z"
    }
   },
   "outputs": [],
   "source": [
    "data_df.describe().round(2)"
   ]
  },
  {
   "cell_type": "code",
   "execution_count": null,
   "metadata": {
    "ExecuteTime": {
     "end_time": "2022-05-02T16:26:12.920857Z",
     "start_time": "2022-05-02T16:26:12.695Z"
    }
   },
   "outputs": [],
   "source": [
    "#flipped_df = data_df.transpose()"
   ]
  },
  {
   "cell_type": "code",
   "execution_count": null,
   "metadata": {
    "ExecuteTime": {
     "end_time": "2022-05-02T16:26:12.921504Z",
     "start_time": "2022-05-02T16:26:12.697Z"
    }
   },
   "outputs": [],
   "source": [
    "#flipped_df"
   ]
  },
  {
   "cell_type": "code",
   "execution_count": null,
   "metadata": {
    "ExecuteTime": {
     "end_time": "2022-05-02T16:26:12.922201Z",
     "start_time": "2022-05-02T16:26:12.699Z"
    }
   },
   "outputs": [],
   "source": [
    "#flipped_df.info()"
   ]
  },
  {
   "cell_type": "code",
   "execution_count": null,
   "metadata": {
    "ExecuteTime": {
     "end_time": "2022-05-02T16:26:12.922743Z",
     "start_time": "2022-05-02T16:26:12.701Z"
    }
   },
   "outputs": [],
   "source": [
    "#data_df.groupby(pd.Grouper(freq ='A'))"
   ]
  },
  {
   "cell_type": "markdown",
   "metadata": {},
   "source": [
    "## Slicing out Years - data_df"
   ]
  },
  {
   "cell_type": "code",
   "execution_count": null,
   "metadata": {
    "ExecuteTime": {
     "end_time": "2022-05-02T16:26:12.923715Z",
     "start_time": "2022-05-02T16:26:12.704Z"
    }
   },
   "outputs": [],
   "source": [
    "yr_1996 = data_df.iloc[:, :9]\n",
    "yr_1996.head()"
   ]
  },
  {
   "cell_type": "code",
   "execution_count": null,
   "metadata": {
    "ExecuteTime": {
     "end_time": "2022-05-02T16:26:12.924926Z",
     "start_time": "2022-05-02T16:26:12.706Z"
    }
   },
   "outputs": [],
   "source": [
    "yr_1997 = data_df.iloc[:, 9:21]\n",
    "yr_1998 = data_df.iloc[:, 21:33]\n",
    "yr_1999 = data_df.iloc[:, 33:45]"
   ]
  },
  {
   "cell_type": "markdown",
   "metadata": {},
   "source": [
    "## CONTINUE TO SLICE OUT THE YEARS"
   ]
  },
  {
   "cell_type": "code",
   "execution_count": null,
   "metadata": {
    "ExecuteTime": {
     "end_time": "2022-05-02T16:26:12.925768Z",
     "start_time": "2022-05-02T16:26:12.708Z"
    }
   },
   "outputs": [],
   "source": [
    "df.index"
   ]
  },
  {
   "cell_type": "code",
   "execution_count": null,
   "metadata": {},
   "outputs": [],
   "source": []
  },
  {
   "cell_type": "code",
   "execution_count": null,
   "metadata": {},
   "outputs": [],
   "source": []
  },
  {
   "cell_type": "markdown",
   "metadata": {},
   "source": [
    "# EDA through Visualizations"
   ]
  },
  {
   "cell_type": "code",
   "execution_count": null,
   "metadata": {
    "ExecuteTime": {
     "end_time": "2022-05-02T16:26:12.926628Z",
     "start_time": "2022-05-02T16:26:12.713Z"
    }
   },
   "outputs": [],
   "source": [
    "font = {'family' : 'normal',\n",
    "        'weight' : 'bold',\n",
    "        'size'   : 22}\n",
    "\n",
    "plt.rc('font', **font)"
   ]
  },
  {
   "cell_type": "code",
   "execution_count": null,
   "metadata": {
    "ExecuteTime": {
     "end_time": "2022-05-02T16:26:12.927548Z",
     "start_time": "2022-05-02T16:26:12.716Z"
    }
   },
   "outputs": [],
   "source": [
    "plt.gcf().autofmt_xdate()"
   ]
  },
  {
   "cell_type": "code",
   "execution_count": null,
   "metadata": {
    "ExecuteTime": {
     "end_time": "2022-05-02T16:26:12.928078Z",
     "start_time": "2022-05-02T16:26:12.718Z"
    }
   },
   "outputs": [],
   "source": [
    "data_df.plot(figsize = (20,6), style = '.b');"
   ]
  },
  {
   "cell_type": "code",
   "execution_count": null,
   "metadata": {},
   "outputs": [],
   "source": []
  },
  {
   "cell_type": "code",
   "execution_count": null,
   "metadata": {},
   "outputs": [],
   "source": []
  },
  {
   "cell_type": "code",
   "execution_count": null,
   "metadata": {},
   "outputs": [],
   "source": []
  },
  {
   "cell_type": "code",
   "execution_count": null,
   "metadata": {},
   "outputs": [],
   "source": []
  },
  {
   "cell_type": "code",
   "execution_count": null,
   "metadata": {},
   "outputs": [],
   "source": []
  },
  {
   "cell_type": "code",
   "execution_count": null,
   "metadata": {},
   "outputs": [],
   "source": []
  },
  {
   "cell_type": "markdown",
   "metadata": {},
   "source": [
    "# Melting Practice"
   ]
  },
  {
   "cell_type": "code",
   "execution_count": null,
   "metadata": {
    "ExecuteTime": {
     "end_time": "2022-05-02T16:26:12.928773Z",
     "start_time": "2022-05-02T16:26:12.728Z"
    }
   },
   "outputs": [],
   "source": [
    "df.head(2)"
   ]
  },
  {
   "cell_type": "code",
   "execution_count": null,
   "metadata": {
    "ExecuteTime": {
     "end_time": "2022-05-02T16:26:12.929567Z",
     "start_time": "2022-05-02T16:26:12.730Z"
    }
   },
   "outputs": [],
   "source": [
    "melt_test = df.iloc[:, :8]\n",
    "melt_test.head()"
   ]
  },
  {
   "cell_type": "code",
   "execution_count": null,
   "metadata": {
    "ExecuteTime": {
     "end_time": "2022-05-02T16:26:12.930253Z",
     "start_time": "2022-05-02T16:26:12.732Z"
    }
   },
   "outputs": [],
   "source": [
    "melt_data(melt_test)"
   ]
  },
  {
   "cell_type": "code",
   "execution_count": null,
   "metadata": {
    "ExecuteTime": {
     "end_time": "2022-05-02T16:26:12.931055Z",
     "start_time": "2022-05-02T16:26:12.733Z"
    }
   },
   "outputs": [],
   "source": [
    "melted_df = melt_data(df)"
   ]
  },
  {
   "cell_type": "code",
   "execution_count": null,
   "metadata": {
    "ExecuteTime": {
     "end_time": "2022-05-02T16:26:12.931668Z",
     "start_time": "2022-05-02T16:26:12.735Z"
    }
   },
   "outputs": [],
   "source": [
    "melted_df"
   ]
  },
  {
   "cell_type": "markdown",
   "metadata": {},
   "source": [
    "# Merge Attempt"
   ]
  },
  {
   "cell_type": "code",
   "execution_count": null,
   "metadata": {
    "ExecuteTime": {
     "end_time": "2022-05-02T16:26:12.932290Z",
     "start_time": "2022-05-02T16:26:12.737Z"
    }
   },
   "outputs": [],
   "source": [
    "#data_df = data_df.reset_index()"
   ]
  },
  {
   "cell_type": "code",
   "execution_count": null,
   "metadata": {
    "ExecuteTime": {
     "end_time": "2022-05-02T16:26:12.932874Z",
     "start_time": "2022-05-02T16:26:12.740Z"
    }
   },
   "outputs": [],
   "source": [
    "#data_df"
   ]
  },
  {
   "cell_type": "code",
   "execution_count": null,
   "metadata": {
    "ExecuteTime": {
     "end_time": "2022-05-02T16:26:12.933577Z",
     "start_time": "2022-05-02T16:26:12.742Z"
    }
   },
   "outputs": [],
   "source": [
    "#merged_df = cat_df.merge(data_df, on='index')"
   ]
  },
  {
   "cell_type": "code",
   "execution_count": null,
   "metadata": {
    "ExecuteTime": {
     "end_time": "2022-05-02T16:26:12.934549Z",
     "start_time": "2022-05-02T16:26:12.744Z"
    }
   },
   "outputs": [],
   "source": [
    "#merged_df"
   ]
  },
  {
   "cell_type": "code",
   "execution_count": null,
   "metadata": {},
   "outputs": [],
   "source": []
  },
  {
   "cell_type": "markdown",
   "metadata": {},
   "source": [
    "## Slicing out Years and attempting to Melt - Full DF"
   ]
  },
  {
   "cell_type": "code",
   "execution_count": null,
   "metadata": {
    "ExecuteTime": {
     "end_time": "2022-05-02T16:26:12.935276Z",
     "start_time": "2022-05-02T16:26:12.747Z"
    }
   },
   "outputs": [],
   "source": [
    "df.head()"
   ]
  },
  {
   "cell_type": "code",
   "execution_count": null,
   "metadata": {
    "ExecuteTime": {
     "end_time": "2022-05-02T16:26:12.936467Z",
     "start_time": "2022-05-02T16:26:12.749Z"
    }
   },
   "outputs": [],
   "source": [
    "df.iloc[:, :16].head(2)"
   ]
  },
  {
   "cell_type": "code",
   "execution_count": null,
   "metadata": {
    "ExecuteTime": {
     "end_time": "2022-05-02T16:26:12.937446Z",
     "start_time": "2022-05-02T16:26:12.751Z"
    }
   },
   "outputs": [],
   "source": [
    "yr_1996 = df.iloc[:, :16]\n",
    "yr_1996.head()"
   ]
  },
  {
   "cell_type": "code",
   "execution_count": null,
   "metadata": {
    "ExecuteTime": {
     "end_time": "2022-05-02T16:26:12.938285Z",
     "start_time": "2022-05-02T16:26:12.753Z"
    }
   },
   "outputs": [],
   "source": [
    "melt_data(yr_1996)"
   ]
  },
  {
   "cell_type": "code",
   "execution_count": null,
   "metadata": {},
   "outputs": [],
   "source": []
  },
  {
   "cell_type": "code",
   "execution_count": null,
   "metadata": {},
   "outputs": [],
   "source": []
  },
  {
   "cell_type": "code",
   "execution_count": null,
   "metadata": {},
   "outputs": [],
   "source": []
  },
  {
   "cell_type": "code",
   "execution_count": null,
   "metadata": {},
   "outputs": [],
   "source": []
  },
  {
   "cell_type": "code",
   "execution_count": null,
   "metadata": {},
   "outputs": [],
   "source": []
  },
  {
   "cell_type": "code",
   "execution_count": null,
   "metadata": {},
   "outputs": [],
   "source": []
  },
  {
   "cell_type": "code",
   "execution_count": null,
   "metadata": {},
   "outputs": [],
   "source": []
  },
  {
   "cell_type": "code",
   "execution_count": null,
   "metadata": {},
   "outputs": [],
   "source": []
  },
  {
   "cell_type": "code",
   "execution_count": null,
   "metadata": {},
   "outputs": [],
   "source": []
  },
  {
   "cell_type": "code",
   "execution_count": null,
   "metadata": {},
   "outputs": [],
   "source": []
  },
  {
   "cell_type": "code",
   "execution_count": null,
   "metadata": {},
   "outputs": [],
   "source": []
  },
  {
   "cell_type": "code",
   "execution_count": null,
   "metadata": {},
   "outputs": [],
   "source": []
  },
  {
   "cell_type": "code",
   "execution_count": null,
   "metadata": {},
   "outputs": [],
   "source": []
  },
  {
   "cell_type": "code",
   "execution_count": null,
   "metadata": {},
   "outputs": [],
   "source": []
  },
  {
   "cell_type": "code",
   "execution_count": null,
   "metadata": {},
   "outputs": [],
   "source": []
  },
  {
   "cell_type": "code",
   "execution_count": null,
   "metadata": {},
   "outputs": [],
   "source": []
  },
  {
   "cell_type": "code",
   "execution_count": null,
   "metadata": {},
   "outputs": [],
   "source": []
  },
  {
   "cell_type": "code",
   "execution_count": null,
   "metadata": {},
   "outputs": [],
   "source": []
  },
  {
   "cell_type": "code",
   "execution_count": null,
   "metadata": {},
   "outputs": [],
   "source": []
  },
  {
   "cell_type": "markdown",
   "metadata": {},
   "source": [
    "# Archive"
   ]
  },
  {
   "cell_type": "code",
   "execution_count": null,
   "metadata": {
    "ExecuteTime": {
     "end_time": "2022-05-02T16:26:12.938978Z",
     "start_time": "2022-05-02T16:26:12.784Z"
    }
   },
   "outputs": [],
   "source": [
    "#data_df.isnull().sum()"
   ]
  },
  {
   "cell_type": "code",
   "execution_count": null,
   "metadata": {
    "ExecuteTime": {
     "end_time": "2022-05-02T16:26:12.939709Z",
     "start_time": "2022-05-02T16:26:12.787Z"
    }
   },
   "outputs": [],
   "source": [
    "#df.columns[7:]"
   ]
  },
  {
   "cell_type": "code",
   "execution_count": null,
   "metadata": {
    "ExecuteTime": {
     "end_time": "2022-05-02T16:26:12.940250Z",
     "start_time": "2022-05-02T16:26:12.789Z"
    }
   },
   "outputs": [],
   "source": [
    "#date_time_cols = pd.to_datetime(df.columns[7:])\n",
    "#date_time_cols"
   ]
  },
  {
   "cell_type": "code",
   "execution_count": null,
   "metadata": {
    "ExecuteTime": {
     "end_time": "2022-05-02T16:26:12.940816Z",
     "start_time": "2022-05-02T16:26:12.792Z"
    }
   },
   "outputs": [],
   "source": [
    "#cat_cols = df.columns[:7]\n",
    "#cat_cols"
   ]
  },
  {
   "cell_type": "code",
   "execution_count": null,
   "metadata": {
    "ExecuteTime": {
     "end_time": "2022-05-02T16:26:12.941452Z",
     "start_time": "2022-05-02T16:26:12.794Z"
    }
   },
   "outputs": [],
   "source": [
    "#new_cols = cat_cols + date_time_cols\n",
    "#new_cols"
   ]
  },
  {
   "cell_type": "code",
   "execution_count": null,
   "metadata": {
    "ExecuteTime": {
     "end_time": "2022-05-02T16:26:12.942088Z",
     "start_time": "2022-05-02T16:26:12.796Z"
    }
   },
   "outputs": [],
   "source": [
    "#df.rename(columns[7:] = date_time_cols)"
   ]
  },
  {
   "cell_type": "markdown",
   "metadata": {},
   "source": [
    "## Transposing DF"
   ]
  },
  {
   "cell_type": "code",
   "execution_count": null,
   "metadata": {
    "ExecuteTime": {
     "end_time": "2022-05-02T16:26:12.942651Z",
     "start_time": "2022-05-02T16:26:12.799Z"
    }
   },
   "outputs": [],
   "source": [
    "flipped_df = df.transpose()"
   ]
  },
  {
   "cell_type": "code",
   "execution_count": null,
   "metadata": {
    "ExecuteTime": {
     "end_time": "2022-05-02T16:26:12.943214Z",
     "start_time": "2022-05-02T16:26:12.802Z"
    }
   },
   "outputs": [],
   "source": [
    "flipped_df.head(10)"
   ]
  },
  {
   "cell_type": "code",
   "execution_count": null,
   "metadata": {
    "ExecuteTime": {
     "end_time": "2022-05-02T16:26:12.943686Z",
     "start_time": "2022-05-02T16:26:12.804Z"
    }
   },
   "outputs": [],
   "source": [
    "#melt_data(flipped_df)\n",
    "melt_data(df)"
   ]
  },
  {
   "cell_type": "code",
   "execution_count": null,
   "metadata": {
    "ExecuteTime": {
     "end_time": "2022-05-02T16:26:12.944324Z",
     "start_time": "2022-05-02T16:26:12.807Z"
    }
   },
   "outputs": [],
   "source": [
    "#roi = table9.apply(lambda x: x['total_profit'] / x['production_budget'], axis=1)\n",
    "test = df.loc[8]\n",
    "#test"
   ]
  },
  {
   "cell_type": "code",
   "execution_count": null,
   "metadata": {
    "ExecuteTime": {
     "end_time": "2022-05-02T16:26:12.944806Z",
     "start_time": "2022-05-02T16:26:12.810Z"
    }
   },
   "outputs": [],
   "source": [
    "melt_data(test)"
   ]
  },
  {
   "cell_type": "code",
   "execution_count": null,
   "metadata": {},
   "outputs": [],
   "source": []
  },
  {
   "cell_type": "markdown",
   "metadata": {
    "ExecuteTime": {
     "end_time": "2022-04-28T19:14:02.905552Z",
     "start_time": "2022-04-28T19:14:02.901647Z"
    }
   },
   "source": [
    "## Exploring SizeRank"
   ]
  },
  {
   "cell_type": "code",
   "execution_count": null,
   "metadata": {
    "ExecuteTime": {
     "end_time": "2022-05-02T16:26:12.945301Z",
     "start_time": "2022-05-02T16:26:12.814Z"
    }
   },
   "outputs": [],
   "source": [
    "df.sort_values('SizeRank').head()"
   ]
  },
  {
   "cell_type": "code",
   "execution_count": null,
   "metadata": {
    "ExecuteTime": {
     "end_time": "2022-05-02T16:26:12.945991Z",
     "start_time": "2022-05-02T16:26:12.817Z"
    }
   },
   "outputs": [],
   "source": [
    "df.sort_values(by = ['State', 'City'], ascending = True)"
   ]
  },
  {
   "cell_type": "code",
   "execution_count": null,
   "metadata": {
    "ExecuteTime": {
     "end_time": "2022-05-02T16:26:12.946646Z",
     "start_time": "2022-05-02T16:26:12.819Z"
    }
   },
   "outputs": [],
   "source": [
    "cat_data = df[['RegionID', 'RegionName', 'City', 'State', 'Metro', 'CountyName', 'SizeRank']]"
   ]
  },
  {
   "cell_type": "code",
   "execution_count": null,
   "metadata": {
    "ExecuteTime": {
     "end_time": "2022-05-02T16:26:12.947240Z",
     "start_time": "2022-05-02T16:26:12.822Z"
    }
   },
   "outputs": [],
   "source": [
    "cat_data"
   ]
  },
  {
   "cell_type": "code",
   "execution_count": null,
   "metadata": {
    "ExecuteTime": {
     "end_time": "2022-05-02T16:26:12.947831Z",
     "start_time": "2022-05-02T16:26:12.824Z"
    }
   },
   "outputs": [],
   "source": [
    "df.head()"
   ]
  },
  {
   "cell_type": "code",
   "execution_count": null,
   "metadata": {
    "ExecuteTime": {
     "end_time": "2022-05-02T16:26:12.948294Z",
     "start_time": "2022-05-02T16:26:12.826Z"
    }
   },
   "outputs": [],
   "source": [
    "date_data = df.drop(['RegionID', 'RegionName', 'City', 'State', 'Metro', 'CountyName', 'SizeRank'], axis=1)"
   ]
  },
  {
   "cell_type": "code",
   "execution_count": null,
   "metadata": {
    "ExecuteTime": {
     "end_time": "2022-05-02T16:26:12.948838Z",
     "start_time": "2022-05-02T16:26:12.829Z"
    }
   },
   "outputs": [],
   "source": [
    "date_data.head()"
   ]
  },
  {
   "cell_type": "code",
   "execution_count": null,
   "metadata": {
    "ExecuteTime": {
     "end_time": "2022-05-02T16:26:12.949731Z",
     "start_time": "2022-05-02T16:26:12.832Z"
    }
   },
   "outputs": [],
   "source": [
    "date_time_data = get_datetimes(date_data)"
   ]
  },
  {
   "cell_type": "code",
   "execution_count": null,
   "metadata": {
    "ExecuteTime": {
     "end_time": "2022-05-02T16:26:12.950532Z",
     "start_time": "2022-05-02T16:26:12.835Z"
    }
   },
   "outputs": [],
   "source": [
    "date_time_data"
   ]
  },
  {
   "cell_type": "code",
   "execution_count": null,
   "metadata": {
    "ExecuteTime": {
     "end_time": "2022-05-02T16:26:12.951338Z",
     "start_time": "2022-05-02T16:26:12.837Z"
    }
   },
   "outputs": [],
   "source": [
    "len(date_time_data)"
   ]
  },
  {
   "cell_type": "code",
   "execution_count": null,
   "metadata": {
    "ExecuteTime": {
     "end_time": "2022-05-02T16:26:12.952143Z",
     "start_time": "2022-05-02T16:26:12.840Z"
    }
   },
   "outputs": [],
   "source": [
    "list(date_data.columns)"
   ]
  },
  {
   "cell_type": "code",
   "execution_count": null,
   "metadata": {
    "ExecuteTime": {
     "end_time": "2022-05-02T16:26:12.953123Z",
     "start_time": "2022-05-02T16:26:12.842Z"
    }
   },
   "outputs": [],
   "source": [
    "#df2 = date_data.append(date_time_data)"
   ]
  },
  {
   "cell_type": "markdown",
   "metadata": {},
   "source": [
    "## Changing column names to DateTime Format"
   ]
  },
  {
   "cell_type": "code",
   "execution_count": null,
   "metadata": {
    "ExecuteTime": {
     "end_time": "2022-05-02T16:26:12.953763Z",
     "start_time": "2022-05-02T16:26:12.845Z"
    }
   },
   "outputs": [],
   "source": [
    "#df.columns = pd.to_datetime(df.columns)\n",
    "date_data.columns = pd.to_datetime(date_data.columns)"
   ]
  },
  {
   "cell_type": "code",
   "execution_count": null,
   "metadata": {
    "ExecuteTime": {
     "end_time": "2022-05-02T16:26:12.954308Z",
     "start_time": "2022-05-02T16:26:12.848Z"
    }
   },
   "outputs": [],
   "source": [
    "date_data"
   ]
  },
  {
   "cell_type": "markdown",
   "metadata": {},
   "source": [
    "### Merging with Categories"
   ]
  },
  {
   "cell_type": "code",
   "execution_count": null,
   "metadata": {
    "ExecuteTime": {
     "end_time": "2022-05-02T16:26:12.954805Z",
     "start_time": "2022-05-02T16:26:12.851Z"
    }
   },
   "outputs": [],
   "source": [
    "#imdb_df = pd.merge(table7, table4, on= 'tconst', how='inner')\n",
    "base_df = pd.merge(cat_data, date_data, how='outer')"
   ]
  },
  {
   "cell_type": "markdown",
   "metadata": {},
   "source": [
    "# Mod 4 Project - Starter Notebook\n",
    "\n",
    "This notebook has been provided to you so that you can make use of the following starter code to help with the trickier parts of preprocessing the Zillow dataset. \n",
    "\n",
    "The notebook contains a rough outline the general order you'll likely want to take in this project. You'll notice that most of the areas are left blank. This is so that it's more obvious exactly when you should make use of the starter code provided for preprocessing. \n",
    "\n",
    "**_NOTE:_** The number of empty cells are not meant to infer how much or how little code should be involved in any given step--we've just provided a few for your convenience. Add, delete, and change things around in this notebook as needed!\n",
    "\n",
    "## Some Notes Before Starting\n",
    "\n",
    "This project will be one of the more challenging projects you complete in this program. This is because working with Time Series data is a bit different than working with regular datasets. In order to make this a bit less frustrating and help you understand what you need to do (and when you need to do it), we'll quickly review the dataset formats that you'll encounter in this project. \n",
    "\n",
    "### Wide Format vs Long Format\n",
    "\n",
    "If you take a look at the format of the data in `zillow_data.csv`, you'll notice that the actual Time Series values are stored as separate columns. Here's a sample: \n",
    "\n",
    "<img src='https://raw.githubusercontent.com/learn-co-students/dsc-mod-4-project-seattle-ds-102819/master/images/df_head.png'>\n",
    "\n",
    "You'll notice that the first seven columns look like any other dataset you're used to working with. However, column 8 refers to the median housing sales values for April 1996, column 9 for May 1996, and so on. This This is called **_Wide Format_**, and it makes the dataframe intuitive and easy to read. However, there are problems with this format when it comes to actually learning from the data, because the data only makes sense if you know the name of the column that the data can be found it. Since column names are metadata, our algorithms will miss out on what dates each value is for. This means that before we pass this data to our ARIMA model, we'll need to reshape our dataset to **_Long Format_**. Reshaped into long format, the dataframe above would now look like:\n",
    "\n",
    "<img src='https://raw.githubusercontent.com/learn-co-students/dsc-mod-4-project-seattle-ds-102819/master/images/melted1.png'>\n",
    "\n",
    "There are now many more rows in this dataset--one for each unique time and zipcode combination in the data! Once our dataset is in this format, we'll be able to train an ARIMA model on it. The method used to convert from Wide to Long is `pd.melt()`, and it is common to refer to our dataset as 'melted' after the transition to denote that it is in long format. \n",
    "\n",
    "## Helper Functions Provided\n",
    "\n",
    "Melting a dataset can be tricky if you've never done it before, so you'll see that we have provided a sample function, `melt_data()`, to help you with this step below. Also provided is:\n",
    "\n",
    "* `get_datetimes()`, a function to deal with converting the column values for datetimes as a pandas series of datetime objects\n",
    "* Some good parameters for matplotlib to help make your visualizations more readable. \n",
    "\n",
    "Good luck!\n",
    "\n",
    "\n",
    "## Step 1: Load the Data/Filtering for Chosen Zipcodes"
   ]
  },
  {
   "cell_type": "code",
   "execution_count": null,
   "metadata": {},
   "outputs": [],
   "source": []
  },
  {
   "cell_type": "code",
   "execution_count": null,
   "metadata": {},
   "outputs": [],
   "source": []
  },
  {
   "cell_type": "code",
   "execution_count": null,
   "metadata": {},
   "outputs": [],
   "source": []
  },
  {
   "cell_type": "markdown",
   "metadata": {},
   "source": [
    "## Step 2: Data Preprocessing"
   ]
  },
  {
   "cell_type": "code",
   "execution_count": null,
   "metadata": {
    "ExecuteTime": {
     "end_time": "2022-05-02T16:26:12.955426Z",
     "start_time": "2022-05-02T16:26:12.858Z"
    }
   },
   "outputs": [],
   "source": [
    "def get_datetimes(df):\n",
    "    \"\"\"\n",
    "    Takes a dataframe:\n",
    "    returns only those column names that can be converted into datetime objects \n",
    "    as datetime objects.\n",
    "    NOTE number of returned columns may not match total number of columns in passed dataframe\n",
    "    \"\"\"\n",
    "    \n",
    "    return pd.to_datetime(df.columns.values[1:], format='%Y-%m')"
   ]
  },
  {
   "cell_type": "code",
   "execution_count": null,
   "metadata": {},
   "outputs": [],
   "source": []
  },
  {
   "cell_type": "code",
   "execution_count": null,
   "metadata": {},
   "outputs": [],
   "source": []
  },
  {
   "cell_type": "code",
   "execution_count": null,
   "metadata": {},
   "outputs": [],
   "source": []
  },
  {
   "cell_type": "markdown",
   "metadata": {},
   "source": [
    "## Step 3: EDA and Visualization"
   ]
  },
  {
   "cell_type": "code",
   "execution_count": null,
   "metadata": {
    "ExecuteTime": {
     "end_time": "2022-05-02T16:26:12.956056Z",
     "start_time": "2022-05-02T16:26:12.865Z"
    }
   },
   "outputs": [],
   "source": [
    "font = {'family' : 'normal',\n",
    "        'weight' : 'bold',\n",
    "        'size'   : 22}\n",
    "\n",
    "matplotlib.rc('font', **font)\n",
    "\n",
    "# NOTE: if you visualizations are too cluttered to read, try calling 'plt.gcf().autofmt_xdate()'!"
   ]
  },
  {
   "cell_type": "code",
   "execution_count": null,
   "metadata": {},
   "outputs": [],
   "source": []
  },
  {
   "cell_type": "code",
   "execution_count": null,
   "metadata": {},
   "outputs": [],
   "source": []
  },
  {
   "cell_type": "code",
   "execution_count": null,
   "metadata": {},
   "outputs": [],
   "source": []
  },
  {
   "cell_type": "markdown",
   "metadata": {},
   "source": [
    "## Step 4: Reshape from Wide to Long Format"
   ]
  },
  {
   "cell_type": "code",
   "execution_count": null,
   "metadata": {
    "ExecuteTime": {
     "end_time": "2022-05-02T16:26:12.956655Z",
     "start_time": "2022-05-02T16:26:12.872Z"
    }
   },
   "outputs": [],
   "source": [
    "def melt_data(df):\n",
    "    \"\"\"\n",
    "    Takes the zillow_data dataset in wide form or a subset of the zillow_dataset.  \n",
    "    Returns a long-form datetime dataframe \n",
    "    with the datetime column names as the index and the values as the 'values' column.\n",
    "    \n",
    "    If more than one row is passes in the wide-form dataset, the values column\n",
    "    will be the mean of the values from the datetime columns in all of the rows.\n",
    "    \"\"\"\n",
    "    \n",
    "    melted = pd.melt(df, id_vars=['RegionName', 'RegionID', 'SizeRank', 'City', 'State', 'Metro', 'CountyName'], var_name='time')\n",
    "    melted['time'] = pd.to_datetime(melted['time'], infer_datetime_format=True)\n",
    "    melted = melted.dropna(subset=['value'])\n",
    "    return melted.groupby('time').aggregate({'value':'mean'})"
   ]
  },
  {
   "cell_type": "code",
   "execution_count": null,
   "metadata": {},
   "outputs": [],
   "source": []
  },
  {
   "cell_type": "code",
   "execution_count": null,
   "metadata": {},
   "outputs": [],
   "source": []
  },
  {
   "cell_type": "code",
   "execution_count": null,
   "metadata": {},
   "outputs": [],
   "source": []
  },
  {
   "cell_type": "markdown",
   "metadata": {},
   "source": [
    "## Step 5: ARIMA Modeling"
   ]
  },
  {
   "cell_type": "code",
   "execution_count": null,
   "metadata": {},
   "outputs": [],
   "source": []
  },
  {
   "cell_type": "code",
   "execution_count": null,
   "metadata": {},
   "outputs": [],
   "source": []
  },
  {
   "cell_type": "code",
   "execution_count": null,
   "metadata": {},
   "outputs": [],
   "source": []
  },
  {
   "cell_type": "code",
   "execution_count": null,
   "metadata": {},
   "outputs": [],
   "source": []
  },
  {
   "cell_type": "code",
   "execution_count": null,
   "metadata": {},
   "outputs": [],
   "source": []
  },
  {
   "cell_type": "code",
   "execution_count": null,
   "metadata": {},
   "outputs": [],
   "source": []
  },
  {
   "cell_type": "markdown",
   "metadata": {},
   "source": [
    "## Step 6: Interpreting Results"
   ]
  },
  {
   "cell_type": "code",
   "execution_count": null,
   "metadata": {},
   "outputs": [],
   "source": []
  },
  {
   "cell_type": "code",
   "execution_count": null,
   "metadata": {},
   "outputs": [],
   "source": []
  },
  {
   "cell_type": "code",
   "execution_count": null,
   "metadata": {},
   "outputs": [],
   "source": []
  }
 ],
 "metadata": {
  "kernelspec": {
   "display_name": "Python 3",
   "language": "python",
   "name": "python3"
  },
  "language_info": {
   "codemirror_mode": {
    "name": "ipython",
    "version": 3
   },
   "file_extension": ".py",
   "mimetype": "text/x-python",
   "name": "python",
   "nbconvert_exporter": "python",
   "pygments_lexer": "ipython3",
   "version": "3.8.5"
  },
  "toc": {
   "base_numbering": 1,
   "nav_menu": {},
   "number_sections": true,
   "sideBar": true,
   "skip_h1_title": false,
   "title_cell": "Table of Contents",
   "title_sidebar": "Contents",
   "toc_cell": false,
   "toc_position": {
    "height": "641px",
    "left": "45px",
    "top": "111.141px",
    "width": "288px"
   },
   "toc_section_display": true,
   "toc_window_display": true
  },
  "varInspector": {
   "cols": {
    "lenName": 16,
    "lenType": 16,
    "lenVar": 40
   },
   "kernels_config": {
    "python": {
     "delete_cmd_postfix": "",
     "delete_cmd_prefix": "del ",
     "library": "var_list.py",
     "varRefreshCmd": "print(var_dic_list())"
    },
    "r": {
     "delete_cmd_postfix": ") ",
     "delete_cmd_prefix": "rm(",
     "library": "var_list.r",
     "varRefreshCmd": "cat(var_dic_list()) "
    }
   },
   "types_to_exclude": [
    "module",
    "function",
    "builtin_function_or_method",
    "instance",
    "_Feature"
   ],
   "window_display": false
  }
 },
 "nbformat": 4,
 "nbformat_minor": 2
}
