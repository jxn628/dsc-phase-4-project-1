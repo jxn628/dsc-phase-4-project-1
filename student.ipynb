{
 "cells": [
  {
   "cell_type": "markdown",
   "metadata": {},
   "source": [
    "# Phase 4 Project Notebook\n",
    "- Author: Jonathan Holt\n",
    "- Data Science Flex"
   ]
  },
  {
   "cell_type": "markdown",
   "metadata": {},
   "source": [
    "## Business Problem\n",
    "- What are the top 5 best zip codes for us to invest in?"
   ]
  },
  {
   "cell_type": "markdown",
   "metadata": {},
   "source": [
    "## Questions to Answer"
   ]
  },
  {
   "cell_type": "markdown",
   "metadata": {},
   "source": [
    "1. What is the average (mean) home price for zip codes?\n",
    "    a. also by: State, Metro Region, etc.\n",
    "2. Which zip codes performed above expectations?\n",
    "3. Do the top performing zip codes have any identifiers?\n"
   ]
  },
  {
   "cell_type": "markdown",
   "metadata": {},
   "source": [
    "## What Models & Metrics I plan on using"
   ]
  },
  {
   "cell_type": "markdown",
   "metadata": {},
   "source": [
    "## Helper Functions\n",
    "- Functions provided by Flatiron"
   ]
  },
  {
   "cell_type": "code",
   "execution_count": 1,
   "metadata": {
    "ExecuteTime": {
     "end_time": "2022-05-04T16:42:43.662843Z",
     "start_time": "2022-05-04T16:42:43.655128Z"
    }
   },
   "outputs": [],
   "source": [
    "def get_datetimes(df):\n",
    "    \"\"\"\n",
    "    Takes a dataframe:\n",
    "    returns only those column names that can be converted into datetime objects \n",
    "    as datetime objects.\n",
    "    NOTE number of returned columns may not match total number of columns in passed dataframe\n",
    "    \"\"\"\n",
    "    \n",
    "    return pd.to_datetime(df.columns.values[1:], format='%Y-%m')"
   ]
  },
  {
   "cell_type": "code",
   "execution_count": 2,
   "metadata": {
    "ExecuteTime": {
     "end_time": "2022-05-04T16:42:43.676827Z",
     "start_time": "2022-05-04T16:42:43.670648Z"
    }
   },
   "outputs": [],
   "source": [
    "def melt_data(df):\n",
    "    \"\"\"\n",
    "    Takes the zillow_data dataset in wide form or a subset of the zillow_dataset.  \n",
    "    Returns a long-form datetime dataframe \n",
    "    with the datetime column names as the index and the values as the 'values' column.\n",
    "    \n",
    "    If more than one row is passes in the wide-form dataset, the values column\n",
    "    will be the mean of the values from the datetime columns in all of the rows.\n",
    "    \"\"\"\n",
    "    \n",
    "    melted = pd.melt(df, id_vars=['RegionName', 'RegionID', 'SizeRank', 'City', 'State', 'Metro', 'CountyName'], var_name='time')\n",
    "    melted['time'] = pd.to_datetime(melted['time'], infer_datetime_format=True)\n",
    "    melted = melted.dropna(subset=['value'])\n",
    "    return melted.groupby('time').aggregate({'value':'mean'})"
   ]
  },
  {
   "cell_type": "code",
   "execution_count": 3,
   "metadata": {
    "ExecuteTime": {
     "end_time": "2022-05-04T16:42:43.680246Z",
     "start_time": "2022-05-04T16:42:43.678184Z"
    }
   },
   "outputs": [],
   "source": [
    "#function for displaying money in millions.\n",
    "def display_millions(x, pos):\n",
    "    return '${:1.1f}M'.format(x*1e-6)"
   ]
  },
  {
   "cell_type": "markdown",
   "metadata": {},
   "source": [
    "## Loading Data"
   ]
  },
  {
   "cell_type": "code",
   "execution_count": 4,
   "metadata": {
    "ExecuteTime": {
     "end_time": "2022-05-04T16:42:44.444436Z",
     "start_time": "2022-05-04T16:42:43.686124Z"
    }
   },
   "outputs": [],
   "source": [
    "import pandas as pd\n",
    "import numpy as np\n",
    "import matplotlib.pyplot as plt\n",
    "%matplotlib inline\n",
    "import matplotlib.ticker as mtick\n",
    "import seaborn as sns\n",
    "from statsmodels.tsa.stattools import adfuller\n",
    "\n",
    "plt.style.use('seaborn')\n",
    "pd.set_option('display.max_rows', 1500) #change the amount of rows displayed\n",
    "\n",
    "pd.options.display.float_format = '{:,.2f}'.format "
   ]
  },
  {
   "cell_type": "code",
   "execution_count": 5,
   "metadata": {
    "ExecuteTime": {
     "end_time": "2022-05-04T16:42:44.721893Z",
     "start_time": "2022-05-04T16:42:44.445425Z"
    }
   },
   "outputs": [],
   "source": [
    "df = pd.read_csv(\"zillow_data.csv\")"
   ]
  },
  {
   "cell_type": "code",
   "execution_count": 6,
   "metadata": {
    "ExecuteTime": {
     "end_time": "2022-05-04T16:42:44.736786Z",
     "start_time": "2022-05-04T16:42:44.723500Z"
    }
   },
   "outputs": [
    {
     "data": {
      "text/html": [
       "<div>\n",
       "<style scoped>\n",
       "    .dataframe tbody tr th:only-of-type {\n",
       "        vertical-align: middle;\n",
       "    }\n",
       "\n",
       "    .dataframe tbody tr th {\n",
       "        vertical-align: top;\n",
       "    }\n",
       "\n",
       "    .dataframe thead th {\n",
       "        text-align: right;\n",
       "    }\n",
       "</style>\n",
       "<table border=\"1\" class=\"dataframe\">\n",
       "  <thead>\n",
       "    <tr style=\"text-align: right;\">\n",
       "      <th></th>\n",
       "      <th>RegionID</th>\n",
       "      <th>RegionName</th>\n",
       "      <th>City</th>\n",
       "      <th>State</th>\n",
       "      <th>Metro</th>\n",
       "      <th>CountyName</th>\n",
       "      <th>SizeRank</th>\n",
       "      <th>1996-04</th>\n",
       "      <th>1996-05</th>\n",
       "      <th>1996-06</th>\n",
       "      <th>...</th>\n",
       "      <th>2017-07</th>\n",
       "      <th>2017-08</th>\n",
       "      <th>2017-09</th>\n",
       "      <th>2017-10</th>\n",
       "      <th>2017-11</th>\n",
       "      <th>2017-12</th>\n",
       "      <th>2018-01</th>\n",
       "      <th>2018-02</th>\n",
       "      <th>2018-03</th>\n",
       "      <th>2018-04</th>\n",
       "    </tr>\n",
       "  </thead>\n",
       "  <tbody>\n",
       "    <tr>\n",
       "      <th>0</th>\n",
       "      <td>84654</td>\n",
       "      <td>60657</td>\n",
       "      <td>Chicago</td>\n",
       "      <td>IL</td>\n",
       "      <td>Chicago</td>\n",
       "      <td>Cook</td>\n",
       "      <td>1</td>\n",
       "      <td>334,200.00</td>\n",
       "      <td>335,400.00</td>\n",
       "      <td>336,500.00</td>\n",
       "      <td>...</td>\n",
       "      <td>1005500</td>\n",
       "      <td>1007500</td>\n",
       "      <td>1007800</td>\n",
       "      <td>1009600</td>\n",
       "      <td>1013300</td>\n",
       "      <td>1018700</td>\n",
       "      <td>1024400</td>\n",
       "      <td>1030700</td>\n",
       "      <td>1033800</td>\n",
       "      <td>1030600</td>\n",
       "    </tr>\n",
       "    <tr>\n",
       "      <th>1</th>\n",
       "      <td>90668</td>\n",
       "      <td>75070</td>\n",
       "      <td>McKinney</td>\n",
       "      <td>TX</td>\n",
       "      <td>Dallas-Fort Worth</td>\n",
       "      <td>Collin</td>\n",
       "      <td>2</td>\n",
       "      <td>235,700.00</td>\n",
       "      <td>236,900.00</td>\n",
       "      <td>236,700.00</td>\n",
       "      <td>...</td>\n",
       "      <td>308000</td>\n",
       "      <td>310000</td>\n",
       "      <td>312500</td>\n",
       "      <td>314100</td>\n",
       "      <td>315000</td>\n",
       "      <td>316600</td>\n",
       "      <td>318100</td>\n",
       "      <td>319600</td>\n",
       "      <td>321100</td>\n",
       "      <td>321800</td>\n",
       "    </tr>\n",
       "    <tr>\n",
       "      <th>2</th>\n",
       "      <td>91982</td>\n",
       "      <td>77494</td>\n",
       "      <td>Katy</td>\n",
       "      <td>TX</td>\n",
       "      <td>Houston</td>\n",
       "      <td>Harris</td>\n",
       "      <td>3</td>\n",
       "      <td>210,400.00</td>\n",
       "      <td>212,200.00</td>\n",
       "      <td>212,200.00</td>\n",
       "      <td>...</td>\n",
       "      <td>321000</td>\n",
       "      <td>320600</td>\n",
       "      <td>320200</td>\n",
       "      <td>320400</td>\n",
       "      <td>320800</td>\n",
       "      <td>321200</td>\n",
       "      <td>321200</td>\n",
       "      <td>323000</td>\n",
       "      <td>326900</td>\n",
       "      <td>329900</td>\n",
       "    </tr>\n",
       "    <tr>\n",
       "      <th>3</th>\n",
       "      <td>84616</td>\n",
       "      <td>60614</td>\n",
       "      <td>Chicago</td>\n",
       "      <td>IL</td>\n",
       "      <td>Chicago</td>\n",
       "      <td>Cook</td>\n",
       "      <td>4</td>\n",
       "      <td>498,100.00</td>\n",
       "      <td>500,900.00</td>\n",
       "      <td>503,100.00</td>\n",
       "      <td>...</td>\n",
       "      <td>1289800</td>\n",
       "      <td>1287700</td>\n",
       "      <td>1287400</td>\n",
       "      <td>1291500</td>\n",
       "      <td>1296600</td>\n",
       "      <td>1299000</td>\n",
       "      <td>1302700</td>\n",
       "      <td>1306400</td>\n",
       "      <td>1308500</td>\n",
       "      <td>1307000</td>\n",
       "    </tr>\n",
       "    <tr>\n",
       "      <th>4</th>\n",
       "      <td>93144</td>\n",
       "      <td>79936</td>\n",
       "      <td>El Paso</td>\n",
       "      <td>TX</td>\n",
       "      <td>El Paso</td>\n",
       "      <td>El Paso</td>\n",
       "      <td>5</td>\n",
       "      <td>77,300.00</td>\n",
       "      <td>77,300.00</td>\n",
       "      <td>77,300.00</td>\n",
       "      <td>...</td>\n",
       "      <td>119100</td>\n",
       "      <td>119400</td>\n",
       "      <td>120000</td>\n",
       "      <td>120300</td>\n",
       "      <td>120300</td>\n",
       "      <td>120300</td>\n",
       "      <td>120300</td>\n",
       "      <td>120500</td>\n",
       "      <td>121000</td>\n",
       "      <td>121500</td>\n",
       "    </tr>\n",
       "  </tbody>\n",
       "</table>\n",
       "<p>5 rows × 272 columns</p>\n",
       "</div>"
      ],
      "text/plain": [
       "   RegionID  RegionName      City State              Metro CountyName  \\\n",
       "0     84654       60657   Chicago    IL            Chicago       Cook   \n",
       "1     90668       75070  McKinney    TX  Dallas-Fort Worth     Collin   \n",
       "2     91982       77494      Katy    TX            Houston     Harris   \n",
       "3     84616       60614   Chicago    IL            Chicago       Cook   \n",
       "4     93144       79936   El Paso    TX            El Paso    El Paso   \n",
       "\n",
       "   SizeRank    1996-04    1996-05    1996-06  ...  2017-07  2017-08  2017-09  \\\n",
       "0         1 334,200.00 335,400.00 336,500.00  ...  1005500  1007500  1007800   \n",
       "1         2 235,700.00 236,900.00 236,700.00  ...   308000   310000   312500   \n",
       "2         3 210,400.00 212,200.00 212,200.00  ...   321000   320600   320200   \n",
       "3         4 498,100.00 500,900.00 503,100.00  ...  1289800  1287700  1287400   \n",
       "4         5  77,300.00  77,300.00  77,300.00  ...   119100   119400   120000   \n",
       "\n",
       "   2017-10  2017-11  2017-12  2018-01  2018-02  2018-03  2018-04  \n",
       "0  1009600  1013300  1018700  1024400  1030700  1033800  1030600  \n",
       "1   314100   315000   316600   318100   319600   321100   321800  \n",
       "2   320400   320800   321200   321200   323000   326900   329900  \n",
       "3  1291500  1296600  1299000  1302700  1306400  1308500  1307000  \n",
       "4   120300   120300   120300   120300   120500   121000   121500  \n",
       "\n",
       "[5 rows x 272 columns]"
      ]
     },
     "execution_count": 6,
     "metadata": {},
     "output_type": "execute_result"
    }
   ],
   "source": [
    "df.head()"
   ]
  },
  {
   "cell_type": "markdown",
   "metadata": {},
   "source": [
    "##  Fixing RegionName\n",
    "A google search shows that RegionName is the ZipCode for each Region. However, upon sorting, I discovered that any ZipCode beginning with a 0 was ignoring it and displaying as a 4 digit number. I will use the .str().zfill() method to ensure that all RegionNames are displaying the as 5 digits."
   ]
  },
  {
   "cell_type": "code",
   "execution_count": 7,
   "metadata": {
    "ExecuteTime": {
     "end_time": "2022-05-04T16:42:44.754541Z",
     "start_time": "2022-05-04T16:42:44.738356Z"
    }
   },
   "outputs": [],
   "source": [
    "df['RegionName'] = df['RegionName'].astype(str).str.zfill(5)"
   ]
  },
  {
   "cell_type": "code",
   "execution_count": 8,
   "metadata": {
    "ExecuteTime": {
     "end_time": "2022-05-04T16:42:44.756763Z",
     "start_time": "2022-05-04T16:42:44.755536Z"
    }
   },
   "outputs": [],
   "source": [
    "# Change to ZipCode?"
   ]
  },
  {
   "cell_type": "markdown",
   "metadata": {},
   "source": [
    "## Checking for Null Values"
   ]
  },
  {
   "cell_type": "code",
   "execution_count": 9,
   "metadata": {
    "ExecuteTime": {
     "end_time": "2022-05-04T16:42:44.773106Z",
     "start_time": "2022-05-04T16:42:44.757688Z"
    }
   },
   "outputs": [
    {
     "data": {
      "text/plain": [
       "RegionID         0\n",
       "RegionName       0\n",
       "City             0\n",
       "State            0\n",
       "Metro         1043\n",
       "CountyName       0\n",
       "SizeRank         0\n",
       "1996-04       1039\n",
       "1996-05       1039\n",
       "1996-06       1039\n",
       "1996-07       1039\n",
       "1996-08       1039\n",
       "1996-09       1039\n",
       "1996-10       1039\n",
       "1996-11       1039\n",
       "1996-12       1039\n",
       "1997-01       1039\n",
       "1997-02       1039\n",
       "1997-03       1039\n",
       "1997-04       1039\n",
       "1997-05       1039\n",
       "1997-06       1039\n",
       "1997-07       1038\n",
       "1997-08       1038\n",
       "1997-09       1038\n",
       "1997-10       1038\n",
       "1997-11       1038\n",
       "1997-12       1038\n",
       "1998-01       1036\n",
       "1998-02       1036\n",
       "1998-03       1036\n",
       "1998-04       1036\n",
       "1998-05       1036\n",
       "1998-06       1036\n",
       "1998-07       1036\n",
       "1998-08       1036\n",
       "1998-09       1036\n",
       "1998-10       1036\n",
       "1998-11       1036\n",
       "1998-12       1036\n",
       "1999-01       1036\n",
       "1999-02       1036\n",
       "1999-03       1036\n",
       "1999-04       1036\n",
       "1999-05       1036\n",
       "1999-06       1036\n",
       "1999-07       1036\n",
       "1999-08       1036\n",
       "1999-09       1036\n",
       "1999-10       1036\n",
       "1999-11       1036\n",
       "1999-12       1036\n",
       "2000-01       1036\n",
       "2000-02       1036\n",
       "2000-03       1036\n",
       "2000-04       1036\n",
       "2000-05       1036\n",
       "2000-06       1036\n",
       "2000-07       1036\n",
       "2000-08       1036\n",
       "2000-09       1036\n",
       "2000-10       1036\n",
       "2000-11       1036\n",
       "2000-12       1036\n",
       "2001-01       1036\n",
       "2001-02       1036\n",
       "2001-03       1036\n",
       "2001-04       1036\n",
       "2001-05       1036\n",
       "2001-06       1036\n",
       "2001-07       1036\n",
       "2001-08       1036\n",
       "2001-09       1036\n",
       "2001-10       1036\n",
       "2001-11       1036\n",
       "2001-12       1036\n",
       "2002-01       1036\n",
       "2002-02       1036\n",
       "2002-03       1036\n",
       "2002-04       1036\n",
       "2002-05       1036\n",
       "2002-06       1036\n",
       "2002-07       1036\n",
       "2002-08       1036\n",
       "2002-09       1036\n",
       "2002-10       1036\n",
       "2002-11       1036\n",
       "2002-12       1036\n",
       "2003-01       1036\n",
       "2003-02       1036\n",
       "2003-03       1036\n",
       "2003-04       1036\n",
       "2003-05       1036\n",
       "2003-06       1036\n",
       "2003-07        918\n",
       "2003-08        918\n",
       "2003-09        918\n",
       "2003-10        918\n",
       "2003-11        918\n",
       "2003-12        918\n",
       "2004-01        887\n",
       "2004-02        887\n",
       "2004-03        887\n",
       "2004-04        887\n",
       "2004-05        887\n",
       "2004-06        887\n",
       "2004-07        866\n",
       "2004-08        866\n",
       "2004-09        866\n",
       "2004-10        866\n",
       "2004-11        866\n",
       "2004-12        866\n",
       "2005-01        814\n",
       "2005-02        814\n",
       "2005-03        801\n",
       "2005-04        801\n",
       "2005-05        801\n",
       "2005-06        801\n",
       "2005-07        723\n",
       "2005-08        723\n",
       "2005-09        723\n",
       "2005-10        723\n",
       "2005-11        723\n",
       "2005-12        723\n",
       "2006-01        667\n",
       "2006-02        667\n",
       "2006-03        667\n",
       "2006-04        667\n",
       "2006-05        667\n",
       "2006-06        667\n",
       "2006-07        640\n",
       "2006-08        640\n",
       "2006-09        640\n",
       "2006-10        640\n",
       "2006-11        640\n",
       "2006-12        640\n",
       "2007-01        620\n",
       "2007-02        620\n",
       "2007-03        620\n",
       "2007-04        620\n",
       "2007-05        620\n",
       "2007-06        620\n",
       "2007-07        613\n",
       "2007-08        613\n",
       "2007-09        613\n",
       "2007-10        613\n",
       "2007-11        613\n",
       "2007-12        613\n",
       "2008-01        607\n",
       "2008-02        607\n",
       "2008-03        607\n",
       "2008-04        607\n",
       "2008-05        607\n",
       "2008-06        607\n",
       "2008-07        598\n",
       "2008-08        598\n",
       "2008-09        598\n",
       "2008-10        598\n",
       "2008-11        598\n",
       "2008-12        598\n",
       "2009-01        587\n",
       "2009-02        587\n",
       "2009-03        587\n",
       "2009-04        587\n",
       "2009-05        587\n",
       "2009-06        587\n",
       "2009-07        580\n",
       "2009-08        580\n",
       "2009-09        580\n",
       "2009-10        580\n",
       "2009-11        580\n",
       "2009-12        580\n",
       "2010-01        579\n",
       "2010-02        579\n",
       "2010-03        349\n",
       "2010-04        349\n",
       "2010-05        349\n",
       "2010-06        349\n",
       "2010-07        308\n",
       "2010-08        308\n",
       "2010-09        308\n",
       "2010-10        308\n",
       "2010-11        308\n",
       "2010-12        308\n",
       "2011-01        275\n",
       "2011-02        275\n",
       "2011-03        275\n",
       "2011-04        275\n",
       "2011-05        275\n",
       "2011-06        275\n",
       "2011-07        251\n",
       "2011-08        251\n",
       "2011-09        251\n",
       "2011-10        251\n",
       "2011-11        251\n",
       "2011-12        251\n",
       "2012-01        224\n",
       "2012-02        224\n",
       "2012-03        224\n",
       "2012-04        224\n",
       "2012-05        224\n",
       "2012-06        224\n",
       "2012-07        206\n",
       "2012-08        206\n",
       "2012-09        206\n",
       "2012-10        206\n",
       "2012-11        206\n",
       "2012-12        206\n",
       "2013-01        151\n",
       "2013-02        151\n",
       "2013-03        151\n",
       "2013-04        151\n",
       "2013-05        151\n",
       "2013-06        151\n",
       "2013-07        109\n",
       "2013-08        109\n",
       "2013-09        109\n",
       "2013-10        109\n",
       "2013-11        109\n",
       "2013-12        109\n",
       "2014-01         56\n",
       "2014-02         56\n",
       "2014-03         56\n",
       "2014-04         56\n",
       "2014-05         56\n",
       "2014-06         56\n",
       "2014-07          0\n",
       "2014-08          0\n",
       "2014-09          0\n",
       "2014-10          0\n",
       "2014-11          0\n",
       "2014-12          0\n",
       "2015-01          0\n",
       "2015-02          0\n",
       "2015-03          0\n",
       "2015-04          0\n",
       "2015-05          0\n",
       "2015-06          0\n",
       "2015-07          0\n",
       "2015-08          0\n",
       "2015-09          0\n",
       "2015-10          0\n",
       "2015-11          0\n",
       "2015-12          0\n",
       "2016-01          0\n",
       "2016-02          0\n",
       "2016-03          0\n",
       "2016-04          0\n",
       "2016-05          0\n",
       "2016-06          0\n",
       "2016-07          0\n",
       "2016-08          0\n",
       "2016-09          0\n",
       "2016-10          0\n",
       "2016-11          0\n",
       "2016-12          0\n",
       "2017-01          0\n",
       "2017-02          0\n",
       "2017-03          0\n",
       "2017-04          0\n",
       "2017-05          0\n",
       "2017-06          0\n",
       "2017-07          0\n",
       "2017-08          0\n",
       "2017-09          0\n",
       "2017-10          0\n",
       "2017-11          0\n",
       "2017-12          0\n",
       "2018-01          0\n",
       "2018-02          0\n",
       "2018-03          0\n",
       "2018-04          0\n",
       "dtype: int64"
      ]
     },
     "execution_count": 9,
     "metadata": {},
     "output_type": "execute_result"
    }
   ],
   "source": [
    "df.isnull().sum()"
   ]
  },
  {
   "cell_type": "markdown",
   "metadata": {
    "ExecuteTime": {
     "end_time": "2022-05-02T18:37:24.860879Z",
     "start_time": "2022-05-02T18:37:24.837397Z"
    }
   },
   "source": [
    "### Analysis\n",
    "There are many Null Values. \n",
    "- For categorical data, 7% of Metro are null (1043 of 14,723).\n",
    "- Dates from 1996 - mid 2003, also have 7% null values.\n",
    "- Then it starts to get better. 6% null and decreasing.\n",
    "\n",
    "What is my decision on null values?\n",
    "- keep?\n",
    "- delete?\n",
    "- change (mean)?"
   ]
  },
  {
   "cell_type": "markdown",
   "metadata": {},
   "source": [
    "## Dealing with Nulls"
   ]
  },
  {
   "cell_type": "markdown",
   "metadata": {},
   "source": [
    "DEAL WITH NULLS HERE!"
   ]
  },
  {
   "cell_type": "markdown",
   "metadata": {},
   "source": [
    "### Metro"
   ]
  },
  {
   "cell_type": "code",
   "execution_count": 10,
   "metadata": {
    "ExecuteTime": {
     "end_time": "2022-05-04T16:42:44.783658Z",
     "start_time": "2022-05-04T16:42:44.774064Z"
    }
   },
   "outputs": [
    {
     "data": {
      "text/plain": [
       "New York                              779\n",
       "Los Angeles-Long Beach-Anaheim        347\n",
       "Chicago                               325\n",
       "Philadelphia                          281\n",
       "Washington                            249\n",
       "Boston                                246\n",
       "Dallas-Fort Worth                     217\n",
       "Minneapolis-St Paul                   201\n",
       "Houston                               187\n",
       "Pittsburgh                            177\n",
       "Miami-Fort Lauderdale                 162\n",
       "Portland                              161\n",
       "Detroit                               153\n",
       "Atlanta                               152\n",
       "Seattle                               141\n",
       "St. Louis                             140\n",
       "San Francisco                         134\n",
       "Kansas City                           127\n",
       "Phoenix                               126\n",
       "Baltimore                             122\n",
       "Tampa                                 118\n",
       "Riverside                             116\n",
       "Cincinnati                            109\n",
       "Denver                                106\n",
       "Rochester                             100\n",
       "Cleveland                              94\n",
       "Indianapolis                           92\n",
       "Sacramento                             92\n",
       "Albany                                 92\n",
       "Columbus                               90\n",
       "Springfield                            90\n",
       "Providence                             88\n",
       "San Diego                              87\n",
       "Orlando                                85\n",
       "Nashville                              85\n",
       "Charlotte                              81\n",
       "San Antonio                            78\n",
       "Worcester                              77\n",
       "Austin                                 76\n",
       "Oklahoma City                          73\n",
       "Milwaukee                              70\n",
       "Virginia Beach                         68\n",
       "Syracuse                               65\n",
       "Richmond                               64\n",
       "Jacksonville                           62\n",
       "Las Vegas                              61\n",
       "Birmingham                             60\n",
       "Buffalo                                58\n",
       "Knoxville                              57\n",
       "Charleston                             56\n",
       "San Jose                               55\n",
       "Allentown                              54\n",
       "Wichita                                54\n",
       "Louisville/Jefferson County            54\n",
       "Grand Rapids                           53\n",
       "Greenville                             51\n",
       "Tulsa                                  50\n",
       "Memphis                                49\n",
       "Madison                                49\n",
       "Omaha                                  47\n",
       "Dayton                                 45\n",
       "Jackson                                45\n",
       "New Orleans                            44\n",
       "Youngstown                             43\n",
       "Raleigh                                43\n",
       "Harrisburg                             42\n",
       "Baton Rouge                            42\n",
       "Scranton                               41\n",
       "Fresno                                 40\n",
       "Lancaster                              39\n",
       "Des Moines                             39\n",
       "Akron                                  39\n",
       "Tucson                                 38\n",
       "Salt Lake City                         37\n",
       "Claremont                              36\n",
       "Fayetteville                           36\n",
       "Toledo                                 36\n",
       "Colorado Springs                       35\n",
       "Reading                                35\n",
       "Hartford                               35\n",
       "Spokane                                34\n",
       "York                                   34\n",
       "Utica                                  34\n",
       "Fort Myers                             33\n",
       "Manchester                             33\n",
       "Cape Cod                               33\n",
       "Salem                                  33\n",
       "Lansing                                33\n",
       "North Port-Sarasota-Bradenton          33\n",
       "Columbia                               32\n",
       "Peoria                                 32\n",
       "Duluth                                 32\n",
       "Little Rock                            31\n",
       "Topeka                                 30\n",
       "Fort Wayne                             30\n",
       "Asheville                              29\n",
       "Chattanooga                            29\n",
       "Lakeland                               28\n",
       "Kingston                               28\n",
       "Albuquerque                            28\n",
       "Fort Smith                             28\n",
       "Roanoke                                27\n",
       "Bakersfield                            27\n",
       "Urban Honolulu                         27\n",
       "Athens                                 27\n",
       "New Haven                              27\n",
       "Winston-Salem                          26\n",
       "Watertown                              26\n",
       "Melbourne                              26\n",
       "Daytona Beach                          26\n",
       "Salisbury                              25\n",
       "Boise City                             25\n",
       "Durham                                 25\n",
       "Huntington                             25\n",
       "Santa Rosa                             25\n",
       "Stockton                               25\n",
       "Canton                                 25\n",
       "Huntsville                             24\n",
       "Kalamazoo                              24\n",
       "Lincoln                                24\n",
       "Monroe                                 24\n",
       "Binghamton                             24\n",
       "Myrtle Beach                           23\n",
       "Concord                                23\n",
       "Danville                               23\n",
       "Gainesville                            23\n",
       "Bloomington                            23\n",
       "Ventura                                23\n",
       "Augusta                                22\n",
       "Ocala                                  22\n",
       "Jamestown                              22\n",
       "Ogden                                  22\n",
       "Davenport                              22\n",
       "Corpus Christi                         22\n",
       "Auburn                                 21\n",
       "Beaumont                               21\n",
       "El Paso                                21\n",
       "Provo                                  21\n",
       "Florence                               21\n",
       "Lynchburg                              21\n",
       "Glens Falls                            21\n",
       "Cedar Rapids                           20\n",
       "East Stroudsburg                       20\n",
       "Charlottesville                        20\n",
       "Mobile                                 20\n",
       "Kingsport                              20\n",
       "Torrington                             20\n",
       "Rockford                               19\n",
       "Reno                                   19\n",
       "Visalia                                19\n",
       "Killeen                                19\n",
       "Brainerd                               19\n",
       "Greeley                                19\n",
       "New London                             19\n",
       "Modesto                                19\n",
       "Pittsfield                             18\n",
       "San Luis Obispo                        18\n",
       "Spartanburg                            18\n",
       "Eugene                                 18\n",
       "Greenfield Town                        18\n",
       "Atlantic City                          18\n",
       "Santa Maria-Santa Barbara              18\n",
       "Prescott                               18\n",
       "Lafayette                              18\n",
       "Tallahassee                            18\n",
       "Erie                                   18\n",
       "Flint                                  17\n",
       "Crestview-Fort Walton Beach-Destin     17\n",
       "Olean                                  17\n",
       "St. Cloud                              17\n",
       "Appleton                               17\n",
       "Johnstown                              17\n",
       "Somerset                               17\n",
       "New Castle                             17\n",
       "Savannah                               17\n",
       "Evansville                             17\n",
       "Longview                               17\n",
       "Port St. Lucie                         17\n",
       "Tuscaloosa                             17\n",
       "Trenton                                17\n",
       "Champaign-Urbana                       16\n",
       "Keene                                  16\n",
       "Anchorage                              16\n",
       "Marion                                 16\n",
       "Salinas                                16\n",
       "Lexington                              16\n",
       "Stamford                               16\n",
       "Waco                                   16\n",
       "Fort Collins                           16\n",
       "Ottawa                                 15\n",
       "Bremerton                              15\n",
       "Oneonta                                15\n",
       "Lubbock                                15\n",
       "Plattsburgh                            15\n",
       "Hudson                                 15\n",
       "Tyler                                  15\n",
       "Wilmington                             15\n",
       "Gulfport                               15\n",
       "Hagerstown                             15\n",
       "Sioux Falls                            15\n",
       "Green Bay                              14\n",
       "Naples                                 14\n",
       "Lafayette-West Lafayette               14\n",
       "Staunton                               14\n",
       "Yakima                                 14\n",
       "Boulder                                14\n",
       "Decatur                                14\n",
       "Corning                                14\n",
       "Ann Arbor                              14\n",
       "Roseburg                               14\n",
       "Hilo                                   14\n",
       "Ogdensburg                             14\n",
       "Pottsville                             14\n",
       "Pensacola                              14\n",
       "Newport                                13\n",
       "Beaver Dam                             13\n",
       "Iowa City                              13\n",
       "Bellingham                             13\n",
       "Logan                                  13\n",
       "Tupelo                                 13\n",
       "Hickory                                13\n",
       "Daphne                                 13\n",
       "Montgomery                             13\n",
       "Burlington                             13\n",
       "South Bend                             13\n",
       "Wooster                                13\n",
       "Fargo                                  13\n",
       "DuBois                                 13\n",
       "Clarksville                            12\n",
       "Hilton Head Island                     12\n",
       "Waterloo                               12\n",
       "Holland                                12\n",
       "Lewiston                               12\n",
       "Laconia                                12\n",
       "Dover                                  12\n",
       "Kapaa                                  12\n",
       "Punta Gorda                            12\n",
       "Meadville                              12\n",
       "Mount Vernon                           12\n",
       "Chico                                  12\n",
       "Racine                                 12\n",
       "Santa Cruz                             12\n",
       "Greensboro                             12\n",
       "Homosassa Springs                      12\n",
       "Ocean City                             12\n",
       "Wichita Falls                          12\n",
       "Warsaw                                 12\n",
       "Marshall                               11\n",
       "Vallejo                                11\n",
       "Sierra Vista                           11\n",
       "Elkhart                                11\n",
       "Amarillo                               11\n",
       "Abilene                                11\n",
       "Medford                                11\n",
       "Olympia                                11\n",
       "Eureka                                 11\n",
       "Morristown                             11\n",
       "Fremont                                11\n",
       "McAllen                                11\n",
       "Fond du Lac                            11\n",
       "Niles                                  11\n",
       "Orangeburg                             11\n",
       "Harrisonburg                           11\n",
       "Hutchinson                             11\n",
       "Joplin                                 11\n",
       "Ashtabula                              11\n",
       "Panama City                            11\n",
       "Missoula                               11\n",
       "College Station                        11\n",
       "Oshkosh                                10\n",
       "Merced                                 10\n",
       "Brownsville                            10\n",
       "Altoona                                10\n",
       "California-Lexington Park              10\n",
       "Mansfield                              10\n",
       "Lebanon                                10\n",
       "Johnson City                           10\n",
       "Gettysburg                             10\n",
       "Ames                                   10\n",
       "Fergus Falls                           10\n",
       "Aberdeen                               10\n",
       "Barre                                  10\n",
       "Williamsport                           10\n",
       "State College                          10\n",
       "Sault Ste. Marie                       10\n",
       "Berlin                                 10\n",
       "Whitewater                             10\n",
       "Palatka                                10\n",
       "Jefferson City                         10\n",
       "Muskegon                               10\n",
       "Saginaw                                10\n",
       "Lake Havasu City                       10\n",
       "Wausau                                  9\n",
       "Bangor                                  9\n",
       "Shreveport                              9\n",
       "Elmira                                  9\n",
       "Madera                                  9\n",
       "Kahului                                 9\n",
       "Glenwood Springs                        9\n",
       "Terre Haute                             9\n",
       "Boone                                   9\n",
       "Dunn                                    9\n",
       "St. Joseph                              9\n",
       "Forest City                             9\n",
       "Macon                                   9\n",
       "Lima                                    9\n",
       "Las Cruces                              9\n",
       "Winchester                              9\n",
       "Sheboygan                               9\n",
       "Tullahoma                               9\n",
       "Houma                                   9\n",
       "Cookeville                              9\n",
       "St. George                              9\n",
       "Adrian                                  9\n",
       "Sioux City                              9\n",
       "Dubuque                                 9\n",
       "Stevens Point                           9\n",
       "Lumberton                               9\n",
       "Coeur d'Alene                           9\n",
       "Jasper                                  9\n",
       "Grand Junction                          9\n",
       "Redding                                 8\n",
       "Warner Robins                           8\n",
       "Parkersburg                             8\n",
       "Port Clinton                            8\n",
       "Cambridge                               8\n",
       "Red Wing                                8\n",
       "Cumberland                              8\n",
       "Clearlake                               8\n",
       "Madisonville                            8\n",
       "Traverse City                           8\n",
       "Baraboo                                 8\n",
       "Pueblo                                  8\n",
       "Sunbury                                 8\n",
       "Truckee                                 8\n",
       "Lake Charles                            8\n",
       "Bellefontaine                           8\n",
       "Ithaca                                  8\n",
       "Vero Beach                              8\n",
       "Gardnerville Ranchos                    8\n",
       "Kalispell                               8\n",
       "Ionia                                   8\n",
       "Key West                                8\n",
       "Kennewick                               8\n",
       "Blacksburg                              8\n",
       "Centralia                               8\n",
       "Santa Fe                                8\n",
       "Sterling                                8\n",
       "Billings                                8\n",
       "Hillsdale                               8\n",
       "Seneca                                  8\n",
       "Kankakee                                8\n",
       "Midland                                 8\n",
       "Yuba City                               8\n",
       "Twin Falls                              7\n",
       "Alexandria                              7\n",
       "Pinehurst-Southern Pines                7\n",
       "Cullowhee                               7\n",
       "La Crosse                               7\n",
       "Big Rapids                              7\n",
       "Marquette                               7\n",
       "Dothan                                  7\n",
       "Dalton                                  7\n",
       "Greenwood                               7\n",
       "Idaho Falls                             7\n",
       "Show Low                                7\n",
       "Rocky Mount                             7\n",
       "Sayre                                   7\n",
       "Easton                                  7\n",
       "Bozeman                                 7\n",
       "Battle Creek                            7\n",
       "Paris                                   7\n",
       "Morehead City                           7\n",
       "Bend                                    7\n",
       "Chambersburg                            7\n",
       "Jefferson                               7\n",
       "Michigan City                           7\n",
       "Pontiac                                 7\n",
       "Wheeling                                7\n",
       "Napa                                    7\n",
       "Martinsville                            7\n",
       "Wenatchee                               7\n",
       "Lawrence                                7\n",
       "Texarkana                               7\n",
       "Quincy                                  7\n",
       "Faribault                               6\n",
       "Newton                                  6\n",
       "Farmington                              6\n",
       "Oak Harbor                              6\n",
       "Seymour                                 6\n",
       "Searcy                                  6\n",
       "Bradford                                6\n",
       "Ontario                                 6\n",
       "Eau Claire                              6\n",
       "Gadsden                                 6\n",
       "Branson                                 6\n",
       "Hermiston-Pendleton                     6\n",
       "Tahlequah                               6\n",
       "Sandpoint                               6\n",
       "Zanesville                              6\n",
       "Coos Bay                                6\n",
       "Beckley                                 6\n",
       "Bloomsburg                              6\n",
       "Sebring                                 6\n",
       "Ludington                               6\n",
       "Tiffin                                  6\n",
       "Shelby                                  6\n",
       "Ukiah                                   6\n",
       "Rome                                    6\n",
       "Mountain Home                           6\n",
       "Wapakoneta                              6\n",
       "Brunswick                               6\n",
       "Fairmont                                6\n",
       "Russellville                            6\n",
       "Flagstaff                               6\n",
       "Durant                                  6\n",
       "Elizabethtown                           6\n",
       "McPherson                               6\n",
       "Calhoun                                 6\n",
       "Angola                                  6\n",
       "Odessa                                  6\n",
       "Wisconsin Rapids-Marshfield             5\n",
       "Marietta                                5\n",
       "Owensboro                               5\n",
       "Yuma                                    5\n",
       "Mankato                                 5\n",
       "Hattiesburg                             5\n",
       "Bismarck                                5\n",
       "Klamath Falls                           5\n",
       "Bay City                                5\n",
       "New Bern                                5\n",
       "Greeneville                             5\n",
       "Moses Lake                              5\n",
       "Sandusky                                5\n",
       "Hammond                                 5\n",
       "Findlay                                 5\n",
       "Muncie                                  5\n",
       "Shelton                                 5\n",
       "Bartlesville                            5\n",
       "Martin                                  5\n",
       "Cadillac                                5\n",
       "Cornelia                                5\n",
       "Warrensburg                             5\n",
       "Sevierville                             5\n",
       "Cortland                                5\n",
       "Thomasville                             5\n",
       "Ellensburg                              5\n",
       "Plymouth                                5\n",
       "Lawrenceburg                            5\n",
       "Miami                                   5\n",
       "Great Falls                             5\n",
       "Fernley                                 5\n",
       "Shelbyville                             5\n",
       "Winona                                  5\n",
       "The Villages                            5\n",
       "El Centro                               5\n",
       "Wilson                                  5\n",
       "Willmar                                 5\n",
       "Ponca City                              5\n",
       "Carson City                             5\n",
       "Frankfort                               5\n",
       "Rexburg                                 5\n",
       "Oxford                                  5\n",
       "Oil City                                5\n",
       "Platteville                             5\n",
       "Hailey                                  5\n",
       "Victoria                                5\n",
       "San Angelo                              5\n",
       "Bardstown                               5\n",
       "Galesburg                               5\n",
       "Bowling Green                           5\n",
       "Coldwater                               5\n",
       "Stillwater                              5\n",
       "Sidney                                  5\n",
       "Vineyard Haven                          5\n",
       "Durango                                 5\n",
       "Newberry                                5\n",
       "Pittsburg                               4\n",
       "Mount Airy                              4\n",
       "Crawfordsville                          4\n",
       "Shawnee                                 4\n",
       "Kill Devil Hills                        4\n",
       "Goldsboro                               4\n",
       "Brevard                                 4\n",
       "Fairbanks                               4\n",
       "Astoria                                 4\n",
       "Owatonna                                4\n",
       "Chillicothe                             4\n",
       "Macomb                                  4\n",
       "Crossville                              4\n",
       "St. Marys                               4\n",
       "Albemarle                               4\n",
       "Casper                                  4\n",
       "Bedford                                 4\n",
       "Kokomo                                  4\n",
       "Vineland                                4\n",
       "Huntingdon                              4\n",
       "Bogalusa                                4\n",
       "Moultrie                                4\n",
       "Morgantown                              4\n",
       "Lawton                                  4\n",
       "Moscow                                  4\n",
       "Carbondale                              4\n",
       "Paducah                                 4\n",
       "Portsmouth                              4\n",
       "Cape Girardeau                          4\n",
       "LaGrange                                4\n",
       "Morgan City                             4\n",
       "Hot Springs                             4\n",
       "Marshalltown                            4\n",
       "Lake City                               4\n",
       "Weirton                                 4\n",
       "Union City                              4\n",
       "Burley                                  4\n",
       "Effingham                               4\n",
       "Helena                                  4\n",
       "Harrison                                4\n",
       "Kendallville                            4\n",
       "Ardmore                                 4\n",
       "Scottsbluff                             4\n",
       "Muskogee                                4\n",
       "Steamboat Springs                       4\n",
       "Hanford                                 4\n",
       "Meridian                                4\n",
       "Laredo                                  4\n",
       "Valdosta                                4\n",
       "El Campo                                4\n",
       "Douglas                                 4\n",
       "Walla Walla                             4\n",
       "Wabash                                  4\n",
       "Grants Pass                             4\n",
       "Blackfoot                               4\n",
       "McAlester                               3\n",
       "Logansport                              3\n",
       "Henderson                               3\n",
       "Port Lavaca                             3\n",
       "Muscatine                               3\n",
       "Laurel                                  3\n",
       "Brenham                                 3\n",
       "Bluefield                               3\n",
       "Corvallis                               3\n",
       "Coshocton                               3\n",
       "Nacogdoches                             3\n",
       "Hays                                    3\n",
       "Great Bend                              3\n",
       "Jonesboro                               3\n",
       "Elizabeth City                          3\n",
       "Pahrump                                 3\n",
       "Brownwood                               3\n",
       "Natchez                                 3\n",
       "Garden City                             3\n",
       "Bemidji                                 3\n",
       "Cheyenne                                3\n",
       "Rolla                                   3\n",
       "Rapid City                              3\n",
       "Manitowoc                               3\n",
       "Ada                                     3\n",
       "West Plains                             3\n",
       "Grand Island                            3\n",
       "Safford                                 3\n",
       "Hannibal                                3\n",
       "Peru                                    3\n",
       "Riverton                                3\n",
       "Mason City                              3\n",
       "Cedartown                               3\n",
       "Pocatello                               3\n",
       "Brookings                               3\n",
       "McComb                                  3\n",
       "Fort Polk South                         3\n",
       "Palestine                               3\n",
       "Manhattan                               3\n",
       "Port Angeles                            3\n",
       "Montrose                                3\n",
       "Corsicana                               3\n",
       "Van Wert                                3\n",
       "Statesboro                              3\n",
       "Clinton                                 3\n",
       "De Ridder                               3\n",
       "Ruston                                  3\n",
       "Toccoa                                  3\n",
       "Fort Leonard Wood                       3\n",
       "Duncan                                  3\n",
       "McMinnville                             3\n",
       "Fort Dodge                              3\n",
       "Vincennes                               3\n",
       "Lewisburg                               3\n",
       "Plainview                               2\n",
       "Tifton                                  2\n",
       "Murray                                  2\n",
       "Waycross                                2\n",
       "Batesville                              2\n",
       "North Vernon                            2\n",
       "Hinesville                              2\n",
       "Heber                                   2\n",
       "Dumas                                   2\n",
       "Defiance                                2\n",
       "Elko                                    2\n",
       "Evanston                                2\n",
       "Kerrville                               2\n",
       "Payson                                  2\n",
       "Cedar City                              2\n",
       "Georgetown                              2\n",
       "Arcadia                                 2\n",
       "Sanford                                 2\n",
       "Gillette                                2\n",
       "Summit Park                             2\n",
       "Rock Springs                            2\n",
       "La Grande                               2\n",
       "Atchison                                2\n",
       "Brookhaven                              2\n",
       "Grenada                                 2\n",
       "Sikeston                                2\n",
       "Junction City                           2\n",
       "Altus                                   2\n",
       "Thomaston                               2\n",
       "Sumter                                  2\n",
       "Lufkin                                  2\n",
       "Parsons                                 2\n",
       "Picayune                                2\n",
       "Nogales                                 2\n",
       "Clewiston                               2\n",
       "Mexico                                  2\n",
       "Rio Grande City                         2\n",
       "Laramie                                 2\n",
       "Enid                                    2\n",
       "Mineral Wells                           2\n",
       "Ottumwa                                 2\n",
       "Prineville                              2\n",
       "Minot                                   2\n",
       "Washington Court House                  2\n",
       "Woodward                                2\n",
       "New Philadelphia                        2\n",
       "Levelland                               2\n",
       "Dyersburg                               2\n",
       "Norfolk                                 2\n",
       "Grand Forks                             2\n",
       "Hood River                              2\n",
       "Susanville                              2\n",
       "Natchitoches                            2\n",
       "Kennett                                 2\n",
       "Arkansas City-Winfield                  2\n",
       "Okeechobee                              2\n",
       "Dublin                                  2\n",
       "Moberly                                 2\n",
       "Jesup                                   2\n",
       "Wahpeton                                1\n",
       "Sheridan                                1\n",
       "Williston                               1\n",
       "Greensburg                              1\n",
       "Houghton                                1\n",
       "Stephenville                            1\n",
       "Dodge City                              1\n",
       "Silver City                             1\n",
       "Beeville                                1\n",
       "Kingsville                              1\n",
       "Dickinson                               1\n",
       "Gallup                                  1\n",
       "Pampa                                   1\n",
       "Cullman                                 1\n",
       "Ketchikan                               1\n",
       "Eagle Pass                              1\n",
       "Borger                                  1\n",
       "Sedalia                                 1\n",
       "Pullman                                 1\n",
       "Indianola                               1\n",
       "Fredericksburg                          1\n",
       "Connersville                            1\n",
       "Fort Madison                            1\n",
       "Mount Pleasant                          1\n",
       "Opelousas                               1\n",
       "Grants                                  1\n",
       "Liberal                                 1\n",
       "Emporia                                 1\n",
       "Uvalde                                  1\n",
       "Bastrop                                 1\n",
       "Salina                                  1\n",
       "Juneau                                  1\n",
       "Starkville                              1\n",
       "Poplar Bluff                            1\n",
       "Alice                                   1\n",
       "Corinth                                 1\n",
       "Coffeyville                             1\n",
       "Del Rio                                 1\n",
       "Paragould                               1\n",
       "Lamesa                                  1\n",
       "Hereford                                1\n",
       "Yankton                                 1\n",
       "Los Alamos                              1\n",
       "Sweetwater                              1\n",
       "Milledgeville                           1\n",
       "Espanola                                1\n",
       "The Dalles                              1\n",
       "Clarksdale                              1\n",
       "Vernal                                  1\n",
       "Price                                   1\n",
       "Vernon                                  1\n",
       "New Ulm                                 1\n",
       "Alamogordo                              1\n",
       "North Platte                            1\n",
       "Deming                                  1\n",
       "Vicksburg                               1\n",
       "Name: Metro, dtype: int64"
      ]
     },
     "execution_count": 10,
     "metadata": {},
     "output_type": "execute_result"
    }
   ],
   "source": [
    "df['Metro'].value_counts()"
   ]
  },
  {
   "cell_type": "code",
   "execution_count": 11,
   "metadata": {
    "ExecuteTime": {
     "end_time": "2022-05-04T16:42:44.818709Z",
     "start_time": "2022-05-04T16:42:44.785968Z"
    }
   },
   "outputs": [
    {
     "data": {
      "text/html": [
       "<div>\n",
       "<style scoped>\n",
       "    .dataframe tbody tr th:only-of-type {\n",
       "        vertical-align: middle;\n",
       "    }\n",
       "\n",
       "    .dataframe tbody tr th {\n",
       "        vertical-align: top;\n",
       "    }\n",
       "\n",
       "    .dataframe thead th {\n",
       "        text-align: right;\n",
       "    }\n",
       "</style>\n",
       "<table border=\"1\" class=\"dataframe\">\n",
       "  <thead>\n",
       "    <tr style=\"text-align: right;\">\n",
       "      <th></th>\n",
       "      <th>RegionID</th>\n",
       "      <th>RegionName</th>\n",
       "      <th>City</th>\n",
       "      <th>State</th>\n",
       "      <th>Metro</th>\n",
       "      <th>CountyName</th>\n",
       "      <th>SizeRank</th>\n",
       "      <th>1996-04</th>\n",
       "      <th>1996-05</th>\n",
       "      <th>1996-06</th>\n",
       "      <th>...</th>\n",
       "      <th>2017-07</th>\n",
       "      <th>2017-08</th>\n",
       "      <th>2017-09</th>\n",
       "      <th>2017-10</th>\n",
       "      <th>2017-11</th>\n",
       "      <th>2017-12</th>\n",
       "      <th>2018-01</th>\n",
       "      <th>2018-02</th>\n",
       "      <th>2018-03</th>\n",
       "      <th>2018-04</th>\n",
       "    </tr>\n",
       "  </thead>\n",
       "  <tbody>\n",
       "    <tr>\n",
       "      <th>14684</th>\n",
       "      <td>70215</td>\n",
       "      <td>28775</td>\n",
       "      <td>Scaly Mountain</td>\n",
       "      <td>NC</td>\n",
       "      <td>NaN</td>\n",
       "      <td>Macon</td>\n",
       "      <td>14685</td>\n",
       "      <td>71,800.00</td>\n",
       "      <td>71,900.00</td>\n",
       "      <td>72,000.00</td>\n",
       "      <td>...</td>\n",
       "      <td>215900</td>\n",
       "      <td>215600</td>\n",
       "      <td>217400</td>\n",
       "      <td>219700</td>\n",
       "      <td>218900</td>\n",
       "      <td>215100</td>\n",
       "      <td>211400</td>\n",
       "      <td>213000</td>\n",
       "      <td>216500</td>\n",
       "      <td>216700</td>\n",
       "    </tr>\n",
       "    <tr>\n",
       "      <th>14694</th>\n",
       "      <td>99114</td>\n",
       "      <td>97149</td>\n",
       "      <td>Neskowin</td>\n",
       "      <td>OR</td>\n",
       "      <td>NaN</td>\n",
       "      <td>Tillamook</td>\n",
       "      <td>14695</td>\n",
       "      <td>187,900.00</td>\n",
       "      <td>188,900.00</td>\n",
       "      <td>189,700.00</td>\n",
       "      <td>...</td>\n",
       "      <td>394800</td>\n",
       "      <td>399000</td>\n",
       "      <td>402900</td>\n",
       "      <td>408800</td>\n",
       "      <td>418900</td>\n",
       "      <td>428100</td>\n",
       "      <td>433000</td>\n",
       "      <td>431600</td>\n",
       "      <td>421600</td>\n",
       "      <td>413400</td>\n",
       "    </tr>\n",
       "    <tr>\n",
       "      <th>14710</th>\n",
       "      <td>59210</td>\n",
       "      <td>03812</td>\n",
       "      <td>Bartlett</td>\n",
       "      <td>NH</td>\n",
       "      <td>NaN</td>\n",
       "      <td>Carroll</td>\n",
       "      <td>14711</td>\n",
       "      <td>80,900.00</td>\n",
       "      <td>80,800.00</td>\n",
       "      <td>80,800.00</td>\n",
       "      <td>...</td>\n",
       "      <td>215500</td>\n",
       "      <td>217000</td>\n",
       "      <td>219200</td>\n",
       "      <td>221700</td>\n",
       "      <td>223600</td>\n",
       "      <td>224800</td>\n",
       "      <td>226000</td>\n",
       "      <td>226900</td>\n",
       "      <td>227700</td>\n",
       "      <td>228000</td>\n",
       "    </tr>\n",
       "    <tr>\n",
       "      <th>14717</th>\n",
       "      <td>62697</td>\n",
       "      <td>12720</td>\n",
       "      <td>Bethel</td>\n",
       "      <td>NY</td>\n",
       "      <td>NaN</td>\n",
       "      <td>Sullivan</td>\n",
       "      <td>14718</td>\n",
       "      <td>62,500.00</td>\n",
       "      <td>62,600.00</td>\n",
       "      <td>62,700.00</td>\n",
       "      <td>...</td>\n",
       "      <td>122200</td>\n",
       "      <td>122700</td>\n",
       "      <td>122300</td>\n",
       "      <td>122000</td>\n",
       "      <td>122200</td>\n",
       "      <td>122800</td>\n",
       "      <td>123200</td>\n",
       "      <td>123200</td>\n",
       "      <td>120700</td>\n",
       "      <td>117700</td>\n",
       "    </tr>\n",
       "    <tr>\n",
       "      <th>14721</th>\n",
       "      <td>93733</td>\n",
       "      <td>81225</td>\n",
       "      <td>Mount Crested Butte</td>\n",
       "      <td>CO</td>\n",
       "      <td>NaN</td>\n",
       "      <td>Gunnison</td>\n",
       "      <td>14722</td>\n",
       "      <td>191,100.00</td>\n",
       "      <td>192,400.00</td>\n",
       "      <td>193,700.00</td>\n",
       "      <td>...</td>\n",
       "      <td>662800</td>\n",
       "      <td>671200</td>\n",
       "      <td>682400</td>\n",
       "      <td>695600</td>\n",
       "      <td>695500</td>\n",
       "      <td>694700</td>\n",
       "      <td>706400</td>\n",
       "      <td>705300</td>\n",
       "      <td>681500</td>\n",
       "      <td>664400</td>\n",
       "    </tr>\n",
       "  </tbody>\n",
       "</table>\n",
       "<p>5 rows × 272 columns</p>\n",
       "</div>"
      ],
      "text/plain": [
       "       RegionID RegionName                 City State Metro CountyName  \\\n",
       "14684     70215      28775       Scaly Mountain    NC   NaN      Macon   \n",
       "14694     99114      97149             Neskowin    OR   NaN  Tillamook   \n",
       "14710     59210      03812             Bartlett    NH   NaN    Carroll   \n",
       "14717     62697      12720               Bethel    NY   NaN   Sullivan   \n",
       "14721     93733      81225  Mount Crested Butte    CO   NaN   Gunnison   \n",
       "\n",
       "       SizeRank    1996-04    1996-05    1996-06  ...  2017-07  2017-08  \\\n",
       "14684     14685  71,800.00  71,900.00  72,000.00  ...   215900   215600   \n",
       "14694     14695 187,900.00 188,900.00 189,700.00  ...   394800   399000   \n",
       "14710     14711  80,900.00  80,800.00  80,800.00  ...   215500   217000   \n",
       "14717     14718  62,500.00  62,600.00  62,700.00  ...   122200   122700   \n",
       "14721     14722 191,100.00 192,400.00 193,700.00  ...   662800   671200   \n",
       "\n",
       "       2017-09  2017-10  2017-11  2017-12  2018-01  2018-02  2018-03  2018-04  \n",
       "14684   217400   219700   218900   215100   211400   213000   216500   216700  \n",
       "14694   402900   408800   418900   428100   433000   431600   421600   413400  \n",
       "14710   219200   221700   223600   224800   226000   226900   227700   228000  \n",
       "14717   122300   122000   122200   122800   123200   123200   120700   117700  \n",
       "14721   682400   695600   695500   694700   706400   705300   681500   664400  \n",
       "\n",
       "[5 rows x 272 columns]"
      ]
     },
     "execution_count": 11,
     "metadata": {},
     "output_type": "execute_result"
    }
   ],
   "source": [
    "df.sort_values('Metro').tail()"
   ]
  },
  {
   "cell_type": "markdown",
   "metadata": {},
   "source": [
    "### Analysis:\n",
    "- I think it's okay to leave the NaN values for now as these records appear to be in rural areas where there wouldn't be close enough to a city to be considered part of the Metro area. \n",
    "- I only plan on using Metro area to look at cities anyway, so there shouldn't be a penalty or unneccessary exlusion on any of the records lacking Metro values"
   ]
  },
  {
   "cell_type": "markdown",
   "metadata": {},
   "source": [
    "# Creating Avg_home_df\n",
    "- Create Dataset that is just the mean values to do analysis of trends, etc for baseline.\n",
    "- then I can look for zip codes that have the best performance above and beyong baseline."
   ]
  },
  {
   "cell_type": "code",
   "execution_count": 17,
   "metadata": {
    "ExecuteTime": {
     "end_time": "2022-05-04T16:44:41.448806Z",
     "start_time": "2022-05-04T16:44:41.421620Z"
    }
   },
   "outputs": [
    {
     "data": {
      "text/html": [
       "<div>\n",
       "<style scoped>\n",
       "    .dataframe tbody tr th:only-of-type {\n",
       "        vertical-align: middle;\n",
       "    }\n",
       "\n",
       "    .dataframe tbody tr th {\n",
       "        vertical-align: top;\n",
       "    }\n",
       "\n",
       "    .dataframe thead th {\n",
       "        text-align: right;\n",
       "    }\n",
       "</style>\n",
       "<table border=\"1\" class=\"dataframe\">\n",
       "  <thead>\n",
       "    <tr style=\"text-align: right;\">\n",
       "      <th></th>\n",
       "      <th>RegionID</th>\n",
       "      <th>RegionName</th>\n",
       "      <th>City</th>\n",
       "      <th>State</th>\n",
       "      <th>Metro</th>\n",
       "      <th>CountyName</th>\n",
       "      <th>SizeRank</th>\n",
       "      <th>1996-04</th>\n",
       "      <th>1996-05</th>\n",
       "      <th>1996-06</th>\n",
       "      <th>...</th>\n",
       "      <th>2017-07</th>\n",
       "      <th>2017-08</th>\n",
       "      <th>2017-09</th>\n",
       "      <th>2017-10</th>\n",
       "      <th>2017-11</th>\n",
       "      <th>2017-12</th>\n",
       "      <th>2018-01</th>\n",
       "      <th>2018-02</th>\n",
       "      <th>2018-03</th>\n",
       "      <th>2018-04</th>\n",
       "    </tr>\n",
       "  </thead>\n",
       "  <tbody>\n",
       "    <tr>\n",
       "      <th>0</th>\n",
       "      <td>84654</td>\n",
       "      <td>60657</td>\n",
       "      <td>Chicago</td>\n",
       "      <td>IL</td>\n",
       "      <td>Chicago</td>\n",
       "      <td>Cook</td>\n",
       "      <td>1</td>\n",
       "      <td>334,200.00</td>\n",
       "      <td>335,400.00</td>\n",
       "      <td>336,500.00</td>\n",
       "      <td>...</td>\n",
       "      <td>1005500</td>\n",
       "      <td>1007500</td>\n",
       "      <td>1007800</td>\n",
       "      <td>1009600</td>\n",
       "      <td>1013300</td>\n",
       "      <td>1018700</td>\n",
       "      <td>1024400</td>\n",
       "      <td>1030700</td>\n",
       "      <td>1033800</td>\n",
       "      <td>1030600</td>\n",
       "    </tr>\n",
       "    <tr>\n",
       "      <th>1</th>\n",
       "      <td>90668</td>\n",
       "      <td>75070</td>\n",
       "      <td>McKinney</td>\n",
       "      <td>TX</td>\n",
       "      <td>Dallas-Fort Worth</td>\n",
       "      <td>Collin</td>\n",
       "      <td>2</td>\n",
       "      <td>235,700.00</td>\n",
       "      <td>236,900.00</td>\n",
       "      <td>236,700.00</td>\n",
       "      <td>...</td>\n",
       "      <td>308000</td>\n",
       "      <td>310000</td>\n",
       "      <td>312500</td>\n",
       "      <td>314100</td>\n",
       "      <td>315000</td>\n",
       "      <td>316600</td>\n",
       "      <td>318100</td>\n",
       "      <td>319600</td>\n",
       "      <td>321100</td>\n",
       "      <td>321800</td>\n",
       "    </tr>\n",
       "    <tr>\n",
       "      <th>2</th>\n",
       "      <td>91982</td>\n",
       "      <td>77494</td>\n",
       "      <td>Katy</td>\n",
       "      <td>TX</td>\n",
       "      <td>Houston</td>\n",
       "      <td>Harris</td>\n",
       "      <td>3</td>\n",
       "      <td>210,400.00</td>\n",
       "      <td>212,200.00</td>\n",
       "      <td>212,200.00</td>\n",
       "      <td>...</td>\n",
       "      <td>321000</td>\n",
       "      <td>320600</td>\n",
       "      <td>320200</td>\n",
       "      <td>320400</td>\n",
       "      <td>320800</td>\n",
       "      <td>321200</td>\n",
       "      <td>321200</td>\n",
       "      <td>323000</td>\n",
       "      <td>326900</td>\n",
       "      <td>329900</td>\n",
       "    </tr>\n",
       "    <tr>\n",
       "      <th>3</th>\n",
       "      <td>84616</td>\n",
       "      <td>60614</td>\n",
       "      <td>Chicago</td>\n",
       "      <td>IL</td>\n",
       "      <td>Chicago</td>\n",
       "      <td>Cook</td>\n",
       "      <td>4</td>\n",
       "      <td>498,100.00</td>\n",
       "      <td>500,900.00</td>\n",
       "      <td>503,100.00</td>\n",
       "      <td>...</td>\n",
       "      <td>1289800</td>\n",
       "      <td>1287700</td>\n",
       "      <td>1287400</td>\n",
       "      <td>1291500</td>\n",
       "      <td>1296600</td>\n",
       "      <td>1299000</td>\n",
       "      <td>1302700</td>\n",
       "      <td>1306400</td>\n",
       "      <td>1308500</td>\n",
       "      <td>1307000</td>\n",
       "    </tr>\n",
       "    <tr>\n",
       "      <th>4</th>\n",
       "      <td>93144</td>\n",
       "      <td>79936</td>\n",
       "      <td>El Paso</td>\n",
       "      <td>TX</td>\n",
       "      <td>El Paso</td>\n",
       "      <td>El Paso</td>\n",
       "      <td>5</td>\n",
       "      <td>77,300.00</td>\n",
       "      <td>77,300.00</td>\n",
       "      <td>77,300.00</td>\n",
       "      <td>...</td>\n",
       "      <td>119100</td>\n",
       "      <td>119400</td>\n",
       "      <td>120000</td>\n",
       "      <td>120300</td>\n",
       "      <td>120300</td>\n",
       "      <td>120300</td>\n",
       "      <td>120300</td>\n",
       "      <td>120500</td>\n",
       "      <td>121000</td>\n",
       "      <td>121500</td>\n",
       "    </tr>\n",
       "  </tbody>\n",
       "</table>\n",
       "<p>5 rows × 272 columns</p>\n",
       "</div>"
      ],
      "text/plain": [
       "   RegionID RegionName      City State              Metro CountyName  \\\n",
       "0     84654      60657   Chicago    IL            Chicago       Cook   \n",
       "1     90668      75070  McKinney    TX  Dallas-Fort Worth     Collin   \n",
       "2     91982      77494      Katy    TX            Houston     Harris   \n",
       "3     84616      60614   Chicago    IL            Chicago       Cook   \n",
       "4     93144      79936   El Paso    TX            El Paso    El Paso   \n",
       "\n",
       "   SizeRank    1996-04    1996-05    1996-06  ...  2017-07  2017-08  2017-09  \\\n",
       "0         1 334,200.00 335,400.00 336,500.00  ...  1005500  1007500  1007800   \n",
       "1         2 235,700.00 236,900.00 236,700.00  ...   308000   310000   312500   \n",
       "2         3 210,400.00 212,200.00 212,200.00  ...   321000   320600   320200   \n",
       "3         4 498,100.00 500,900.00 503,100.00  ...  1289800  1287700  1287400   \n",
       "4         5  77,300.00  77,300.00  77,300.00  ...   119100   119400   120000   \n",
       "\n",
       "   2017-10  2017-11  2017-12  2018-01  2018-02  2018-03  2018-04  \n",
       "0  1009600  1013300  1018700  1024400  1030700  1033800  1030600  \n",
       "1   314100   315000   316600   318100   319600   321100   321800  \n",
       "2   320400   320800   321200   321200   323000   326900   329900  \n",
       "3  1291500  1296600  1299000  1302700  1306400  1308500  1307000  \n",
       "4   120300   120300   120300   120300   120500   121000   121500  \n",
       "\n",
       "[5 rows x 272 columns]"
      ]
     },
     "execution_count": 17,
     "metadata": {},
     "output_type": "execute_result"
    }
   ],
   "source": [
    "df.head()"
   ]
  },
  {
   "cell_type": "code",
   "execution_count": 23,
   "metadata": {
    "ExecuteTime": {
     "end_time": "2022-05-04T16:47:36.485031Z",
     "start_time": "2022-05-04T16:47:36.458854Z"
    }
   },
   "outputs": [],
   "source": [
    "df_value = df.drop(columns=['RegionID', 'RegionName', 'City', 'State', 'Metro', 'CountyName', 'SizeRank'])"
   ]
  },
  {
   "cell_type": "code",
   "execution_count": 29,
   "metadata": {
    "ExecuteTime": {
     "end_time": "2022-05-04T16:49:44.750350Z",
     "start_time": "2022-05-04T16:49:44.704924Z"
    }
   },
   "outputs": [],
   "source": [
    "avg_home_df = pd.DataFrame(df_value.mean())"
   ]
  },
  {
   "cell_type": "code",
   "execution_count": 30,
   "metadata": {
    "ExecuteTime": {
     "end_time": "2022-05-04T16:49:50.496588Z",
     "start_time": "2022-05-04T16:49:50.482843Z"
    }
   },
   "outputs": [
    {
     "name": "stdout",
     "output_type": "stream",
     "text": [
      "<class 'pandas.core.frame.DataFrame'>\n",
      "Index: 265 entries, 1996-04 to 2018-04\n",
      "Data columns (total 1 columns):\n",
      " #   Column  Non-Null Count  Dtype  \n",
      "---  ------  --------------  -----  \n",
      " 0   0       265 non-null    float64\n",
      "dtypes: float64(1)\n",
      "memory usage: 14.1+ KB\n"
     ]
    }
   ],
   "source": [
    "avg_home_df.info()"
   ]
  },
  {
   "cell_type": "code",
   "execution_count": 31,
   "metadata": {
    "ExecuteTime": {
     "end_time": "2022-05-04T16:50:10.566783Z",
     "start_time": "2022-05-04T16:50:10.553509Z"
    }
   },
   "outputs": [
    {
     "data": {
      "text/html": [
       "<div>\n",
       "<style scoped>\n",
       "    .dataframe tbody tr th:only-of-type {\n",
       "        vertical-align: middle;\n",
       "    }\n",
       "\n",
       "    .dataframe tbody tr th {\n",
       "        vertical-align: top;\n",
       "    }\n",
       "\n",
       "    .dataframe thead th {\n",
       "        text-align: right;\n",
       "    }\n",
       "</style>\n",
       "<table border=\"1\" class=\"dataframe\">\n",
       "  <thead>\n",
       "    <tr style=\"text-align: right;\">\n",
       "      <th></th>\n",
       "      <th>0</th>\n",
       "    </tr>\n",
       "  </thead>\n",
       "  <tbody>\n",
       "    <tr>\n",
       "      <th>1996-04</th>\n",
       "      <td>118,299.12</td>\n",
       "    </tr>\n",
       "    <tr>\n",
       "      <th>1996-05</th>\n",
       "      <td>118,419.04</td>\n",
       "    </tr>\n",
       "    <tr>\n",
       "      <th>1996-06</th>\n",
       "      <td>118,537.42</td>\n",
       "    </tr>\n",
       "    <tr>\n",
       "      <th>1996-07</th>\n",
       "      <td>118,653.07</td>\n",
       "    </tr>\n",
       "    <tr>\n",
       "      <th>1996-08</th>\n",
       "      <td>118,780.25</td>\n",
       "    </tr>\n",
       "  </tbody>\n",
       "</table>\n",
       "</div>"
      ],
      "text/plain": [
       "                 0\n",
       "1996-04 118,299.12\n",
       "1996-05 118,419.04\n",
       "1996-06 118,537.42\n",
       "1996-07 118,653.07\n",
       "1996-08 118,780.25"
      ]
     },
     "execution_count": 31,
     "metadata": {},
     "output_type": "execute_result"
    }
   ],
   "source": [
    "avg_home_df.head()"
   ]
  },
  {
   "cell_type": "code",
   "execution_count": 33,
   "metadata": {
    "ExecuteTime": {
     "end_time": "2022-05-04T16:51:56.337762Z",
     "start_time": "2022-05-04T16:51:56.313659Z"
    }
   },
   "outputs": [
    {
     "data": {
      "text/html": [
       "<div>\n",
       "<style scoped>\n",
       "    .dataframe tbody tr th:only-of-type {\n",
       "        vertical-align: middle;\n",
       "    }\n",
       "\n",
       "    .dataframe tbody tr th {\n",
       "        vertical-align: top;\n",
       "    }\n",
       "\n",
       "    .dataframe thead th {\n",
       "        text-align: right;\n",
       "    }\n",
       "</style>\n",
       "<table border=\"1\" class=\"dataframe\">\n",
       "  <thead>\n",
       "    <tr style=\"text-align: right;\">\n",
       "      <th></th>\n",
       "      <th>index</th>\n",
       "      <th>0</th>\n",
       "      <th>time</th>\n",
       "    </tr>\n",
       "  </thead>\n",
       "  <tbody>\n",
       "    <tr>\n",
       "      <th>0</th>\n",
       "      <td>1996-04</td>\n",
       "      <td>118,299.12</td>\n",
       "      <td>1996-04-01</td>\n",
       "    </tr>\n",
       "    <tr>\n",
       "      <th>1</th>\n",
       "      <td>1996-05</td>\n",
       "      <td>118,419.04</td>\n",
       "      <td>1996-05-01</td>\n",
       "    </tr>\n",
       "    <tr>\n",
       "      <th>2</th>\n",
       "      <td>1996-06</td>\n",
       "      <td>118,537.42</td>\n",
       "      <td>1996-06-01</td>\n",
       "    </tr>\n",
       "    <tr>\n",
       "      <th>3</th>\n",
       "      <td>1996-07</td>\n",
       "      <td>118,653.07</td>\n",
       "      <td>1996-07-01</td>\n",
       "    </tr>\n",
       "    <tr>\n",
       "      <th>4</th>\n",
       "      <td>1996-08</td>\n",
       "      <td>118,780.25</td>\n",
       "      <td>1996-08-01</td>\n",
       "    </tr>\n",
       "  </tbody>\n",
       "</table>\n",
       "</div>"
      ],
      "text/plain": [
       "     index          0       time\n",
       "0  1996-04 118,299.12 1996-04-01\n",
       "1  1996-05 118,419.04 1996-05-01\n",
       "2  1996-06 118,537.42 1996-06-01\n",
       "3  1996-07 118,653.07 1996-07-01\n",
       "4  1996-08 118,780.25 1996-08-01"
      ]
     },
     "execution_count": 33,
     "metadata": {},
     "output_type": "execute_result"
    }
   ],
   "source": [
    "avg_home_df = avg_home_df.reset_index()\n",
    "avg_home_df['time'] = pd.to_datetime(avg_home_df['index'])\n",
    "avg_home_df.head()"
   ]
  },
  {
   "cell_type": "code",
   "execution_count": 34,
   "metadata": {
    "ExecuteTime": {
     "end_time": "2022-05-04T16:52:07.512443Z",
     "start_time": "2022-05-04T16:52:07.505571Z"
    }
   },
   "outputs": [],
   "source": [
    "avg_home_df.set_index('time', inplace=True)"
   ]
  },
  {
   "cell_type": "code",
   "execution_count": 35,
   "metadata": {
    "ExecuteTime": {
     "end_time": "2022-05-04T16:52:22.067233Z",
     "start_time": "2022-05-04T16:52:22.053663Z"
    }
   },
   "outputs": [
    {
     "data": {
      "text/html": [
       "<div>\n",
       "<style scoped>\n",
       "    .dataframe tbody tr th:only-of-type {\n",
       "        vertical-align: middle;\n",
       "    }\n",
       "\n",
       "    .dataframe tbody tr th {\n",
       "        vertical-align: top;\n",
       "    }\n",
       "\n",
       "    .dataframe thead th {\n",
       "        text-align: right;\n",
       "    }\n",
       "</style>\n",
       "<table border=\"1\" class=\"dataframe\">\n",
       "  <thead>\n",
       "    <tr style=\"text-align: right;\">\n",
       "      <th></th>\n",
       "      <th>index</th>\n",
       "      <th>0</th>\n",
       "    </tr>\n",
       "    <tr>\n",
       "      <th>time</th>\n",
       "      <th></th>\n",
       "      <th></th>\n",
       "    </tr>\n",
       "  </thead>\n",
       "  <tbody>\n",
       "    <tr>\n",
       "      <th>1996-04-01</th>\n",
       "      <td>1996-04</td>\n",
       "      <td>118,299.12</td>\n",
       "    </tr>\n",
       "    <tr>\n",
       "      <th>1996-05-01</th>\n",
       "      <td>1996-05</td>\n",
       "      <td>118,419.04</td>\n",
       "    </tr>\n",
       "    <tr>\n",
       "      <th>1996-06-01</th>\n",
       "      <td>1996-06</td>\n",
       "      <td>118,537.42</td>\n",
       "    </tr>\n",
       "    <tr>\n",
       "      <th>1996-07-01</th>\n",
       "      <td>1996-07</td>\n",
       "      <td>118,653.07</td>\n",
       "    </tr>\n",
       "    <tr>\n",
       "      <th>1996-08-01</th>\n",
       "      <td>1996-08</td>\n",
       "      <td>118,780.25</td>\n",
       "    </tr>\n",
       "  </tbody>\n",
       "</table>\n",
       "</div>"
      ],
      "text/plain": [
       "              index          0\n",
       "time                          \n",
       "1996-04-01  1996-04 118,299.12\n",
       "1996-05-01  1996-05 118,419.04\n",
       "1996-06-01  1996-06 118,537.42\n",
       "1996-07-01  1996-07 118,653.07\n",
       "1996-08-01  1996-08 118,780.25"
      ]
     },
     "execution_count": 35,
     "metadata": {},
     "output_type": "execute_result"
    }
   ],
   "source": [
    "avg_home_df.head()"
   ]
  },
  {
   "cell_type": "code",
   "execution_count": 38,
   "metadata": {
    "ExecuteTime": {
     "end_time": "2022-05-04T16:53:41.199613Z",
     "start_time": "2022-05-04T16:53:41.192779Z"
    }
   },
   "outputs": [],
   "source": [
    "avg_home_df.rename(columns={0: 'home_value'}, inplace=True)"
   ]
  },
  {
   "cell_type": "code",
   "execution_count": 41,
   "metadata": {
    "ExecuteTime": {
     "end_time": "2022-05-04T16:54:19.585220Z",
     "start_time": "2022-05-04T16:54:19.577965Z"
    }
   },
   "outputs": [],
   "source": [
    "avg_home_df.drop(columns=('index'), inplace=True)"
   ]
  },
  {
   "cell_type": "code",
   "execution_count": 43,
   "metadata": {
    "ExecuteTime": {
     "end_time": "2022-05-04T16:54:27.685641Z",
     "start_time": "2022-05-04T16:54:27.670713Z"
    }
   },
   "outputs": [
    {
     "name": "stdout",
     "output_type": "stream",
     "text": [
      "<class 'pandas.core.frame.DataFrame'>\n",
      "DatetimeIndex: 265 entries, 1996-04-01 to 2018-04-01\n",
      "Data columns (total 1 columns):\n",
      " #   Column      Non-Null Count  Dtype  \n",
      "---  ------      --------------  -----  \n",
      " 0   home_value  265 non-null    float64\n",
      "dtypes: float64(1)\n",
      "memory usage: 4.1 KB\n"
     ]
    }
   ],
   "source": [
    "avg_home_df.info()"
   ]
  },
  {
   "cell_type": "code",
   "execution_count": 47,
   "metadata": {
    "ExecuteTime": {
     "end_time": "2022-05-04T16:55:32.222880Z",
     "start_time": "2022-05-04T16:55:32.191071Z"
    }
   },
   "outputs": [
    {
     "data": {
      "text/html": [
       "<div>\n",
       "<style scoped>\n",
       "    .dataframe tbody tr th:only-of-type {\n",
       "        vertical-align: middle;\n",
       "    }\n",
       "\n",
       "    .dataframe tbody tr th {\n",
       "        vertical-align: top;\n",
       "    }\n",
       "\n",
       "    .dataframe thead th {\n",
       "        text-align: right;\n",
       "    }\n",
       "</style>\n",
       "<table border=\"1\" class=\"dataframe\">\n",
       "  <thead>\n",
       "    <tr style=\"text-align: right;\">\n",
       "      <th></th>\n",
       "      <th>home_value</th>\n",
       "    </tr>\n",
       "    <tr>\n",
       "      <th>time</th>\n",
       "      <th></th>\n",
       "    </tr>\n",
       "  </thead>\n",
       "  <tbody>\n",
       "    <tr>\n",
       "      <th>1996-04-01</th>\n",
       "      <td>118,299.12</td>\n",
       "    </tr>\n",
       "    <tr>\n",
       "      <th>1996-05-01</th>\n",
       "      <td>118,419.04</td>\n",
       "    </tr>\n",
       "    <tr>\n",
       "      <th>1996-06-01</th>\n",
       "      <td>118,537.42</td>\n",
       "    </tr>\n",
       "    <tr>\n",
       "      <th>1996-07-01</th>\n",
       "      <td>118,653.07</td>\n",
       "    </tr>\n",
       "    <tr>\n",
       "      <th>1996-08-01</th>\n",
       "      <td>118,780.25</td>\n",
       "    </tr>\n",
       "    <tr>\n",
       "      <th>1996-09-01</th>\n",
       "      <td>118,927.53</td>\n",
       "    </tr>\n",
       "    <tr>\n",
       "      <th>1996-10-01</th>\n",
       "      <td>119,120.52</td>\n",
       "    </tr>\n",
       "    <tr>\n",
       "      <th>1996-11-01</th>\n",
       "      <td>119,345.35</td>\n",
       "    </tr>\n",
       "    <tr>\n",
       "      <th>1996-12-01</th>\n",
       "      <td>119,685.08</td>\n",
       "    </tr>\n",
       "    <tr>\n",
       "      <th>1997-01-01</th>\n",
       "      <td>120,121.27</td>\n",
       "    </tr>\n",
       "    <tr>\n",
       "      <th>1997-02-01</th>\n",
       "      <td>120,544.24</td>\n",
       "    </tr>\n",
       "    <tr>\n",
       "      <th>1997-03-01</th>\n",
       "      <td>120,896.62</td>\n",
       "    </tr>\n",
       "    <tr>\n",
       "      <th>1997-04-01</th>\n",
       "      <td>121,268.17</td>\n",
       "    </tr>\n",
       "    <tr>\n",
       "      <th>1997-05-01</th>\n",
       "      <td>121,655.90</td>\n",
       "    </tr>\n",
       "    <tr>\n",
       "      <th>1997-06-01</th>\n",
       "      <td>122,053.11</td>\n",
       "    </tr>\n",
       "    <tr>\n",
       "      <th>1997-07-01</th>\n",
       "      <td>122,456.34</td>\n",
       "    </tr>\n",
       "    <tr>\n",
       "      <th>1997-08-01</th>\n",
       "      <td>122,879.93</td>\n",
       "    </tr>\n",
       "    <tr>\n",
       "      <th>1997-09-01</th>\n",
       "      <td>123,327.40</td>\n",
       "    </tr>\n",
       "    <tr>\n",
       "      <th>1997-10-01</th>\n",
       "      <td>123,823.11</td>\n",
       "    </tr>\n",
       "    <tr>\n",
       "      <th>1997-11-01</th>\n",
       "      <td>124,353.74</td>\n",
       "    </tr>\n",
       "    <tr>\n",
       "      <th>1997-12-01</th>\n",
       "      <td>125,002.60</td>\n",
       "    </tr>\n",
       "    <tr>\n",
       "      <th>1998-01-01</th>\n",
       "      <td>125,736.67</td>\n",
       "    </tr>\n",
       "    <tr>\n",
       "      <th>1998-02-01</th>\n",
       "      <td>126,450.78</td>\n",
       "    </tr>\n",
       "    <tr>\n",
       "      <th>1998-03-01</th>\n",
       "      <td>127,086.26</td>\n",
       "    </tr>\n",
       "    <tr>\n",
       "      <th>1998-04-01</th>\n",
       "      <td>127,736.36</td>\n",
       "    </tr>\n",
       "    <tr>\n",
       "      <th>1998-05-01</th>\n",
       "      <td>128,385.01</td>\n",
       "    </tr>\n",
       "    <tr>\n",
       "      <th>1998-06-01</th>\n",
       "      <td>129,032.70</td>\n",
       "    </tr>\n",
       "    <tr>\n",
       "      <th>1998-07-01</th>\n",
       "      <td>129,676.36</td>\n",
       "    </tr>\n",
       "    <tr>\n",
       "      <th>1998-08-01</th>\n",
       "      <td>130,324.52</td>\n",
       "    </tr>\n",
       "    <tr>\n",
       "      <th>1998-09-01</th>\n",
       "      <td>130,982.62</td>\n",
       "    </tr>\n",
       "    <tr>\n",
       "      <th>1998-10-01</th>\n",
       "      <td>131,678.09</td>\n",
       "    </tr>\n",
       "    <tr>\n",
       "      <th>1998-11-01</th>\n",
       "      <td>132,399.34</td>\n",
       "    </tr>\n",
       "    <tr>\n",
       "      <th>1998-12-01</th>\n",
       "      <td>133,224.70</td>\n",
       "    </tr>\n",
       "    <tr>\n",
       "      <th>1999-01-01</th>\n",
       "      <td>134,133.59</td>\n",
       "    </tr>\n",
       "    <tr>\n",
       "      <th>1999-02-01</th>\n",
       "      <td>135,020.88</td>\n",
       "    </tr>\n",
       "    <tr>\n",
       "      <th>1999-03-01</th>\n",
       "      <td>135,841.59</td>\n",
       "    </tr>\n",
       "    <tr>\n",
       "      <th>1999-04-01</th>\n",
       "      <td>136,683.79</td>\n",
       "    </tr>\n",
       "    <tr>\n",
       "      <th>1999-05-01</th>\n",
       "      <td>137,532.15</td>\n",
       "    </tr>\n",
       "    <tr>\n",
       "      <th>1999-06-01</th>\n",
       "      <td>138,391.81</td>\n",
       "    </tr>\n",
       "    <tr>\n",
       "      <th>1999-07-01</th>\n",
       "      <td>139,265.16</td>\n",
       "    </tr>\n",
       "    <tr>\n",
       "      <th>1999-08-01</th>\n",
       "      <td>140,160.60</td>\n",
       "    </tr>\n",
       "    <tr>\n",
       "      <th>1999-09-01</th>\n",
       "      <td>141,084.83</td>\n",
       "    </tr>\n",
       "    <tr>\n",
       "      <th>1999-10-01</th>\n",
       "      <td>142,070.10</td>\n",
       "    </tr>\n",
       "    <tr>\n",
       "      <th>1999-11-01</th>\n",
       "      <td>143,104.04</td>\n",
       "    </tr>\n",
       "    <tr>\n",
       "      <th>1999-12-01</th>\n",
       "      <td>144,261.33</td>\n",
       "    </tr>\n",
       "    <tr>\n",
       "      <th>2000-01-01</th>\n",
       "      <td>145,522.06</td>\n",
       "    </tr>\n",
       "    <tr>\n",
       "      <th>2000-02-01</th>\n",
       "      <td>146,772.27</td>\n",
       "    </tr>\n",
       "    <tr>\n",
       "      <th>2000-03-01</th>\n",
       "      <td>147,943.68</td>\n",
       "    </tr>\n",
       "    <tr>\n",
       "      <th>2000-04-01</th>\n",
       "      <td>149,107.82</td>\n",
       "    </tr>\n",
       "    <tr>\n",
       "      <th>2000-05-01</th>\n",
       "      <td>150,247.76</td>\n",
       "    </tr>\n",
       "    <tr>\n",
       "      <th>2000-06-01</th>\n",
       "      <td>151,364.61</td>\n",
       "    </tr>\n",
       "    <tr>\n",
       "      <th>2000-07-01</th>\n",
       "      <td>152,457.02</td>\n",
       "    </tr>\n",
       "    <tr>\n",
       "      <th>2000-08-01</th>\n",
       "      <td>153,530.93</td>\n",
       "    </tr>\n",
       "    <tr>\n",
       "      <th>2000-09-01</th>\n",
       "      <td>154,597.19</td>\n",
       "    </tr>\n",
       "    <tr>\n",
       "      <th>2000-10-01</th>\n",
       "      <td>155,691.10</td>\n",
       "    </tr>\n",
       "    <tr>\n",
       "      <th>2000-11-01</th>\n",
       "      <td>156,804.24</td>\n",
       "    </tr>\n",
       "    <tr>\n",
       "      <th>2000-12-01</th>\n",
       "      <td>157,978.35</td>\n",
       "    </tr>\n",
       "    <tr>\n",
       "      <th>2001-01-01</th>\n",
       "      <td>159,201.78</td>\n",
       "    </tr>\n",
       "    <tr>\n",
       "      <th>2001-02-01</th>\n",
       "      <td>160,410.85</td>\n",
       "    </tr>\n",
       "    <tr>\n",
       "      <th>2001-03-01</th>\n",
       "      <td>161,555.95</td>\n",
       "    </tr>\n",
       "    <tr>\n",
       "      <th>2001-04-01</th>\n",
       "      <td>162,664.35</td>\n",
       "    </tr>\n",
       "    <tr>\n",
       "      <th>2001-05-01</th>\n",
       "      <td>163,717.37</td>\n",
       "    </tr>\n",
       "    <tr>\n",
       "      <th>2001-06-01</th>\n",
       "      <td>164,729.62</td>\n",
       "    </tr>\n",
       "    <tr>\n",
       "      <th>2001-07-01</th>\n",
       "      <td>165,707.86</td>\n",
       "    </tr>\n",
       "    <tr>\n",
       "      <th>2001-08-01</th>\n",
       "      <td>166,666.39</td>\n",
       "    </tr>\n",
       "    <tr>\n",
       "      <th>2001-09-01</th>\n",
       "      <td>167,634.31</td>\n",
       "    </tr>\n",
       "    <tr>\n",
       "      <th>2001-10-01</th>\n",
       "      <td>168,653.36</td>\n",
       "    </tr>\n",
       "    <tr>\n",
       "      <th>2001-11-01</th>\n",
       "      <td>169,714.37</td>\n",
       "    </tr>\n",
       "    <tr>\n",
       "      <th>2001-12-01</th>\n",
       "      <td>170,846.29</td>\n",
       "    </tr>\n",
       "    <tr>\n",
       "      <th>2002-01-01</th>\n",
       "      <td>172,058.12</td>\n",
       "    </tr>\n",
       "    <tr>\n",
       "      <th>2002-02-01</th>\n",
       "      <td>173,311.94</td>\n",
       "    </tr>\n",
       "    <tr>\n",
       "      <th>2002-03-01</th>\n",
       "      <td>174,550.06</td>\n",
       "    </tr>\n",
       "    <tr>\n",
       "      <th>2002-04-01</th>\n",
       "      <td>175,769.28</td>\n",
       "    </tr>\n",
       "    <tr>\n",
       "      <th>2002-05-01</th>\n",
       "      <td>176,957.56</td>\n",
       "    </tr>\n",
       "    <tr>\n",
       "      <th>2002-06-01</th>\n",
       "      <td>178,131.76</td>\n",
       "    </tr>\n",
       "    <tr>\n",
       "      <th>2002-07-01</th>\n",
       "      <td>179,301.91</td>\n",
       "    </tr>\n",
       "    <tr>\n",
       "      <th>2002-08-01</th>\n",
       "      <td>180,477.89</td>\n",
       "    </tr>\n",
       "    <tr>\n",
       "      <th>2002-09-01</th>\n",
       "      <td>181,696.49</td>\n",
       "    </tr>\n",
       "    <tr>\n",
       "      <th>2002-10-01</th>\n",
       "      <td>182,962.91</td>\n",
       "    </tr>\n",
       "    <tr>\n",
       "      <th>2002-11-01</th>\n",
       "      <td>184,453.16</td>\n",
       "    </tr>\n",
       "    <tr>\n",
       "      <th>2002-12-01</th>\n",
       "      <td>186,098.17</td>\n",
       "    </tr>\n",
       "    <tr>\n",
       "      <th>2003-01-01</th>\n",
       "      <td>187,610.68</td>\n",
       "    </tr>\n",
       "    <tr>\n",
       "      <th>2003-02-01</th>\n",
       "      <td>188,930.16</td>\n",
       "    </tr>\n",
       "    <tr>\n",
       "      <th>2003-03-01</th>\n",
       "      <td>190,295.62</td>\n",
       "    </tr>\n",
       "    <tr>\n",
       "      <th>2003-04-01</th>\n",
       "      <td>191,691.76</td>\n",
       "    </tr>\n",
       "    <tr>\n",
       "      <th>2003-05-01</th>\n",
       "      <td>193,112.99</td>\n",
       "    </tr>\n",
       "    <tr>\n",
       "      <th>2003-06-01</th>\n",
       "      <td>194,601.80</td>\n",
       "    </tr>\n",
       "    <tr>\n",
       "      <th>2003-07-01</th>\n",
       "      <td>196,006.78</td>\n",
       "    </tr>\n",
       "    <tr>\n",
       "      <th>2003-08-01</th>\n",
       "      <td>197,610.87</td>\n",
       "    </tr>\n",
       "    <tr>\n",
       "      <th>2003-09-01</th>\n",
       "      <td>199,257.67</td>\n",
       "    </tr>\n",
       "    <tr>\n",
       "      <th>2003-10-01</th>\n",
       "      <td>200,939.57</td>\n",
       "    </tr>\n",
       "    <tr>\n",
       "      <th>2003-11-01</th>\n",
       "      <td>202,586.61</td>\n",
       "    </tr>\n",
       "    <tr>\n",
       "      <th>2003-12-01</th>\n",
       "      <td>204,228.36</td>\n",
       "    </tr>\n",
       "    <tr>\n",
       "      <th>2004-01-01</th>\n",
       "      <td>207,492.62</td>\n",
       "    </tr>\n",
       "    <tr>\n",
       "      <th>2004-02-01</th>\n",
       "      <td>209,244.22</td>\n",
       "    </tr>\n",
       "    <tr>\n",
       "      <th>2004-03-01</th>\n",
       "      <td>211,168.04</td>\n",
       "    </tr>\n",
       "    <tr>\n",
       "      <th>2004-04-01</th>\n",
       "      <td>213,296.51</td>\n",
       "    </tr>\n",
       "    <tr>\n",
       "      <th>2004-05-01</th>\n",
       "      <td>215,615.42</td>\n",
       "    </tr>\n",
       "    <tr>\n",
       "      <th>2004-06-01</th>\n",
       "      <td>218,136.25</td>\n",
       "    </tr>\n",
       "    <tr>\n",
       "      <th>2004-07-01</th>\n",
       "      <td>220,658.17</td>\n",
       "    </tr>\n",
       "    <tr>\n",
       "      <th>2004-08-01</th>\n",
       "      <td>223,353.45</td>\n",
       "    </tr>\n",
       "    <tr>\n",
       "      <th>2004-09-01</th>\n",
       "      <td>226,056.90</td>\n",
       "    </tr>\n",
       "    <tr>\n",
       "      <th>2004-10-01</th>\n",
       "      <td>228,744.64</td>\n",
       "    </tr>\n",
       "    <tr>\n",
       "      <th>2004-11-01</th>\n",
       "      <td>231,299.47</td>\n",
       "    </tr>\n",
       "    <tr>\n",
       "      <th>2004-12-01</th>\n",
       "      <td>233,785.47</td>\n",
       "    </tr>\n",
       "    <tr>\n",
       "      <th>2005-01-01</th>\n",
       "      <td>236,197.43</td>\n",
       "    </tr>\n",
       "    <tr>\n",
       "      <th>2005-02-01</th>\n",
       "      <td>238,563.12</td>\n",
       "    </tr>\n",
       "    <tr>\n",
       "      <th>2005-03-01</th>\n",
       "      <td>240,871.02</td>\n",
       "    </tr>\n",
       "    <tr>\n",
       "      <th>2005-04-01</th>\n",
       "      <td>243,402.18</td>\n",
       "    </tr>\n",
       "    <tr>\n",
       "      <th>2005-05-01</th>\n",
       "      <td>245,934.66</td>\n",
       "    </tr>\n",
       "    <tr>\n",
       "      <th>2005-06-01</th>\n",
       "      <td>248,474.87</td>\n",
       "    </tr>\n",
       "    <tr>\n",
       "      <th>2005-07-01</th>\n",
       "      <td>250,549.56</td>\n",
       "    </tr>\n",
       "    <tr>\n",
       "      <th>2005-08-01</th>\n",
       "      <td>252,925.44</td>\n",
       "    </tr>\n",
       "    <tr>\n",
       "      <th>2005-09-01</th>\n",
       "      <td>255,151.63</td>\n",
       "    </tr>\n",
       "    <tr>\n",
       "      <th>2005-10-01</th>\n",
       "      <td>257,204.99</td>\n",
       "    </tr>\n",
       "    <tr>\n",
       "      <th>2005-11-01</th>\n",
       "      <td>258,995.54</td>\n",
       "    </tr>\n",
       "    <tr>\n",
       "      <th>2005-12-01</th>\n",
       "      <td>260,551.18</td>\n",
       "    </tr>\n",
       "    <tr>\n",
       "      <th>2006-01-01</th>\n",
       "      <td>261,477.01</td>\n",
       "    </tr>\n",
       "    <tr>\n",
       "      <th>2006-02-01</th>\n",
       "      <td>262,687.49</td>\n",
       "    </tr>\n",
       "    <tr>\n",
       "      <th>2006-03-01</th>\n",
       "      <td>263,850.58</td>\n",
       "    </tr>\n",
       "    <tr>\n",
       "      <th>2006-04-01</th>\n",
       "      <td>264,959.11</td>\n",
       "    </tr>\n",
       "    <tr>\n",
       "      <th>2006-05-01</th>\n",
       "      <td>265,878.71</td>\n",
       "    </tr>\n",
       "    <tr>\n",
       "      <th>2006-06-01</th>\n",
       "      <td>266,561.96</td>\n",
       "    </tr>\n",
       "    <tr>\n",
       "      <th>2006-07-01</th>\n",
       "      <td>266,695.60</td>\n",
       "    </tr>\n",
       "    <tr>\n",
       "      <th>2006-08-01</th>\n",
       "      <td>266,818.04</td>\n",
       "    </tr>\n",
       "    <tr>\n",
       "      <th>2006-09-01</th>\n",
       "      <td>266,757.14</td>\n",
       "    </tr>\n",
       "    <tr>\n",
       "      <th>2006-10-01</th>\n",
       "      <td>266,590.88</td>\n",
       "    </tr>\n",
       "    <tr>\n",
       "      <th>2006-11-01</th>\n",
       "      <td>266,316.52</td>\n",
       "    </tr>\n",
       "    <tr>\n",
       "      <th>2006-12-01</th>\n",
       "      <td>266,090.97</td>\n",
       "    </tr>\n",
       "    <tr>\n",
       "      <th>2007-01-01</th>\n",
       "      <td>265,816.83</td>\n",
       "    </tr>\n",
       "    <tr>\n",
       "      <th>2007-02-01</th>\n",
       "      <td>265,624.76</td>\n",
       "    </tr>\n",
       "    <tr>\n",
       "      <th>2007-03-01</th>\n",
       "      <td>265,366.33</td>\n",
       "    </tr>\n",
       "    <tr>\n",
       "      <th>2007-04-01</th>\n",
       "      <td>265,036.42</td>\n",
       "    </tr>\n",
       "    <tr>\n",
       "      <th>2007-05-01</th>\n",
       "      <td>264,491.78</td>\n",
       "    </tr>\n",
       "    <tr>\n",
       "      <th>2007-06-01</th>\n",
       "      <td>263,696.34</td>\n",
       "    </tr>\n",
       "    <tr>\n",
       "      <th>2007-07-01</th>\n",
       "      <td>262,677.17</td>\n",
       "    </tr>\n",
       "    <tr>\n",
       "      <th>2007-08-01</th>\n",
       "      <td>261,586.20</td>\n",
       "    </tr>\n",
       "    <tr>\n",
       "      <th>2007-09-01</th>\n",
       "      <td>260,415.58</td>\n",
       "    </tr>\n",
       "    <tr>\n",
       "      <th>2007-10-01</th>\n",
       "      <td>259,139.14</td>\n",
       "    </tr>\n",
       "    <tr>\n",
       "      <th>2007-11-01</th>\n",
       "      <td>257,695.78</td>\n",
       "    </tr>\n",
       "    <tr>\n",
       "      <th>2007-12-01</th>\n",
       "      <td>256,114.81</td>\n",
       "    </tr>\n",
       "    <tr>\n",
       "      <th>2008-01-01</th>\n",
       "      <td>254,395.86</td>\n",
       "    </tr>\n",
       "    <tr>\n",
       "      <th>2008-02-01</th>\n",
       "      <td>252,515.80</td>\n",
       "    </tr>\n",
       "    <tr>\n",
       "      <th>2008-03-01</th>\n",
       "      <td>250,538.73</td>\n",
       "    </tr>\n",
       "    <tr>\n",
       "      <th>2008-04-01</th>\n",
       "      <td>248,491.58</td>\n",
       "    </tr>\n",
       "    <tr>\n",
       "      <th>2008-05-01</th>\n",
       "      <td>246,309.46</td>\n",
       "    </tr>\n",
       "    <tr>\n",
       "      <th>2008-06-01</th>\n",
       "      <td>243,985.66</td>\n",
       "    </tr>\n",
       "    <tr>\n",
       "      <th>2008-07-01</th>\n",
       "      <td>241,710.34</td>\n",
       "    </tr>\n",
       "    <tr>\n",
       "      <th>2008-08-01</th>\n",
       "      <td>239,648.21</td>\n",
       "    </tr>\n",
       "    <tr>\n",
       "      <th>2008-09-01</th>\n",
       "      <td>237,774.27</td>\n",
       "    </tr>\n",
       "    <tr>\n",
       "      <th>2008-10-01</th>\n",
       "      <td>236,009.73</td>\n",
       "    </tr>\n",
       "    <tr>\n",
       "      <th>2008-11-01</th>\n",
       "      <td>234,330.39</td>\n",
       "    </tr>\n",
       "    <tr>\n",
       "      <th>2008-12-01</th>\n",
       "      <td>232,780.84</td>\n",
       "    </tr>\n",
       "    <tr>\n",
       "      <th>2009-01-01</th>\n",
       "      <td>231,308.67</td>\n",
       "    </tr>\n",
       "    <tr>\n",
       "      <th>2009-02-01</th>\n",
       "      <td>229,820.52</td>\n",
       "    </tr>\n",
       "    <tr>\n",
       "      <th>2009-03-01</th>\n",
       "      <td>228,199.29</td>\n",
       "    </tr>\n",
       "    <tr>\n",
       "      <th>2009-04-01</th>\n",
       "      <td>226,440.44</td>\n",
       "    </tr>\n",
       "    <tr>\n",
       "      <th>2009-05-01</th>\n",
       "      <td>224,442.20</td>\n",
       "    </tr>\n",
       "    <tr>\n",
       "      <th>2009-06-01</th>\n",
       "      <td>222,453.67</td>\n",
       "    </tr>\n",
       "    <tr>\n",
       "      <th>2009-07-01</th>\n",
       "      <td>220,988.60</td>\n",
       "    </tr>\n",
       "    <tr>\n",
       "      <th>2009-08-01</th>\n",
       "      <td>220,049.08</td>\n",
       "    </tr>\n",
       "    <tr>\n",
       "      <th>2009-09-01</th>\n",
       "      <td>219,437.45</td>\n",
       "    </tr>\n",
       "    <tr>\n",
       "      <th>2009-10-01</th>\n",
       "      <td>219,064.36</td>\n",
       "    </tr>\n",
       "    <tr>\n",
       "      <th>2009-11-01</th>\n",
       "      <td>218,900.53</td>\n",
       "    </tr>\n",
       "    <tr>\n",
       "      <th>2009-12-01</th>\n",
       "      <td>218,844.04</td>\n",
       "    </tr>\n",
       "    <tr>\n",
       "      <th>2010-01-01</th>\n",
       "      <td>218,812.23</td>\n",
       "    </tr>\n",
       "    <tr>\n",
       "      <th>2010-02-01</th>\n",
       "      <td>219,116.76</td>\n",
       "    </tr>\n",
       "    <tr>\n",
       "      <th>2010-03-01</th>\n",
       "      <td>216,704.31</td>\n",
       "    </tr>\n",
       "    <tr>\n",
       "      <th>2010-04-01</th>\n",
       "      <td>215,818.03</td>\n",
       "    </tr>\n",
       "    <tr>\n",
       "      <th>2010-05-01</th>\n",
       "      <td>215,273.66</td>\n",
       "    </tr>\n",
       "    <tr>\n",
       "      <th>2010-06-01</th>\n",
       "      <td>215,196.93</td>\n",
       "    </tr>\n",
       "    <tr>\n",
       "      <th>2010-07-01</th>\n",
       "      <td>214,382.82</td>\n",
       "    </tr>\n",
       "    <tr>\n",
       "      <th>2010-08-01</th>\n",
       "      <td>213,508.93</td>\n",
       "    </tr>\n",
       "    <tr>\n",
       "      <th>2010-09-01</th>\n",
       "      <td>212,475.13</td>\n",
       "    </tr>\n",
       "    <tr>\n",
       "      <th>2010-10-01</th>\n",
       "      <td>211,428.31</td>\n",
       "    </tr>\n",
       "    <tr>\n",
       "      <th>2010-11-01</th>\n",
       "      <td>210,326.58</td>\n",
       "    </tr>\n",
       "    <tr>\n",
       "      <th>2010-12-01</th>\n",
       "      <td>209,098.02</td>\n",
       "    </tr>\n",
       "    <tr>\n",
       "      <th>2011-01-01</th>\n",
       "      <td>207,595.96</td>\n",
       "    </tr>\n",
       "    <tr>\n",
       "      <th>2011-02-01</th>\n",
       "      <td>206,395.60</td>\n",
       "    </tr>\n",
       "    <tr>\n",
       "      <th>2011-03-01</th>\n",
       "      <td>205,402.46</td>\n",
       "    </tr>\n",
       "    <tr>\n",
       "      <th>2011-04-01</th>\n",
       "      <td>204,642.59</td>\n",
       "    </tr>\n",
       "    <tr>\n",
       "      <th>2011-05-01</th>\n",
       "      <td>204,012.63</td>\n",
       "    </tr>\n",
       "    <tr>\n",
       "      <th>2011-06-01</th>\n",
       "      <td>203,430.57</td>\n",
       "    </tr>\n",
       "    <tr>\n",
       "      <th>2011-07-01</th>\n",
       "      <td>202,726.98</td>\n",
       "    </tr>\n",
       "    <tr>\n",
       "      <th>2011-08-01</th>\n",
       "      <td>202,212.49</td>\n",
       "    </tr>\n",
       "    <tr>\n",
       "      <th>2011-09-01</th>\n",
       "      <td>201,718.71</td>\n",
       "    </tr>\n",
       "    <tr>\n",
       "      <th>2011-10-01</th>\n",
       "      <td>201,293.19</td>\n",
       "    </tr>\n",
       "    <tr>\n",
       "      <th>2011-11-01</th>\n",
       "      <td>200,940.95</td>\n",
       "    </tr>\n",
       "    <tr>\n",
       "      <th>2011-12-01</th>\n",
       "      <td>200,644.04</td>\n",
       "    </tr>\n",
       "    <tr>\n",
       "      <th>2012-01-01</th>\n",
       "      <td>200,219.76</td>\n",
       "    </tr>\n",
       "    <tr>\n",
       "      <th>2012-02-01</th>\n",
       "      <td>200,069.29</td>\n",
       "    </tr>\n",
       "    <tr>\n",
       "      <th>2012-03-01</th>\n",
       "      <td>200,272.35</td>\n",
       "    </tr>\n",
       "    <tr>\n",
       "      <th>2012-04-01</th>\n",
       "      <td>200,824.66</td>\n",
       "    </tr>\n",
       "    <tr>\n",
       "      <th>2012-05-01</th>\n",
       "      <td>201,558.16</td>\n",
       "    </tr>\n",
       "    <tr>\n",
       "      <th>2012-06-01</th>\n",
       "      <td>202,274.41</td>\n",
       "    </tr>\n",
       "    <tr>\n",
       "      <th>2012-07-01</th>\n",
       "      <td>202,879.53</td>\n",
       "    </tr>\n",
       "    <tr>\n",
       "      <th>2012-08-01</th>\n",
       "      <td>203,592.28</td>\n",
       "    </tr>\n",
       "    <tr>\n",
       "      <th>2012-09-01</th>\n",
       "      <td>204,337.92</td>\n",
       "    </tr>\n",
       "    <tr>\n",
       "      <th>2012-10-01</th>\n",
       "      <td>205,118.25</td>\n",
       "    </tr>\n",
       "    <tr>\n",
       "      <th>2012-11-01</th>\n",
       "      <td>206,036.55</td>\n",
       "    </tr>\n",
       "    <tr>\n",
       "      <th>2012-12-01</th>\n",
       "      <td>207,004.66</td>\n",
       "    </tr>\n",
       "    <tr>\n",
       "      <th>2013-01-01</th>\n",
       "      <td>207,745.45</td>\n",
       "    </tr>\n",
       "    <tr>\n",
       "      <th>2013-02-01</th>\n",
       "      <td>208,791.55</td>\n",
       "    </tr>\n",
       "    <tr>\n",
       "      <th>2013-03-01</th>\n",
       "      <td>210,145.42</td>\n",
       "    </tr>\n",
       "    <tr>\n",
       "      <th>2013-04-01</th>\n",
       "      <td>211,730.79</td>\n",
       "    </tr>\n",
       "    <tr>\n",
       "      <th>2013-05-01</th>\n",
       "      <td>213,399.38</td>\n",
       "    </tr>\n",
       "    <tr>\n",
       "      <th>2013-06-01</th>\n",
       "      <td>215,113.13</td>\n",
       "    </tr>\n",
       "    <tr>\n",
       "      <th>2013-07-01</th>\n",
       "      <td>216,674.80</td>\n",
       "    </tr>\n",
       "    <tr>\n",
       "      <th>2013-08-01</th>\n",
       "      <td>218,163.50</td>\n",
       "    </tr>\n",
       "    <tr>\n",
       "      <th>2013-09-01</th>\n",
       "      <td>219,413.01</td>\n",
       "    </tr>\n",
       "    <tr>\n",
       "      <th>2013-10-01</th>\n",
       "      <td>220,509.59</td>\n",
       "    </tr>\n",
       "    <tr>\n",
       "      <th>2013-11-01</th>\n",
       "      <td>221,509.88</td>\n",
       "    </tr>\n",
       "    <tr>\n",
       "      <th>2013-12-01</th>\n",
       "      <td>222,473.74</td>\n",
       "    </tr>\n",
       "    <tr>\n",
       "      <th>2014-01-01</th>\n",
       "      <td>223,183.21</td>\n",
       "    </tr>\n",
       "    <tr>\n",
       "      <th>2014-02-01</th>\n",
       "      <td>224,135.94</td>\n",
       "    </tr>\n",
       "    <tr>\n",
       "      <th>2014-03-01</th>\n",
       "      <td>225,082.57</td>\n",
       "    </tr>\n",
       "    <tr>\n",
       "      <th>2014-04-01</th>\n",
       "      <td>226,124.78</td>\n",
       "    </tr>\n",
       "    <tr>\n",
       "      <th>2014-05-01</th>\n",
       "      <td>227,232.01</td>\n",
       "    </tr>\n",
       "    <tr>\n",
       "      <th>2014-06-01</th>\n",
       "      <td>228,310.62</td>\n",
       "    </tr>\n",
       "    <tr>\n",
       "      <th>2014-07-01</th>\n",
       "      <td>229,099.28</td>\n",
       "    </tr>\n",
       "    <tr>\n",
       "      <th>2014-08-01</th>\n",
       "      <td>230,141.74</td>\n",
       "    </tr>\n",
       "    <tr>\n",
       "      <th>2014-09-01</th>\n",
       "      <td>231,060.04</td>\n",
       "    </tr>\n",
       "    <tr>\n",
       "      <th>2014-10-01</th>\n",
       "      <td>231,927.51</td>\n",
       "    </tr>\n",
       "    <tr>\n",
       "      <th>2014-11-01</th>\n",
       "      <td>232,822.14</td>\n",
       "    </tr>\n",
       "    <tr>\n",
       "      <th>2014-12-01</th>\n",
       "      <td>233,712.31</td>\n",
       "    </tr>\n",
       "    <tr>\n",
       "      <th>2015-01-01</th>\n",
       "      <td>234,691.19</td>\n",
       "    </tr>\n",
       "    <tr>\n",
       "      <th>2015-02-01</th>\n",
       "      <td>235,760.28</td>\n",
       "    </tr>\n",
       "    <tr>\n",
       "      <th>2015-03-01</th>\n",
       "      <td>236,836.43</td>\n",
       "    </tr>\n",
       "    <tr>\n",
       "      <th>2015-04-01</th>\n",
       "      <td>238,009.76</td>\n",
       "    </tr>\n",
       "    <tr>\n",
       "      <th>2015-05-01</th>\n",
       "      <td>239,354.21</td>\n",
       "    </tr>\n",
       "    <tr>\n",
       "      <th>2015-06-01</th>\n",
       "      <td>240,744.12</td>\n",
       "    </tr>\n",
       "    <tr>\n",
       "      <th>2015-07-01</th>\n",
       "      <td>242,103.53</td>\n",
       "    </tr>\n",
       "    <tr>\n",
       "      <th>2015-08-01</th>\n",
       "      <td>243,424.44</td>\n",
       "    </tr>\n",
       "    <tr>\n",
       "      <th>2015-09-01</th>\n",
       "      <td>244,658.27</td>\n",
       "    </tr>\n",
       "    <tr>\n",
       "      <th>2015-10-01</th>\n",
       "      <td>245,764.57</td>\n",
       "    </tr>\n",
       "    <tr>\n",
       "      <th>2015-11-01</th>\n",
       "      <td>246,765.04</td>\n",
       "    </tr>\n",
       "    <tr>\n",
       "      <th>2015-12-01</th>\n",
       "      <td>247,765.17</td>\n",
       "    </tr>\n",
       "    <tr>\n",
       "      <th>2016-01-01</th>\n",
       "      <td>248,896.37</td>\n",
       "    </tr>\n",
       "    <tr>\n",
       "      <th>2016-02-01</th>\n",
       "      <td>249,987.31</td>\n",
       "    </tr>\n",
       "    <tr>\n",
       "      <th>2016-03-01</th>\n",
       "      <td>251,014.31</td>\n",
       "    </tr>\n",
       "    <tr>\n",
       "      <th>2016-04-01</th>\n",
       "      <td>252,164.27</td>\n",
       "    </tr>\n",
       "    <tr>\n",
       "      <th>2016-05-01</th>\n",
       "      <td>253,483.64</td>\n",
       "    </tr>\n",
       "    <tr>\n",
       "      <th>2016-06-01</th>\n",
       "      <td>254,820.08</td>\n",
       "    </tr>\n",
       "    <tr>\n",
       "      <th>2016-07-01</th>\n",
       "      <td>256,205.78</td>\n",
       "    </tr>\n",
       "    <tr>\n",
       "      <th>2016-08-01</th>\n",
       "      <td>257,597.91</td>\n",
       "    </tr>\n",
       "    <tr>\n",
       "      <th>2016-09-01</th>\n",
       "      <td>258,946.02</td>\n",
       "    </tr>\n",
       "    <tr>\n",
       "      <th>2016-10-01</th>\n",
       "      <td>260,254.32</td>\n",
       "    </tr>\n",
       "    <tr>\n",
       "      <th>2016-11-01</th>\n",
       "      <td>261,576.90</td>\n",
       "    </tr>\n",
       "    <tr>\n",
       "      <th>2016-12-01</th>\n",
       "      <td>262,923.79</td>\n",
       "    </tr>\n",
       "    <tr>\n",
       "      <th>2017-01-01</th>\n",
       "      <td>264,373.26</td>\n",
       "    </tr>\n",
       "    <tr>\n",
       "      <th>2017-02-01</th>\n",
       "      <td>265,755.10</td>\n",
       "    </tr>\n",
       "    <tr>\n",
       "      <th>2017-03-01</th>\n",
       "      <td>267,065.12</td>\n",
       "    </tr>\n",
       "    <tr>\n",
       "      <th>2017-04-01</th>\n",
       "      <td>268,533.51</td>\n",
       "    </tr>\n",
       "    <tr>\n",
       "      <th>2017-05-01</th>\n",
       "      <td>270,226.84</td>\n",
       "    </tr>\n",
       "    <tr>\n",
       "      <th>2017-06-01</th>\n",
       "      <td>271,824.72</td>\n",
       "    </tr>\n",
       "    <tr>\n",
       "      <th>2017-07-01</th>\n",
       "      <td>273,335.39</td>\n",
       "    </tr>\n",
       "    <tr>\n",
       "      <th>2017-08-01</th>\n",
       "      <td>274,865.77</td>\n",
       "    </tr>\n",
       "    <tr>\n",
       "      <th>2017-09-01</th>\n",
       "      <td>276,464.62</td>\n",
       "    </tr>\n",
       "    <tr>\n",
       "      <th>2017-10-01</th>\n",
       "      <td>278,033.19</td>\n",
       "    </tr>\n",
       "    <tr>\n",
       "      <th>2017-11-01</th>\n",
       "      <td>279,520.86</td>\n",
       "    </tr>\n",
       "    <tr>\n",
       "      <th>2017-12-01</th>\n",
       "      <td>281,095.32</td>\n",
       "    </tr>\n",
       "    <tr>\n",
       "      <th>2018-01-01</th>\n",
       "      <td>282,657.06</td>\n",
       "    </tr>\n",
       "    <tr>\n",
       "      <th>2018-02-01</th>\n",
       "      <td>284,368.69</td>\n",
       "    </tr>\n",
       "    <tr>\n",
       "      <th>2018-03-01</th>\n",
       "      <td>286,511.38</td>\n",
       "    </tr>\n",
       "    <tr>\n",
       "      <th>2018-04-01</th>\n",
       "      <td>288,039.94</td>\n",
       "    </tr>\n",
       "  </tbody>\n",
       "</table>\n",
       "</div>"
      ],
      "text/plain": [
       "            home_value\n",
       "time                  \n",
       "1996-04-01  118,299.12\n",
       "1996-05-01  118,419.04\n",
       "1996-06-01  118,537.42\n",
       "1996-07-01  118,653.07\n",
       "1996-08-01  118,780.25\n",
       "1996-09-01  118,927.53\n",
       "1996-10-01  119,120.52\n",
       "1996-11-01  119,345.35\n",
       "1996-12-01  119,685.08\n",
       "1997-01-01  120,121.27\n",
       "1997-02-01  120,544.24\n",
       "1997-03-01  120,896.62\n",
       "1997-04-01  121,268.17\n",
       "1997-05-01  121,655.90\n",
       "1997-06-01  122,053.11\n",
       "1997-07-01  122,456.34\n",
       "1997-08-01  122,879.93\n",
       "1997-09-01  123,327.40\n",
       "1997-10-01  123,823.11\n",
       "1997-11-01  124,353.74\n",
       "1997-12-01  125,002.60\n",
       "1998-01-01  125,736.67\n",
       "1998-02-01  126,450.78\n",
       "1998-03-01  127,086.26\n",
       "1998-04-01  127,736.36\n",
       "1998-05-01  128,385.01\n",
       "1998-06-01  129,032.70\n",
       "1998-07-01  129,676.36\n",
       "1998-08-01  130,324.52\n",
       "1998-09-01  130,982.62\n",
       "1998-10-01  131,678.09\n",
       "1998-11-01  132,399.34\n",
       "1998-12-01  133,224.70\n",
       "1999-01-01  134,133.59\n",
       "1999-02-01  135,020.88\n",
       "1999-03-01  135,841.59\n",
       "1999-04-01  136,683.79\n",
       "1999-05-01  137,532.15\n",
       "1999-06-01  138,391.81\n",
       "1999-07-01  139,265.16\n",
       "1999-08-01  140,160.60\n",
       "1999-09-01  141,084.83\n",
       "1999-10-01  142,070.10\n",
       "1999-11-01  143,104.04\n",
       "1999-12-01  144,261.33\n",
       "2000-01-01  145,522.06\n",
       "2000-02-01  146,772.27\n",
       "2000-03-01  147,943.68\n",
       "2000-04-01  149,107.82\n",
       "2000-05-01  150,247.76\n",
       "2000-06-01  151,364.61\n",
       "2000-07-01  152,457.02\n",
       "2000-08-01  153,530.93\n",
       "2000-09-01  154,597.19\n",
       "2000-10-01  155,691.10\n",
       "2000-11-01  156,804.24\n",
       "2000-12-01  157,978.35\n",
       "2001-01-01  159,201.78\n",
       "2001-02-01  160,410.85\n",
       "2001-03-01  161,555.95\n",
       "2001-04-01  162,664.35\n",
       "2001-05-01  163,717.37\n",
       "2001-06-01  164,729.62\n",
       "2001-07-01  165,707.86\n",
       "2001-08-01  166,666.39\n",
       "2001-09-01  167,634.31\n",
       "2001-10-01  168,653.36\n",
       "2001-11-01  169,714.37\n",
       "2001-12-01  170,846.29\n",
       "2002-01-01  172,058.12\n",
       "2002-02-01  173,311.94\n",
       "2002-03-01  174,550.06\n",
       "2002-04-01  175,769.28\n",
       "2002-05-01  176,957.56\n",
       "2002-06-01  178,131.76\n",
       "2002-07-01  179,301.91\n",
       "2002-08-01  180,477.89\n",
       "2002-09-01  181,696.49\n",
       "2002-10-01  182,962.91\n",
       "2002-11-01  184,453.16\n",
       "2002-12-01  186,098.17\n",
       "2003-01-01  187,610.68\n",
       "2003-02-01  188,930.16\n",
       "2003-03-01  190,295.62\n",
       "2003-04-01  191,691.76\n",
       "2003-05-01  193,112.99\n",
       "2003-06-01  194,601.80\n",
       "2003-07-01  196,006.78\n",
       "2003-08-01  197,610.87\n",
       "2003-09-01  199,257.67\n",
       "2003-10-01  200,939.57\n",
       "2003-11-01  202,586.61\n",
       "2003-12-01  204,228.36\n",
       "2004-01-01  207,492.62\n",
       "2004-02-01  209,244.22\n",
       "2004-03-01  211,168.04\n",
       "2004-04-01  213,296.51\n",
       "2004-05-01  215,615.42\n",
       "2004-06-01  218,136.25\n",
       "2004-07-01  220,658.17\n",
       "2004-08-01  223,353.45\n",
       "2004-09-01  226,056.90\n",
       "2004-10-01  228,744.64\n",
       "2004-11-01  231,299.47\n",
       "2004-12-01  233,785.47\n",
       "2005-01-01  236,197.43\n",
       "2005-02-01  238,563.12\n",
       "2005-03-01  240,871.02\n",
       "2005-04-01  243,402.18\n",
       "2005-05-01  245,934.66\n",
       "2005-06-01  248,474.87\n",
       "2005-07-01  250,549.56\n",
       "2005-08-01  252,925.44\n",
       "2005-09-01  255,151.63\n",
       "2005-10-01  257,204.99\n",
       "2005-11-01  258,995.54\n",
       "2005-12-01  260,551.18\n",
       "2006-01-01  261,477.01\n",
       "2006-02-01  262,687.49\n",
       "2006-03-01  263,850.58\n",
       "2006-04-01  264,959.11\n",
       "2006-05-01  265,878.71\n",
       "2006-06-01  266,561.96\n",
       "2006-07-01  266,695.60\n",
       "2006-08-01  266,818.04\n",
       "2006-09-01  266,757.14\n",
       "2006-10-01  266,590.88\n",
       "2006-11-01  266,316.52\n",
       "2006-12-01  266,090.97\n",
       "2007-01-01  265,816.83\n",
       "2007-02-01  265,624.76\n",
       "2007-03-01  265,366.33\n",
       "2007-04-01  265,036.42\n",
       "2007-05-01  264,491.78\n",
       "2007-06-01  263,696.34\n",
       "2007-07-01  262,677.17\n",
       "2007-08-01  261,586.20\n",
       "2007-09-01  260,415.58\n",
       "2007-10-01  259,139.14\n",
       "2007-11-01  257,695.78\n",
       "2007-12-01  256,114.81\n",
       "2008-01-01  254,395.86\n",
       "2008-02-01  252,515.80\n",
       "2008-03-01  250,538.73\n",
       "2008-04-01  248,491.58\n",
       "2008-05-01  246,309.46\n",
       "2008-06-01  243,985.66\n",
       "2008-07-01  241,710.34\n",
       "2008-08-01  239,648.21\n",
       "2008-09-01  237,774.27\n",
       "2008-10-01  236,009.73\n",
       "2008-11-01  234,330.39\n",
       "2008-12-01  232,780.84\n",
       "2009-01-01  231,308.67\n",
       "2009-02-01  229,820.52\n",
       "2009-03-01  228,199.29\n",
       "2009-04-01  226,440.44\n",
       "2009-05-01  224,442.20\n",
       "2009-06-01  222,453.67\n",
       "2009-07-01  220,988.60\n",
       "2009-08-01  220,049.08\n",
       "2009-09-01  219,437.45\n",
       "2009-10-01  219,064.36\n",
       "2009-11-01  218,900.53\n",
       "2009-12-01  218,844.04\n",
       "2010-01-01  218,812.23\n",
       "2010-02-01  219,116.76\n",
       "2010-03-01  216,704.31\n",
       "2010-04-01  215,818.03\n",
       "2010-05-01  215,273.66\n",
       "2010-06-01  215,196.93\n",
       "2010-07-01  214,382.82\n",
       "2010-08-01  213,508.93\n",
       "2010-09-01  212,475.13\n",
       "2010-10-01  211,428.31\n",
       "2010-11-01  210,326.58\n",
       "2010-12-01  209,098.02\n",
       "2011-01-01  207,595.96\n",
       "2011-02-01  206,395.60\n",
       "2011-03-01  205,402.46\n",
       "2011-04-01  204,642.59\n",
       "2011-05-01  204,012.63\n",
       "2011-06-01  203,430.57\n",
       "2011-07-01  202,726.98\n",
       "2011-08-01  202,212.49\n",
       "2011-09-01  201,718.71\n",
       "2011-10-01  201,293.19\n",
       "2011-11-01  200,940.95\n",
       "2011-12-01  200,644.04\n",
       "2012-01-01  200,219.76\n",
       "2012-02-01  200,069.29\n",
       "2012-03-01  200,272.35\n",
       "2012-04-01  200,824.66\n",
       "2012-05-01  201,558.16\n",
       "2012-06-01  202,274.41\n",
       "2012-07-01  202,879.53\n",
       "2012-08-01  203,592.28\n",
       "2012-09-01  204,337.92\n",
       "2012-10-01  205,118.25\n",
       "2012-11-01  206,036.55\n",
       "2012-12-01  207,004.66\n",
       "2013-01-01  207,745.45\n",
       "2013-02-01  208,791.55\n",
       "2013-03-01  210,145.42\n",
       "2013-04-01  211,730.79\n",
       "2013-05-01  213,399.38\n",
       "2013-06-01  215,113.13\n",
       "2013-07-01  216,674.80\n",
       "2013-08-01  218,163.50\n",
       "2013-09-01  219,413.01\n",
       "2013-10-01  220,509.59\n",
       "2013-11-01  221,509.88\n",
       "2013-12-01  222,473.74\n",
       "2014-01-01  223,183.21\n",
       "2014-02-01  224,135.94\n",
       "2014-03-01  225,082.57\n",
       "2014-04-01  226,124.78\n",
       "2014-05-01  227,232.01\n",
       "2014-06-01  228,310.62\n",
       "2014-07-01  229,099.28\n",
       "2014-08-01  230,141.74\n",
       "2014-09-01  231,060.04\n",
       "2014-10-01  231,927.51\n",
       "2014-11-01  232,822.14\n",
       "2014-12-01  233,712.31\n",
       "2015-01-01  234,691.19\n",
       "2015-02-01  235,760.28\n",
       "2015-03-01  236,836.43\n",
       "2015-04-01  238,009.76\n",
       "2015-05-01  239,354.21\n",
       "2015-06-01  240,744.12\n",
       "2015-07-01  242,103.53\n",
       "2015-08-01  243,424.44\n",
       "2015-09-01  244,658.27\n",
       "2015-10-01  245,764.57\n",
       "2015-11-01  246,765.04\n",
       "2015-12-01  247,765.17\n",
       "2016-01-01  248,896.37\n",
       "2016-02-01  249,987.31\n",
       "2016-03-01  251,014.31\n",
       "2016-04-01  252,164.27\n",
       "2016-05-01  253,483.64\n",
       "2016-06-01  254,820.08\n",
       "2016-07-01  256,205.78\n",
       "2016-08-01  257,597.91\n",
       "2016-09-01  258,946.02\n",
       "2016-10-01  260,254.32\n",
       "2016-11-01  261,576.90\n",
       "2016-12-01  262,923.79\n",
       "2017-01-01  264,373.26\n",
       "2017-02-01  265,755.10\n",
       "2017-03-01  267,065.12\n",
       "2017-04-01  268,533.51\n",
       "2017-05-01  270,226.84\n",
       "2017-06-01  271,824.72\n",
       "2017-07-01  273,335.39\n",
       "2017-08-01  274,865.77\n",
       "2017-09-01  276,464.62\n",
       "2017-10-01  278,033.19\n",
       "2017-11-01  279,520.86\n",
       "2017-12-01  281,095.32\n",
       "2018-01-01  282,657.06\n",
       "2018-02-01  284,368.69\n",
       "2018-03-01  286,511.38\n",
       "2018-04-01  288,039.94"
      ]
     },
     "execution_count": 47,
     "metadata": {},
     "output_type": "execute_result"
    }
   ],
   "source": [
    "avg_home_df"
   ]
  },
  {
   "cell_type": "code",
   "execution_count": 48,
   "metadata": {
    "ExecuteTime": {
     "end_time": "2022-05-04T16:56:19.294332Z",
     "start_time": "2022-05-04T16:56:19.291636Z"
    }
   },
   "outputs": [],
   "source": [
    "#avg_home_df.resample(\"Y\").mean()"
   ]
  },
  {
   "cell_type": "code",
   "execution_count": null,
   "metadata": {
    "ExecuteTime": {
     "end_time": "2022-05-04T16:40:29.018684Z",
     "start_time": "2022-05-04T16:40:29.014376Z"
    }
   },
   "outputs": [],
   "source": [
    "#avg_home_df.rename(columns={'0': 'value'}, inplace=True)"
   ]
  },
  {
   "cell_type": "code",
   "execution_count": null,
   "metadata": {
    "ExecuteTime": {
     "end_time": "2022-05-04T16:37:50.962313Z",
     "start_time": "2022-05-04T16:37:50.927270Z"
    }
   },
   "outputs": [],
   "source": [
    "avg_home_df"
   ]
  },
  {
   "cell_type": "markdown",
   "metadata": {},
   "source": [
    "## Analysis of Avg_Home_DF"
   ]
  },
  {
   "cell_type": "code",
   "execution_count": 56,
   "metadata": {
    "ExecuteTime": {
     "end_time": "2022-05-04T16:58:51.251412Z",
     "start_time": "2022-05-04T16:58:50.953784Z"
    }
   },
   "outputs": [
    {
     "data": {
      "image/png": "[encoded data removed]",
      "text/plain": [
       "<Figure size 3600x1440 with 1 Axes>"
      ]
     },
     "metadata": {},
     "output_type": "display_data"
    }
   ],
   "source": [
    "fig, ax = plt.subplots(figsize=(50, 20))\n",
    "p = sns.lineplot(data=avg_home_df, x='time', y='home_value', color='blue');\n",
    "\n",
    "p.set_xlabel(\"Date\", fontsize = 50)\n",
    "p.set_ylabel(\"Median Housing\", fontsize = 50)\n",
    "\n",
    "plt.xticks(fontsize=40)\n",
    "plt.yticks(fontsize=40)\n",
    "\n",
    "fmt = '${x:,.0f}'\n",
    "tick = mtick.StrMethodFormatter(fmt)\n",
    "ax.yaxis.set_major_formatter(tick) \n",
    "\n",
    "p.set_title(\"Median Housing Sales\", fontsize = 100)\n",
    "plt.figsize=(50,25)\n",
    "\n",
    "plt.show();"
   ]
  },
  {
   "cell_type": "markdown",
   "metadata": {},
   "source": [
    "## DE-TREND THE DATA!\n",
    "LOOK AT LESSONS TO SEE WHAT TO DO NEXT WITHOUT WASTING TIME!!!!"
   ]
  },
  {
   "cell_type": "markdown",
   "metadata": {},
   "source": [
    "# Feature Engineering"
   ]
  },
  {
   "cell_type": "markdown",
   "metadata": {
    "ExecuteTime": {
     "end_time": "2022-05-03T18:25:05.680870Z",
     "start_time": "2022-05-03T18:25:05.670021Z"
    }
   },
   "source": [
    "- add: Region Mean, Region Growth, etc\n",
    "- THE POINT IS TO IDENTIFY WHICH ZIPS ARE THE BEST PERFORMING SO I CAN NARROW DOWN THE DATA TO CAPTURE!!!!"
   ]
  },
  {
   "cell_type": "code",
   "execution_count": null,
   "metadata": {
    "ExecuteTime": {
     "end_time": "2022-05-04T16:16:59.064571Z",
     "start_time": "2022-05-04T16:16:59.063069Z"
    }
   },
   "outputs": [],
   "source": [
    "# total_profit = table9.apply(lambda x: x['worldwide_gross'] - x['production_budget'], axis=1)\n",
    "# table9['total_profit'] = total_profit"
   ]
  },
  {
   "cell_type": "markdown",
   "metadata": {},
   "source": [
    "## Recent Data\n",
    "- only the data from 2013-2018"
   ]
  },
  {
   "cell_type": "code",
   "execution_count": null,
   "metadata": {
    "ExecuteTime": {
     "end_time": "2022-05-04T16:16:59.075934Z",
     "start_time": "2022-05-04T16:16:59.065923Z"
    }
   },
   "outputs": [],
   "source": [
    "df.head()"
   ]
  },
  {
   "cell_type": "code",
   "execution_count": null,
   "metadata": {
    "ExecuteTime": {
     "end_time": "2022-05-04T16:16:59.086796Z",
     "start_time": "2022-05-04T16:16:59.076904Z"
    }
   },
   "outputs": [],
   "source": [
    "recent_data = df.iloc[:, -64:]\n",
    "recent_data.head()"
   ]
  },
  {
   "cell_type": "code",
   "execution_count": null,
   "metadata": {
    "ExecuteTime": {
     "end_time": "2022-05-04T16:16:59.109227Z",
     "start_time": "2022-05-04T16:16:59.087769Z"
    }
   },
   "outputs": [],
   "source": [
    "recent_data.apply(lambda x: round(x, 2))"
   ]
  },
  {
   "cell_type": "code",
   "execution_count": null,
   "metadata": {
    "ExecuteTime": {
     "end_time": "2022-05-04T16:16:59.731337Z",
     "start_time": "2022-05-04T16:16:59.110427Z"
    }
   },
   "outputs": [],
   "source": [
    "recent_data['mean'] = recent_data.apply(lambda x: x.mean(), axis=1)"
   ]
  },
  {
   "cell_type": "code",
   "execution_count": null,
   "metadata": {
    "ExecuteTime": {
     "end_time": "2022-05-04T16:16:59.825311Z",
     "start_time": "2022-05-04T16:16:59.732351Z"
    }
   },
   "outputs": [],
   "source": [
    "recent_data['delta'] = recent_data.apply(lambda x: x['2018-04'] - x['2013-01'], axis=1)"
   ]
  },
  {
   "cell_type": "code",
   "execution_count": null,
   "metadata": {
    "ExecuteTime": {
     "end_time": "2022-05-04T16:16:59.838844Z",
     "start_time": "2022-05-04T16:16:59.826147Z"
    }
   },
   "outputs": [],
   "source": [
    "recent_data"
   ]
  },
  {
   "cell_type": "markdown",
   "metadata": {},
   "source": [
    "## attempting merge"
   ]
  },
  {
   "cell_type": "code",
   "execution_count": null,
   "metadata": {
    "ExecuteTime": {
     "end_time": "2022-05-04T16:16:59.841893Z",
     "start_time": "2022-05-04T16:16:59.839947Z"
    }
   },
   "outputs": [],
   "source": [
    "#recent_stats = recent_data.iloc[:, -3:]"
   ]
  },
  {
   "cell_type": "code",
   "execution_count": null,
   "metadata": {
    "ExecuteTime": {
     "end_time": "2022-05-04T16:16:59.846406Z",
     "start_time": "2022-05-04T16:16:59.842779Z"
    }
   },
   "outputs": [],
   "source": [
    "new_df = df.iloc[:, :7]\n",
    "new_df = new_df.reset_index()"
   ]
  },
  {
   "cell_type": "code",
   "execution_count": null,
   "metadata": {
    "ExecuteTime": {
     "end_time": "2022-05-04T16:16:59.849286Z",
     "start_time": "2022-05-04T16:16:59.847428Z"
    }
   },
   "outputs": [],
   "source": [
    "#new_df.drop([:, -1])"
   ]
  },
  {
   "cell_type": "code",
   "execution_count": null,
   "metadata": {
    "ExecuteTime": {
     "end_time": "2022-05-04T16:16:59.854828Z",
     "start_time": "2022-05-04T16:16:59.850377Z"
    }
   },
   "outputs": [],
   "source": [
    "recent_data = recent_data.reset_index()"
   ]
  },
  {
   "cell_type": "code",
   "execution_count": null,
   "metadata": {
    "ExecuteTime": {
     "end_time": "2022-05-04T16:16:59.873520Z",
     "start_time": "2022-05-04T16:16:59.855712Z"
    }
   },
   "outputs": [],
   "source": [
    "#cs_churn_df = cs_churn_df.merge(variable_1, on='#_of_calls')\n",
    "new_df = new_df.merge(recent_data, on='index')"
   ]
  },
  {
   "cell_type": "code",
   "execution_count": null,
   "metadata": {
    "ExecuteTime": {
     "end_time": "2022-05-04T16:16:59.885621Z",
     "start_time": "2022-05-04T16:16:59.874532Z"
    }
   },
   "outputs": [],
   "source": [
    "new_df.head()"
   ]
  },
  {
   "cell_type": "code",
   "execution_count": null,
   "metadata": {
    "ExecuteTime": {
     "end_time": "2022-05-04T16:16:59.896540Z",
     "start_time": "2022-05-04T16:16:59.886666Z"
    }
   },
   "outputs": [],
   "source": [
    "df.head()"
   ]
  },
  {
   "cell_type": "markdown",
   "metadata": {
    "ExecuteTime": {
     "end_time": "2022-05-03T19:07:21.451343Z",
     "start_time": "2022-05-03T19:07:21.446961Z"
    }
   },
   "source": [
    "### ASSERT NEEDED: new_df has accurate data, but before turning in this project I should include ASSERT to prove that it is."
   ]
  },
  {
   "cell_type": "markdown",
   "metadata": {},
   "source": [
    "# Analysis of New DF w/Metrics"
   ]
  },
  {
   "cell_type": "code",
   "execution_count": null,
   "metadata": {
    "ExecuteTime": {
     "end_time": "2022-05-04T16:16:59.909567Z",
     "start_time": "2022-05-04T16:16:59.900558Z"
    }
   },
   "outputs": [],
   "source": [
    "new_df.drop(columns=['index'], inplace=True)"
   ]
  },
  {
   "cell_type": "code",
   "execution_count": null,
   "metadata": {
    "ExecuteTime": {
     "end_time": "2022-05-04T16:16:59.922863Z",
     "start_time": "2022-05-04T16:16:59.912532Z"
    }
   },
   "outputs": [],
   "source": [
    "new_df.head()"
   ]
  },
  {
   "cell_type": "code",
   "execution_count": null,
   "metadata": {
    "ExecuteTime": {
     "end_time": "2022-05-04T16:16:59.930612Z",
     "start_time": "2022-05-04T16:16:59.923881Z"
    }
   },
   "outputs": [],
   "source": [
    "new_df = new_df.sort_values('delta', ascending=False)"
   ]
  },
  {
   "cell_type": "code",
   "execution_count": null,
   "metadata": {
    "ExecuteTime": {
     "end_time": "2022-05-04T16:16:59.944741Z",
     "start_time": "2022-05-04T16:16:59.931791Z"
    }
   },
   "outputs": [],
   "source": [
    "new_df['delta_rank'] = range(len(df))\n",
    "new_df.head()"
   ]
  },
  {
   "cell_type": "code",
   "execution_count": null,
   "metadata": {
    "ExecuteTime": {
     "end_time": "2022-05-04T16:16:59.963934Z",
     "start_time": "2022-05-04T16:16:59.945842Z"
    }
   },
   "outputs": [],
   "source": [
    "new_df = new_df.sort_values('mean', ascending=False)\n",
    "new_df['mean_rank'] = range(len(df))\n",
    "new_df.head()"
   ]
  },
  {
   "cell_type": "code",
   "execution_count": null,
   "metadata": {
    "ExecuteTime": {
     "end_time": "2022-05-04T16:17:00.231394Z",
     "start_time": "2022-05-04T16:16:59.965208Z"
    }
   },
   "outputs": [],
   "source": [
    "new_df.sort_values(\"delta_rank\").head(1000)"
   ]
  },
  {
   "cell_type": "markdown",
   "metadata": {},
   "source": [
    "# NEXT FEATURE = ADD DELTA AS A PERCENTAGE OF VALUE (IE, HOME VALUES INCREASED X%)"
   ]
  },
  {
   "cell_type": "code",
   "execution_count": null,
   "metadata": {
    "ExecuteTime": {
     "end_time": "2022-05-04T16:17:00.392875Z",
     "start_time": "2022-05-04T16:17:00.232487Z"
    }
   },
   "outputs": [],
   "source": [
    "new_df['delta_percent'] = new_df.apply(lambda x: x['2013-01'] / x['2018-04'], axis=1)"
   ]
  },
  {
   "cell_type": "code",
   "execution_count": null,
   "metadata": {
    "ExecuteTime": {
     "end_time": "2022-05-04T16:17:00.398371Z",
     "start_time": "2022-05-04T16:17:00.394070Z"
    }
   },
   "outputs": [],
   "source": [
    "#this seems to correct the percentages\n",
    "new_df['delta_percent'] = new_df['delta_percent'].diff() / new_df['delta_percent'].abs().shift()"
   ]
  },
  {
   "cell_type": "code",
   "execution_count": null,
   "metadata": {
    "ExecuteTime": {
     "end_time": "2022-05-04T16:22:27.506162Z",
     "start_time": "2022-05-04T16:22:27.497364Z"
    }
   },
   "outputs": [],
   "source": [
    "new_df['delta'].isna().sum()"
   ]
  },
  {
   "cell_type": "code",
   "execution_count": null,
   "metadata": {},
   "outputs": [],
   "source": []
  },
  {
   "cell_type": "code",
   "execution_count": null,
   "metadata": {
    "ExecuteTime": {
     "end_time": "2022-05-04T16:26:01.729304Z",
     "start_time": "2022-05-04T16:26:01.612426Z"
    }
   },
   "outputs": [],
   "source": [
    "new_df.describe()"
   ]
  },
  {
   "cell_type": "code",
   "execution_count": null,
   "metadata": {
    "ExecuteTime": {
     "end_time": "2022-05-04T16:23:33.147052Z",
     "start_time": "2022-05-04T16:23:33.060530Z"
    }
   },
   "outputs": [],
   "source": [
    "new_df.sort_values('delta', ascending=False).tail(200)"
   ]
  },
  {
   "cell_type": "markdown",
   "metadata": {},
   "source": [
    "# Creating Analysis_DF"
   ]
  },
  {
   "cell_type": "code",
   "execution_count": null,
   "metadata": {
    "ExecuteTime": {
     "end_time": "2022-05-04T16:17:00.439704Z",
     "start_time": "2022-05-04T16:17:00.429484Z"
    }
   },
   "outputs": [],
   "source": [
    "new_df.head(2)"
   ]
  },
  {
   "cell_type": "code",
   "execution_count": null,
   "metadata": {
    "ExecuteTime": {
     "end_time": "2022-05-04T16:17:00.448760Z",
     "start_time": "2022-05-04T16:17:00.440772Z"
    }
   },
   "outputs": [],
   "source": [
    "new_df.iloc[:, -6:]"
   ]
  },
  {
   "cell_type": "code",
   "execution_count": null,
   "metadata": {
    "ExecuteTime": {
     "end_time": "2022-05-04T16:17:00.456734Z",
     "start_time": "2022-05-04T16:17:00.449742Z"
    }
   },
   "outputs": [],
   "source": [
    "analysis_df_5 = new_df.iloc[:, :8]\n",
    "analysis_df_5.head()"
   ]
  },
  {
   "cell_type": "code",
   "execution_count": null,
   "metadata": {
    "ExecuteTime": {
     "end_time": "2022-05-04T16:17:00.463841Z",
     "start_time": "2022-05-04T16:17:00.457720Z"
    }
   },
   "outputs": [],
   "source": [
    "analysis_stats = new_df.iloc[:, -6:]\n",
    "analysis_stats.head()"
   ]
  },
  {
   "cell_type": "code",
   "execution_count": null,
   "metadata": {
    "ExecuteTime": {
     "end_time": "2022-05-04T16:17:00.475797Z",
     "start_time": "2022-05-04T16:17:00.465185Z"
    }
   },
   "outputs": [],
   "source": [
    "analysis_df_5 = analysis_df_5.reset_index()\n",
    "analysis_df_5"
   ]
  },
  {
   "cell_type": "code",
   "execution_count": null,
   "metadata": {
    "ExecuteTime": {
     "end_time": "2022-05-04T16:17:00.482457Z",
     "start_time": "2022-05-04T16:17:00.476741Z"
    }
   },
   "outputs": [],
   "source": [
    "analysis_stats = analysis_stats.reset_index()\n",
    "analysis_stats.head(2)"
   ]
  },
  {
   "cell_type": "code",
   "execution_count": null,
   "metadata": {
    "ExecuteTime": {
     "end_time": "2022-05-04T16:17:00.495269Z",
     "start_time": "2022-05-04T16:17:00.483477Z"
    }
   },
   "outputs": [],
   "source": [
    "analysis_df_5 = analysis_df_5.merge(analysis_stats, on='index')\n",
    "analysis_df_5.head(2)"
   ]
  },
  {
   "cell_type": "code",
   "execution_count": null,
   "metadata": {
    "ExecuteTime": {
     "end_time": "2022-05-04T16:17:00.500222Z",
     "start_time": "2022-05-04T16:17:00.496246Z"
    }
   },
   "outputs": [],
   "source": [
    "analysis_df_5.drop(columns=['index'], inplace=True)"
   ]
  },
  {
   "cell_type": "markdown",
   "metadata": {
    "ExecuteTime": {
     "end_time": "2022-05-04T13:55:58.029033Z",
     "start_time": "2022-05-04T13:55:58.024761Z"
    }
   },
   "source": [
    "## Analysis"
   ]
  },
  {
   "cell_type": "code",
   "execution_count": null,
   "metadata": {
    "ExecuteTime": {
     "end_time": "2022-05-04T16:17:00.556584Z",
     "start_time": "2022-05-04T16:17:00.501310Z"
    }
   },
   "outputs": [],
   "source": [
    "analysis_df_5.sort_values('delta_percent', ascending=False).head(250)"
   ]
  },
  {
   "cell_type": "code",
   "execution_count": null,
   "metadata": {
    "ExecuteTime": {
     "end_time": "2022-05-04T16:17:00.570835Z",
     "start_time": "2022-05-04T16:17:00.557508Z"
    }
   },
   "outputs": [],
   "source": [
    "#shows the mean home value for years 2013-apr 2018 by state\n",
    "# RegionID, SizeRank, deltaRank, mean_rank are all messed up.\n",
    "state_analysis_df_5 = analysis_df_5.groupby('State').mean().sort_values('delta_percent', ascending=False)\n",
    "state_analysis_df_5"
   ]
  },
  {
   "cell_type": "code",
   "execution_count": null,
   "metadata": {
    "ExecuteTime": {
     "end_time": "2022-05-04T16:17:00.573735Z",
     "start_time": "2022-05-04T16:17:00.571754Z"
    }
   },
   "outputs": [],
   "source": [
    "# Dropping RegionID, SizeRank, deltaRank, mean_rank as they are all messed up.\n",
    "state_analysis_df_5.drop(columns=['RegionID', 'SizeRank', 'delta_rank', 'mean_rank'], inplace=True)"
   ]
  },
  {
   "cell_type": "code",
   "execution_count": null,
   "metadata": {
    "ExecuteTime": {
     "end_time": "2022-05-04T16:17:00.576393Z",
     "start_time": "2022-05-04T16:17:00.574479Z"
    }
   },
   "outputs": [],
   "source": [
    "state_analysis_df_5 = state_analysis_df_5.reset_index()"
   ]
  },
  {
   "cell_type": "code",
   "execution_count": null,
   "metadata": {
    "ExecuteTime": {
     "end_time": "2022-05-04T16:17:00.587728Z",
     "start_time": "2022-05-04T16:17:00.577269Z"
    }
   },
   "outputs": [],
   "source": [
    "#mean, etc\n",
    "state_analysis_df_5.describe()"
   ]
  },
  {
   "cell_type": "markdown",
   "metadata": {},
   "source": [
    "## Analysis\n",
    "- Avg(Mean) Home Value in 2013-01: 198,983\n",
    "- Avg(Mean) Home Value in 2018-04: 264,644\n",
    "- Mean of 5 year date range: 228,807\n",
    "- Avg Delta by price = 66, 384\n",
    "- Av delta increase = .42% (or .0042)"
   ]
  },
  {
   "cell_type": "code",
   "execution_count": null,
   "metadata": {
    "ExecuteTime": {
     "end_time": "2022-05-04T16:17:00.596534Z",
     "start_time": "2022-05-04T16:17:00.588535Z"
    }
   },
   "outputs": [],
   "source": [
    "state_analysis_df_5.sort_values('mean', ascending=True)"
   ]
  },
  {
   "cell_type": "code",
   "execution_count": null,
   "metadata": {},
   "outputs": [],
   "source": [
    "#adding a correct deltarank and mean_rank.\n"
   ]
  },
  {
   "cell_type": "markdown",
   "metadata": {},
   "source": [
    "## Transforming into Date-Time\n",
    "- columns cannot be turned to Date time without changing the data itself. I need to get the dates to become the index of my df and somehow keep all of the data within."
   ]
  },
  {
   "cell_type": "code",
   "execution_count": null,
   "metadata": {},
   "outputs": [],
   "source": []
  },
  {
   "cell_type": "code",
   "execution_count": null,
   "metadata": {
    "ExecuteTime": {
     "end_time": "2022-05-03T18:13:13.925197Z",
     "start_time": "2022-05-03T18:13:13.897247Z"
    }
   },
   "outputs": [],
   "source": [
    "df.head()"
   ]
  },
  {
   "cell_type": "code",
   "execution_count": null,
   "metadata": {
    "ExecuteTime": {
     "end_time": "2022-05-03T18:13:29.392776Z",
     "start_time": "2022-05-03T18:13:29.354390Z"
    }
   },
   "outputs": [],
   "source": [
    "data_df = df.iloc[:, 7:]\n",
    "data_df"
   ]
  },
  {
   "cell_type": "code",
   "execution_count": null,
   "metadata": {
    "ExecuteTime": {
     "end_time": "2022-05-03T18:16:32.176647Z",
     "start_time": "2022-05-03T18:16:32.159417Z"
    }
   },
   "outputs": [],
   "source": [
    "data_df"
   ]
  },
  {
   "cell_type": "code",
   "execution_count": null,
   "metadata": {
    "ExecuteTime": {
     "end_time": "2022-05-03T18:10:43.054060Z",
     "start_time": "2022-05-03T18:10:43.018893Z"
    }
   },
   "outputs": [],
   "source": [
    "data_df.columns = pd.to_datetime(data_df.columns, format='%Y-%m')\n",
    "data_df.head()"
   ]
  },
  {
   "cell_type": "code",
   "execution_count": null,
   "metadata": {
    "ExecuteTime": {
     "end_time": "2022-05-03T18:12:13.813379Z",
     "start_time": "2022-05-03T18:12:13.798550Z"
    }
   },
   "outputs": [],
   "source": [
    "data_df.iloc[:, 0:9].info()"
   ]
  },
  {
   "cell_type": "code",
   "execution_count": null,
   "metadata": {
    "ExecuteTime": {
     "end_time": "2022-05-03T17:32:42.999995Z",
     "start_time": "2022-05-03T17:32:42.997559Z"
    }
   },
   "outputs": [],
   "source": [
    "#get_datetimes(data)"
   ]
  },
  {
   "cell_type": "code",
   "execution_count": null,
   "metadata": {
    "ExecuteTime": {
     "end_time": "2022-05-03T18:17:43.800417Z",
     "start_time": "2022-05-03T18:17:43.772094Z"
    }
   },
   "outputs": [],
   "source": [
    "df.iloc[:, :7].head()"
   ]
  },
  {
   "cell_type": "code",
   "execution_count": null,
   "metadata": {
    "ExecuteTime": {
     "end_time": "2022-05-03T18:17:47.850315Z",
     "start_time": "2022-05-03T18:17:47.815025Z"
    }
   },
   "outputs": [],
   "source": [
    "df_1996 = df.iloc[:, :16]\n",
    "df_1996"
   ]
  },
  {
   "cell_type": "code",
   "execution_count": null,
   "metadata": {
    "ExecuteTime": {
     "end_time": "2022-05-03T18:17:51.042688Z",
     "start_time": "2022-05-03T18:17:51.017448Z"
    }
   },
   "outputs": [],
   "source": [
    "df_1996.info()"
   ]
  },
  {
   "cell_type": "code",
   "execution_count": null,
   "metadata": {
    "ExecuteTime": {
     "end_time": "2022-05-03T18:17:55.299942Z",
     "start_time": "2022-05-03T18:17:55.285412Z"
    }
   },
   "outputs": [],
   "source": [
    "#this works!\n",
    "df_1996['1996-04'] = pd.to_datetime(df_1996['1996-04'])"
   ]
  },
  {
   "cell_type": "code",
   "execution_count": null,
   "metadata": {
    "ExecuteTime": {
     "end_time": "2022-05-03T18:08:24.581057Z",
     "start_time": "2022-05-03T18:08:24.549772Z"
    }
   },
   "outputs": [],
   "source": [
    "#pd.to_datetime(df_1996[:, 7:])"
   ]
  },
  {
   "cell_type": "code",
   "execution_count": null,
   "metadata": {
    "ExecuteTime": {
     "end_time": "2022-05-03T18:18:08.011781Z",
     "start_time": "2022-05-03T18:18:07.987790Z"
    }
   },
   "outputs": [],
   "source": [
    "df_1996.info()"
   ]
  },
  {
   "cell_type": "code",
   "execution_count": null,
   "metadata": {
    "ExecuteTime": {
     "end_time": "2022-05-03T18:18:18.490231Z",
     "start_time": "2022-05-03T18:18:18.458944Z"
    }
   },
   "outputs": [],
   "source": [
    "df_1996"
   ]
  },
  {
   "cell_type": "code",
   "execution_count": null,
   "metadata": {
    "ExecuteTime": {
     "end_time": "2022-05-03T17:52:25.172072Z",
     "start_time": "2022-05-03T17:52:25.161896Z"
    }
   },
   "outputs": [],
   "source": [
    "df_1996.head()"
   ]
  },
  {
   "cell_type": "code",
   "execution_count": null,
   "metadata": {
    "ExecuteTime": {
     "end_time": "2022-05-03T17:53:01.571688Z",
     "start_time": "2022-05-03T17:53:01.554503Z"
    }
   },
   "outputs": [],
   "source": [
    "#df_1996.drop(columns={'RegionID', 'City', 'State', 'Metro', 'CountyName', 'SizeRank'}, inplace=True)\n",
    "df_1996.drop(columns={'RegionID', 'RegionName', 'City','Metro', 'CountyName', 'SizeRank'}, inplace=True)"
   ]
  },
  {
   "cell_type": "code",
   "execution_count": null,
   "metadata": {
    "ExecuteTime": {
     "end_time": "2022-05-03T17:55:21.479164Z",
     "start_time": "2022-05-03T17:55:21.458915Z"
    }
   },
   "outputs": [],
   "source": [
    "jon_df = df_1996\n",
    "jon_df.head()"
   ]
  },
  {
   "cell_type": "code",
   "execution_count": null,
   "metadata": {
    "ExecuteTime": {
     "end_time": "2022-05-03T17:57:33.837157Z",
     "start_time": "2022-05-03T17:57:33.826268Z"
    }
   },
   "outputs": [],
   "source": [
    "jon_df_2 = jon_df.iloc[:, 1:]"
   ]
  },
  {
   "cell_type": "code",
   "execution_count": null,
   "metadata": {
    "ExecuteTime": {
     "end_time": "2022-05-03T17:57:52.719684Z",
     "start_time": "2022-05-03T17:57:52.700439Z"
    }
   },
   "outputs": [],
   "source": [
    "jon_df_2"
   ]
  },
  {
   "cell_type": "code",
   "execution_count": null,
   "metadata": {},
   "outputs": [],
   "source": []
  },
  {
   "cell_type": "code",
   "execution_count": null,
   "metadata": {
    "ExecuteTime": {
     "end_time": "2022-05-03T17:52:06.339939Z",
     "start_time": "2022-05-03T17:52:06.265970Z"
    }
   },
   "outputs": [],
   "source": [
    "pd.melt(df_1996).tail(1000)"
   ]
  },
  {
   "cell_type": "markdown",
   "metadata": {},
   "source": [
    "## Month Values"
   ]
  },
  {
   "cell_type": "code",
   "execution_count": null,
   "metadata": {
    "ExecuteTime": {
     "end_time": "2022-05-03T17:30:06.354804Z",
     "start_time": "2022-05-03T17:30:06.306052Z"
    }
   },
   "outputs": [],
   "source": [
    "df.sort_values('1996-04').tail()"
   ]
  },
  {
   "cell_type": "code",
   "execution_count": null,
   "metadata": {
    "ExecuteTime": {
     "end_time": "2022-05-03T17:30:10.538069Z",
     "start_time": "2022-05-03T17:30:10.499298Z"
    }
   },
   "outputs": [],
   "source": [
    "df.sort_values('1996-04').tail()"
   ]
  },
  {
   "cell_type": "code",
   "execution_count": null,
   "metadata": {
    "ExecuteTime": {
     "end_time": "2022-05-02T23:07:27.563419Z",
     "start_time": "2022-05-02T23:07:27.478211Z"
    }
   },
   "outputs": [],
   "source": []
  },
  {
   "cell_type": "code",
   "execution_count": null,
   "metadata": {},
   "outputs": [],
   "source": []
  },
  {
   "cell_type": "code",
   "execution_count": null,
   "metadata": {},
   "outputs": [],
   "source": []
  },
  {
   "cell_type": "code",
   "execution_count": null,
   "metadata": {},
   "outputs": [],
   "source": []
  },
  {
   "cell_type": "code",
   "execution_count": null,
   "metadata": {},
   "outputs": [],
   "source": []
  },
  {
   "cell_type": "markdown",
   "metadata": {},
   "source": [
    "## Grouping by Zip (Region Name)"
   ]
  },
  {
   "cell_type": "code",
   "execution_count": null,
   "metadata": {
    "ExecuteTime": {
     "end_time": "2022-05-03T17:38:45.107000Z",
     "start_time": "2022-05-03T17:38:44.950662Z"
    }
   },
   "outputs": [],
   "source": [
    "zip_df = df.groupby('RegionName').mean()"
   ]
  },
  {
   "cell_type": "code",
   "execution_count": null,
   "metadata": {
    "ExecuteTime": {
     "end_time": "2022-05-02T23:21:52.015396Z",
     "start_time": "2022-05-02T23:21:52.001069Z"
    }
   },
   "outputs": [],
   "source": [
    "#zip_df = zip_df.reset_index()"
   ]
  },
  {
   "cell_type": "code",
   "execution_count": null,
   "metadata": {
    "ExecuteTime": {
     "end_time": "2022-05-03T17:42:47.826149Z",
     "start_time": "2022-05-03T17:42:47.774369Z"
    }
   },
   "outputs": [],
   "source": [
    "melt_data(zip_df)"
   ]
  },
  {
   "cell_type": "markdown",
   "metadata": {},
   "source": [
    "### Melt"
   ]
  },
  {
   "cell_type": "code",
   "execution_count": null,
   "metadata": {
    "ExecuteTime": {
     "end_time": "2022-05-03T17:42:06.696174Z",
     "start_time": "2022-05-03T17:42:06.479565Z"
    }
   },
   "outputs": [],
   "source": [
    "pd.melt(zip_df).head(1000)"
   ]
  },
  {
   "cell_type": "code",
   "execution_count": null,
   "metadata": {},
   "outputs": [],
   "source": []
  },
  {
   "cell_type": "code",
   "execution_count": null,
   "metadata": {},
   "outputs": [],
   "source": []
  },
  {
   "cell_type": "code",
   "execution_count": null,
   "metadata": {},
   "outputs": [],
   "source": []
  },
  {
   "cell_type": "code",
   "execution_count": null,
   "metadata": {},
   "outputs": [],
   "source": []
  },
  {
   "cell_type": "code",
   "execution_count": null,
   "metadata": {
    "ExecuteTime": {
     "end_time": "2022-05-03T17:40:34.166235Z",
     "start_time": "2022-05-03T17:40:34.061464Z"
    }
   },
   "outputs": [],
   "source": [
    "regionname_df = zip_df.iloc[:, 2:]\n",
    "regionname_df"
   ]
  },
  {
   "cell_type": "code",
   "execution_count": null,
   "metadata": {
    "ExecuteTime": {
     "end_time": "2022-05-03T17:40:50.933272Z",
     "start_time": "2022-05-03T17:40:50.898836Z"
    }
   },
   "outputs": [],
   "source": [
    "regionname_df.resample(\"Y\")"
   ]
  },
  {
   "cell_type": "code",
   "execution_count": null,
   "metadata": {},
   "outputs": [],
   "source": []
  },
  {
   "cell_type": "code",
   "execution_count": null,
   "metadata": {},
   "outputs": [],
   "source": []
  },
  {
   "cell_type": "markdown",
   "metadata": {},
   "source": [
    "# Melted Zip DF !!!!!"
   ]
  },
  {
   "cell_type": "code",
   "execution_count": null,
   "metadata": {
    "ExecuteTime": {
     "end_time": "2022-05-02T23:36:43.125934Z",
     "start_time": "2022-05-02T23:36:43.098199Z"
    }
   },
   "outputs": [],
   "source": [
    "zip_df = zip_df.reset_index()"
   ]
  },
  {
   "cell_type": "code",
   "execution_count": null,
   "metadata": {
    "ExecuteTime": {
     "end_time": "2022-05-02T23:37:58.795335Z",
     "start_time": "2022-05-02T23:37:58.770223Z"
    }
   },
   "outputs": [],
   "source": [
    "zip_df.drop(columns=['RegionID', 'SizeRank'], inplace=True)"
   ]
  },
  {
   "cell_type": "code",
   "execution_count": null,
   "metadata": {
    "ExecuteTime": {
     "end_time": "2022-05-02T23:38:14.445762Z",
     "start_time": "2022-05-02T23:38:14.417604Z"
    }
   },
   "outputs": [],
   "source": [
    "zip_df.head()"
   ]
  },
  {
   "cell_type": "code",
   "execution_count": null,
   "metadata": {
    "ExecuteTime": {
     "end_time": "2022-05-02T23:38:48.199818Z",
     "start_time": "2022-05-02T23:38:47.918386Z"
    }
   },
   "outputs": [],
   "source": [
    " melted_zip_df = pd.melt(zip_df, id_vars=['RegionName'], var_name='time')"
   ]
  },
  {
   "cell_type": "code",
   "execution_count": null,
   "metadata": {
    "ExecuteTime": {
     "end_time": "2022-05-02T23:40:33.951380Z",
     "start_time": "2022-05-02T23:40:33.930699Z"
    }
   },
   "outputs": [],
   "source": [
    "melted_zip_df.info()"
   ]
  },
  {
   "cell_type": "code",
   "execution_count": null,
   "metadata": {
    "ExecuteTime": {
     "end_time": "2022-05-02T23:41:20.771184Z",
     "start_time": "2022-05-02T23:41:20.337600Z"
    }
   },
   "outputs": [],
   "source": [
    "melted_zip_df['time'] = pd.to_datetime(melted_zip_df['time'])"
   ]
  },
  {
   "cell_type": "code",
   "execution_count": null,
   "metadata": {
    "ExecuteTime": {
     "end_time": "2022-05-02T23:41:27.417943Z",
     "start_time": "2022-05-02T23:41:27.403755Z"
    }
   },
   "outputs": [],
   "source": [
    "melted_zip_df.info()"
   ]
  },
  {
   "cell_type": "code",
   "execution_count": null,
   "metadata": {
    "ExecuteTime": {
     "end_time": "2022-05-02T23:44:12.950964Z",
     "start_time": "2022-05-02T23:44:12.929485Z"
    }
   },
   "outputs": [],
   "source": [
    "melted_zip_df.rename(columns={\"value\": \"home_sales\"}, inplace=True)\n",
    "melted_zip_df"
   ]
  },
  {
   "cell_type": "code",
   "execution_count": null,
   "metadata": {
    "ExecuteTime": {
     "end_time": "2022-05-02T23:45:20.259457Z",
     "start_time": "2022-05-02T23:45:20.106737Z"
    }
   },
   "outputs": [],
   "source": [
    "melted_zip_df = melted_zip_df.set_index('time')\n",
    "melted_zip_df.head()"
   ]
  },
  {
   "cell_type": "code",
   "execution_count": null,
   "metadata": {
    "ExecuteTime": {
     "end_time": "2022-05-02T23:48:58.596932Z",
     "start_time": "2022-05-02T23:48:58.536614Z"
    }
   },
   "outputs": [],
   "source": [
    "melted_zip_df.resample('Y').mean()"
   ]
  },
  {
   "cell_type": "code",
   "execution_count": null,
   "metadata": {},
   "outputs": [],
   "source": []
  },
  {
   "cell_type": "code",
   "execution_count": null,
   "metadata": {},
   "outputs": [],
   "source": []
  },
  {
   "cell_type": "code",
   "execution_count": null,
   "metadata": {
    "ExecuteTime": {
     "end_time": "2022-05-02T23:46:48.867025Z",
     "start_time": "2022-05-02T23:46:48.552459Z"
    }
   },
   "outputs": [],
   "source": [
    "melted_zip_df.groupby('RegionName').mean()"
   ]
  },
  {
   "cell_type": "code",
   "execution_count": null,
   "metadata": {},
   "outputs": [],
   "source": []
  },
  {
   "cell_type": "code",
   "execution_count": null,
   "metadata": {},
   "outputs": [],
   "source": []
  },
  {
   "cell_type": "code",
   "execution_count": null,
   "metadata": {},
   "outputs": [],
   "source": []
  },
  {
   "cell_type": "code",
   "execution_count": null,
   "metadata": {},
   "outputs": [],
   "source": []
  },
  {
   "cell_type": "code",
   "execution_count": null,
   "metadata": {},
   "outputs": [],
   "source": []
  },
  {
   "cell_type": "markdown",
   "metadata": {},
   "source": [
    "## Test Melt 1"
   ]
  },
  {
   "cell_type": "code",
   "execution_count": null,
   "metadata": {
    "ExecuteTime": {
     "end_time": "2022-05-02T23:26:10.418252Z",
     "start_time": "2022-05-02T23:26:10.398511Z"
    }
   },
   "outputs": [],
   "source": [
    "test_melt = pd.melt(zip_1996, var_name='time')"
   ]
  },
  {
   "cell_type": "code",
   "execution_count": null,
   "metadata": {
    "ExecuteTime": {
     "end_time": "2022-05-02T23:26:12.131355Z",
     "start_time": "2022-05-02T23:26:12.122233Z"
    }
   },
   "outputs": [],
   "source": [
    "test_melt.info()"
   ]
  },
  {
   "cell_type": "code",
   "execution_count": null,
   "metadata": {
    "ExecuteTime": {
     "end_time": "2022-05-02T23:26:14.322609Z",
     "start_time": "2022-05-02T23:26:14.286260Z"
    }
   },
   "outputs": [],
   "source": [
    "test_melt['time'] = pd.to_datetime(melted['time'])"
   ]
  },
  {
   "cell_type": "code",
   "execution_count": null,
   "metadata": {
    "ExecuteTime": {
     "end_time": "2022-05-02T23:26:19.797743Z",
     "start_time": "2022-05-02T23:26:19.781116Z"
    }
   },
   "outputs": [],
   "source": [
    "test_melt.info()"
   ]
  },
  {
   "cell_type": "markdown",
   "metadata": {},
   "source": [
    "## Test Melt 2"
   ]
  },
  {
   "cell_type": "code",
   "execution_count": null,
   "metadata": {
    "ExecuteTime": {
     "end_time": "2022-05-02T23:31:11.183022Z",
     "start_time": "2022-05-02T23:31:11.015968Z"
    }
   },
   "outputs": [],
   "source": [
    "test_melt_2 = pd.melt(regionname_df, var_name='time')"
   ]
  },
  {
   "cell_type": "code",
   "execution_count": null,
   "metadata": {
    "ExecuteTime": {
     "end_time": "2022-05-02T23:31:16.414296Z",
     "start_time": "2022-05-02T23:31:16.395913Z"
    }
   },
   "outputs": [],
   "source": [
    "test_melt_2"
   ]
  },
  {
   "cell_type": "code",
   "execution_count": null,
   "metadata": {
    "ExecuteTime": {
     "end_time": "2022-05-03T17:23:11.890571Z",
     "start_time": "2022-05-03T17:23:11.825085Z"
    }
   },
   "outputs": [],
   "source": [
    "test_melt_2.info()"
   ]
  },
  {
   "cell_type": "code",
   "execution_count": null,
   "metadata": {
    "ExecuteTime": {
     "end_time": "2022-05-02T22:42:38.040222Z",
     "start_time": "2022-05-02T22:42:37.981911Z"
    }
   },
   "outputs": [],
   "source": [
    "df.sort_values('RegionName')"
   ]
  },
  {
   "cell_type": "markdown",
   "metadata": {},
   "source": [
    "## Grouping By State"
   ]
  },
  {
   "cell_type": "code",
   "execution_count": 51,
   "metadata": {
    "ExecuteTime": {
     "end_time": "2022-05-04T16:57:06.964308Z",
     "start_time": "2022-05-04T16:57:06.926384Z"
    }
   },
   "outputs": [
    {
     "data": {
      "text/html": [
       "<div>\n",
       "<style scoped>\n",
       "    .dataframe tbody tr th:only-of-type {\n",
       "        vertical-align: middle;\n",
       "    }\n",
       "\n",
       "    .dataframe tbody tr th {\n",
       "        vertical-align: top;\n",
       "    }\n",
       "\n",
       "    .dataframe thead th {\n",
       "        text-align: right;\n",
       "    }\n",
       "</style>\n",
       "<table border=\"1\" class=\"dataframe\">\n",
       "  <thead>\n",
       "    <tr style=\"text-align: right;\">\n",
       "      <th></th>\n",
       "      <th>1996-04</th>\n",
       "      <th>1996-05</th>\n",
       "      <th>1996-06</th>\n",
       "      <th>1996-07</th>\n",
       "      <th>1996-08</th>\n",
       "      <th>1996-09</th>\n",
       "      <th>1996-10</th>\n",
       "      <th>1996-11</th>\n",
       "      <th>1996-12</th>\n",
       "      <th>1997-01</th>\n",
       "      <th>...</th>\n",
       "      <th>2017-07</th>\n",
       "      <th>2017-08</th>\n",
       "      <th>2017-09</th>\n",
       "      <th>2017-10</th>\n",
       "      <th>2017-11</th>\n",
       "      <th>2017-12</th>\n",
       "      <th>2018-01</th>\n",
       "      <th>2018-02</th>\n",
       "      <th>2018-03</th>\n",
       "      <th>2018-04</th>\n",
       "    </tr>\n",
       "    <tr>\n",
       "      <th>State</th>\n",
       "      <th></th>\n",
       "      <th></th>\n",
       "      <th></th>\n",
       "      <th></th>\n",
       "      <th></th>\n",
       "      <th></th>\n",
       "      <th></th>\n",
       "      <th></th>\n",
       "      <th></th>\n",
       "      <th></th>\n",
       "      <th></th>\n",
       "      <th></th>\n",
       "      <th></th>\n",
       "      <th></th>\n",
       "      <th></th>\n",
       "      <th></th>\n",
       "      <th></th>\n",
       "      <th></th>\n",
       "      <th></th>\n",
       "      <th></th>\n",
       "      <th></th>\n",
       "    </tr>\n",
       "  </thead>\n",
       "  <tbody>\n",
       "    <tr>\n",
       "      <th>AK</th>\n",
       "      <td>128,382.14</td>\n",
       "      <td>128,832.14</td>\n",
       "      <td>129,253.57</td>\n",
       "      <td>129,639.29</td>\n",
       "      <td>130,028.57</td>\n",
       "      <td>130,367.86</td>\n",
       "      <td>130,710.71</td>\n",
       "      <td>131,085.71</td>\n",
       "      <td>131,557.14</td>\n",
       "      <td>132,107.14</td>\n",
       "      <td>...</td>\n",
       "      <td>317,921.43</td>\n",
       "      <td>318,610.71</td>\n",
       "      <td>319,382.14</td>\n",
       "      <td>320,185.71</td>\n",
       "      <td>321,378.57</td>\n",
       "      <td>322,657.14</td>\n",
       "      <td>323,775.00</td>\n",
       "      <td>324,167.86</td>\n",
       "      <td>323,692.86</td>\n",
       "      <td>323,046.43</td>\n",
       "    </tr>\n",
       "    <tr>\n",
       "      <th>AL</th>\n",
       "      <td>86,795.57</td>\n",
       "      <td>87,122.15</td>\n",
       "      <td>87,460.76</td>\n",
       "      <td>87,798.73</td>\n",
       "      <td>88,156.96</td>\n",
       "      <td>88,531.01</td>\n",
       "      <td>88,918.99</td>\n",
       "      <td>89,327.85</td>\n",
       "      <td>89,800.63</td>\n",
       "      <td>90,325.95</td>\n",
       "      <td>...</td>\n",
       "      <td>149,255.19</td>\n",
       "      <td>149,675.96</td>\n",
       "      <td>150,125.14</td>\n",
       "      <td>150,537.70</td>\n",
       "      <td>150,969.95</td>\n",
       "      <td>151,629.51</td>\n",
       "      <td>152,402.73</td>\n",
       "      <td>153,625.68</td>\n",
       "      <td>155,504.37</td>\n",
       "      <td>157,033.88</td>\n",
       "    </tr>\n",
       "    <tr>\n",
       "      <th>AR</th>\n",
       "      <td>68,868.04</td>\n",
       "      <td>69,015.46</td>\n",
       "      <td>69,140.21</td>\n",
       "      <td>69,262.89</td>\n",
       "      <td>69,378.35</td>\n",
       "      <td>69,507.22</td>\n",
       "      <td>69,674.23</td>\n",
       "      <td>69,885.57</td>\n",
       "      <td>70,167.01</td>\n",
       "      <td>70,535.05</td>\n",
       "      <td>...</td>\n",
       "      <td>131,952.38</td>\n",
       "      <td>132,379.05</td>\n",
       "      <td>132,778.10</td>\n",
       "      <td>132,973.33</td>\n",
       "      <td>133,020.00</td>\n",
       "      <td>133,188.57</td>\n",
       "      <td>133,522.86</td>\n",
       "      <td>134,456.19</td>\n",
       "      <td>136,192.38</td>\n",
       "      <td>137,620.00</td>\n",
       "    </tr>\n",
       "    <tr>\n",
       "      <th>AZ</th>\n",
       "      <td>116,202.79</td>\n",
       "      <td>116,562.79</td>\n",
       "      <td>116,934.88</td>\n",
       "      <td>117,315.35</td>\n",
       "      <td>117,719.53</td>\n",
       "      <td>118,150.23</td>\n",
       "      <td>118,626.51</td>\n",
       "      <td>119,141.40</td>\n",
       "      <td>119,773.49</td>\n",
       "      <td>120,472.09</td>\n",
       "      <td>...</td>\n",
       "      <td>257,896.09</td>\n",
       "      <td>259,598.26</td>\n",
       "      <td>261,243.04</td>\n",
       "      <td>262,884.35</td>\n",
       "      <td>264,369.13</td>\n",
       "      <td>265,908.26</td>\n",
       "      <td>267,327.83</td>\n",
       "      <td>268,714.78</td>\n",
       "      <td>270,488.70</td>\n",
       "      <td>271,952.17</td>\n",
       "    </tr>\n",
       "    <tr>\n",
       "      <th>CA</th>\n",
       "      <td>200,220.96</td>\n",
       "      <td>200,124.83</td>\n",
       "      <td>200,035.94</td>\n",
       "      <td>199,965.57</td>\n",
       "      <td>199,958.75</td>\n",
       "      <td>200,037.63</td>\n",
       "      <td>200,277.02</td>\n",
       "      <td>200,643.01</td>\n",
       "      <td>201,309.68</td>\n",
       "      <td>202,229.12</td>\n",
       "      <td>...</td>\n",
       "      <td>692,367.16</td>\n",
       "      <td>697,869.61</td>\n",
       "      <td>704,045.67</td>\n",
       "      <td>710,515.11</td>\n",
       "      <td>716,760.87</td>\n",
       "      <td>723,263.48</td>\n",
       "      <td>729,496.41</td>\n",
       "      <td>735,525.98</td>\n",
       "      <td>742,146.32</td>\n",
       "      <td>746,329.08</td>\n",
       "    </tr>\n",
       "  </tbody>\n",
       "</table>\n",
       "<p>5 rows × 265 columns</p>\n",
       "</div>"
      ],
      "text/plain": [
       "         1996-04    1996-05    1996-06    1996-07    1996-08    1996-09  \\\n",
       "State                                                                     \n",
       "AK    128,382.14 128,832.14 129,253.57 129,639.29 130,028.57 130,367.86   \n",
       "AL     86,795.57  87,122.15  87,460.76  87,798.73  88,156.96  88,531.01   \n",
       "AR     68,868.04  69,015.46  69,140.21  69,262.89  69,378.35  69,507.22   \n",
       "AZ    116,202.79 116,562.79 116,934.88 117,315.35 117,719.53 118,150.23   \n",
       "CA    200,220.96 200,124.83 200,035.94 199,965.57 199,958.75 200,037.63   \n",
       "\n",
       "         1996-10    1996-11    1996-12    1997-01  ...    2017-07    2017-08  \\\n",
       "State                                              ...                         \n",
       "AK    130,710.71 131,085.71 131,557.14 132,107.14  ... 317,921.43 318,610.71   \n",
       "AL     88,918.99  89,327.85  89,800.63  90,325.95  ... 149,255.19 149,675.96   \n",
       "AR     69,674.23  69,885.57  70,167.01  70,535.05  ... 131,952.38 132,379.05   \n",
       "AZ    118,626.51 119,141.40 119,773.49 120,472.09  ... 257,896.09 259,598.26   \n",
       "CA    200,277.02 200,643.01 201,309.68 202,229.12  ... 692,367.16 697,869.61   \n",
       "\n",
       "         2017-09    2017-10    2017-11    2017-12    2018-01    2018-02  \\\n",
       "State                                                                     \n",
       "AK    319,382.14 320,185.71 321,378.57 322,657.14 323,775.00 324,167.86   \n",
       "AL    150,125.14 150,537.70 150,969.95 151,629.51 152,402.73 153,625.68   \n",
       "AR    132,778.10 132,973.33 133,020.00 133,188.57 133,522.86 134,456.19   \n",
       "AZ    261,243.04 262,884.35 264,369.13 265,908.26 267,327.83 268,714.78   \n",
       "CA    704,045.67 710,515.11 716,760.87 723,263.48 729,496.41 735,525.98   \n",
       "\n",
       "         2018-03    2018-04  \n",
       "State                        \n",
       "AK    323,692.86 323,046.43  \n",
       "AL    155,504.37 157,033.88  \n",
       "AR    136,192.38 137,620.00  \n",
       "AZ    270,488.70 271,952.17  \n",
       "CA    742,146.32 746,329.08  \n",
       "\n",
       "[5 rows x 265 columns]"
      ]
     },
     "execution_count": 51,
     "metadata": {},
     "output_type": "execute_result"
    }
   ],
   "source": [
    "#recent_data.groupby('genres_list')['production_budget'].describe().sort_values('mean', ascending=False)\n",
    "state_df = df.groupby('State')\n",
    "state_df = state_df.mean() # Getting the mean value for each month\n",
    "state_df.drop(columns=['RegionID', 'SizeRank'], axis=1, inplace=True)\n",
    "state_df.head()"
   ]
  },
  {
   "cell_type": "code",
   "execution_count": null,
   "metadata": {
    "ExecuteTime": {
     "end_time": "2022-05-02T19:14:40.619634Z",
     "start_time": "2022-05-02T19:14:40.520151Z"
    }
   },
   "outputs": [],
   "source": [
    "p2 = state_df.mean().plot(color='red')\n",
    "p2"
   ]
  },
  {
   "cell_type": "markdown",
   "metadata": {},
   "source": [
    "# Using Virginia as an example to figure out the process"
   ]
  },
  {
   "cell_type": "code",
   "execution_count": null,
   "metadata": {},
   "outputs": [],
   "source": [
    "def melt_data(df):\n",
    "    \n",
    "    melted = pd.melt(df, id_vars=['RegionName', 'RegionID', 'SizeRank', 'City', 'State', 'Metro', 'CountyName'], var_name='time')\n",
    "    melted['time'] = pd.to_datetime(melted['time'], infer_datetime_format=True)\n",
    "    melted = melted.dropna(subset=['value'])\n",
    "    return melted.groupby('time').aggregate({'value':'mean'})"
   ]
  },
  {
   "cell_type": "code",
   "execution_count": 52,
   "metadata": {
    "ExecuteTime": {
     "end_time": "2022-05-04T16:57:13.266823Z",
     "start_time": "2022-05-04T16:57:13.252045Z"
    }
   },
   "outputs": [],
   "source": [
    "va_df = state_df.iloc[45]\n",
    "va_df = va_df.reset_index()\n",
    "va_df.rename(columns={\"index\": \"Date\", \"VA\": \"home_sales\"}, inplace=True)\n",
    "va_df['Date'] = pd.to_datetime(va_df['Date'])\n",
    "va_df['home_sales'] = va_df['home_sales'].apply(lambda x: float(\"{:.2f}\".format(x)))\n",
    "va_df = va_df.set_index('Date')"
   ]
  },
  {
   "cell_type": "code",
   "execution_count": 53,
   "metadata": {
    "ExecuteTime": {
     "end_time": "2022-05-04T16:57:16.099760Z",
     "start_time": "2022-05-04T16:57:16.087126Z"
    }
   },
   "outputs": [
    {
     "data": {
      "text/html": [
       "<div>\n",
       "<style scoped>\n",
       "    .dataframe tbody tr th:only-of-type {\n",
       "        vertical-align: middle;\n",
       "    }\n",
       "\n",
       "    .dataframe tbody tr th {\n",
       "        vertical-align: top;\n",
       "    }\n",
       "\n",
       "    .dataframe thead th {\n",
       "        text-align: right;\n",
       "    }\n",
       "</style>\n",
       "<table border=\"1\" class=\"dataframe\">\n",
       "  <thead>\n",
       "    <tr style=\"text-align: right;\">\n",
       "      <th></th>\n",
       "      <th>home_sales</th>\n",
       "    </tr>\n",
       "    <tr>\n",
       "      <th>Date</th>\n",
       "      <th></th>\n",
       "    </tr>\n",
       "  </thead>\n",
       "  <tbody>\n",
       "    <tr>\n",
       "      <th>1996-04-01</th>\n",
       "      <td>122,071.24</td>\n",
       "    </tr>\n",
       "    <tr>\n",
       "      <th>1996-05-01</th>\n",
       "      <td>122,136.83</td>\n",
       "    </tr>\n",
       "    <tr>\n",
       "      <th>1996-06-01</th>\n",
       "      <td>122,201.08</td>\n",
       "    </tr>\n",
       "    <tr>\n",
       "      <th>1996-07-01</th>\n",
       "      <td>122,267.20</td>\n",
       "    </tr>\n",
       "    <tr>\n",
       "      <th>1996-08-01</th>\n",
       "      <td>122,352.42</td>\n",
       "    </tr>\n",
       "  </tbody>\n",
       "</table>\n",
       "</div>"
      ],
      "text/plain": [
       "            home_sales\n",
       "Date                  \n",
       "1996-04-01  122,071.24\n",
       "1996-05-01  122,136.83\n",
       "1996-06-01  122,201.08\n",
       "1996-07-01  122,267.20\n",
       "1996-08-01  122,352.42"
      ]
     },
     "execution_count": 53,
     "metadata": {},
     "output_type": "execute_result"
    }
   ],
   "source": [
    "va_df.head()"
   ]
  },
  {
   "cell_type": "markdown",
   "metadata": {},
   "source": [
    "## Visualization"
   ]
  },
  {
   "cell_type": "code",
   "execution_count": 54,
   "metadata": {
    "ExecuteTime": {
     "end_time": "2022-05-04T16:57:21.442412Z",
     "start_time": "2022-05-04T16:57:21.096605Z"
    }
   },
   "outputs": [
    {
     "data": {
      "image/png": "[encoded data removed]",
      "text/plain": [
       "<Figure size 3600x1440 with 1 Axes>"
      ]
     },
     "metadata": {},
     "output_type": "display_data"
    }
   ],
   "source": [
    "fig, ax = plt.subplots(figsize=(50, 20))\n",
    "p = sns.lineplot(data=va_df, x='Date', y='home_sales', color='blue');\n",
    "\n",
    "p.set_xlabel(\"Date\", fontsize = 50)\n",
    "p.set_ylabel(\"Median Housing\", fontsize = 50)\n",
    "\n",
    "plt.xticks(fontsize=40)\n",
    "plt.yticks(fontsize=40)\n",
    "\n",
    "fmt = '${x:,.0f}'\n",
    "tick = mtick.StrMethodFormatter(fmt)\n",
    "ax.yaxis.set_major_formatter(tick) \n",
    "\n",
    "p.set_title(\"Median Housing Sales in Virginia by Year\", fontsize = 100)\n",
    "plt.figsize=(50,25)\n",
    "\n",
    "plt.show();"
   ]
  },
  {
   "cell_type": "markdown",
   "metadata": {},
   "source": [
    "### Histogram (needs work)"
   ]
  },
  {
   "cell_type": "code",
   "execution_count": null,
   "metadata": {
    "ExecuteTime": {
     "end_time": "2022-05-02T19:20:17.845659Z",
     "start_time": "2022-05-02T19:20:17.722901Z"
    }
   },
   "outputs": [],
   "source": [
    "va_df.hist(figsize = (12,6))\n",
    "plt.show()"
   ]
  },
  {
   "cell_type": "markdown",
   "metadata": {},
   "source": [
    "### Density Plot"
   ]
  },
  {
   "cell_type": "code",
   "execution_count": null,
   "metadata": {
    "ExecuteTime": {
     "end_time": "2022-05-02T19:21:39.690485Z",
     "start_time": "2022-05-02T19:21:39.539336Z"
    }
   },
   "outputs": [],
   "source": [
    "va_df.plot(kind='kde', figsize = (12,6))\n",
    "plt.show()"
   ]
  },
  {
   "cell_type": "code",
   "execution_count": null,
   "metadata": {},
   "outputs": [],
   "source": []
  },
  {
   "cell_type": "code",
   "execution_count": null,
   "metadata": {
    "ExecuteTime": {
     "end_time": "2022-05-02T19:26:28.574534Z",
     "start_time": "2022-05-02T19:26:28.536517Z"
    }
   },
   "outputs": [],
   "source": [
    "# Determine rolling statistics\n",
    "roll_mean = va_df.rolling(window=12, center=False).mean()\n",
    "roll_std = va_df.rolling(window=12, center=False).std()"
   ]
  },
  {
   "cell_type": "code",
   "execution_count": null,
   "metadata": {
    "ExecuteTime": {
     "end_time": "2022-05-02T19:29:03.520540Z",
     "start_time": "2022-05-02T19:29:03.300736Z"
    }
   },
   "outputs": [],
   "source": [
    "fig, ax = plt.subplots(figsize=(20, 10))\n",
    "p = sns.lineplot(data=va_df, x='Date', y='home_sales', color='blue', label='Original');\n",
    "plt.plot(roll_mean, color='red', label='Rolling Mean')\n",
    "plt.plot(roll_std, color='black', label = 'Rolling Std')\n",
    "\n",
    "p.set_xlabel(\"Date\", fontsize = 50)\n",
    "p.set_ylabel(\"Median Housing\", fontsize = 50)\n",
    "\n",
    "plt.xticks(fontsize=40)\n",
    "plt.yticks(fontsize=40)\n",
    "\n",
    "fmt = '${x:,.0f}'\n",
    "tick = mtick.StrMethodFormatter(fmt)\n",
    "ax.yaxis.set_major_formatter(tick) \n",
    "\n",
    "p.set_title(\"Median Housing Sales in Virginia by Year\", fontsize = 100)\n",
    "plt.figsize=(50,25)\n",
    "plt.legend(loc='best')\n",
    "\n",
    "plt.show();"
   ]
  },
  {
   "cell_type": "markdown",
   "metadata": {},
   "source": [
    "## Analysis:\n",
    "- Mean increases over time and therefore is not stationary"
   ]
  },
  {
   "cell_type": "markdown",
   "metadata": {},
   "source": [
    "## Dickey Fuller Test"
   ]
  },
  {
   "cell_type": "code",
   "execution_count": null,
   "metadata": {
    "ExecuteTime": {
     "end_time": "2022-05-02T19:31:41.465325Z",
     "start_time": "2022-05-02T19:31:41.237267Z"
    }
   },
   "outputs": [],
   "source": [
    "from statsmodels.tsa.stattools import adfuller\n",
    "\n",
    "# Perform Dickey-Fuller test:\n",
    "print ('Results of Dickey-Fuller Test: \\n')\n",
    "#dftest = adfuller(data['#Passengers'])\n",
    "dftest = adfuller(va_df)\n",
    "\n",
    "# Extract and display test results in a user friendly manner\n",
    "dfoutput = pd.Series(dftest[0:4], index=['Test Statistic', 'p-value', '#Lags Used', 'Number of Observations Used'])\n",
    "for key,value in dftest[4].items():\n",
    "    dfoutput['Critical Value (%s)'%key] = value\n",
    "print(dfoutput)"
   ]
  },
  {
   "cell_type": "code",
   "execution_count": null,
   "metadata": {},
   "outputs": [],
   "source": []
  },
  {
   "cell_type": "markdown",
   "metadata": {},
   "source": [
    "# Data DF"
   ]
  },
  {
   "cell_type": "code",
   "execution_count": null,
   "metadata": {},
   "outputs": [],
   "source": []
  },
  {
   "cell_type": "markdown",
   "metadata": {},
   "source": [
    "# Turn Code from Virginia into a fuction"
   ]
  },
  {
   "cell_type": "code",
   "execution_count": null,
   "metadata": {},
   "outputs": [],
   "source": [
    "def melt_data(df):\n",
    "    \"\"\"\n",
    "    Takes the zillow_data dataset in wide form or a subset of the zillow_dataset.  \n",
    "    Returns a long-form datetime dataframe \n",
    "    with the datetime column names as the index and the values as the 'values' column.\n",
    "    \n",
    "    If more than one row is passes in the wide-form dataset, the values column\n",
    "    will be the mean of the values from the datetime columns in all of the rows.\n",
    "    \"\"\"\n",
    "    \n",
    "    melted = pd.melt(df, id_vars=['RegionName', 'RegionID', 'SizeRank', 'City', 'State', 'Metro', 'CountyName'], var_name='time')\n",
    "    melted['time'] = pd.to_datetime(melted['time'], infer_datetime_format=True)\n",
    "    melted = melted.dropna(subset=['value'])\n",
    "    return melted.groupby('time').aggregate({'value':'mean'})"
   ]
  },
  {
   "cell_type": "code",
   "execution_count": null,
   "metadata": {},
   "outputs": [],
   "source": [
    "va_df = state_df.iloc[45]\n",
    "va_df = va_df.reset_index()\n",
    "va_df.rename(columns={\"index\": \"Date\", \"VA\": \"home_sales\"}, inplace=True)\n",
    "va_df['Date'] = pd.to_datetime(va_df['Date'])\n",
    "va_df['home_sales'] = va_df['home_sales'].apply(lambda x: float(\"{:.2f}\".format(x)))\n",
    "va_df = va_df.set_index('Date')"
   ]
  },
  {
   "cell_type": "code",
   "execution_count": null,
   "metadata": {
    "ExecuteTime": {
     "end_time": "2022-05-02T19:04:24.429821Z",
     "start_time": "2022-05-02T19:04:24.400684Z"
    }
   },
   "outputs": [],
   "source": [
    "state_df.head(2)"
   ]
  },
  {
   "cell_type": "code",
   "execution_count": null,
   "metadata": {
    "ExecuteTime": {
     "end_time": "2022-05-02T19:07:42.045228Z",
     "start_time": "2022-05-02T19:07:42.035400Z"
    }
   },
   "outputs": [],
   "source": [
    "state_df.iloc[:, 0]"
   ]
  },
  {
   "cell_type": "code",
   "execution_count": null,
   "metadata": {},
   "outputs": [],
   "source": [
    "state_df.apply(lambda x:  )"
   ]
  },
  {
   "cell_type": "code",
   "execution_count": null,
   "metadata": {},
   "outputs": [],
   "source": [
    "def get_state_data(df):\n",
    "    \n",
    "    for row in df:\n",
    "        temp_df = .reset_index()\n",
    "va_df.rename(columns={\"index\": \"Date\", \"VA\": \"home_sales\"}, inplace=True)\n",
    "va_df['Date'] = pd.to_datetime(va_df['Date'])\n",
    "va_df['home_sales'] = va_df['home_sales'].apply(lambda x: float(\"{:.2f}\".format(x)))\n",
    "va_df = va_df.set_index('Date')"
   ]
  },
  {
   "cell_type": "code",
   "execution_count": null,
   "metadata": {},
   "outputs": [],
   "source": []
  },
  {
   "cell_type": "code",
   "execution_count": null,
   "metadata": {},
   "outputs": [],
   "source": []
  },
  {
   "cell_type": "code",
   "execution_count": null,
   "metadata": {},
   "outputs": [],
   "source": []
  },
  {
   "cell_type": "code",
   "execution_count": null,
   "metadata": {},
   "outputs": [],
   "source": []
  },
  {
   "cell_type": "code",
   "execution_count": null,
   "metadata": {},
   "outputs": [],
   "source": []
  },
  {
   "cell_type": "markdown",
   "metadata": {},
   "source": [
    "# New Archive - 5/2"
   ]
  },
  {
   "cell_type": "markdown",
   "metadata": {},
   "source": [
    "## Attempting to slice out a zip code and test"
   ]
  },
  {
   "cell_type": "code",
   "execution_count": null,
   "metadata": {
    "ExecuteTime": {
     "end_time": "2022-05-02T18:25:59.573218Z",
     "start_time": "2022-05-02T18:25:59.566002Z"
    }
   },
   "outputs": [],
   "source": [
    "zip_test = data_df.iloc[0]"
   ]
  },
  {
   "cell_type": "code",
   "execution_count": null,
   "metadata": {
    "ExecuteTime": {
     "end_time": "2022-05-02T18:26:06.692751Z",
     "start_time": "2022-05-02T18:26:06.671229Z"
    }
   },
   "outputs": [],
   "source": [
    "zip_test"
   ]
  },
  {
   "cell_type": "code",
   "execution_count": null,
   "metadata": {
    "ExecuteTime": {
     "end_time": "2022-05-02T18:26:22.048904Z",
     "start_time": "2022-05-02T18:26:22.039598Z"
    }
   },
   "outputs": [],
   "source": [
    "zip_test = zip_test.reset_index()"
   ]
  },
  {
   "cell_type": "code",
   "execution_count": null,
   "metadata": {
    "ExecuteTime": {
     "end_time": "2022-05-02T18:27:33.546663Z",
     "start_time": "2022-05-02T18:27:33.525127Z"
    }
   },
   "outputs": [],
   "source": [
    "zip_test.head()"
   ]
  },
  {
   "cell_type": "code",
   "execution_count": null,
   "metadata": {
    "ExecuteTime": {
     "end_time": "2022-05-02T18:28:22.310990Z",
     "start_time": "2022-05-02T18:28:22.303927Z"
    }
   },
   "outputs": [],
   "source": [
    "zip_test.rename(columns={\"index\": \"date\"}, inplace=True)"
   ]
  },
  {
   "cell_type": "code",
   "execution_count": null,
   "metadata": {
    "ExecuteTime": {
     "end_time": "2022-05-02T18:28:51.045869Z",
     "start_time": "2022-05-02T18:28:51.036992Z"
    }
   },
   "outputs": [],
   "source": [
    "zip_test['date'] = pd.to_datetime(zip_test['date'])"
   ]
  },
  {
   "cell_type": "code",
   "execution_count": null,
   "metadata": {
    "ExecuteTime": {
     "end_time": "2022-05-02T18:28:59.264784Z",
     "start_time": "2022-05-02T18:28:59.249215Z"
    }
   },
   "outputs": [],
   "source": [
    "zip_test.head()"
   ]
  },
  {
   "cell_type": "code",
   "execution_count": null,
   "metadata": {
    "ExecuteTime": {
     "end_time": "2022-05-02T18:30:20.064311Z",
     "start_time": "2022-05-02T18:30:20.057030Z"
    }
   },
   "outputs": [],
   "source": [
    "zip_test = zip_test.set_index('date')"
   ]
  },
  {
   "cell_type": "code",
   "execution_count": null,
   "metadata": {
    "ExecuteTime": {
     "end_time": "2022-05-02T18:31:05.597960Z",
     "start_time": "2022-05-02T18:31:05.575402Z"
    }
   },
   "outputs": [],
   "source": [
    "zip_test.resample(\"Y\").mean()"
   ]
  },
  {
   "cell_type": "code",
   "execution_count": null,
   "metadata": {
    "ExecuteTime": {
     "end_time": "2022-05-02T18:30:30.079639Z",
     "start_time": "2022-05-02T18:30:30.064027Z"
    }
   },
   "outputs": [],
   "source": [
    "zip_test.info()"
   ]
  },
  {
   "cell_type": "code",
   "execution_count": null,
   "metadata": {
    "ExecuteTime": {
     "end_time": "2022-05-02T18:23:44.338472Z",
     "start_time": "2022-05-02T18:23:44.299551Z"
    }
   },
   "outputs": [],
   "source": [
    "zip_test.drop([0])"
   ]
  },
  {
   "cell_type": "code",
   "execution_count": null,
   "metadata": {
    "ExecuteTime": {
     "end_time": "2022-05-02T18:11:00.134268Z",
     "start_time": "2022-05-02T18:11:00.072582Z"
    }
   },
   "outputs": [],
   "source": [
    "df.iloc[:, 7:].mean()"
   ]
  },
  {
   "cell_type": "code",
   "execution_count": null,
   "metadata": {
    "ExecuteTime": {
     "end_time": "2022-05-02T17:31:08.942620Z",
     "start_time": "2022-05-02T17:31:08.565010Z"
    }
   },
   "outputs": [],
   "source": [
    "df.describe()"
   ]
  },
  {
   "cell_type": "code",
   "execution_count": null,
   "metadata": {},
   "outputs": [],
   "source": []
  },
  {
   "cell_type": "code",
   "execution_count": null,
   "metadata": {},
   "outputs": [],
   "source": []
  },
  {
   "cell_type": "code",
   "execution_count": null,
   "metadata": {},
   "outputs": [],
   "source": []
  },
  {
   "cell_type": "code",
   "execution_count": null,
   "metadata": {},
   "outputs": [],
   "source": []
  },
  {
   "cell_type": "markdown",
   "metadata": {},
   "source": [
    "## Finding Average Values"
   ]
  },
  {
   "cell_type": "code",
   "execution_count": null,
   "metadata": {},
   "outputs": [],
   "source": []
  },
  {
   "cell_type": "code",
   "execution_count": null,
   "metadata": {},
   "outputs": [],
   "source": []
  },
  {
   "cell_type": "code",
   "execution_count": null,
   "metadata": {},
   "outputs": [],
   "source": []
  },
  {
   "cell_type": "code",
   "execution_count": null,
   "metadata": {},
   "outputs": [],
   "source": []
  },
  {
   "cell_type": "code",
   "execution_count": null,
   "metadata": {},
   "outputs": [],
   "source": []
  },
  {
   "cell_type": "code",
   "execution_count": null,
   "metadata": {},
   "outputs": [],
   "source": []
  },
  {
   "cell_type": "markdown",
   "metadata": {},
   "source": []
  },
  {
   "cell_type": "markdown",
   "metadata": {},
   "source": [
    "## Melting State_df and attempting to get all the states"
   ]
  },
  {
   "cell_type": "code",
   "execution_count": null,
   "metadata": {
    "ExecuteTime": {
     "end_time": "2022-05-02T17:43:19.259247Z",
     "start_time": "2022-05-02T17:43:19.228188Z"
    }
   },
   "outputs": [],
   "source": [
    "state_df.head()"
   ]
  },
  {
   "cell_type": "code",
   "execution_count": null,
   "metadata": {},
   "outputs": [],
   "source": [
    " #melted = pd.melt(df, id_vars=['RegionName', 'RegionID', 'SizeRank', 'City', 'State', 'Metro', 'CountyName'],\n",
    " #   var_name='time')"
   ]
  },
  {
   "cell_type": "code",
   "execution_count": null,
   "metadata": {},
   "outputs": [],
   "source": [
    "state_df"
   ]
  },
  {
   "cell_type": "code",
   "execution_count": null,
   "metadata": {
    "ExecuteTime": {
     "end_time": "2022-05-02T17:44:33.867848Z",
     "start_time": "2022-05-02T17:44:33.855551Z"
    }
   },
   "outputs": [],
   "source": [
    "state_melt_df = pd.melt(state_df)"
   ]
  },
  {
   "cell_type": "code",
   "execution_count": null,
   "metadata": {
    "ExecuteTime": {
     "end_time": "2022-05-02T17:44:41.862035Z",
     "start_time": "2022-05-02T17:44:41.843330Z"
    }
   },
   "outputs": [],
   "source": [
    "state_melt_df"
   ]
  },
  {
   "cell_type": "code",
   "execution_count": null,
   "metadata": {
    "ExecuteTime": {
     "end_time": "2022-05-02T17:45:17.775551Z",
     "start_time": "2022-05-02T17:45:17.738436Z"
    }
   },
   "outputs": [],
   "source": []
  },
  {
   "cell_type": "code",
   "execution_count": null,
   "metadata": {},
   "outputs": [],
   "source": []
  },
  {
   "cell_type": "code",
   "execution_count": null,
   "metadata": {},
   "outputs": [],
   "source": []
  },
  {
   "cell_type": "code",
   "execution_count": null,
   "metadata": {},
   "outputs": [],
   "source": []
  },
  {
   "cell_type": "code",
   "execution_count": null,
   "metadata": {},
   "outputs": [],
   "source": []
  },
  {
   "cell_type": "code",
   "execution_count": null,
   "metadata": {},
   "outputs": [],
   "source": []
  },
  {
   "cell_type": "code",
   "execution_count": null,
   "metadata": {},
   "outputs": [],
   "source": []
  },
  {
   "cell_type": "code",
   "execution_count": null,
   "metadata": {},
   "outputs": [],
   "source": []
  },
  {
   "cell_type": "code",
   "execution_count": null,
   "metadata": {},
   "outputs": [],
   "source": []
  },
  {
   "cell_type": "code",
   "execution_count": null,
   "metadata": {},
   "outputs": [],
   "source": []
  },
  {
   "cell_type": "code",
   "execution_count": null,
   "metadata": {},
   "outputs": [],
   "source": []
  },
  {
   "cell_type": "code",
   "execution_count": null,
   "metadata": {},
   "outputs": [],
   "source": []
  },
  {
   "cell_type": "code",
   "execution_count": null,
   "metadata": {},
   "outputs": [],
   "source": []
  },
  {
   "cell_type": "markdown",
   "metadata": {},
   "source": [
    "### Need to change columns to datetime objects"
   ]
  },
  {
   "cell_type": "code",
   "execution_count": null,
   "metadata": {
    "ExecuteTime": {
     "end_time": "2022-05-02T16:26:12.613768Z",
     "start_time": "2022-05-02T16:26:12.608017Z"
    }
   },
   "outputs": [],
   "source": [
    "state_df.columns"
   ]
  },
  {
   "cell_type": "code",
   "execution_count": null,
   "metadata": {
    "ExecuteTime": {
     "end_time": "2022-05-02T16:26:12.632840Z",
     "start_time": "2022-05-02T16:26:12.616986Z"
    }
   },
   "outputs": [],
   "source": [
    "state_df.columns = get_datetimes(state_df)"
   ]
  },
  {
   "cell_type": "code",
   "execution_count": null,
   "metadata": {
    "ExecuteTime": {
     "end_time": "2022-05-02T16:26:12.634526Z",
     "start_time": "2022-05-02T16:26:12.608Z"
    }
   },
   "outputs": [],
   "source": [
    "#state_df = state_df.reset_index()"
   ]
  },
  {
   "cell_type": "code",
   "execution_count": null,
   "metadata": {
    "ExecuteTime": {
     "end_time": "2022-05-02T16:26:12.635348Z",
     "start_time": "2022-05-02T16:26:12.611Z"
    }
   },
   "outputs": [],
   "source": [
    "state_df.head()"
   ]
  },
  {
   "cell_type": "code",
   "execution_count": null,
   "metadata": {
    "ExecuteTime": {
     "end_time": "2022-05-02T16:26:12.636003Z",
     "start_time": "2022-05-02T16:26:12.615Z"
    }
   },
   "outputs": [],
   "source": [
    "state_df.groupby('State').sum().mean()"
   ]
  },
  {
   "cell_type": "markdown",
   "metadata": {},
   "source": [
    "## Feature Engineering: Adding Total Mean Value & Annual Mean Value"
   ]
  },
  {
   "cell_type": "code",
   "execution_count": null,
   "metadata": {
    "ExecuteTime": {
     "end_time": "2022-05-02T16:26:12.636636Z",
     "start_time": "2022-05-02T16:26:12.619Z"
    }
   },
   "outputs": [],
   "source": [
    "#state_df['1996'] =\n",
    "#state_df.apply(lambda x: x[''] / x[''], axis=1)\n",
    "df['Fruit Total']= df.iloc[:, -4:-1].sum(axis=1)"
   ]
  },
  {
   "cell_type": "code",
   "execution_count": null,
   "metadata": {
    "ExecuteTime": {
     "end_time": "2022-05-02T16:26:12.637279Z",
     "start_time": "2022-05-02T16:26:12.622Z"
    }
   },
   "outputs": [],
   "source": [
    "state_df.iloc[:, 22:34].head(3)"
   ]
  },
  {
   "cell_type": "code",
   "execution_count": null,
   "metadata": {
    "ExecuteTime": {
     "end_time": "2022-05-02T16:26:12.637939Z",
     "start_time": "2022-05-02T16:26:12.626Z"
    }
   },
   "outputs": [],
   "source": [
    "#sum_1996 = state_df.iloc[:, 1:10].sum(axis=1)\n",
    "#sum_1997 = state_df.iloc[:, 10:22].sum(axis=1)\n",
    "#sum_1998 = state_df.iloc[:, 22:34].sum(axis=1)\n",
    "#sum_1999 = state_df.iloc[:, 34:46].sum(axis=1)\n",
    "#sum_2000 = state_df.iloc[:, 46:58].sum(axis=1)\n",
    "#sum_2001 = state_df.iloc[:, 58:70].sum(axis=1)\n",
    "#sum_2002 = state_df.iloc[:, 70:82].sum(axis=1)\n",
    "#sum_2003 = state_df.iloc[:, 82:94].sum(axis=1)\n",
    "#sum_2004 = state_df.iloc[:, 94:106].sum(axis=1)\n",
    "#sum_2005 = state_df.iloc[:, 106:118].sum(axis=1)\n",
    "#sum_2006 = state_df.iloc[:, 118:130].sum(axis=1)"
   ]
  },
  {
   "cell_type": "code",
   "execution_count": null,
   "metadata": {},
   "outputs": [],
   "source": []
  },
  {
   "cell_type": "code",
   "execution_count": null,
   "metadata": {},
   "outputs": [],
   "source": []
  },
  {
   "cell_type": "code",
   "execution_count": null,
   "metadata": {
    "ExecuteTime": {
     "end_time": "2022-05-02T16:26:12.742166Z",
     "start_time": "2022-05-02T16:26:12.739514Z"
    }
   },
   "outputs": [],
   "source": [
    "#state_df['RegionID'] = state_df['RegionID'].astype(object)"
   ]
  },
  {
   "cell_type": "code",
   "execution_count": null,
   "metadata": {
    "ExecuteTime": {
     "end_time": "2022-05-02T16:26:47.043697Z",
     "start_time": "2022-05-02T16:26:47.038329Z"
    }
   },
   "outputs": [],
   "source": [
    "# plot feature importance\n",
    "#fig, ax = plt.subplots(figsize=(50,20))\n",
    "#p = sns.barplot(data=feature_importance_df, x='Importance', y='Feature', color ='mediumseagreen' );\n",
    "#p.set_xlabel(\"Importance\", fontsize = 50)\n",
    "\n",
    "#p.set_ylabel(\"Feature\", fontsize = 50)\n",
    "#plt.xticks(fontsize=40)\n",
    "#plt.yticks(fontsize=40)\n",
    "\n",
    "#p.set_title(\"Features by Importance\", fontsize = 100)\n",
    "#plt.figsize=(30,20) \n",
    "#plt.savefig('images/project_3_Feature_Importance')\n",
    "\n",
    "#plt.show();"
   ]
  },
  {
   "cell_type": "code",
   "execution_count": null,
   "metadata": {
    "ExecuteTime": {
     "end_time": "2022-05-02T16:26:54.403638Z",
     "start_time": "2022-05-02T16:26:49.123623Z"
    }
   },
   "outputs": [],
   "source": [
    "fig, ax = plt.subplots(figsize=(50, 50))\n",
    "p = sns.lineplot(data=state_df);\n",
    "p.set_xlabel(\"State\", fontsize = 50)\n",
    "p.set_ylabel(\"Median Home Value\", fontsize = 50)\n",
    "\n",
    "plt.xticks(fontsize=40)\n",
    "plt.yticks(fontsize=40)\n",
    "\n",
    "p.set_title(\"Title Goes Here\", fontsize = 100)\n",
    "plt.figsize=(50,25)\n",
    "\n",
    "plt.show();"
   ]
  },
  {
   "cell_type": "code",
   "execution_count": null,
   "metadata": {
    "ExecuteTime": {
     "end_time": "2022-05-02T16:26:12.908495Z",
     "start_time": "2022-05-02T16:26:12.641Z"
    }
   },
   "outputs": [],
   "source": [
    "state_df.mean().plot()"
   ]
  },
  {
   "cell_type": "code",
   "execution_count": null,
   "metadata": {},
   "outputs": [],
   "source": []
  },
  {
   "cell_type": "code",
   "execution_count": null,
   "metadata": {},
   "outputs": [],
   "source": []
  },
  {
   "cell_type": "code",
   "execution_count": null,
   "metadata": {},
   "outputs": [],
   "source": []
  },
  {
   "cell_type": "code",
   "execution_count": null,
   "metadata": {},
   "outputs": [],
   "source": []
  },
  {
   "cell_type": "code",
   "execution_count": null,
   "metadata": {},
   "outputs": [],
   "source": []
  },
  {
   "cell_type": "code",
   "execution_count": null,
   "metadata": {
    "ExecuteTime": {
     "end_time": "2022-05-02T16:26:12.909171Z",
     "start_time": "2022-05-02T16:26:12.652Z"
    }
   },
   "outputs": [],
   "source": [
    "df.reset_index()\n",
    "df.head()"
   ]
  },
  {
   "cell_type": "markdown",
   "metadata": {},
   "source": [
    "## Analysis of Categories"
   ]
  },
  {
   "cell_type": "code",
   "execution_count": null,
   "metadata": {
    "ExecuteTime": {
     "end_time": "2022-05-02T16:26:12.909734Z",
     "start_time": "2022-05-02T16:26:12.654Z"
    }
   },
   "outputs": [],
   "source": [
    "#cat_df = df.iloc[:,0:7]\n",
    "#cat_df.head()"
   ]
  },
  {
   "cell_type": "code",
   "execution_count": null,
   "metadata": {
    "ExecuteTime": {
     "end_time": "2022-05-02T16:26:12.910243Z",
     "start_time": "2022-05-02T16:26:12.657Z"
    }
   },
   "outputs": [],
   "source": [
    "#cat_df.info()"
   ]
  },
  {
   "cell_type": "code",
   "execution_count": null,
   "metadata": {
    "ExecuteTime": {
     "end_time": "2022-05-02T16:26:12.910921Z",
     "start_time": "2022-05-02T16:26:12.659Z"
    }
   },
   "outputs": [],
   "source": [
    "#cat_df['RegionName'] = cat_df['RegionName'].astype('object')\n",
    "#cat_df.info()"
   ]
  },
  {
   "cell_type": "code",
   "execution_count": null,
   "metadata": {
    "ExecuteTime": {
     "end_time": "2022-05-02T16:26:12.911436Z",
     "start_time": "2022-05-02T16:26:12.661Z"
    }
   },
   "outputs": [],
   "source": [
    "df.nunique()"
   ]
  },
  {
   "cell_type": "code",
   "execution_count": null,
   "metadata": {
    "ExecuteTime": {
     "end_time": "2022-05-02T16:26:12.911903Z",
     "start_time": "2022-05-02T16:26:12.663Z"
    }
   },
   "outputs": [],
   "source": [
    "#print(\"RegionID unique values:\", cat_df['RegionID'].nunique())\n",
    "#print(\"RegionName unique values:\", cat_df['RegionName'].nunique())\n",
    "#print(\"City unique values:\", cat_df['City'].nunique())\n",
    "#print(\"State unique values:\", cat_df['State'].nunique())\n",
    "#print(\"Metro unique values:\", cat_df['Metro'].nunique())\n",
    "#print(\"CountyName unique values:\", cat_df['CountyName'].nunique())\n",
    "#print(\"SizeRank unique values:\", cat_df['SizeRank'].nunique())"
   ]
  },
  {
   "cell_type": "code",
   "execution_count": null,
   "metadata": {
    "ExecuteTime": {
     "end_time": "2022-05-02T16:26:12.912457Z",
     "start_time": "2022-05-02T16:26:12.665Z"
    }
   },
   "outputs": [],
   "source": [
    "#cat_df.sort_values(by = ['RegionName'], ascending = True).head()\n",
    "df.sort_values(by = ['RegionName'], ascending = True).head()"
   ]
  },
  {
   "cell_type": "markdown",
   "metadata": {},
   "source": [
    "A google search shows that RegionName is the ZipCode for each Region. However, upon sorting, I discovered that any ZipCode beginning with a 0 was ignoring it and displaying as a 4 digit number. I will use the .str().zfill() method to ensure that all RegionNames are displaying the as 5 digits."
   ]
  },
  {
   "cell_type": "code",
   "execution_count": null,
   "metadata": {
    "ExecuteTime": {
     "end_time": "2022-05-02T16:26:12.913234Z",
     "start_time": "2022-05-02T16:26:12.668Z"
    }
   },
   "outputs": [],
   "source": [
    "#cat_df['RegionName'] = cat_df['RegionName'].astype(str).str.zfill(5)\n",
    "df['RegionName'] = df['RegionName'].astype(str).str.zfill(5)"
   ]
  },
  {
   "cell_type": "code",
   "execution_count": null,
   "metadata": {
    "ExecuteTime": {
     "end_time": "2022-05-02T16:26:12.913846Z",
     "start_time": "2022-05-02T16:26:12.670Z"
    }
   },
   "outputs": [],
   "source": [
    "df.sort_values(by = ['RegionName'], ascending = True).head()"
   ]
  },
  {
   "cell_type": "code",
   "execution_count": null,
   "metadata": {
    "ExecuteTime": {
     "end_time": "2022-05-02T16:26:12.914459Z",
     "start_time": "2022-05-02T16:26:12.672Z"
    }
   },
   "outputs": [],
   "source": [
    "#cat_df = cat_df.reset_index()\n",
    "#cat_df"
   ]
  },
  {
   "cell_type": "code",
   "execution_count": null,
   "metadata": {
    "ExecuteTime": {
     "end_time": "2022-05-02T16:26:12.915065Z",
     "start_time": "2022-05-02T16:26:12.674Z"
    }
   },
   "outputs": [],
   "source": [
    "#cat_df.sort_values(by = ['RegionName'], ascending = True).head()"
   ]
  },
  {
   "cell_type": "markdown",
   "metadata": {},
   "source": [
    "That seems to have fixed it!"
   ]
  },
  {
   "cell_type": "markdown",
   "metadata": {},
   "source": [
    "## Grouping Data"
   ]
  },
  {
   "cell_type": "code",
   "execution_count": null,
   "metadata": {
    "ExecuteTime": {
     "end_time": "2022-05-02T16:26:12.915855Z",
     "start_time": "2022-05-02T16:26:12.677Z"
    }
   },
   "outputs": [],
   "source": [
    "metro_df = "
   ]
  },
  {
   "cell_type": "code",
   "execution_count": null,
   "metadata": {
    "ExecuteTime": {
     "end_time": "2022-05-02T16:26:12.916381Z",
     "start_time": "2022-05-02T16:26:12.679Z"
    }
   },
   "outputs": [],
   "source": [
    "melt_data(df)"
   ]
  },
  {
   "cell_type": "markdown",
   "metadata": {},
   "source": [
    "## Analysis of Data Values"
   ]
  },
  {
   "cell_type": "code",
   "execution_count": null,
   "metadata": {
    "ExecuteTime": {
     "end_time": "2022-05-02T16:26:12.917110Z",
     "start_time": "2022-05-02T16:26:12.681Z"
    }
   },
   "outputs": [],
   "source": [
    "#df['RegionID_copy'] = df['RegionID']"
   ]
  },
  {
   "cell_type": "code",
   "execution_count": null,
   "metadata": {
    "ExecuteTime": {
     "end_time": "2022-05-02T16:26:12.917706Z",
     "start_time": "2022-05-02T16:26:12.684Z"
    }
   },
   "outputs": [],
   "source": [
    "#df.head()"
   ]
  },
  {
   "cell_type": "code",
   "execution_count": null,
   "metadata": {},
   "outputs": [],
   "source": []
  },
  {
   "cell_type": "code",
   "execution_count": null,
   "metadata": {
    "ExecuteTime": {
     "end_time": "2022-05-02T16:26:12.918198Z",
     "start_time": "2022-05-02T16:26:12.686Z"
    }
   },
   "outputs": [],
   "source": [
    "data_df = df.iloc[:, 7:]\n",
    "data_df.head()"
   ]
  },
  {
   "cell_type": "code",
   "execution_count": null,
   "metadata": {
    "ExecuteTime": {
     "end_time": "2022-05-02T16:26:12.918946Z",
     "start_time": "2022-05-02T16:26:12.688Z"
    }
   },
   "outputs": [],
   "source": [
    "data_df.columns = pd.to_datetime(data_df.columns, format='%Y-%m')\n",
    "data_df.head()"
   ]
  },
  {
   "cell_type": "code",
   "execution_count": null,
   "metadata": {
    "ExecuteTime": {
     "end_time": "2022-05-02T16:26:12.919615Z",
     "start_time": "2022-05-02T16:26:12.691Z"
    }
   },
   "outputs": [],
   "source": [
    "# changing values to thousands for ease of reading\n",
    "data_df = data_df.applymap(lambda x: x/1000)\n",
    "data_df.head()"
   ]
  },
  {
   "cell_type": "code",
   "execution_count": null,
   "metadata": {
    "ExecuteTime": {
     "end_time": "2022-05-02T16:26:12.920288Z",
     "start_time": "2022-05-02T16:26:12.693Z"
    }
   },
   "outputs": [],
   "source": [
    "data_df.describe().round(2)"
   ]
  },
  {
   "cell_type": "code",
   "execution_count": null,
   "metadata": {
    "ExecuteTime": {
     "end_time": "2022-05-02T16:26:12.922743Z",
     "start_time": "2022-05-02T16:26:12.701Z"
    }
   },
   "outputs": [],
   "source": [
    "#data_df.groupby(pd.Grouper(freq ='A'))"
   ]
  },
  {
   "cell_type": "markdown",
   "metadata": {},
   "source": [
    "## Slicing out Years - data_df"
   ]
  },
  {
   "cell_type": "code",
   "execution_count": null,
   "metadata": {
    "ExecuteTime": {
     "end_time": "2022-05-02T16:26:12.923715Z",
     "start_time": "2022-05-02T16:26:12.704Z"
    }
   },
   "outputs": [],
   "source": [
    "yr_1996 = data_df.iloc[:, :9]\n",
    "yr_1996.head()"
   ]
  },
  {
   "cell_type": "code",
   "execution_count": null,
   "metadata": {
    "ExecuteTime": {
     "end_time": "2022-05-02T16:26:12.924926Z",
     "start_time": "2022-05-02T16:26:12.706Z"
    }
   },
   "outputs": [],
   "source": [
    "yr_1997 = data_df.iloc[:, 9:21]\n",
    "yr_1998 = data_df.iloc[:, 21:33]\n",
    "yr_1999 = data_df.iloc[:, 33:45]"
   ]
  },
  {
   "cell_type": "markdown",
   "metadata": {},
   "source": [
    "## CONTINUE TO SLICE OUT THE YEARS"
   ]
  },
  {
   "cell_type": "code",
   "execution_count": null,
   "metadata": {
    "ExecuteTime": {
     "end_time": "2022-05-02T16:26:12.925768Z",
     "start_time": "2022-05-02T16:26:12.708Z"
    }
   },
   "outputs": [],
   "source": [
    "df.index"
   ]
  },
  {
   "cell_type": "code",
   "execution_count": null,
   "metadata": {},
   "outputs": [],
   "source": []
  },
  {
   "cell_type": "code",
   "execution_count": null,
   "metadata": {},
   "outputs": [],
   "source": []
  },
  {
   "cell_type": "markdown",
   "metadata": {},
   "source": [
    "## EDA through Visualizations"
   ]
  },
  {
   "cell_type": "code",
   "execution_count": null,
   "metadata": {
    "ExecuteTime": {
     "end_time": "2022-05-02T16:26:12.926628Z",
     "start_time": "2022-05-02T16:26:12.713Z"
    }
   },
   "outputs": [],
   "source": [
    "font = {'family' : 'normal',\n",
    "        'weight' : 'bold',\n",
    "        'size'   : 22}\n",
    "\n",
    "plt.rc('font', **font)"
   ]
  },
  {
   "cell_type": "code",
   "execution_count": null,
   "metadata": {
    "ExecuteTime": {
     "end_time": "2022-05-02T16:26:12.927548Z",
     "start_time": "2022-05-02T16:26:12.716Z"
    }
   },
   "outputs": [],
   "source": [
    "plt.gcf().autofmt_xdate()"
   ]
  },
  {
   "cell_type": "code",
   "execution_count": null,
   "metadata": {
    "ExecuteTime": {
     "end_time": "2022-05-02T16:26:12.928078Z",
     "start_time": "2022-05-02T16:26:12.718Z"
    }
   },
   "outputs": [],
   "source": [
    "data_df.plot(figsize = (20,6), style = '.b');"
   ]
  },
  {
   "cell_type": "code",
   "execution_count": null,
   "metadata": {},
   "outputs": [],
   "source": []
  },
  {
   "cell_type": "code",
   "execution_count": null,
   "metadata": {},
   "outputs": [],
   "source": []
  },
  {
   "cell_type": "code",
   "execution_count": null,
   "metadata": {},
   "outputs": [],
   "source": []
  },
  {
   "cell_type": "code",
   "execution_count": null,
   "metadata": {},
   "outputs": [],
   "source": []
  },
  {
   "cell_type": "code",
   "execution_count": null,
   "metadata": {},
   "outputs": [],
   "source": []
  },
  {
   "cell_type": "code",
   "execution_count": null,
   "metadata": {},
   "outputs": [],
   "source": []
  },
  {
   "cell_type": "markdown",
   "metadata": {},
   "source": [
    "## Melting Practice"
   ]
  },
  {
   "cell_type": "code",
   "execution_count": null,
   "metadata": {
    "ExecuteTime": {
     "end_time": "2022-05-02T16:26:12.928773Z",
     "start_time": "2022-05-02T16:26:12.728Z"
    }
   },
   "outputs": [],
   "source": [
    "df.head(2)"
   ]
  },
  {
   "cell_type": "code",
   "execution_count": null,
   "metadata": {
    "ExecuteTime": {
     "end_time": "2022-05-02T16:26:12.929567Z",
     "start_time": "2022-05-02T16:26:12.730Z"
    }
   },
   "outputs": [],
   "source": [
    "melt_test = df.iloc[:, :8]\n",
    "melt_test.head()"
   ]
  },
  {
   "cell_type": "code",
   "execution_count": null,
   "metadata": {
    "ExecuteTime": {
     "end_time": "2022-05-02T16:26:12.930253Z",
     "start_time": "2022-05-02T16:26:12.732Z"
    }
   },
   "outputs": [],
   "source": [
    "melt_data(melt_test)"
   ]
  },
  {
   "cell_type": "code",
   "execution_count": null,
   "metadata": {
    "ExecuteTime": {
     "end_time": "2022-05-02T16:26:12.931055Z",
     "start_time": "2022-05-02T16:26:12.733Z"
    }
   },
   "outputs": [],
   "source": [
    "melted_df = melt_data(df)"
   ]
  },
  {
   "cell_type": "code",
   "execution_count": null,
   "metadata": {
    "ExecuteTime": {
     "end_time": "2022-05-02T16:26:12.931668Z",
     "start_time": "2022-05-02T16:26:12.735Z"
    }
   },
   "outputs": [],
   "source": [
    "melted_df"
   ]
  },
  {
   "cell_type": "markdown",
   "metadata": {},
   "source": [
    "## Merge Attempt"
   ]
  },
  {
   "cell_type": "code",
   "execution_count": null,
   "metadata": {
    "ExecuteTime": {
     "end_time": "2022-05-02T16:26:12.932290Z",
     "start_time": "2022-05-02T16:26:12.737Z"
    }
   },
   "outputs": [],
   "source": [
    "#data_df = data_df.reset_index()"
   ]
  },
  {
   "cell_type": "code",
   "execution_count": null,
   "metadata": {
    "ExecuteTime": {
     "end_time": "2022-05-02T16:26:12.932874Z",
     "start_time": "2022-05-02T16:26:12.740Z"
    }
   },
   "outputs": [],
   "source": [
    "#data_df"
   ]
  },
  {
   "cell_type": "code",
   "execution_count": null,
   "metadata": {
    "ExecuteTime": {
     "end_time": "2022-05-02T16:26:12.933577Z",
     "start_time": "2022-05-02T16:26:12.742Z"
    }
   },
   "outputs": [],
   "source": [
    "#merged_df = cat_df.merge(data_df, on='index')"
   ]
  },
  {
   "cell_type": "code",
   "execution_count": null,
   "metadata": {
    "ExecuteTime": {
     "end_time": "2022-05-02T16:26:12.934549Z",
     "start_time": "2022-05-02T16:26:12.744Z"
    }
   },
   "outputs": [],
   "source": [
    "#merged_df"
   ]
  },
  {
   "cell_type": "code",
   "execution_count": null,
   "metadata": {},
   "outputs": [],
   "source": []
  },
  {
   "cell_type": "markdown",
   "metadata": {},
   "source": [
    "## Slicing out Years and attempting to Melt - Full DF"
   ]
  },
  {
   "cell_type": "code",
   "execution_count": null,
   "metadata": {
    "ExecuteTime": {
     "end_time": "2022-05-02T16:26:12.935276Z",
     "start_time": "2022-05-02T16:26:12.747Z"
    }
   },
   "outputs": [],
   "source": [
    "df.head()"
   ]
  },
  {
   "cell_type": "code",
   "execution_count": null,
   "metadata": {
    "ExecuteTime": {
     "end_time": "2022-05-02T16:26:12.936467Z",
     "start_time": "2022-05-02T16:26:12.749Z"
    }
   },
   "outputs": [],
   "source": [
    "df.iloc[:, :16].head(2)"
   ]
  },
  {
   "cell_type": "code",
   "execution_count": null,
   "metadata": {
    "ExecuteTime": {
     "end_time": "2022-05-02T16:26:12.937446Z",
     "start_time": "2022-05-02T16:26:12.751Z"
    }
   },
   "outputs": [],
   "source": [
    "yr_1996 = df.iloc[:, :16]\n",
    "yr_1996.head()"
   ]
  },
  {
   "cell_type": "code",
   "execution_count": null,
   "metadata": {
    "ExecuteTime": {
     "end_time": "2022-05-02T16:26:12.938285Z",
     "start_time": "2022-05-02T16:26:12.753Z"
    }
   },
   "outputs": [],
   "source": [
    "melt_data(yr_1996)"
   ]
  },
  {
   "cell_type": "code",
   "execution_count": null,
   "metadata": {},
   "outputs": [],
   "source": []
  },
  {
   "cell_type": "code",
   "execution_count": null,
   "metadata": {},
   "outputs": [],
   "source": []
  },
  {
   "cell_type": "code",
   "execution_count": null,
   "metadata": {},
   "outputs": [],
   "source": []
  },
  {
   "cell_type": "code",
   "execution_count": null,
   "metadata": {},
   "outputs": [],
   "source": []
  },
  {
   "cell_type": "code",
   "execution_count": null,
   "metadata": {},
   "outputs": [],
   "source": []
  },
  {
   "cell_type": "code",
   "execution_count": null,
   "metadata": {},
   "outputs": [],
   "source": []
  },
  {
   "cell_type": "code",
   "execution_count": null,
   "metadata": {},
   "outputs": [],
   "source": []
  },
  {
   "cell_type": "code",
   "execution_count": null,
   "metadata": {},
   "outputs": [],
   "source": []
  },
  {
   "cell_type": "code",
   "execution_count": null,
   "metadata": {},
   "outputs": [],
   "source": []
  },
  {
   "cell_type": "code",
   "execution_count": null,
   "metadata": {},
   "outputs": [],
   "source": []
  },
  {
   "cell_type": "code",
   "execution_count": null,
   "metadata": {},
   "outputs": [],
   "source": []
  },
  {
   "cell_type": "code",
   "execution_count": null,
   "metadata": {},
   "outputs": [],
   "source": []
  },
  {
   "cell_type": "code",
   "execution_count": null,
   "metadata": {},
   "outputs": [],
   "source": []
  },
  {
   "cell_type": "code",
   "execution_count": null,
   "metadata": {},
   "outputs": [],
   "source": []
  },
  {
   "cell_type": "code",
   "execution_count": null,
   "metadata": {},
   "outputs": [],
   "source": []
  },
  {
   "cell_type": "code",
   "execution_count": null,
   "metadata": {},
   "outputs": [],
   "source": []
  },
  {
   "cell_type": "code",
   "execution_count": null,
   "metadata": {},
   "outputs": [],
   "source": []
  },
  {
   "cell_type": "code",
   "execution_count": null,
   "metadata": {},
   "outputs": [],
   "source": []
  },
  {
   "cell_type": "code",
   "execution_count": null,
   "metadata": {},
   "outputs": [],
   "source": []
  },
  {
   "cell_type": "markdown",
   "metadata": {},
   "source": [
    "# Old Archive"
   ]
  },
  {
   "cell_type": "code",
   "execution_count": null,
   "metadata": {
    "ExecuteTime": {
     "end_time": "2022-05-02T16:26:12.938978Z",
     "start_time": "2022-05-02T16:26:12.784Z"
    }
   },
   "outputs": [],
   "source": [
    "#data_df.isnull().sum()"
   ]
  },
  {
   "cell_type": "code",
   "execution_count": null,
   "metadata": {
    "ExecuteTime": {
     "end_time": "2022-05-02T16:26:12.939709Z",
     "start_time": "2022-05-02T16:26:12.787Z"
    }
   },
   "outputs": [],
   "source": [
    "#df.columns[7:]"
   ]
  },
  {
   "cell_type": "code",
   "execution_count": null,
   "metadata": {
    "ExecuteTime": {
     "end_time": "2022-05-02T16:26:12.940250Z",
     "start_time": "2022-05-02T16:26:12.789Z"
    }
   },
   "outputs": [],
   "source": [
    "#date_time_cols = pd.to_datetime(df.columns[7:])\n",
    "#date_time_cols"
   ]
  },
  {
   "cell_type": "code",
   "execution_count": null,
   "metadata": {
    "ExecuteTime": {
     "end_time": "2022-05-02T16:26:12.940816Z",
     "start_time": "2022-05-02T16:26:12.792Z"
    }
   },
   "outputs": [],
   "source": [
    "#cat_cols = df.columns[:7]\n",
    "#cat_cols"
   ]
  },
  {
   "cell_type": "code",
   "execution_count": null,
   "metadata": {
    "ExecuteTime": {
     "end_time": "2022-05-02T16:26:12.941452Z",
     "start_time": "2022-05-02T16:26:12.794Z"
    }
   },
   "outputs": [],
   "source": [
    "#new_cols = cat_cols + date_time_cols\n",
    "#new_cols"
   ]
  },
  {
   "cell_type": "code",
   "execution_count": null,
   "metadata": {
    "ExecuteTime": {
     "end_time": "2022-05-02T16:26:12.942088Z",
     "start_time": "2022-05-02T16:26:12.796Z"
    }
   },
   "outputs": [],
   "source": [
    "#df.rename(columns[7:] = date_time_cols)"
   ]
  },
  {
   "cell_type": "markdown",
   "metadata": {
    "ExecuteTime": {
     "end_time": "2022-04-28T19:14:02.905552Z",
     "start_time": "2022-04-28T19:14:02.901647Z"
    }
   },
   "source": [
    "## Exploring SizeRank"
   ]
  },
  {
   "cell_type": "code",
   "execution_count": null,
   "metadata": {
    "ExecuteTime": {
     "end_time": "2022-05-02T16:26:12.945301Z",
     "start_time": "2022-05-02T16:26:12.814Z"
    }
   },
   "outputs": [],
   "source": [
    "df.sort_values('SizeRank').head()"
   ]
  },
  {
   "cell_type": "code",
   "execution_count": null,
   "metadata": {
    "ExecuteTime": {
     "end_time": "2022-05-02T16:26:12.945991Z",
     "start_time": "2022-05-02T16:26:12.817Z"
    }
   },
   "outputs": [],
   "source": [
    "df.sort_values(by = ['State', 'City'], ascending = True)"
   ]
  },
  {
   "cell_type": "code",
   "execution_count": null,
   "metadata": {
    "ExecuteTime": {
     "end_time": "2022-05-02T16:26:12.946646Z",
     "start_time": "2022-05-02T16:26:12.819Z"
    }
   },
   "outputs": [],
   "source": [
    "cat_data = df[['RegionID', 'RegionName', 'City', 'State', 'Metro', 'CountyName', 'SizeRank']]"
   ]
  },
  {
   "cell_type": "code",
   "execution_count": null,
   "metadata": {
    "ExecuteTime": {
     "end_time": "2022-05-02T16:26:12.947240Z",
     "start_time": "2022-05-02T16:26:12.822Z"
    }
   },
   "outputs": [],
   "source": [
    "cat_data"
   ]
  },
  {
   "cell_type": "code",
   "execution_count": null,
   "metadata": {
    "ExecuteTime": {
     "end_time": "2022-05-02T16:26:12.947831Z",
     "start_time": "2022-05-02T16:26:12.824Z"
    }
   },
   "outputs": [],
   "source": [
    "df.head()"
   ]
  },
  {
   "cell_type": "code",
   "execution_count": null,
   "metadata": {
    "ExecuteTime": {
     "end_time": "2022-05-02T16:26:12.948294Z",
     "start_time": "2022-05-02T16:26:12.826Z"
    }
   },
   "outputs": [],
   "source": [
    "date_data = df.drop(['RegionID', 'RegionName', 'City', 'State', 'Metro', 'CountyName', 'SizeRank'], axis=1)"
   ]
  },
  {
   "cell_type": "code",
   "execution_count": null,
   "metadata": {
    "ExecuteTime": {
     "end_time": "2022-05-02T16:26:12.948838Z",
     "start_time": "2022-05-02T16:26:12.829Z"
    }
   },
   "outputs": [],
   "source": [
    "date_data.head()"
   ]
  },
  {
   "cell_type": "code",
   "execution_count": null,
   "metadata": {
    "ExecuteTime": {
     "end_time": "2022-05-02T16:26:12.949731Z",
     "start_time": "2022-05-02T16:26:12.832Z"
    }
   },
   "outputs": [],
   "source": [
    "date_time_data = get_datetimes(date_data)"
   ]
  },
  {
   "cell_type": "code",
   "execution_count": null,
   "metadata": {
    "ExecuteTime": {
     "end_time": "2022-05-02T16:26:12.950532Z",
     "start_time": "2022-05-02T16:26:12.835Z"
    }
   },
   "outputs": [],
   "source": [
    "date_time_data"
   ]
  },
  {
   "cell_type": "code",
   "execution_count": null,
   "metadata": {
    "ExecuteTime": {
     "end_time": "2022-05-02T16:26:12.951338Z",
     "start_time": "2022-05-02T16:26:12.837Z"
    }
   },
   "outputs": [],
   "source": [
    "len(date_time_data)"
   ]
  },
  {
   "cell_type": "code",
   "execution_count": null,
   "metadata": {
    "ExecuteTime": {
     "end_time": "2022-05-02T16:26:12.952143Z",
     "start_time": "2022-05-02T16:26:12.840Z"
    }
   },
   "outputs": [],
   "source": [
    "list(date_data.columns)"
   ]
  },
  {
   "cell_type": "code",
   "execution_count": null,
   "metadata": {
    "ExecuteTime": {
     "end_time": "2022-05-02T16:26:12.953123Z",
     "start_time": "2022-05-02T16:26:12.842Z"
    }
   },
   "outputs": [],
   "source": [
    "#df2 = date_data.append(date_time_data)"
   ]
  },
  {
   "cell_type": "markdown",
   "metadata": {},
   "source": [
    "## Changing column names to DateTime Format"
   ]
  },
  {
   "cell_type": "code",
   "execution_count": null,
   "metadata": {
    "ExecuteTime": {
     "end_time": "2022-05-02T16:26:12.953763Z",
     "start_time": "2022-05-02T16:26:12.845Z"
    }
   },
   "outputs": [],
   "source": [
    "#df.columns = pd.to_datetime(df.columns)\n",
    "date_data.columns = pd.to_datetime(date_data.columns)"
   ]
  },
  {
   "cell_type": "code",
   "execution_count": null,
   "metadata": {
    "ExecuteTime": {
     "end_time": "2022-05-02T16:26:12.954308Z",
     "start_time": "2022-05-02T16:26:12.848Z"
    }
   },
   "outputs": [],
   "source": [
    "date_data"
   ]
  },
  {
   "cell_type": "markdown",
   "metadata": {},
   "source": [
    "### Merging with Categories"
   ]
  },
  {
   "cell_type": "code",
   "execution_count": null,
   "metadata": {
    "ExecuteTime": {
     "end_time": "2022-05-02T16:26:12.954805Z",
     "start_time": "2022-05-02T16:26:12.851Z"
    }
   },
   "outputs": [],
   "source": [
    "#imdb_df = pd.merge(table7, table4, on= 'tconst', how='inner')\n",
    "base_df = pd.merge(cat_data, date_data, how='outer')"
   ]
  },
  {
   "cell_type": "markdown",
   "metadata": {},
   "source": [
    "# Mod 4 Project - Starter Notebook\n",
    "\n",
    "This notebook has been provided to you so that you can make use of the following starter code to help with the trickier parts of preprocessing the Zillow dataset. \n",
    "\n",
    "The notebook contains a rough outline the general order you'll likely want to take in this project. You'll notice that most of the areas are left blank. This is so that it's more obvious exactly when you should make use of the starter code provided for preprocessing. \n",
    "\n",
    "**_NOTE:_** The number of empty cells are not meant to infer how much or how little code should be involved in any given step--we've just provided a few for your convenience. Add, delete, and change things around in this notebook as needed!\n",
    "\n",
    "## Some Notes Before Starting\n",
    "\n",
    "This project will be one of the more challenging projects you complete in this program. This is because working with Time Series data is a bit different than working with regular datasets. In order to make this a bit less frustrating and help you understand what you need to do (and when you need to do it), we'll quickly review the dataset formats that you'll encounter in this project. \n",
    "\n",
    "### Wide Format vs Long Format\n",
    "\n",
    "If you take a look at the format of the data in `zillow_data.csv`, you'll notice that the actual Time Series values are stored as separate columns. Here's a sample: \n",
    "\n",
    "<img src='https://raw.githubusercontent.com/learn-co-students/dsc-mod-4-project-seattle-ds-102819/master/images/df_head.png'>\n",
    "\n",
    "You'll notice that the first seven columns look like any other dataset you're used to working with. However, column 8 refers to the median housing sales values for April 1996, column 9 for May 1996, and so on. This This is called **_Wide Format_**, and it makes the dataframe intuitive and easy to read. However, there are problems with this format when it comes to actually learning from the data, because the data only makes sense if you know the name of the column that the data can be found it. Since column names are metadata, our algorithms will miss out on what dates each value is for. This means that before we pass this data to our ARIMA model, we'll need to reshape our dataset to **_Long Format_**. Reshaped into long format, the dataframe above would now look like:\n",
    "\n",
    "<img src='https://raw.githubusercontent.com/learn-co-students/dsc-mod-4-project-seattle-ds-102819/master/images/melted1.png'>\n",
    "\n",
    "There are now many more rows in this dataset--one for each unique time and zipcode combination in the data! Once our dataset is in this format, we'll be able to train an ARIMA model on it. The method used to convert from Wide to Long is `pd.melt()`, and it is common to refer to our dataset as 'melted' after the transition to denote that it is in long format. \n",
    "\n",
    "## Helper Functions Provided\n",
    "\n",
    "Melting a dataset can be tricky if you've never done it before, so you'll see that we have provided a sample function, `melt_data()`, to help you with this step below. Also provided is:\n",
    "\n",
    "* `get_datetimes()`, a function to deal with converting the column values for datetimes as a pandas series of datetime objects\n",
    "* Some good parameters for matplotlib to help make your visualizations more readable. \n",
    "\n",
    "Good luck!\n",
    "\n",
    "\n",
    "## Step 1: Load the Data/Filtering for Chosen Zipcodes"
   ]
  },
  {
   "cell_type": "code",
   "execution_count": null,
   "metadata": {},
   "outputs": [],
   "source": []
  },
  {
   "cell_type": "code",
   "execution_count": null,
   "metadata": {},
   "outputs": [],
   "source": []
  },
  {
   "cell_type": "code",
   "execution_count": null,
   "metadata": {},
   "outputs": [],
   "source": []
  },
  {
   "cell_type": "markdown",
   "metadata": {},
   "source": [
    "## Step 2: Data Preprocessing"
   ]
  },
  {
   "cell_type": "code",
   "execution_count": null,
   "metadata": {
    "ExecuteTime": {
     "end_time": "2022-05-02T16:26:12.955426Z",
     "start_time": "2022-05-02T16:26:12.858Z"
    }
   },
   "outputs": [],
   "source": [
    "def get_datetimes(df):\n",
    "    \"\"\"\n",
    "    Takes a dataframe:\n",
    "    returns only those column names that can be converted into datetime objects \n",
    "    as datetime objects.\n",
    "    NOTE number of returned columns may not match total number of columns in passed dataframe\n",
    "    \"\"\"\n",
    "    \n",
    "    return pd.to_datetime(df.columns.values[1:], format='%Y-%m')"
   ]
  },
  {
   "cell_type": "code",
   "execution_count": null,
   "metadata": {},
   "outputs": [],
   "source": []
  },
  {
   "cell_type": "code",
   "execution_count": null,
   "metadata": {},
   "outputs": [],
   "source": []
  },
  {
   "cell_type": "code",
   "execution_count": null,
   "metadata": {},
   "outputs": [],
   "source": []
  },
  {
   "cell_type": "markdown",
   "metadata": {},
   "source": [
    "## Step 3: EDA and Visualization"
   ]
  },
  {
   "cell_type": "code",
   "execution_count": null,
   "metadata": {
    "ExecuteTime": {
     "end_time": "2022-05-02T16:26:12.956056Z",
     "start_time": "2022-05-02T16:26:12.865Z"
    }
   },
   "outputs": [],
   "source": [
    "font = {'family' : 'normal',\n",
    "        'weight' : 'bold',\n",
    "        'size'   : 22}\n",
    "\n",
    "matplotlib.rc('font', **font)\n",
    "\n",
    "# NOTE: if you visualizations are too cluttered to read, try calling 'plt.gcf().autofmt_xdate()'!"
   ]
  },
  {
   "cell_type": "code",
   "execution_count": null,
   "metadata": {},
   "outputs": [],
   "source": []
  },
  {
   "cell_type": "code",
   "execution_count": null,
   "metadata": {},
   "outputs": [],
   "source": []
  },
  {
   "cell_type": "code",
   "execution_count": null,
   "metadata": {},
   "outputs": [],
   "source": []
  },
  {
   "cell_type": "markdown",
   "metadata": {},
   "source": [
    "## Step 4: Reshape from Wide to Long Format"
   ]
  },
  {
   "cell_type": "code",
   "execution_count": null,
   "metadata": {
    "ExecuteTime": {
     "end_time": "2022-05-02T16:26:12.956655Z",
     "start_time": "2022-05-02T16:26:12.872Z"
    }
   },
   "outputs": [],
   "source": [
    "def melt_data(df):\n",
    "    \"\"\"\n",
    "    Takes the zillow_data dataset in wide form or a subset of the zillow_dataset.  \n",
    "    Returns a long-form datetime dataframe \n",
    "    with the datetime column names as the index and the values as the 'values' column.\n",
    "    \n",
    "    If more than one row is passes in the wide-form dataset, the values column\n",
    "    will be the mean of the values from the datetime columns in all of the rows.\n",
    "    \"\"\"\n",
    "    \n",
    "    melted = pd.melt(df, id_vars=['RegionName', 'RegionID', 'SizeRank', 'City', 'State', 'Metro', 'CountyName'], var_name='time')\n",
    "    melted['time'] = pd.to_datetime(melted['time'], infer_datetime_format=True)\n",
    "    melted = melted.dropna(subset=['value'])\n",
    "    return melted.groupby('time').aggregate({'value':'mean'})"
   ]
  },
  {
   "cell_type": "code",
   "execution_count": null,
   "metadata": {},
   "outputs": [],
   "source": []
  },
  {
   "cell_type": "code",
   "execution_count": null,
   "metadata": {},
   "outputs": [],
   "source": []
  },
  {
   "cell_type": "code",
   "execution_count": null,
   "metadata": {},
   "outputs": [],
   "source": []
  },
  {
   "cell_type": "markdown",
   "metadata": {},
   "source": [
    "## Step 5: ARIMA Modeling"
   ]
  },
  {
   "cell_type": "code",
   "execution_count": null,
   "metadata": {},
   "outputs": [],
   "source": []
  },
  {
   "cell_type": "code",
   "execution_count": null,
   "metadata": {},
   "outputs": [],
   "source": []
  },
  {
   "cell_type": "code",
   "execution_count": null,
   "metadata": {},
   "outputs": [],
   "source": []
  },
  {
   "cell_type": "code",
   "execution_count": null,
   "metadata": {},
   "outputs": [],
   "source": []
  },
  {
   "cell_type": "code",
   "execution_count": null,
   "metadata": {},
   "outputs": [],
   "source": []
  },
  {
   "cell_type": "code",
   "execution_count": null,
   "metadata": {},
   "outputs": [],
   "source": []
  },
  {
   "cell_type": "markdown",
   "metadata": {},
   "source": [
    "## Step 6: Interpreting Results"
   ]
  },
  {
   "cell_type": "code",
   "execution_count": null,
   "metadata": {},
   "outputs": [],
   "source": []
  },
  {
   "cell_type": "code",
   "execution_count": null,
   "metadata": {},
   "outputs": [],
   "source": []
  },
  {
   "cell_type": "code",
   "execution_count": null,
   "metadata": {},
   "outputs": [],
   "source": []
  }
 ],
 "metadata": {
  "kernelspec": {
   "display_name": "Python 3",
   "language": "python",
   "name": "python3"
  },
  "language_info": {
   "codemirror_mode": {
    "name": "ipython",
    "version": 3
   },
   "file_extension": ".py",
   "mimetype": "text/x-python",
   "name": "python",
   "nbconvert_exporter": "python",
   "pygments_lexer": "ipython3",
   "version": "3.8.5"
  },
  "toc": {
   "base_numbering": 1,
   "nav_menu": {},
   "number_sections": true,
   "sideBar": true,
   "skip_h1_title": false,
   "title_cell": "Table of Contents",
   "title_sidebar": "Contents",
   "toc_cell": false,
   "toc_position": {
    "height": "641px",
    "left": "45px",
    "top": "111.141px",
    "width": "288px"
   },
   "toc_section_display": true,
   "toc_window_display": true
  },
  "varInspector": {
   "cols": {
    "lenName": 16,
    "lenType": 16,
    "lenVar": 40
   },
   "kernels_config": {
    "python": {
     "delete_cmd_postfix": "",
     "delete_cmd_prefix": "del ",
     "library": "var_list.py",
     "varRefreshCmd": "print(var_dic_list())"
    },
    "r": {
     "delete_cmd_postfix": ") ",
     "delete_cmd_prefix": "rm(",
     "library": "var_list.r",
     "varRefreshCmd": "cat(var_dic_list()) "
    }
   },
   "types_to_exclude": [
    "module",
    "function",
    "builtin_function_or_method",
    "instance",
    "_Feature"
   ],
   "window_display": false
  }
 },
 "nbformat": 4,
 "nbformat_minor": 2
}
