{
 "cells": [
  {
   "cell_type": "markdown",
   "metadata": {},
   "source": [
    "# Phase 4 Project Notebook\n",
    "- Author: Jonathan Holt\n",
    "- Data Science Flex"
   ]
  },
  {
   "cell_type": "markdown",
   "metadata": {},
   "source": [
    "## Business Problem\n",
    "- What are the top 5 best zip codes for us to invest in?"
   ]
  },
  {
   "cell_type": "markdown",
   "metadata": {},
   "source": [
    "## Questions to Answer"
   ]
  },
  {
   "cell_type": "markdown",
   "metadata": {},
   "source": [
    "## What Models & Metrics I plan on using"
   ]
  },
  {
   "cell_type": "markdown",
   "metadata": {},
   "source": [
    "## Helper Functions\n",
    "- Functions provided by Flatiron"
   ]
  },
  {
   "cell_type": "code",
   "execution_count": 1,
   "metadata": {
    "ExecuteTime": {
     "end_time": "2022-04-29T15:20:47.005788Z",
     "start_time": "2022-04-29T15:20:47.000144Z"
    }
   },
   "outputs": [],
   "source": [
    "def get_datetimes(df):\n",
    "    \"\"\"\n",
    "    Takes a dataframe:\n",
    "    returns only those column names that can be converted into datetime objects \n",
    "    as datetime objects.\n",
    "    NOTE number of returned columns may not match total number of columns in passed dataframe\n",
    "    \"\"\"\n",
    "    \n",
    "    return pd.to_datetime(df.columns.values[1:], format='%Y-%m')"
   ]
  },
  {
   "cell_type": "code",
   "execution_count": 2,
   "metadata": {
    "ExecuteTime": {
     "end_time": "2022-04-29T15:20:47.016794Z",
     "start_time": "2022-04-29T15:20:47.009650Z"
    }
   },
   "outputs": [],
   "source": [
    "def melt_data(df):\n",
    "    \"\"\"\n",
    "    Takes the zillow_data dataset in wide form or a subset of the zillow_dataset.  \n",
    "    Returns a long-form datetime dataframe \n",
    "    with the datetime column names as the index and the values as the 'values' column.\n",
    "    \n",
    "    If more than one row is passes in the wide-form dataset, the values column\n",
    "    will be the mean of the values from the datetime columns in all of the rows.\n",
    "    \"\"\"\n",
    "    \n",
    "    melted = pd.melt(df, id_vars=['RegionName', 'RegionID', 'SizeRank', 'City', 'State', 'Metro', 'CountyName'], var_name='time')\n",
    "    melted['time'] = pd.to_datetime(melted['time'], infer_datetime_format=True)\n",
    "    melted = melted.dropna(subset=['value'])\n",
    "    return melted.groupby('time').aggregate({'value':'mean'})"
   ]
  },
  {
   "cell_type": "markdown",
   "metadata": {},
   "source": [
    "## Loading Data"
   ]
  },
  {
   "cell_type": "code",
   "execution_count": 93,
   "metadata": {
    "ExecuteTime": {
     "end_time": "2022-04-29T17:35:59.688039Z",
     "start_time": "2022-04-29T17:35:59.684605Z"
    }
   },
   "outputs": [],
   "source": [
    "import pandas as pd\n",
    "\n",
    "pd.set_option('display.max_rows', 1000) #change the amount of rows displayed"
   ]
  },
  {
   "cell_type": "code",
   "execution_count": 4,
   "metadata": {
    "ExecuteTime": {
     "end_time": "2022-04-29T15:20:47.507273Z",
     "start_time": "2022-04-29T15:20:47.245915Z"
    }
   },
   "outputs": [],
   "source": [
    "df = pd.read_csv(\"zillow_data.csv\")"
   ]
  },
  {
   "cell_type": "code",
   "execution_count": 5,
   "metadata": {
    "ExecuteTime": {
     "end_time": "2022-04-29T15:20:47.522711Z",
     "start_time": "2022-04-29T15:20:47.508203Z"
    }
   },
   "outputs": [
    {
     "data": {
      "text/html": [
       "<div>\n",
       "<style scoped>\n",
       "    .dataframe tbody tr th:only-of-type {\n",
       "        vertical-align: middle;\n",
       "    }\n",
       "\n",
       "    .dataframe tbody tr th {\n",
       "        vertical-align: top;\n",
       "    }\n",
       "\n",
       "    .dataframe thead th {\n",
       "        text-align: right;\n",
       "    }\n",
       "</style>\n",
       "<table border=\"1\" class=\"dataframe\">\n",
       "  <thead>\n",
       "    <tr style=\"text-align: right;\">\n",
       "      <th></th>\n",
       "      <th>RegionID</th>\n",
       "      <th>RegionName</th>\n",
       "      <th>City</th>\n",
       "      <th>State</th>\n",
       "      <th>Metro</th>\n",
       "      <th>CountyName</th>\n",
       "      <th>SizeRank</th>\n",
       "      <th>1996-04</th>\n",
       "      <th>1996-05</th>\n",
       "      <th>1996-06</th>\n",
       "      <th>...</th>\n",
       "      <th>2017-07</th>\n",
       "      <th>2017-08</th>\n",
       "      <th>2017-09</th>\n",
       "      <th>2017-10</th>\n",
       "      <th>2017-11</th>\n",
       "      <th>2017-12</th>\n",
       "      <th>2018-01</th>\n",
       "      <th>2018-02</th>\n",
       "      <th>2018-03</th>\n",
       "      <th>2018-04</th>\n",
       "    </tr>\n",
       "  </thead>\n",
       "  <tbody>\n",
       "    <tr>\n",
       "      <th>0</th>\n",
       "      <td>84654</td>\n",
       "      <td>60657</td>\n",
       "      <td>Chicago</td>\n",
       "      <td>IL</td>\n",
       "      <td>Chicago</td>\n",
       "      <td>Cook</td>\n",
       "      <td>1</td>\n",
       "      <td>334200.0</td>\n",
       "      <td>335400.0</td>\n",
       "      <td>336500.0</td>\n",
       "      <td>...</td>\n",
       "      <td>1005500</td>\n",
       "      <td>1007500</td>\n",
       "      <td>1007800</td>\n",
       "      <td>1009600</td>\n",
       "      <td>1013300</td>\n",
       "      <td>1018700</td>\n",
       "      <td>1024400</td>\n",
       "      <td>1030700</td>\n",
       "      <td>1033800</td>\n",
       "      <td>1030600</td>\n",
       "    </tr>\n",
       "    <tr>\n",
       "      <th>1</th>\n",
       "      <td>90668</td>\n",
       "      <td>75070</td>\n",
       "      <td>McKinney</td>\n",
       "      <td>TX</td>\n",
       "      <td>Dallas-Fort Worth</td>\n",
       "      <td>Collin</td>\n",
       "      <td>2</td>\n",
       "      <td>235700.0</td>\n",
       "      <td>236900.0</td>\n",
       "      <td>236700.0</td>\n",
       "      <td>...</td>\n",
       "      <td>308000</td>\n",
       "      <td>310000</td>\n",
       "      <td>312500</td>\n",
       "      <td>314100</td>\n",
       "      <td>315000</td>\n",
       "      <td>316600</td>\n",
       "      <td>318100</td>\n",
       "      <td>319600</td>\n",
       "      <td>321100</td>\n",
       "      <td>321800</td>\n",
       "    </tr>\n",
       "    <tr>\n",
       "      <th>2</th>\n",
       "      <td>91982</td>\n",
       "      <td>77494</td>\n",
       "      <td>Katy</td>\n",
       "      <td>TX</td>\n",
       "      <td>Houston</td>\n",
       "      <td>Harris</td>\n",
       "      <td>3</td>\n",
       "      <td>210400.0</td>\n",
       "      <td>212200.0</td>\n",
       "      <td>212200.0</td>\n",
       "      <td>...</td>\n",
       "      <td>321000</td>\n",
       "      <td>320600</td>\n",
       "      <td>320200</td>\n",
       "      <td>320400</td>\n",
       "      <td>320800</td>\n",
       "      <td>321200</td>\n",
       "      <td>321200</td>\n",
       "      <td>323000</td>\n",
       "      <td>326900</td>\n",
       "      <td>329900</td>\n",
       "    </tr>\n",
       "    <tr>\n",
       "      <th>3</th>\n",
       "      <td>84616</td>\n",
       "      <td>60614</td>\n",
       "      <td>Chicago</td>\n",
       "      <td>IL</td>\n",
       "      <td>Chicago</td>\n",
       "      <td>Cook</td>\n",
       "      <td>4</td>\n",
       "      <td>498100.0</td>\n",
       "      <td>500900.0</td>\n",
       "      <td>503100.0</td>\n",
       "      <td>...</td>\n",
       "      <td>1289800</td>\n",
       "      <td>1287700</td>\n",
       "      <td>1287400</td>\n",
       "      <td>1291500</td>\n",
       "      <td>1296600</td>\n",
       "      <td>1299000</td>\n",
       "      <td>1302700</td>\n",
       "      <td>1306400</td>\n",
       "      <td>1308500</td>\n",
       "      <td>1307000</td>\n",
       "    </tr>\n",
       "    <tr>\n",
       "      <th>4</th>\n",
       "      <td>93144</td>\n",
       "      <td>79936</td>\n",
       "      <td>El Paso</td>\n",
       "      <td>TX</td>\n",
       "      <td>El Paso</td>\n",
       "      <td>El Paso</td>\n",
       "      <td>5</td>\n",
       "      <td>77300.0</td>\n",
       "      <td>77300.0</td>\n",
       "      <td>77300.0</td>\n",
       "      <td>...</td>\n",
       "      <td>119100</td>\n",
       "      <td>119400</td>\n",
       "      <td>120000</td>\n",
       "      <td>120300</td>\n",
       "      <td>120300</td>\n",
       "      <td>120300</td>\n",
       "      <td>120300</td>\n",
       "      <td>120500</td>\n",
       "      <td>121000</td>\n",
       "      <td>121500</td>\n",
       "    </tr>\n",
       "  </tbody>\n",
       "</table>\n",
       "<p>5 rows × 272 columns</p>\n",
       "</div>"
      ],
      "text/plain": [
       "   RegionID  RegionName      City State              Metro CountyName  \\\n",
       "0     84654       60657   Chicago    IL            Chicago       Cook   \n",
       "1     90668       75070  McKinney    TX  Dallas-Fort Worth     Collin   \n",
       "2     91982       77494      Katy    TX            Houston     Harris   \n",
       "3     84616       60614   Chicago    IL            Chicago       Cook   \n",
       "4     93144       79936   El Paso    TX            El Paso    El Paso   \n",
       "\n",
       "   SizeRank   1996-04   1996-05   1996-06  ...  2017-07  2017-08  2017-09  \\\n",
       "0         1  334200.0  335400.0  336500.0  ...  1005500  1007500  1007800   \n",
       "1         2  235700.0  236900.0  236700.0  ...   308000   310000   312500   \n",
       "2         3  210400.0  212200.0  212200.0  ...   321000   320600   320200   \n",
       "3         4  498100.0  500900.0  503100.0  ...  1289800  1287700  1287400   \n",
       "4         5   77300.0   77300.0   77300.0  ...   119100   119400   120000   \n",
       "\n",
       "   2017-10  2017-11  2017-12  2018-01  2018-02  2018-03  2018-04  \n",
       "0  1009600  1013300  1018700  1024400  1030700  1033800  1030600  \n",
       "1   314100   315000   316600   318100   319600   321100   321800  \n",
       "2   320400   320800   321200   321200   323000   326900   329900  \n",
       "3  1291500  1296600  1299000  1302700  1306400  1308500  1307000  \n",
       "4   120300   120300   120300   120300   120500   121000   121500  \n",
       "\n",
       "[5 rows x 272 columns]"
      ]
     },
     "execution_count": 5,
     "metadata": {},
     "output_type": "execute_result"
    }
   ],
   "source": [
    "df.head()"
   ]
  },
  {
   "cell_type": "code",
   "execution_count": 26,
   "metadata": {
    "ExecuteTime": {
     "end_time": "2022-04-29T16:39:13.034395Z",
     "start_time": "2022-04-29T16:39:12.620669Z"
    }
   },
   "outputs": [
    {
     "data": {
      "text/html": [
       "<div>\n",
       "<style scoped>\n",
       "    .dataframe tbody tr th:only-of-type {\n",
       "        vertical-align: middle;\n",
       "    }\n",
       "\n",
       "    .dataframe tbody tr th {\n",
       "        vertical-align: top;\n",
       "    }\n",
       "\n",
       "    .dataframe thead th {\n",
       "        text-align: right;\n",
       "    }\n",
       "</style>\n",
       "<table border=\"1\" class=\"dataframe\">\n",
       "  <thead>\n",
       "    <tr style=\"text-align: right;\">\n",
       "      <th></th>\n",
       "      <th>RegionID</th>\n",
       "      <th>RegionName</th>\n",
       "      <th>SizeRank</th>\n",
       "      <th>1996-04</th>\n",
       "      <th>1996-05</th>\n",
       "      <th>1996-06</th>\n",
       "      <th>1996-07</th>\n",
       "      <th>1996-08</th>\n",
       "      <th>1996-09</th>\n",
       "      <th>1996-10</th>\n",
       "      <th>...</th>\n",
       "      <th>2017-07</th>\n",
       "      <th>2017-08</th>\n",
       "      <th>2017-09</th>\n",
       "      <th>2017-10</th>\n",
       "      <th>2017-11</th>\n",
       "      <th>2017-12</th>\n",
       "      <th>2018-01</th>\n",
       "      <th>2018-02</th>\n",
       "      <th>2018-03</th>\n",
       "      <th>2018-04</th>\n",
       "    </tr>\n",
       "  </thead>\n",
       "  <tbody>\n",
       "    <tr>\n",
       "      <th>count</th>\n",
       "      <td>14723.000000</td>\n",
       "      <td>14723.000000</td>\n",
       "      <td>14723.000000</td>\n",
       "      <td>1.368400e+04</td>\n",
       "      <td>1.368400e+04</td>\n",
       "      <td>1.368400e+04</td>\n",
       "      <td>1.368400e+04</td>\n",
       "      <td>1.368400e+04</td>\n",
       "      <td>1.368400e+04</td>\n",
       "      <td>1.368400e+04</td>\n",
       "      <td>...</td>\n",
       "      <td>1.472300e+04</td>\n",
       "      <td>1.472300e+04</td>\n",
       "      <td>1.472300e+04</td>\n",
       "      <td>1.472300e+04</td>\n",
       "      <td>1.472300e+04</td>\n",
       "      <td>1.472300e+04</td>\n",
       "      <td>1.472300e+04</td>\n",
       "      <td>1.472300e+04</td>\n",
       "      <td>1.472300e+04</td>\n",
       "      <td>1.472300e+04</td>\n",
       "    </tr>\n",
       "    <tr>\n",
       "      <th>mean</th>\n",
       "      <td>81075.010052</td>\n",
       "      <td>48222.348706</td>\n",
       "      <td>7362.000000</td>\n",
       "      <td>1.182991e+05</td>\n",
       "      <td>1.184190e+05</td>\n",
       "      <td>1.185374e+05</td>\n",
       "      <td>1.186531e+05</td>\n",
       "      <td>1.187803e+05</td>\n",
       "      <td>1.189275e+05</td>\n",
       "      <td>1.191205e+05</td>\n",
       "      <td>...</td>\n",
       "      <td>2.733354e+05</td>\n",
       "      <td>2.748658e+05</td>\n",
       "      <td>2.764646e+05</td>\n",
       "      <td>2.780332e+05</td>\n",
       "      <td>2.795209e+05</td>\n",
       "      <td>2.810953e+05</td>\n",
       "      <td>2.826571e+05</td>\n",
       "      <td>2.843687e+05</td>\n",
       "      <td>2.865114e+05</td>\n",
       "      <td>2.880399e+05</td>\n",
       "    </tr>\n",
       "    <tr>\n",
       "      <th>std</th>\n",
       "      <td>31934.118525</td>\n",
       "      <td>29359.325439</td>\n",
       "      <td>4250.308342</td>\n",
       "      <td>8.600251e+04</td>\n",
       "      <td>8.615567e+04</td>\n",
       "      <td>8.630923e+04</td>\n",
       "      <td>8.646795e+04</td>\n",
       "      <td>8.665094e+04</td>\n",
       "      <td>8.687208e+04</td>\n",
       "      <td>8.715185e+04</td>\n",
       "      <td>...</td>\n",
       "      <td>3.603984e+05</td>\n",
       "      <td>3.614678e+05</td>\n",
       "      <td>3.627563e+05</td>\n",
       "      <td>3.644610e+05</td>\n",
       "      <td>3.656003e+05</td>\n",
       "      <td>3.670454e+05</td>\n",
       "      <td>3.695727e+05</td>\n",
       "      <td>3.717739e+05</td>\n",
       "      <td>3.724612e+05</td>\n",
       "      <td>3.720544e+05</td>\n",
       "    </tr>\n",
       "    <tr>\n",
       "      <th>min</th>\n",
       "      <td>58196.000000</td>\n",
       "      <td>1001.000000</td>\n",
       "      <td>1.000000</td>\n",
       "      <td>1.130000e+04</td>\n",
       "      <td>1.150000e+04</td>\n",
       "      <td>1.160000e+04</td>\n",
       "      <td>1.180000e+04</td>\n",
       "      <td>1.180000e+04</td>\n",
       "      <td>1.200000e+04</td>\n",
       "      <td>1.210000e+04</td>\n",
       "      <td>...</td>\n",
       "      <td>1.440000e+04</td>\n",
       "      <td>1.450000e+04</td>\n",
       "      <td>1.470000e+04</td>\n",
       "      <td>1.480000e+04</td>\n",
       "      <td>1.450000e+04</td>\n",
       "      <td>1.430000e+04</td>\n",
       "      <td>1.410000e+04</td>\n",
       "      <td>1.390000e+04</td>\n",
       "      <td>1.380000e+04</td>\n",
       "      <td>1.380000e+04</td>\n",
       "    </tr>\n",
       "    <tr>\n",
       "      <th>25%</th>\n",
       "      <td>67174.500000</td>\n",
       "      <td>22101.500000</td>\n",
       "      <td>3681.500000</td>\n",
       "      <td>6.880000e+04</td>\n",
       "      <td>6.890000e+04</td>\n",
       "      <td>6.910000e+04</td>\n",
       "      <td>6.920000e+04</td>\n",
       "      <td>6.937500e+04</td>\n",
       "      <td>6.950000e+04</td>\n",
       "      <td>6.960000e+04</td>\n",
       "      <td>...</td>\n",
       "      <td>1.269000e+05</td>\n",
       "      <td>1.275000e+05</td>\n",
       "      <td>1.282000e+05</td>\n",
       "      <td>1.287000e+05</td>\n",
       "      <td>1.292500e+05</td>\n",
       "      <td>1.299000e+05</td>\n",
       "      <td>1.306000e+05</td>\n",
       "      <td>1.310500e+05</td>\n",
       "      <td>1.319500e+05</td>\n",
       "      <td>1.324000e+05</td>\n",
       "    </tr>\n",
       "    <tr>\n",
       "      <th>50%</th>\n",
       "      <td>78007.000000</td>\n",
       "      <td>46106.000000</td>\n",
       "      <td>7362.000000</td>\n",
       "      <td>9.950000e+04</td>\n",
       "      <td>9.950000e+04</td>\n",
       "      <td>9.970000e+04</td>\n",
       "      <td>9.970000e+04</td>\n",
       "      <td>9.980000e+04</td>\n",
       "      <td>9.990000e+04</td>\n",
       "      <td>9.995000e+04</td>\n",
       "      <td>...</td>\n",
       "      <td>1.884000e+05</td>\n",
       "      <td>1.896000e+05</td>\n",
       "      <td>1.905000e+05</td>\n",
       "      <td>1.914000e+05</td>\n",
       "      <td>1.925000e+05</td>\n",
       "      <td>1.934000e+05</td>\n",
       "      <td>1.941000e+05</td>\n",
       "      <td>1.950000e+05</td>\n",
       "      <td>1.967000e+05</td>\n",
       "      <td>1.981000e+05</td>\n",
       "    </tr>\n",
       "    <tr>\n",
       "      <th>75%</th>\n",
       "      <td>90920.500000</td>\n",
       "      <td>75205.500000</td>\n",
       "      <td>11042.500000</td>\n",
       "      <td>1.432000e+05</td>\n",
       "      <td>1.433000e+05</td>\n",
       "      <td>1.432250e+05</td>\n",
       "      <td>1.432250e+05</td>\n",
       "      <td>1.435000e+05</td>\n",
       "      <td>1.437000e+05</td>\n",
       "      <td>1.439000e+05</td>\n",
       "      <td>...</td>\n",
       "      <td>3.050000e+05</td>\n",
       "      <td>3.066500e+05</td>\n",
       "      <td>3.085000e+05</td>\n",
       "      <td>3.098000e+05</td>\n",
       "      <td>3.117000e+05</td>\n",
       "      <td>3.134000e+05</td>\n",
       "      <td>3.151000e+05</td>\n",
       "      <td>3.168500e+05</td>\n",
       "      <td>3.188500e+05</td>\n",
       "      <td>3.211000e+05</td>\n",
       "    </tr>\n",
       "    <tr>\n",
       "      <th>max</th>\n",
       "      <td>753844.000000</td>\n",
       "      <td>99901.000000</td>\n",
       "      <td>14723.000000</td>\n",
       "      <td>3.676700e+06</td>\n",
       "      <td>3.704200e+06</td>\n",
       "      <td>3.729600e+06</td>\n",
       "      <td>3.754600e+06</td>\n",
       "      <td>3.781800e+06</td>\n",
       "      <td>3.813500e+06</td>\n",
       "      <td>3.849600e+06</td>\n",
       "      <td>...</td>\n",
       "      <td>1.888990e+07</td>\n",
       "      <td>1.870350e+07</td>\n",
       "      <td>1.860530e+07</td>\n",
       "      <td>1.856940e+07</td>\n",
       "      <td>1.842880e+07</td>\n",
       "      <td>1.830710e+07</td>\n",
       "      <td>1.836590e+07</td>\n",
       "      <td>1.853040e+07</td>\n",
       "      <td>1.833770e+07</td>\n",
       "      <td>1.789490e+07</td>\n",
       "    </tr>\n",
       "  </tbody>\n",
       "</table>\n",
       "<p>8 rows × 268 columns</p>\n",
       "</div>"
      ],
      "text/plain": [
       "            RegionID    RegionName      SizeRank       1996-04       1996-05  \\\n",
       "count   14723.000000  14723.000000  14723.000000  1.368400e+04  1.368400e+04   \n",
       "mean    81075.010052  48222.348706   7362.000000  1.182991e+05  1.184190e+05   \n",
       "std     31934.118525  29359.325439   4250.308342  8.600251e+04  8.615567e+04   \n",
       "min     58196.000000   1001.000000      1.000000  1.130000e+04  1.150000e+04   \n",
       "25%     67174.500000  22101.500000   3681.500000  6.880000e+04  6.890000e+04   \n",
       "50%     78007.000000  46106.000000   7362.000000  9.950000e+04  9.950000e+04   \n",
       "75%     90920.500000  75205.500000  11042.500000  1.432000e+05  1.433000e+05   \n",
       "max    753844.000000  99901.000000  14723.000000  3.676700e+06  3.704200e+06   \n",
       "\n",
       "            1996-06       1996-07       1996-08       1996-09       1996-10  \\\n",
       "count  1.368400e+04  1.368400e+04  1.368400e+04  1.368400e+04  1.368400e+04   \n",
       "mean   1.185374e+05  1.186531e+05  1.187803e+05  1.189275e+05  1.191205e+05   \n",
       "std    8.630923e+04  8.646795e+04  8.665094e+04  8.687208e+04  8.715185e+04   \n",
       "min    1.160000e+04  1.180000e+04  1.180000e+04  1.200000e+04  1.210000e+04   \n",
       "25%    6.910000e+04  6.920000e+04  6.937500e+04  6.950000e+04  6.960000e+04   \n",
       "50%    9.970000e+04  9.970000e+04  9.980000e+04  9.990000e+04  9.995000e+04   \n",
       "75%    1.432250e+05  1.432250e+05  1.435000e+05  1.437000e+05  1.439000e+05   \n",
       "max    3.729600e+06  3.754600e+06  3.781800e+06  3.813500e+06  3.849600e+06   \n",
       "\n",
       "       ...       2017-07       2017-08       2017-09       2017-10  \\\n",
       "count  ...  1.472300e+04  1.472300e+04  1.472300e+04  1.472300e+04   \n",
       "mean   ...  2.733354e+05  2.748658e+05  2.764646e+05  2.780332e+05   \n",
       "std    ...  3.603984e+05  3.614678e+05  3.627563e+05  3.644610e+05   \n",
       "min    ...  1.440000e+04  1.450000e+04  1.470000e+04  1.480000e+04   \n",
       "25%    ...  1.269000e+05  1.275000e+05  1.282000e+05  1.287000e+05   \n",
       "50%    ...  1.884000e+05  1.896000e+05  1.905000e+05  1.914000e+05   \n",
       "75%    ...  3.050000e+05  3.066500e+05  3.085000e+05  3.098000e+05   \n",
       "max    ...  1.888990e+07  1.870350e+07  1.860530e+07  1.856940e+07   \n",
       "\n",
       "            2017-11       2017-12       2018-01       2018-02       2018-03  \\\n",
       "count  1.472300e+04  1.472300e+04  1.472300e+04  1.472300e+04  1.472300e+04   \n",
       "mean   2.795209e+05  2.810953e+05  2.826571e+05  2.843687e+05  2.865114e+05   \n",
       "std    3.656003e+05  3.670454e+05  3.695727e+05  3.717739e+05  3.724612e+05   \n",
       "min    1.450000e+04  1.430000e+04  1.410000e+04  1.390000e+04  1.380000e+04   \n",
       "25%    1.292500e+05  1.299000e+05  1.306000e+05  1.310500e+05  1.319500e+05   \n",
       "50%    1.925000e+05  1.934000e+05  1.941000e+05  1.950000e+05  1.967000e+05   \n",
       "75%    3.117000e+05  3.134000e+05  3.151000e+05  3.168500e+05  3.188500e+05   \n",
       "max    1.842880e+07  1.830710e+07  1.836590e+07  1.853040e+07  1.833770e+07   \n",
       "\n",
       "            2018-04  \n",
       "count  1.472300e+04  \n",
       "mean   2.880399e+05  \n",
       "std    3.720544e+05  \n",
       "min    1.380000e+04  \n",
       "25%    1.324000e+05  \n",
       "50%    1.981000e+05  \n",
       "75%    3.211000e+05  \n",
       "max    1.789490e+07  \n",
       "\n",
       "[8 rows x 268 columns]"
      ]
     },
     "execution_count": 26,
     "metadata": {},
     "output_type": "execute_result"
    }
   ],
   "source": [
    "df.describe()"
   ]
  },
  {
   "cell_type": "code",
   "execution_count": 7,
   "metadata": {
    "ExecuteTime": {
     "end_time": "2022-04-29T15:20:47.527030Z",
     "start_time": "2022-04-29T15:20:47.525821Z"
    }
   },
   "outputs": [],
   "source": [
    "#get_datetimes(df)"
   ]
  },
  {
   "cell_type": "markdown",
   "metadata": {
    "ExecuteTime": {
     "end_time": "2022-04-29T16:36:55.918102Z",
     "start_time": "2022-04-29T16:36:55.915528Z"
    }
   },
   "source": [
    "## Checking for Null Values"
   ]
  },
  {
   "cell_type": "code",
   "execution_count": 22,
   "metadata": {
    "ExecuteTime": {
     "end_time": "2022-04-29T16:36:32.524982Z",
     "start_time": "2022-04-29T16:36:32.481135Z"
    }
   },
   "outputs": [
    {
     "data": {
      "text/plain": [
       "RegionID         0\n",
       "RegionName       0\n",
       "City             0\n",
       "State            0\n",
       "Metro         1043\n",
       "CountyName       0\n",
       "SizeRank         0\n",
       "1996-04       1039\n",
       "1996-05       1039\n",
       "1996-06       1039\n",
       "1996-07       1039\n",
       "1996-08       1039\n",
       "1996-09       1039\n",
       "1996-10       1039\n",
       "1996-11       1039\n",
       "1996-12       1039\n",
       "1997-01       1039\n",
       "1997-02       1039\n",
       "1997-03       1039\n",
       "1997-04       1039\n",
       "1997-05       1039\n",
       "1997-06       1039\n",
       "1997-07       1038\n",
       "1997-08       1038\n",
       "1997-09       1038\n",
       "1997-10       1038\n",
       "1997-11       1038\n",
       "1997-12       1038\n",
       "1998-01       1036\n",
       "1998-02       1036\n",
       "1998-03       1036\n",
       "1998-04       1036\n",
       "1998-05       1036\n",
       "1998-06       1036\n",
       "1998-07       1036\n",
       "1998-08       1036\n",
       "1998-09       1036\n",
       "1998-10       1036\n",
       "1998-11       1036\n",
       "1998-12       1036\n",
       "1999-01       1036\n",
       "1999-02       1036\n",
       "1999-03       1036\n",
       "1999-04       1036\n",
       "1999-05       1036\n",
       "1999-06       1036\n",
       "1999-07       1036\n",
       "1999-08       1036\n",
       "1999-09       1036\n",
       "1999-10       1036\n",
       "1999-11       1036\n",
       "1999-12       1036\n",
       "2000-01       1036\n",
       "2000-02       1036\n",
       "2000-03       1036\n",
       "2000-04       1036\n",
       "2000-05       1036\n",
       "2000-06       1036\n",
       "2000-07       1036\n",
       "2000-08       1036\n",
       "2000-09       1036\n",
       "2000-10       1036\n",
       "2000-11       1036\n",
       "2000-12       1036\n",
       "2001-01       1036\n",
       "2001-02       1036\n",
       "2001-03       1036\n",
       "2001-04       1036\n",
       "2001-05       1036\n",
       "2001-06       1036\n",
       "2001-07       1036\n",
       "2001-08       1036\n",
       "2001-09       1036\n",
       "2001-10       1036\n",
       "2001-11       1036\n",
       "2001-12       1036\n",
       "2002-01       1036\n",
       "2002-02       1036\n",
       "2002-03       1036\n",
       "2002-04       1036\n",
       "2002-05       1036\n",
       "2002-06       1036\n",
       "2002-07       1036\n",
       "2002-08       1036\n",
       "2002-09       1036\n",
       "2002-10       1036\n",
       "2002-11       1036\n",
       "2002-12       1036\n",
       "2003-01       1036\n",
       "2003-02       1036\n",
       "2003-03       1036\n",
       "2003-04       1036\n",
       "2003-05       1036\n",
       "2003-06       1036\n",
       "2003-07        918\n",
       "2003-08        918\n",
       "2003-09        918\n",
       "2003-10        918\n",
       "2003-11        918\n",
       "2003-12        918\n",
       "2004-01        887\n",
       "2004-02        887\n",
       "2004-03        887\n",
       "2004-04        887\n",
       "2004-05        887\n",
       "2004-06        887\n",
       "2004-07        866\n",
       "2004-08        866\n",
       "2004-09        866\n",
       "2004-10        866\n",
       "2004-11        866\n",
       "2004-12        866\n",
       "2005-01        814\n",
       "2005-02        814\n",
       "2005-03        801\n",
       "2005-04        801\n",
       "2005-05        801\n",
       "2005-06        801\n",
       "2005-07        723\n",
       "2005-08        723\n",
       "2005-09        723\n",
       "2005-10        723\n",
       "2005-11        723\n",
       "2005-12        723\n",
       "2006-01        667\n",
       "2006-02        667\n",
       "2006-03        667\n",
       "2006-04        667\n",
       "2006-05        667\n",
       "2006-06        667\n",
       "2006-07        640\n",
       "2006-08        640\n",
       "2006-09        640\n",
       "2006-10        640\n",
       "2006-11        640\n",
       "2006-12        640\n",
       "2007-01        620\n",
       "2007-02        620\n",
       "2007-03        620\n",
       "2007-04        620\n",
       "2007-05        620\n",
       "2007-06        620\n",
       "2007-07        613\n",
       "2007-08        613\n",
       "2007-09        613\n",
       "2007-10        613\n",
       "2007-11        613\n",
       "2007-12        613\n",
       "2008-01        607\n",
       "2008-02        607\n",
       "2008-03        607\n",
       "2008-04        607\n",
       "2008-05        607\n",
       "2008-06        607\n",
       "2008-07        598\n",
       "2008-08        598\n",
       "2008-09        598\n",
       "2008-10        598\n",
       "2008-11        598\n",
       "2008-12        598\n",
       "2009-01        587\n",
       "2009-02        587\n",
       "2009-03        587\n",
       "2009-04        587\n",
       "2009-05        587\n",
       "2009-06        587\n",
       "2009-07        580\n",
       "2009-08        580\n",
       "2009-09        580\n",
       "2009-10        580\n",
       "2009-11        580\n",
       "2009-12        580\n",
       "2010-01        579\n",
       "2010-02        579\n",
       "2010-03        349\n",
       "2010-04        349\n",
       "2010-05        349\n",
       "2010-06        349\n",
       "2010-07        308\n",
       "2010-08        308\n",
       "2010-09        308\n",
       "2010-10        308\n",
       "2010-11        308\n",
       "2010-12        308\n",
       "2011-01        275\n",
       "2011-02        275\n",
       "2011-03        275\n",
       "2011-04        275\n",
       "2011-05        275\n",
       "2011-06        275\n",
       "2011-07        251\n",
       "2011-08        251\n",
       "2011-09        251\n",
       "2011-10        251\n",
       "2011-11        251\n",
       "2011-12        251\n",
       "2012-01        224\n",
       "2012-02        224\n",
       "2012-03        224\n",
       "2012-04        224\n",
       "2012-05        224\n",
       "2012-06        224\n",
       "2012-07        206\n",
       "2012-08        206\n",
       "2012-09        206\n",
       "2012-10        206\n",
       "2012-11        206\n",
       "2012-12        206\n",
       "2013-01        151\n",
       "2013-02        151\n",
       "2013-03        151\n",
       "2013-04        151\n",
       "2013-05        151\n",
       "2013-06        151\n",
       "2013-07        109\n",
       "2013-08        109\n",
       "2013-09        109\n",
       "2013-10        109\n",
       "2013-11        109\n",
       "2013-12        109\n",
       "2014-01         56\n",
       "2014-02         56\n",
       "2014-03         56\n",
       "2014-04         56\n",
       "2014-05         56\n",
       "2014-06         56\n",
       "2014-07          0\n",
       "2014-08          0\n",
       "2014-09          0\n",
       "2014-10          0\n",
       "2014-11          0\n",
       "2014-12          0\n",
       "2015-01          0\n",
       "2015-02          0\n",
       "2015-03          0\n",
       "2015-04          0\n",
       "2015-05          0\n",
       "2015-06          0\n",
       "2015-07          0\n",
       "2015-08          0\n",
       "2015-09          0\n",
       "2015-10          0\n",
       "2015-11          0\n",
       "2015-12          0\n",
       "2016-01          0\n",
       "2016-02          0\n",
       "2016-03          0\n",
       "2016-04          0\n",
       "2016-05          0\n",
       "2016-06          0\n",
       "2016-07          0\n",
       "2016-08          0\n",
       "2016-09          0\n",
       "2016-10          0\n",
       "2016-11          0\n",
       "2016-12          0\n",
       "2017-01          0\n",
       "2017-02          0\n",
       "2017-03          0\n",
       "2017-04          0\n",
       "2017-05          0\n",
       "2017-06          0\n",
       "2017-07          0\n",
       "2017-08          0\n",
       "2017-09          0\n",
       "2017-10          0\n",
       "2017-11          0\n",
       "2017-12          0\n",
       "2018-01          0\n",
       "2018-02          0\n",
       "2018-03          0\n",
       "2018-04          0\n",
       "dtype: int64"
      ]
     },
     "execution_count": 22,
     "metadata": {},
     "output_type": "execute_result"
    }
   ],
   "source": [
    "df.isnull().sum()"
   ]
  },
  {
   "cell_type": "markdown",
   "metadata": {},
   "source": [
    "### Analysis"
   ]
  },
  {
   "cell_type": "markdown",
   "metadata": {},
   "source": [
    "There are many Null Values. \n",
    "- For categorical data, 7% of Metro are null (1043 of 14,723).\n",
    "- Dates from 1996 - mid 2003, also have 7% null values.\n",
    "- Then it starts to get better. 6% null and decreasing."
   ]
  },
  {
   "cell_type": "markdown",
   "metadata": {},
   "source": [
    "What is my decision on null values?\n",
    "- keep?\n",
    "- delete?\n",
    "- change (mean)?"
   ]
  },
  {
   "cell_type": "code",
   "execution_count": null,
   "metadata": {},
   "outputs": [],
   "source": []
  },
  {
   "cell_type": "markdown",
   "metadata": {},
   "source": [
    "## Analysis of Categories"
   ]
  },
  {
   "cell_type": "code",
   "execution_count": 8,
   "metadata": {
    "ExecuteTime": {
     "end_time": "2022-04-29T15:20:47.534123Z",
     "start_time": "2022-04-29T15:20:47.527956Z"
    }
   },
   "outputs": [
    {
     "data": {
      "text/html": [
       "<div>\n",
       "<style scoped>\n",
       "    .dataframe tbody tr th:only-of-type {\n",
       "        vertical-align: middle;\n",
       "    }\n",
       "\n",
       "    .dataframe tbody tr th {\n",
       "        vertical-align: top;\n",
       "    }\n",
       "\n",
       "    .dataframe thead th {\n",
       "        text-align: right;\n",
       "    }\n",
       "</style>\n",
       "<table border=\"1\" class=\"dataframe\">\n",
       "  <thead>\n",
       "    <tr style=\"text-align: right;\">\n",
       "      <th></th>\n",
       "      <th>RegionID</th>\n",
       "      <th>RegionName</th>\n",
       "      <th>City</th>\n",
       "      <th>State</th>\n",
       "      <th>Metro</th>\n",
       "      <th>CountyName</th>\n",
       "      <th>SizeRank</th>\n",
       "    </tr>\n",
       "  </thead>\n",
       "  <tbody>\n",
       "    <tr>\n",
       "      <th>0</th>\n",
       "      <td>84654</td>\n",
       "      <td>60657</td>\n",
       "      <td>Chicago</td>\n",
       "      <td>IL</td>\n",
       "      <td>Chicago</td>\n",
       "      <td>Cook</td>\n",
       "      <td>1</td>\n",
       "    </tr>\n",
       "    <tr>\n",
       "      <th>1</th>\n",
       "      <td>90668</td>\n",
       "      <td>75070</td>\n",
       "      <td>McKinney</td>\n",
       "      <td>TX</td>\n",
       "      <td>Dallas-Fort Worth</td>\n",
       "      <td>Collin</td>\n",
       "      <td>2</td>\n",
       "    </tr>\n",
       "    <tr>\n",
       "      <th>2</th>\n",
       "      <td>91982</td>\n",
       "      <td>77494</td>\n",
       "      <td>Katy</td>\n",
       "      <td>TX</td>\n",
       "      <td>Houston</td>\n",
       "      <td>Harris</td>\n",
       "      <td>3</td>\n",
       "    </tr>\n",
       "    <tr>\n",
       "      <th>3</th>\n",
       "      <td>84616</td>\n",
       "      <td>60614</td>\n",
       "      <td>Chicago</td>\n",
       "      <td>IL</td>\n",
       "      <td>Chicago</td>\n",
       "      <td>Cook</td>\n",
       "      <td>4</td>\n",
       "    </tr>\n",
       "    <tr>\n",
       "      <th>4</th>\n",
       "      <td>93144</td>\n",
       "      <td>79936</td>\n",
       "      <td>El Paso</td>\n",
       "      <td>TX</td>\n",
       "      <td>El Paso</td>\n",
       "      <td>El Paso</td>\n",
       "      <td>5</td>\n",
       "    </tr>\n",
       "  </tbody>\n",
       "</table>\n",
       "</div>"
      ],
      "text/plain": [
       "   RegionID  RegionName      City State              Metro CountyName  \\\n",
       "0     84654       60657   Chicago    IL            Chicago       Cook   \n",
       "1     90668       75070  McKinney    TX  Dallas-Fort Worth     Collin   \n",
       "2     91982       77494      Katy    TX            Houston     Harris   \n",
       "3     84616       60614   Chicago    IL            Chicago       Cook   \n",
       "4     93144       79936   El Paso    TX            El Paso    El Paso   \n",
       "\n",
       "   SizeRank  \n",
       "0         1  \n",
       "1         2  \n",
       "2         3  \n",
       "3         4  \n",
       "4         5  "
      ]
     },
     "execution_count": 8,
     "metadata": {},
     "output_type": "execute_result"
    }
   ],
   "source": [
    "cat_df = df.iloc[:,0:7]\n",
    "cat_df.head()"
   ]
  },
  {
   "cell_type": "code",
   "execution_count": 54,
   "metadata": {
    "ExecuteTime": {
     "end_time": "2022-04-29T17:02:08.319179Z",
     "start_time": "2022-04-29T17:02:08.220578Z"
    }
   },
   "outputs": [
    {
     "name": "stdout",
     "output_type": "stream",
     "text": [
      "<class 'pandas.core.frame.DataFrame'>\n",
      "RangeIndex: 14723 entries, 0 to 14722\n",
      "Data columns (total 7 columns):\n",
      " #   Column      Non-Null Count  Dtype   \n",
      "---  ------      --------------  -----   \n",
      " 0   RegionID    14723 non-null  category\n",
      " 1   RegionName  14723 non-null  category\n",
      " 2   City        14723 non-null  category\n",
      " 3   State       14723 non-null  category\n",
      " 4   Metro       13680 non-null  category\n",
      " 5   CountyName  14723 non-null  category\n",
      " 6   SizeRank    14723 non-null  category\n",
      "dtypes: category(7)\n",
      "memory usage: 2.8 MB\n"
     ]
    }
   ],
   "source": [
    "cat_df = cat_df.astype('category')\n",
    "cat_df.info()"
   ]
  },
  {
   "cell_type": "code",
   "execution_count": 55,
   "metadata": {
    "ExecuteTime": {
     "end_time": "2022-04-29T17:02:17.759233Z",
     "start_time": "2022-04-29T17:02:17.671372Z"
    }
   },
   "outputs": [
    {
     "name": "stdout",
     "output_type": "stream",
     "text": [
      "<class 'pandas.core.frame.DataFrame'>\n",
      "RangeIndex: 14723 entries, 0 to 14722\n",
      "Data columns (total 7 columns):\n",
      " #   Column      Non-Null Count  Dtype   \n",
      "---  ------      --------------  -----   \n",
      " 0   RegionID    14723 non-null  category\n",
      " 1   RegionName  14723 non-null  category\n",
      " 2   City        14723 non-null  category\n",
      " 3   State       14723 non-null  category\n",
      " 4   Metro       13680 non-null  category\n",
      " 5   CountyName  14723 non-null  category\n",
      " 6   SizeRank    14723 non-null  category\n",
      "dtypes: category(7)\n",
      "memory usage: 2.8 MB\n"
     ]
    }
   ],
   "source": [
    "cat_df.info()"
   ]
  },
  {
   "cell_type": "code",
   "execution_count": 78,
   "metadata": {
    "ExecuteTime": {
     "end_time": "2022-04-29T17:20:03.771678Z",
     "start_time": "2022-04-29T17:20:03.742627Z"
    }
   },
   "outputs": [
    {
     "name": "stdout",
     "output_type": "stream",
     "text": [
      "RegionID unique values: 14723\n",
      "RegionName unique values: 14723\n",
      "City unique values: 7554\n",
      "State unique values: 51\n",
      "Metro unique values: 701\n",
      "CountyName unique values: 1212\n",
      "SizeRank unique values: 14723\n"
     ]
    }
   ],
   "source": [
    "print(\"RegionID unique values:\", cat_df['RegionID'].nunique())\n",
    "print(\"RegionName unique values:\", cat_df['RegionName'].nunique())\n",
    "print(\"City unique values:\", cat_df['City'].nunique())\n",
    "print(\"State unique values:\", cat_df['State'].nunique())\n",
    "print(\"Metro unique values:\", cat_df['Metro'].nunique())\n",
    "print(\"CountyName unique values:\", cat_df['CountyName'].nunique())\n",
    "print(\"SizeRank unique values:\", cat_df['SizeRank'].nunique())"
   ]
  },
  {
   "cell_type": "code",
   "execution_count": 87,
   "metadata": {
    "ExecuteTime": {
     "end_time": "2022-04-29T17:31:07.660683Z",
     "start_time": "2022-04-29T17:31:07.629814Z"
    }
   },
   "outputs": [
    {
     "data": {
      "text/html": [
       "<div>\n",
       "<style scoped>\n",
       "    .dataframe tbody tr th:only-of-type {\n",
       "        vertical-align: middle;\n",
       "    }\n",
       "\n",
       "    .dataframe tbody tr th {\n",
       "        vertical-align: top;\n",
       "    }\n",
       "\n",
       "    .dataframe thead th {\n",
       "        text-align: right;\n",
       "    }\n",
       "</style>\n",
       "<table border=\"1\" class=\"dataframe\">\n",
       "  <thead>\n",
       "    <tr style=\"text-align: right;\">\n",
       "      <th></th>\n",
       "      <th>RegionID</th>\n",
       "      <th>RegionName</th>\n",
       "      <th>City</th>\n",
       "      <th>State</th>\n",
       "      <th>Metro</th>\n",
       "      <th>CountyName</th>\n",
       "      <th>SizeRank</th>\n",
       "    </tr>\n",
       "  </thead>\n",
       "  <tbody>\n",
       "    <tr>\n",
       "      <th>5850</th>\n",
       "      <td>58196</td>\n",
       "      <td>1001</td>\n",
       "      <td>Agawam</td>\n",
       "      <td>MA</td>\n",
       "      <td>Springfield</td>\n",
       "      <td>Hampden</td>\n",
       "      <td>5851</td>\n",
       "    </tr>\n",
       "    <tr>\n",
       "      <th>4199</th>\n",
       "      <td>58197</td>\n",
       "      <td>1002</td>\n",
       "      <td>Amherst</td>\n",
       "      <td>MA</td>\n",
       "      <td>Springfield</td>\n",
       "      <td>Hampshire</td>\n",
       "      <td>4200</td>\n",
       "    </tr>\n",
       "    <tr>\n",
       "      <th>11213</th>\n",
       "      <td>58200</td>\n",
       "      <td>1005</td>\n",
       "      <td>Barre</td>\n",
       "      <td>MA</td>\n",
       "      <td>Worcester</td>\n",
       "      <td>Worcester</td>\n",
       "      <td>11214</td>\n",
       "    </tr>\n",
       "    <tr>\n",
       "      <th>6850</th>\n",
       "      <td>58201</td>\n",
       "      <td>1007</td>\n",
       "      <td>Belchertown</td>\n",
       "      <td>MA</td>\n",
       "      <td>Springfield</td>\n",
       "      <td>Hampshire</td>\n",
       "      <td>6851</td>\n",
       "    </tr>\n",
       "    <tr>\n",
       "      <th>14547</th>\n",
       "      <td>58202</td>\n",
       "      <td>1008</td>\n",
       "      <td>Blandford</td>\n",
       "      <td>MA</td>\n",
       "      <td>Springfield</td>\n",
       "      <td>Hampden</td>\n",
       "      <td>14548</td>\n",
       "    </tr>\n",
       "  </tbody>\n",
       "</table>\n",
       "</div>"
      ],
      "text/plain": [
       "      RegionID RegionName         City State        Metro CountyName SizeRank\n",
       "5850     58196       1001       Agawam    MA  Springfield    Hampden     5851\n",
       "4199     58197       1002      Amherst    MA  Springfield  Hampshire     4200\n",
       "11213    58200       1005        Barre    MA    Worcester  Worcester    11214\n",
       "6850     58201       1007  Belchertown    MA  Springfield  Hampshire     6851\n",
       "14547    58202       1008    Blandford    MA  Springfield    Hampden    14548"
      ]
     },
     "execution_count": 87,
     "metadata": {},
     "output_type": "execute_result"
    }
   ],
   "source": [
    "cat_df.sort_values(by = ['RegionName'], ascending = True).head()"
   ]
  },
  {
   "cell_type": "markdown",
   "metadata": {},
   "source": [
    "A google search shows that RegionName is the ZipCode for each Region. However, upon sorting, I discovered that any ZipCode beginning with a 0 was ignoring it and displaying as a 4 digit number. I will use the .str().zfill() method to ensure that all RegionNames are displaying the as 5 digits."
   ]
  },
  {
   "cell_type": "code",
   "execution_count": 90,
   "metadata": {
    "ExecuteTime": {
     "end_time": "2022-04-29T17:32:16.022616Z",
     "start_time": "2022-04-29T17:32:15.985435Z"
    }
   },
   "outputs": [],
   "source": [
    "cat_df['RegionName'] = cat_df['RegionName'].astype(str).str.zfill(5)"
   ]
  },
  {
   "cell_type": "code",
   "execution_count": 95,
   "metadata": {
    "ExecuteTime": {
     "end_time": "2022-04-29T17:38:36.903355Z",
     "start_time": "2022-04-29T17:38:36.866022Z"
    }
   },
   "outputs": [
    {
     "data": {
      "text/html": [
       "<div>\n",
       "<style scoped>\n",
       "    .dataframe tbody tr th:only-of-type {\n",
       "        vertical-align: middle;\n",
       "    }\n",
       "\n",
       "    .dataframe tbody tr th {\n",
       "        vertical-align: top;\n",
       "    }\n",
       "\n",
       "    .dataframe thead th {\n",
       "        text-align: right;\n",
       "    }\n",
       "</style>\n",
       "<table border=\"1\" class=\"dataframe\">\n",
       "  <thead>\n",
       "    <tr style=\"text-align: right;\">\n",
       "      <th></th>\n",
       "      <th>RegionID</th>\n",
       "      <th>RegionName</th>\n",
       "      <th>City</th>\n",
       "      <th>State</th>\n",
       "      <th>Metro</th>\n",
       "      <th>CountyName</th>\n",
       "      <th>SizeRank</th>\n",
       "    </tr>\n",
       "  </thead>\n",
       "  <tbody>\n",
       "    <tr>\n",
       "      <th>5850</th>\n",
       "      <td>58196</td>\n",
       "      <td>01001</td>\n",
       "      <td>Agawam</td>\n",
       "      <td>MA</td>\n",
       "      <td>Springfield</td>\n",
       "      <td>Hampden</td>\n",
       "      <td>5851</td>\n",
       "    </tr>\n",
       "    <tr>\n",
       "      <th>4199</th>\n",
       "      <td>58197</td>\n",
       "      <td>01002</td>\n",
       "      <td>Amherst</td>\n",
       "      <td>MA</td>\n",
       "      <td>Springfield</td>\n",
       "      <td>Hampshire</td>\n",
       "      <td>4200</td>\n",
       "    </tr>\n",
       "    <tr>\n",
       "      <th>11213</th>\n",
       "      <td>58200</td>\n",
       "      <td>01005</td>\n",
       "      <td>Barre</td>\n",
       "      <td>MA</td>\n",
       "      <td>Worcester</td>\n",
       "      <td>Worcester</td>\n",
       "      <td>11214</td>\n",
       "    </tr>\n",
       "    <tr>\n",
       "      <th>6850</th>\n",
       "      <td>58201</td>\n",
       "      <td>01007</td>\n",
       "      <td>Belchertown</td>\n",
       "      <td>MA</td>\n",
       "      <td>Springfield</td>\n",
       "      <td>Hampshire</td>\n",
       "      <td>6851</td>\n",
       "    </tr>\n",
       "    <tr>\n",
       "      <th>14547</th>\n",
       "      <td>58202</td>\n",
       "      <td>01008</td>\n",
       "      <td>Blandford</td>\n",
       "      <td>MA</td>\n",
       "      <td>Springfield</td>\n",
       "      <td>Hampden</td>\n",
       "      <td>14548</td>\n",
       "    </tr>\n",
       "  </tbody>\n",
       "</table>\n",
       "</div>"
      ],
      "text/plain": [
       "      RegionID RegionName         City State        Metro CountyName SizeRank\n",
       "5850     58196      01001       Agawam    MA  Springfield    Hampden     5851\n",
       "4199     58197      01002      Amherst    MA  Springfield  Hampshire     4200\n",
       "11213    58200      01005        Barre    MA    Worcester  Worcester    11214\n",
       "6850     58201      01007  Belchertown    MA  Springfield  Hampshire     6851\n",
       "14547    58202      01008    Blandford    MA  Springfield    Hampden    14548"
      ]
     },
     "execution_count": 95,
     "metadata": {},
     "output_type": "execute_result"
    }
   ],
   "source": [
    "cat_df.sort_values(by = ['RegionName'], ascending = True).head()"
   ]
  },
  {
   "cell_type": "markdown",
   "metadata": {},
   "source": [
    "That seems to have fixed it!"
   ]
  },
  {
   "cell_type": "markdown",
   "metadata": {},
   "source": [
    "## Analysis of Data Values"
   ]
  },
  {
   "cell_type": "code",
   "execution_count": 116,
   "metadata": {
    "ExecuteTime": {
     "end_time": "2022-04-29T18:04:15.107942Z",
     "start_time": "2022-04-29T18:04:15.092160Z"
    }
   },
   "outputs": [],
   "source": [
    "df['RegionID_copy'] = df['RegionID']"
   ]
  },
  {
   "cell_type": "code",
   "execution_count": 117,
   "metadata": {
    "ExecuteTime": {
     "end_time": "2022-04-29T18:04:22.989518Z",
     "start_time": "2022-04-29T18:04:22.959517Z"
    }
   },
   "outputs": [
    {
     "data": {
      "text/html": [
       "<div>\n",
       "<style scoped>\n",
       "    .dataframe tbody tr th:only-of-type {\n",
       "        vertical-align: middle;\n",
       "    }\n",
       "\n",
       "    .dataframe tbody tr th {\n",
       "        vertical-align: top;\n",
       "    }\n",
       "\n",
       "    .dataframe thead th {\n",
       "        text-align: right;\n",
       "    }\n",
       "</style>\n",
       "<table border=\"1\" class=\"dataframe\">\n",
       "  <thead>\n",
       "    <tr style=\"text-align: right;\">\n",
       "      <th></th>\n",
       "      <th>RegionID</th>\n",
       "      <th>RegionName</th>\n",
       "      <th>City</th>\n",
       "      <th>State</th>\n",
       "      <th>Metro</th>\n",
       "      <th>CountyName</th>\n",
       "      <th>SizeRank</th>\n",
       "      <th>1996-04</th>\n",
       "      <th>1996-05</th>\n",
       "      <th>1996-06</th>\n",
       "      <th>...</th>\n",
       "      <th>2017-08</th>\n",
       "      <th>2017-09</th>\n",
       "      <th>2017-10</th>\n",
       "      <th>2017-11</th>\n",
       "      <th>2017-12</th>\n",
       "      <th>2018-01</th>\n",
       "      <th>2018-02</th>\n",
       "      <th>2018-03</th>\n",
       "      <th>2018-04</th>\n",
       "      <th>RegionID_copy</th>\n",
       "    </tr>\n",
       "  </thead>\n",
       "  <tbody>\n",
       "    <tr>\n",
       "      <th>0</th>\n",
       "      <td>84654</td>\n",
       "      <td>60657</td>\n",
       "      <td>Chicago</td>\n",
       "      <td>IL</td>\n",
       "      <td>Chicago</td>\n",
       "      <td>Cook</td>\n",
       "      <td>1</td>\n",
       "      <td>334200.0</td>\n",
       "      <td>335400.0</td>\n",
       "      <td>336500.0</td>\n",
       "      <td>...</td>\n",
       "      <td>1007500</td>\n",
       "      <td>1007800</td>\n",
       "      <td>1009600</td>\n",
       "      <td>1013300</td>\n",
       "      <td>1018700</td>\n",
       "      <td>1024400</td>\n",
       "      <td>1030700</td>\n",
       "      <td>1033800</td>\n",
       "      <td>1030600</td>\n",
       "      <td>84654</td>\n",
       "    </tr>\n",
       "    <tr>\n",
       "      <th>1</th>\n",
       "      <td>90668</td>\n",
       "      <td>75070</td>\n",
       "      <td>McKinney</td>\n",
       "      <td>TX</td>\n",
       "      <td>Dallas-Fort Worth</td>\n",
       "      <td>Collin</td>\n",
       "      <td>2</td>\n",
       "      <td>235700.0</td>\n",
       "      <td>236900.0</td>\n",
       "      <td>236700.0</td>\n",
       "      <td>...</td>\n",
       "      <td>310000</td>\n",
       "      <td>312500</td>\n",
       "      <td>314100</td>\n",
       "      <td>315000</td>\n",
       "      <td>316600</td>\n",
       "      <td>318100</td>\n",
       "      <td>319600</td>\n",
       "      <td>321100</td>\n",
       "      <td>321800</td>\n",
       "      <td>90668</td>\n",
       "    </tr>\n",
       "    <tr>\n",
       "      <th>2</th>\n",
       "      <td>91982</td>\n",
       "      <td>77494</td>\n",
       "      <td>Katy</td>\n",
       "      <td>TX</td>\n",
       "      <td>Houston</td>\n",
       "      <td>Harris</td>\n",
       "      <td>3</td>\n",
       "      <td>210400.0</td>\n",
       "      <td>212200.0</td>\n",
       "      <td>212200.0</td>\n",
       "      <td>...</td>\n",
       "      <td>320600</td>\n",
       "      <td>320200</td>\n",
       "      <td>320400</td>\n",
       "      <td>320800</td>\n",
       "      <td>321200</td>\n",
       "      <td>321200</td>\n",
       "      <td>323000</td>\n",
       "      <td>326900</td>\n",
       "      <td>329900</td>\n",
       "      <td>91982</td>\n",
       "    </tr>\n",
       "    <tr>\n",
       "      <th>3</th>\n",
       "      <td>84616</td>\n",
       "      <td>60614</td>\n",
       "      <td>Chicago</td>\n",
       "      <td>IL</td>\n",
       "      <td>Chicago</td>\n",
       "      <td>Cook</td>\n",
       "      <td>4</td>\n",
       "      <td>498100.0</td>\n",
       "      <td>500900.0</td>\n",
       "      <td>503100.0</td>\n",
       "      <td>...</td>\n",
       "      <td>1287700</td>\n",
       "      <td>1287400</td>\n",
       "      <td>1291500</td>\n",
       "      <td>1296600</td>\n",
       "      <td>1299000</td>\n",
       "      <td>1302700</td>\n",
       "      <td>1306400</td>\n",
       "      <td>1308500</td>\n",
       "      <td>1307000</td>\n",
       "      <td>84616</td>\n",
       "    </tr>\n",
       "    <tr>\n",
       "      <th>4</th>\n",
       "      <td>93144</td>\n",
       "      <td>79936</td>\n",
       "      <td>El Paso</td>\n",
       "      <td>TX</td>\n",
       "      <td>El Paso</td>\n",
       "      <td>El Paso</td>\n",
       "      <td>5</td>\n",
       "      <td>77300.0</td>\n",
       "      <td>77300.0</td>\n",
       "      <td>77300.0</td>\n",
       "      <td>...</td>\n",
       "      <td>119400</td>\n",
       "      <td>120000</td>\n",
       "      <td>120300</td>\n",
       "      <td>120300</td>\n",
       "      <td>120300</td>\n",
       "      <td>120300</td>\n",
       "      <td>120500</td>\n",
       "      <td>121000</td>\n",
       "      <td>121500</td>\n",
       "      <td>93144</td>\n",
       "    </tr>\n",
       "  </tbody>\n",
       "</table>\n",
       "<p>5 rows × 273 columns</p>\n",
       "</div>"
      ],
      "text/plain": [
       "   RegionID RegionName      City State              Metro CountyName  \\\n",
       "0     84654      60657   Chicago    IL            Chicago       Cook   \n",
       "1     90668      75070  McKinney    TX  Dallas-Fort Worth     Collin   \n",
       "2     91982      77494      Katy    TX            Houston     Harris   \n",
       "3     84616      60614   Chicago    IL            Chicago       Cook   \n",
       "4     93144      79936   El Paso    TX            El Paso    El Paso   \n",
       "\n",
       "   SizeRank   1996-04   1996-05   1996-06  ...  2017-08  2017-09  2017-10  \\\n",
       "0         1  334200.0  335400.0  336500.0  ...  1007500  1007800  1009600   \n",
       "1         2  235700.0  236900.0  236700.0  ...   310000   312500   314100   \n",
       "2         3  210400.0  212200.0  212200.0  ...   320600   320200   320400   \n",
       "3         4  498100.0  500900.0  503100.0  ...  1287700  1287400  1291500   \n",
       "4         5   77300.0   77300.0   77300.0  ...   119400   120000   120300   \n",
       "\n",
       "   2017-11  2017-12  2018-01  2018-02  2018-03  2018-04  RegionID_copy  \n",
       "0  1013300  1018700  1024400  1030700  1033800  1030600          84654  \n",
       "1   315000   316600   318100   319600   321100   321800          90668  \n",
       "2   320800   321200   321200   323000   326900   329900          91982  \n",
       "3  1296600  1299000  1302700  1306400  1308500  1307000          84616  \n",
       "4   120300   120300   120300   120500   121000   121500          93144  \n",
       "\n",
       "[5 rows x 273 columns]"
      ]
     },
     "execution_count": 117,
     "metadata": {},
     "output_type": "execute_result"
    }
   ],
   "source": [
    "df.head()"
   ]
  },
  {
   "cell_type": "code",
   "execution_count": 118,
   "metadata": {
    "ExecuteTime": {
     "end_time": "2022-04-29T18:04:58.403114Z",
     "start_time": "2022-04-29T18:04:58.339579Z"
    }
   },
   "outputs": [
    {
     "data": {
      "text/html": [
       "<div>\n",
       "<style scoped>\n",
       "    .dataframe tbody tr th:only-of-type {\n",
       "        vertical-align: middle;\n",
       "    }\n",
       "\n",
       "    .dataframe tbody tr th {\n",
       "        vertical-align: top;\n",
       "    }\n",
       "\n",
       "    .dataframe thead th {\n",
       "        text-align: right;\n",
       "    }\n",
       "</style>\n",
       "<table border=\"1\" class=\"dataframe\">\n",
       "  <thead>\n",
       "    <tr style=\"text-align: right;\">\n",
       "      <th></th>\n",
       "      <th>1996-04</th>\n",
       "      <th>1996-05</th>\n",
       "      <th>1996-06</th>\n",
       "      <th>1996-07</th>\n",
       "      <th>1996-08</th>\n",
       "      <th>1996-09</th>\n",
       "      <th>1996-10</th>\n",
       "      <th>1996-11</th>\n",
       "      <th>1996-12</th>\n",
       "      <th>1997-01</th>\n",
       "      <th>...</th>\n",
       "      <th>2017-08</th>\n",
       "      <th>2017-09</th>\n",
       "      <th>2017-10</th>\n",
       "      <th>2017-11</th>\n",
       "      <th>2017-12</th>\n",
       "      <th>2018-01</th>\n",
       "      <th>2018-02</th>\n",
       "      <th>2018-03</th>\n",
       "      <th>2018-04</th>\n",
       "      <th>RegionID_copy</th>\n",
       "    </tr>\n",
       "  </thead>\n",
       "  <tbody>\n",
       "    <tr>\n",
       "      <th>0</th>\n",
       "      <td>334200.0</td>\n",
       "      <td>335400.0</td>\n",
       "      <td>336500.0</td>\n",
       "      <td>337600.0</td>\n",
       "      <td>338500.0</td>\n",
       "      <td>339500.0</td>\n",
       "      <td>340400.0</td>\n",
       "      <td>341300.0</td>\n",
       "      <td>342600.0</td>\n",
       "      <td>344400.0</td>\n",
       "      <td>...</td>\n",
       "      <td>1007500</td>\n",
       "      <td>1007800</td>\n",
       "      <td>1009600</td>\n",
       "      <td>1013300</td>\n",
       "      <td>1018700</td>\n",
       "      <td>1024400</td>\n",
       "      <td>1030700</td>\n",
       "      <td>1033800</td>\n",
       "      <td>1030600</td>\n",
       "      <td>84654</td>\n",
       "    </tr>\n",
       "    <tr>\n",
       "      <th>1</th>\n",
       "      <td>235700.0</td>\n",
       "      <td>236900.0</td>\n",
       "      <td>236700.0</td>\n",
       "      <td>235400.0</td>\n",
       "      <td>233300.0</td>\n",
       "      <td>230600.0</td>\n",
       "      <td>227300.0</td>\n",
       "      <td>223400.0</td>\n",
       "      <td>219600.0</td>\n",
       "      <td>215800.0</td>\n",
       "      <td>...</td>\n",
       "      <td>310000</td>\n",
       "      <td>312500</td>\n",
       "      <td>314100</td>\n",
       "      <td>315000</td>\n",
       "      <td>316600</td>\n",
       "      <td>318100</td>\n",
       "      <td>319600</td>\n",
       "      <td>321100</td>\n",
       "      <td>321800</td>\n",
       "      <td>90668</td>\n",
       "    </tr>\n",
       "    <tr>\n",
       "      <th>2</th>\n",
       "      <td>210400.0</td>\n",
       "      <td>212200.0</td>\n",
       "      <td>212200.0</td>\n",
       "      <td>210700.0</td>\n",
       "      <td>208300.0</td>\n",
       "      <td>205500.0</td>\n",
       "      <td>202500.0</td>\n",
       "      <td>199800.0</td>\n",
       "      <td>198300.0</td>\n",
       "      <td>197300.0</td>\n",
       "      <td>...</td>\n",
       "      <td>320600</td>\n",
       "      <td>320200</td>\n",
       "      <td>320400</td>\n",
       "      <td>320800</td>\n",
       "      <td>321200</td>\n",
       "      <td>321200</td>\n",
       "      <td>323000</td>\n",
       "      <td>326900</td>\n",
       "      <td>329900</td>\n",
       "      <td>91982</td>\n",
       "    </tr>\n",
       "    <tr>\n",
       "      <th>3</th>\n",
       "      <td>498100.0</td>\n",
       "      <td>500900.0</td>\n",
       "      <td>503100.0</td>\n",
       "      <td>504600.0</td>\n",
       "      <td>505500.0</td>\n",
       "      <td>505700.0</td>\n",
       "      <td>505300.0</td>\n",
       "      <td>504200.0</td>\n",
       "      <td>503600.0</td>\n",
       "      <td>503400.0</td>\n",
       "      <td>...</td>\n",
       "      <td>1287700</td>\n",
       "      <td>1287400</td>\n",
       "      <td>1291500</td>\n",
       "      <td>1296600</td>\n",
       "      <td>1299000</td>\n",
       "      <td>1302700</td>\n",
       "      <td>1306400</td>\n",
       "      <td>1308500</td>\n",
       "      <td>1307000</td>\n",
       "      <td>84616</td>\n",
       "    </tr>\n",
       "    <tr>\n",
       "      <th>4</th>\n",
       "      <td>77300.0</td>\n",
       "      <td>77300.0</td>\n",
       "      <td>77300.0</td>\n",
       "      <td>77300.0</td>\n",
       "      <td>77400.0</td>\n",
       "      <td>77500.0</td>\n",
       "      <td>77600.0</td>\n",
       "      <td>77700.0</td>\n",
       "      <td>77700.0</td>\n",
       "      <td>77800.0</td>\n",
       "      <td>...</td>\n",
       "      <td>119400</td>\n",
       "      <td>120000</td>\n",
       "      <td>120300</td>\n",
       "      <td>120300</td>\n",
       "      <td>120300</td>\n",
       "      <td>120300</td>\n",
       "      <td>120500</td>\n",
       "      <td>121000</td>\n",
       "      <td>121500</td>\n",
       "      <td>93144</td>\n",
       "    </tr>\n",
       "  </tbody>\n",
       "</table>\n",
       "<p>5 rows × 266 columns</p>\n",
       "</div>"
      ],
      "text/plain": [
       "    1996-04   1996-05   1996-06   1996-07   1996-08   1996-09   1996-10  \\\n",
       "0  334200.0  335400.0  336500.0  337600.0  338500.0  339500.0  340400.0   \n",
       "1  235700.0  236900.0  236700.0  235400.0  233300.0  230600.0  227300.0   \n",
       "2  210400.0  212200.0  212200.0  210700.0  208300.0  205500.0  202500.0   \n",
       "3  498100.0  500900.0  503100.0  504600.0  505500.0  505700.0  505300.0   \n",
       "4   77300.0   77300.0   77300.0   77300.0   77400.0   77500.0   77600.0   \n",
       "\n",
       "    1996-11   1996-12   1997-01  ...  2017-08  2017-09  2017-10  2017-11  \\\n",
       "0  341300.0  342600.0  344400.0  ...  1007500  1007800  1009600  1013300   \n",
       "1  223400.0  219600.0  215800.0  ...   310000   312500   314100   315000   \n",
       "2  199800.0  198300.0  197300.0  ...   320600   320200   320400   320800   \n",
       "3  504200.0  503600.0  503400.0  ...  1287700  1287400  1291500  1296600   \n",
       "4   77700.0   77700.0   77800.0  ...   119400   120000   120300   120300   \n",
       "\n",
       "   2017-12  2018-01  2018-02  2018-03  2018-04  RegionID_copy  \n",
       "0  1018700  1024400  1030700  1033800  1030600          84654  \n",
       "1   316600   318100   319600   321100   321800          90668  \n",
       "2   321200   321200   323000   326900   329900          91982  \n",
       "3  1299000  1302700  1306400  1308500  1307000          84616  \n",
       "4   120300   120300   120500   121000   121500          93144  \n",
       "\n",
       "[5 rows x 266 columns]"
      ]
     },
     "execution_count": 118,
     "metadata": {},
     "output_type": "execute_result"
    }
   ],
   "source": [
    "data_df = df.iloc[:, 7:]\n",
    "data_df.head()"
   ]
  },
  {
   "cell_type": "code",
   "execution_count": 119,
   "metadata": {
    "ExecuteTime": {
     "end_time": "2022-04-29T18:05:02.752016Z",
     "start_time": "2022-04-29T18:05:02.697857Z"
    }
   },
   "outputs": [
    {
     "ename": "ParserError",
     "evalue": "Unknown string format: RegionID_copy",
     "output_type": "error",
     "traceback": [
      "\u001b[0;31m---------------------------------------------------------------------------\u001b[0m",
      "\u001b[0;31mTypeError\u001b[0m                                 Traceback (most recent call last)",
      "\u001b[0;32m~/opt/anaconda3/envs/learn-env/lib/python3.8/site-packages/pandas/core/arrays/datetimes.py\u001b[0m in \u001b[0;36mobjects_to_datetime64ns\u001b[0;34m(data, dayfirst, yearfirst, utc, errors, require_iso8601, allow_object)\u001b[0m\n\u001b[1;32m   2053\u001b[0m         \u001b[0;32mtry\u001b[0m\u001b[0;34m:\u001b[0m\u001b[0;34m\u001b[0m\u001b[0;34m\u001b[0m\u001b[0m\n\u001b[0;32m-> 2054\u001b[0;31m             \u001b[0mvalues\u001b[0m\u001b[0;34m,\u001b[0m \u001b[0mtz_parsed\u001b[0m \u001b[0;34m=\u001b[0m \u001b[0mconversion\u001b[0m\u001b[0;34m.\u001b[0m\u001b[0mdatetime_to_datetime64\u001b[0m\u001b[0;34m(\u001b[0m\u001b[0mdata\u001b[0m\u001b[0;34m)\u001b[0m\u001b[0;34m\u001b[0m\u001b[0;34m\u001b[0m\u001b[0m\n\u001b[0m\u001b[1;32m   2055\u001b[0m             \u001b[0;31m# If tzaware, these values represent unix timestamps, so we\u001b[0m\u001b[0;34m\u001b[0m\u001b[0;34m\u001b[0m\u001b[0;34m\u001b[0m\u001b[0m\n",
      "\u001b[0;32mpandas/_libs/tslibs/conversion.pyx\u001b[0m in \u001b[0;36mpandas._libs.tslibs.conversion.datetime_to_datetime64\u001b[0;34m()\u001b[0m\n",
      "\u001b[0;31mTypeError\u001b[0m: Unrecognized value type: <class 'str'>",
      "\nDuring handling of the above exception, another exception occurred:\n",
      "\u001b[0;31mParserError\u001b[0m                               Traceback (most recent call last)",
      "\u001b[0;32m<ipython-input-119-1ccda289f685>\u001b[0m in \u001b[0;36m<module>\u001b[0;34m\u001b[0m\n\u001b[0;32m----> 1\u001b[0;31m \u001b[0mdata_df\u001b[0m\u001b[0;34m.\u001b[0m\u001b[0mcolumns\u001b[0m \u001b[0;34m=\u001b[0m \u001b[0mpd\u001b[0m\u001b[0;34m.\u001b[0m\u001b[0mto_datetime\u001b[0m\u001b[0;34m(\u001b[0m\u001b[0mdata_df\u001b[0m\u001b[0;34m.\u001b[0m\u001b[0mcolumns\u001b[0m\u001b[0;34m)\u001b[0m\u001b[0;34m\u001b[0m\u001b[0;34m\u001b[0m\u001b[0m\n\u001b[0m\u001b[1;32m      2\u001b[0m \u001b[0mdata_df\u001b[0m\u001b[0;34m.\u001b[0m\u001b[0mhead\u001b[0m\u001b[0;34m(\u001b[0m\u001b[0;34m)\u001b[0m\u001b[0;34m\u001b[0m\u001b[0;34m\u001b[0m\u001b[0m\n",
      "\u001b[0;32m~/opt/anaconda3/envs/learn-env/lib/python3.8/site-packages/pandas/core/tools/datetimes.py\u001b[0m in \u001b[0;36mto_datetime\u001b[0;34m(arg, errors, dayfirst, yearfirst, utc, format, exact, unit, infer_datetime_format, origin, cache)\u001b[0m\n\u001b[1;32m    810\u001b[0m             \u001b[0mresult\u001b[0m \u001b[0;34m=\u001b[0m \u001b[0m_convert_and_box_cache\u001b[0m\u001b[0;34m(\u001b[0m\u001b[0marg\u001b[0m\u001b[0;34m,\u001b[0m \u001b[0mcache_array\u001b[0m\u001b[0;34m,\u001b[0m \u001b[0mname\u001b[0m\u001b[0;34m=\u001b[0m\u001b[0marg\u001b[0m\u001b[0;34m.\u001b[0m\u001b[0mname\u001b[0m\u001b[0;34m)\u001b[0m\u001b[0;34m\u001b[0m\u001b[0;34m\u001b[0m\u001b[0m\n\u001b[1;32m    811\u001b[0m         \u001b[0;32melse\u001b[0m\u001b[0;34m:\u001b[0m\u001b[0;34m\u001b[0m\u001b[0;34m\u001b[0m\u001b[0m\n\u001b[0;32m--> 812\u001b[0;31m             \u001b[0mresult\u001b[0m \u001b[0;34m=\u001b[0m \u001b[0mconvert_listlike\u001b[0m\u001b[0;34m(\u001b[0m\u001b[0marg\u001b[0m\u001b[0;34m,\u001b[0m \u001b[0mformat\u001b[0m\u001b[0;34m,\u001b[0m \u001b[0mname\u001b[0m\u001b[0;34m=\u001b[0m\u001b[0marg\u001b[0m\u001b[0;34m.\u001b[0m\u001b[0mname\u001b[0m\u001b[0;34m)\u001b[0m\u001b[0;34m\u001b[0m\u001b[0;34m\u001b[0m\u001b[0m\n\u001b[0m\u001b[1;32m    813\u001b[0m     \u001b[0;32melif\u001b[0m \u001b[0mis_list_like\u001b[0m\u001b[0;34m(\u001b[0m\u001b[0marg\u001b[0m\u001b[0;34m)\u001b[0m\u001b[0;34m:\u001b[0m\u001b[0;34m\u001b[0m\u001b[0;34m\u001b[0m\u001b[0m\n\u001b[1;32m    814\u001b[0m         \u001b[0;32mtry\u001b[0m\u001b[0;34m:\u001b[0m\u001b[0;34m\u001b[0m\u001b[0;34m\u001b[0m\u001b[0m\n",
      "\u001b[0;32m~/opt/anaconda3/envs/learn-env/lib/python3.8/site-packages/pandas/core/tools/datetimes.py\u001b[0m in \u001b[0;36m_convert_listlike_datetimes\u001b[0;34m(arg, format, name, tz, unit, errors, infer_datetime_format, dayfirst, yearfirst, exact)\u001b[0m\n\u001b[1;32m    457\u001b[0m         \u001b[0;32massert\u001b[0m \u001b[0mformat\u001b[0m \u001b[0;32mis\u001b[0m \u001b[0;32mNone\u001b[0m \u001b[0;32mor\u001b[0m \u001b[0minfer_datetime_format\u001b[0m\u001b[0;34m\u001b[0m\u001b[0;34m\u001b[0m\u001b[0m\n\u001b[1;32m    458\u001b[0m         \u001b[0mutc\u001b[0m \u001b[0;34m=\u001b[0m \u001b[0mtz\u001b[0m \u001b[0;34m==\u001b[0m \u001b[0;34m\"utc\"\u001b[0m\u001b[0;34m\u001b[0m\u001b[0;34m\u001b[0m\u001b[0m\n\u001b[0;32m--> 459\u001b[0;31m         result, tz_parsed = objects_to_datetime64ns(\n\u001b[0m\u001b[1;32m    460\u001b[0m             \u001b[0marg\u001b[0m\u001b[0;34m,\u001b[0m\u001b[0;34m\u001b[0m\u001b[0;34m\u001b[0m\u001b[0m\n\u001b[1;32m    461\u001b[0m             \u001b[0mdayfirst\u001b[0m\u001b[0;34m=\u001b[0m\u001b[0mdayfirst\u001b[0m\u001b[0;34m,\u001b[0m\u001b[0;34m\u001b[0m\u001b[0;34m\u001b[0m\u001b[0m\n",
      "\u001b[0;32m~/opt/anaconda3/envs/learn-env/lib/python3.8/site-packages/pandas/core/arrays/datetimes.py\u001b[0m in \u001b[0;36mobjects_to_datetime64ns\u001b[0;34m(data, dayfirst, yearfirst, utc, errors, require_iso8601, allow_object)\u001b[0m\n\u001b[1;32m   2057\u001b[0m             \u001b[0;32mreturn\u001b[0m \u001b[0mvalues\u001b[0m\u001b[0;34m.\u001b[0m\u001b[0mview\u001b[0m\u001b[0;34m(\u001b[0m\u001b[0;34m\"i8\"\u001b[0m\u001b[0;34m)\u001b[0m\u001b[0;34m,\u001b[0m \u001b[0mtz_parsed\u001b[0m\u001b[0;34m\u001b[0m\u001b[0;34m\u001b[0m\u001b[0m\n\u001b[1;32m   2058\u001b[0m         \u001b[0;32mexcept\u001b[0m \u001b[0;34m(\u001b[0m\u001b[0mValueError\u001b[0m\u001b[0;34m,\u001b[0m \u001b[0mTypeError\u001b[0m\u001b[0;34m)\u001b[0m\u001b[0;34m:\u001b[0m\u001b[0;34m\u001b[0m\u001b[0;34m\u001b[0m\u001b[0m\n\u001b[0;32m-> 2059\u001b[0;31m             \u001b[0;32mraise\u001b[0m \u001b[0me\u001b[0m\u001b[0;34m\u001b[0m\u001b[0;34m\u001b[0m\u001b[0m\n\u001b[0m\u001b[1;32m   2060\u001b[0m \u001b[0;34m\u001b[0m\u001b[0m\n\u001b[1;32m   2061\u001b[0m     \u001b[0;32mif\u001b[0m \u001b[0mtz_parsed\u001b[0m \u001b[0;32mis\u001b[0m \u001b[0;32mnot\u001b[0m \u001b[0;32mNone\u001b[0m\u001b[0;34m:\u001b[0m\u001b[0;34m\u001b[0m\u001b[0;34m\u001b[0m\u001b[0m\n",
      "\u001b[0;32m~/opt/anaconda3/envs/learn-env/lib/python3.8/site-packages/pandas/core/arrays/datetimes.py\u001b[0m in \u001b[0;36mobjects_to_datetime64ns\u001b[0;34m(data, dayfirst, yearfirst, utc, errors, require_iso8601, allow_object)\u001b[0m\n\u001b[1;32m   2042\u001b[0m \u001b[0;34m\u001b[0m\u001b[0m\n\u001b[1;32m   2043\u001b[0m     \u001b[0;32mtry\u001b[0m\u001b[0;34m:\u001b[0m\u001b[0;34m\u001b[0m\u001b[0;34m\u001b[0m\u001b[0m\n\u001b[0;32m-> 2044\u001b[0;31m         result, tz_parsed = tslib.array_to_datetime(\n\u001b[0m\u001b[1;32m   2045\u001b[0m             \u001b[0mdata\u001b[0m\u001b[0;34m,\u001b[0m\u001b[0;34m\u001b[0m\u001b[0;34m\u001b[0m\u001b[0m\n\u001b[1;32m   2046\u001b[0m             \u001b[0merrors\u001b[0m\u001b[0;34m=\u001b[0m\u001b[0merrors\u001b[0m\u001b[0;34m,\u001b[0m\u001b[0;34m\u001b[0m\u001b[0;34m\u001b[0m\u001b[0m\n",
      "\u001b[0;32mpandas/_libs/tslib.pyx\u001b[0m in \u001b[0;36mpandas._libs.tslib.array_to_datetime\u001b[0;34m()\u001b[0m\n",
      "\u001b[0;32mpandas/_libs/tslib.pyx\u001b[0m in \u001b[0;36mpandas._libs.tslib.array_to_datetime\u001b[0;34m()\u001b[0m\n",
      "\u001b[0;32mpandas/_libs/tslib.pyx\u001b[0m in \u001b[0;36mpandas._libs.tslib.array_to_datetime_object\u001b[0;34m()\u001b[0m\n",
      "\u001b[0;32mpandas/_libs/tslib.pyx\u001b[0m in \u001b[0;36mpandas._libs.tslib.array_to_datetime_object\u001b[0;34m()\u001b[0m\n",
      "\u001b[0;32mpandas/_libs/tslibs/parsing.pyx\u001b[0m in \u001b[0;36mpandas._libs.tslibs.parsing.parse_datetime_string\u001b[0;34m()\u001b[0m\n",
      "\u001b[0;32m~/opt/anaconda3/envs/learn-env/lib/python3.8/site-packages/dateutil/parser/_parser.py\u001b[0m in \u001b[0;36mparse\u001b[0;34m(timestr, parserinfo, **kwargs)\u001b[0m\n\u001b[1;32m   1372\u001b[0m         \u001b[0;32mreturn\u001b[0m \u001b[0mparser\u001b[0m\u001b[0;34m(\u001b[0m\u001b[0mparserinfo\u001b[0m\u001b[0;34m)\u001b[0m\u001b[0;34m.\u001b[0m\u001b[0mparse\u001b[0m\u001b[0;34m(\u001b[0m\u001b[0mtimestr\u001b[0m\u001b[0;34m,\u001b[0m \u001b[0;34m**\u001b[0m\u001b[0mkwargs\u001b[0m\u001b[0;34m)\u001b[0m\u001b[0;34m\u001b[0m\u001b[0;34m\u001b[0m\u001b[0m\n\u001b[1;32m   1373\u001b[0m     \u001b[0;32melse\u001b[0m\u001b[0;34m:\u001b[0m\u001b[0;34m\u001b[0m\u001b[0;34m\u001b[0m\u001b[0m\n\u001b[0;32m-> 1374\u001b[0;31m         \u001b[0;32mreturn\u001b[0m \u001b[0mDEFAULTPARSER\u001b[0m\u001b[0;34m.\u001b[0m\u001b[0mparse\u001b[0m\u001b[0;34m(\u001b[0m\u001b[0mtimestr\u001b[0m\u001b[0;34m,\u001b[0m \u001b[0;34m**\u001b[0m\u001b[0mkwargs\u001b[0m\u001b[0;34m)\u001b[0m\u001b[0;34m\u001b[0m\u001b[0;34m\u001b[0m\u001b[0m\n\u001b[0m\u001b[1;32m   1375\u001b[0m \u001b[0;34m\u001b[0m\u001b[0m\n\u001b[1;32m   1376\u001b[0m \u001b[0;34m\u001b[0m\u001b[0m\n",
      "\u001b[0;32m~/opt/anaconda3/envs/learn-env/lib/python3.8/site-packages/dateutil/parser/_parser.py\u001b[0m in \u001b[0;36mparse\u001b[0;34m(self, timestr, default, ignoretz, tzinfos, **kwargs)\u001b[0m\n\u001b[1;32m    647\u001b[0m \u001b[0;34m\u001b[0m\u001b[0m\n\u001b[1;32m    648\u001b[0m         \u001b[0;32mif\u001b[0m \u001b[0mres\u001b[0m \u001b[0;32mis\u001b[0m \u001b[0;32mNone\u001b[0m\u001b[0;34m:\u001b[0m\u001b[0;34m\u001b[0m\u001b[0;34m\u001b[0m\u001b[0m\n\u001b[0;32m--> 649\u001b[0;31m             \u001b[0;32mraise\u001b[0m \u001b[0mParserError\u001b[0m\u001b[0;34m(\u001b[0m\u001b[0;34m\"Unknown string format: %s\"\u001b[0m\u001b[0;34m,\u001b[0m \u001b[0mtimestr\u001b[0m\u001b[0;34m)\u001b[0m\u001b[0;34m\u001b[0m\u001b[0;34m\u001b[0m\u001b[0m\n\u001b[0m\u001b[1;32m    650\u001b[0m \u001b[0;34m\u001b[0m\u001b[0m\n\u001b[1;32m    651\u001b[0m         \u001b[0;32mif\u001b[0m \u001b[0mlen\u001b[0m\u001b[0;34m(\u001b[0m\u001b[0mres\u001b[0m\u001b[0;34m)\u001b[0m \u001b[0;34m==\u001b[0m \u001b[0;36m0\u001b[0m\u001b[0;34m:\u001b[0m\u001b[0;34m\u001b[0m\u001b[0;34m\u001b[0m\u001b[0m\n",
      "\u001b[0;31mParserError\u001b[0m: Unknown string format: RegionID_copy"
     ]
    }
   ],
   "source": [
    "data_df.columns = pd.to_datetime(data_df.columns)\n",
    "data_df.head()"
   ]
  },
  {
   "cell_type": "code",
   "execution_count": 99,
   "metadata": {
    "ExecuteTime": {
     "end_time": "2022-04-29T17:45:58.855582Z",
     "start_time": "2022-04-29T17:45:58.185010Z"
    }
   },
   "outputs": [
    {
     "data": {
      "text/html": [
       "<div>\n",
       "<style scoped>\n",
       "    .dataframe tbody tr th:only-of-type {\n",
       "        vertical-align: middle;\n",
       "    }\n",
       "\n",
       "    .dataframe tbody tr th {\n",
       "        vertical-align: top;\n",
       "    }\n",
       "\n",
       "    .dataframe thead th {\n",
       "        text-align: right;\n",
       "    }\n",
       "</style>\n",
       "<table border=\"1\" class=\"dataframe\">\n",
       "  <thead>\n",
       "    <tr style=\"text-align: right;\">\n",
       "      <th></th>\n",
       "      <th>1996-04-01</th>\n",
       "      <th>1996-05-01</th>\n",
       "      <th>1996-06-01</th>\n",
       "      <th>1996-07-01</th>\n",
       "      <th>1996-08-01</th>\n",
       "      <th>1996-09-01</th>\n",
       "      <th>1996-10-01</th>\n",
       "      <th>1996-11-01</th>\n",
       "      <th>1996-12-01</th>\n",
       "      <th>1997-01-01</th>\n",
       "      <th>...</th>\n",
       "      <th>2017-07-01</th>\n",
       "      <th>2017-08-01</th>\n",
       "      <th>2017-09-01</th>\n",
       "      <th>2017-10-01</th>\n",
       "      <th>2017-11-01</th>\n",
       "      <th>2017-12-01</th>\n",
       "      <th>2018-01-01</th>\n",
       "      <th>2018-02-01</th>\n",
       "      <th>2018-03-01</th>\n",
       "      <th>2018-04-01</th>\n",
       "    </tr>\n",
       "  </thead>\n",
       "  <tbody>\n",
       "    <tr>\n",
       "      <th>0</th>\n",
       "      <td>334.2</td>\n",
       "      <td>335.4</td>\n",
       "      <td>336.5</td>\n",
       "      <td>337.6</td>\n",
       "      <td>338.5</td>\n",
       "      <td>339.5</td>\n",
       "      <td>340.4</td>\n",
       "      <td>341.3</td>\n",
       "      <td>342.6</td>\n",
       "      <td>344.4</td>\n",
       "      <td>...</td>\n",
       "      <td>1005.5</td>\n",
       "      <td>1007.5</td>\n",
       "      <td>1007.8</td>\n",
       "      <td>1009.6</td>\n",
       "      <td>1013.3</td>\n",
       "      <td>1018.7</td>\n",
       "      <td>1024.4</td>\n",
       "      <td>1030.7</td>\n",
       "      <td>1033.8</td>\n",
       "      <td>1030.6</td>\n",
       "    </tr>\n",
       "    <tr>\n",
       "      <th>1</th>\n",
       "      <td>235.7</td>\n",
       "      <td>236.9</td>\n",
       "      <td>236.7</td>\n",
       "      <td>235.4</td>\n",
       "      <td>233.3</td>\n",
       "      <td>230.6</td>\n",
       "      <td>227.3</td>\n",
       "      <td>223.4</td>\n",
       "      <td>219.6</td>\n",
       "      <td>215.8</td>\n",
       "      <td>...</td>\n",
       "      <td>308.0</td>\n",
       "      <td>310.0</td>\n",
       "      <td>312.5</td>\n",
       "      <td>314.1</td>\n",
       "      <td>315.0</td>\n",
       "      <td>316.6</td>\n",
       "      <td>318.1</td>\n",
       "      <td>319.6</td>\n",
       "      <td>321.1</td>\n",
       "      <td>321.8</td>\n",
       "    </tr>\n",
       "    <tr>\n",
       "      <th>2</th>\n",
       "      <td>210.4</td>\n",
       "      <td>212.2</td>\n",
       "      <td>212.2</td>\n",
       "      <td>210.7</td>\n",
       "      <td>208.3</td>\n",
       "      <td>205.5</td>\n",
       "      <td>202.5</td>\n",
       "      <td>199.8</td>\n",
       "      <td>198.3</td>\n",
       "      <td>197.3</td>\n",
       "      <td>...</td>\n",
       "      <td>321.0</td>\n",
       "      <td>320.6</td>\n",
       "      <td>320.2</td>\n",
       "      <td>320.4</td>\n",
       "      <td>320.8</td>\n",
       "      <td>321.2</td>\n",
       "      <td>321.2</td>\n",
       "      <td>323.0</td>\n",
       "      <td>326.9</td>\n",
       "      <td>329.9</td>\n",
       "    </tr>\n",
       "    <tr>\n",
       "      <th>3</th>\n",
       "      <td>498.1</td>\n",
       "      <td>500.9</td>\n",
       "      <td>503.1</td>\n",
       "      <td>504.6</td>\n",
       "      <td>505.5</td>\n",
       "      <td>505.7</td>\n",
       "      <td>505.3</td>\n",
       "      <td>504.2</td>\n",
       "      <td>503.6</td>\n",
       "      <td>503.4</td>\n",
       "      <td>...</td>\n",
       "      <td>1289.8</td>\n",
       "      <td>1287.7</td>\n",
       "      <td>1287.4</td>\n",
       "      <td>1291.5</td>\n",
       "      <td>1296.6</td>\n",
       "      <td>1299.0</td>\n",
       "      <td>1302.7</td>\n",
       "      <td>1306.4</td>\n",
       "      <td>1308.5</td>\n",
       "      <td>1307.0</td>\n",
       "    </tr>\n",
       "    <tr>\n",
       "      <th>4</th>\n",
       "      <td>77.3</td>\n",
       "      <td>77.3</td>\n",
       "      <td>77.3</td>\n",
       "      <td>77.3</td>\n",
       "      <td>77.4</td>\n",
       "      <td>77.5</td>\n",
       "      <td>77.6</td>\n",
       "      <td>77.7</td>\n",
       "      <td>77.7</td>\n",
       "      <td>77.8</td>\n",
       "      <td>...</td>\n",
       "      <td>119.1</td>\n",
       "      <td>119.4</td>\n",
       "      <td>120.0</td>\n",
       "      <td>120.3</td>\n",
       "      <td>120.3</td>\n",
       "      <td>120.3</td>\n",
       "      <td>120.3</td>\n",
       "      <td>120.5</td>\n",
       "      <td>121.0</td>\n",
       "      <td>121.5</td>\n",
       "    </tr>\n",
       "  </tbody>\n",
       "</table>\n",
       "<p>5 rows × 265 columns</p>\n",
       "</div>"
      ],
      "text/plain": [
       "   1996-04-01  1996-05-01  1996-06-01  1996-07-01  1996-08-01  1996-09-01  \\\n",
       "0       334.2       335.4       336.5       337.6       338.5       339.5   \n",
       "1       235.7       236.9       236.7       235.4       233.3       230.6   \n",
       "2       210.4       212.2       212.2       210.7       208.3       205.5   \n",
       "3       498.1       500.9       503.1       504.6       505.5       505.7   \n",
       "4        77.3        77.3        77.3        77.3        77.4        77.5   \n",
       "\n",
       "   1996-10-01  1996-11-01  1996-12-01  1997-01-01  ...  2017-07-01  \\\n",
       "0       340.4       341.3       342.6       344.4  ...      1005.5   \n",
       "1       227.3       223.4       219.6       215.8  ...       308.0   \n",
       "2       202.5       199.8       198.3       197.3  ...       321.0   \n",
       "3       505.3       504.2       503.6       503.4  ...      1289.8   \n",
       "4        77.6        77.7        77.7        77.8  ...       119.1   \n",
       "\n",
       "   2017-08-01  2017-09-01  2017-10-01  2017-11-01  2017-12-01  2018-01-01  \\\n",
       "0      1007.5      1007.8      1009.6      1013.3      1018.7      1024.4   \n",
       "1       310.0       312.5       314.1       315.0       316.6       318.1   \n",
       "2       320.6       320.2       320.4       320.8       321.2       321.2   \n",
       "3      1287.7      1287.4      1291.5      1296.6      1299.0      1302.7   \n",
       "4       119.4       120.0       120.3       120.3       120.3       120.3   \n",
       "\n",
       "   2018-02-01  2018-03-01  2018-04-01  \n",
       "0      1030.7      1033.8      1030.6  \n",
       "1       319.6       321.1       321.8  \n",
       "2       323.0       326.9       329.9  \n",
       "3      1306.4      1308.5      1307.0  \n",
       "4       120.5       121.0       121.5  \n",
       "\n",
       "[5 rows x 265 columns]"
      ]
     },
     "execution_count": 99,
     "metadata": {},
     "output_type": "execute_result"
    }
   ],
   "source": [
    "# changing values to thousands for ease of reading\n",
    "data_df = data_df.applymap(lambda x: x/1000)\n",
    "data_df.head()"
   ]
  },
  {
   "cell_type": "code",
   "execution_count": 101,
   "metadata": {
    "ExecuteTime": {
     "end_time": "2022-04-29T17:50:10.515362Z",
     "start_time": "2022-04-29T17:50:10.380007Z"
    }
   },
   "outputs": [
    {
     "data": {
      "text/html": [
       "<div>\n",
       "<style scoped>\n",
       "    .dataframe tbody tr th:only-of-type {\n",
       "        vertical-align: middle;\n",
       "    }\n",
       "\n",
       "    .dataframe tbody tr th {\n",
       "        vertical-align: top;\n",
       "    }\n",
       "\n",
       "    .dataframe thead th {\n",
       "        text-align: right;\n",
       "    }\n",
       "</style>\n",
       "<table border=\"1\" class=\"dataframe\">\n",
       "  <thead>\n",
       "    <tr style=\"text-align: right;\">\n",
       "      <th></th>\n",
       "      <th>1996-04-01</th>\n",
       "      <th>1996-05-01</th>\n",
       "      <th>1996-06-01</th>\n",
       "      <th>1996-07-01</th>\n",
       "      <th>1996-08-01</th>\n",
       "      <th>1996-09-01</th>\n",
       "      <th>1996-10-01</th>\n",
       "      <th>1996-11-01</th>\n",
       "      <th>1996-12-01</th>\n",
       "      <th>1997-01-01</th>\n",
       "      <th>...</th>\n",
       "      <th>2017-07-01</th>\n",
       "      <th>2017-08-01</th>\n",
       "      <th>2017-09-01</th>\n",
       "      <th>2017-10-01</th>\n",
       "      <th>2017-11-01</th>\n",
       "      <th>2017-12-01</th>\n",
       "      <th>2018-01-01</th>\n",
       "      <th>2018-02-01</th>\n",
       "      <th>2018-03-01</th>\n",
       "      <th>2018-04-01</th>\n",
       "    </tr>\n",
       "  </thead>\n",
       "  <tbody>\n",
       "    <tr>\n",
       "      <th>0</th>\n",
       "      <td>334.2</td>\n",
       "      <td>335.4</td>\n",
       "      <td>336.5</td>\n",
       "      <td>337.6</td>\n",
       "      <td>338.5</td>\n",
       "      <td>339.5</td>\n",
       "      <td>340.4</td>\n",
       "      <td>341.3</td>\n",
       "      <td>342.6</td>\n",
       "      <td>344.4</td>\n",
       "      <td>...</td>\n",
       "      <td>1005.5</td>\n",
       "      <td>1007.5</td>\n",
       "      <td>1007.8</td>\n",
       "      <td>1009.6</td>\n",
       "      <td>1013.3</td>\n",
       "      <td>1018.7</td>\n",
       "      <td>1024.4</td>\n",
       "      <td>1030.7</td>\n",
       "      <td>1033.8</td>\n",
       "      <td>1030.6</td>\n",
       "    </tr>\n",
       "    <tr>\n",
       "      <th>1</th>\n",
       "      <td>235.7</td>\n",
       "      <td>236.9</td>\n",
       "      <td>236.7</td>\n",
       "      <td>235.4</td>\n",
       "      <td>233.3</td>\n",
       "      <td>230.6</td>\n",
       "      <td>227.3</td>\n",
       "      <td>223.4</td>\n",
       "      <td>219.6</td>\n",
       "      <td>215.8</td>\n",
       "      <td>...</td>\n",
       "      <td>308.0</td>\n",
       "      <td>310.0</td>\n",
       "      <td>312.5</td>\n",
       "      <td>314.1</td>\n",
       "      <td>315.0</td>\n",
       "      <td>316.6</td>\n",
       "      <td>318.1</td>\n",
       "      <td>319.6</td>\n",
       "      <td>321.1</td>\n",
       "      <td>321.8</td>\n",
       "    </tr>\n",
       "    <tr>\n",
       "      <th>2</th>\n",
       "      <td>210.4</td>\n",
       "      <td>212.2</td>\n",
       "      <td>212.2</td>\n",
       "      <td>210.7</td>\n",
       "      <td>208.3</td>\n",
       "      <td>205.5</td>\n",
       "      <td>202.5</td>\n",
       "      <td>199.8</td>\n",
       "      <td>198.3</td>\n",
       "      <td>197.3</td>\n",
       "      <td>...</td>\n",
       "      <td>321.0</td>\n",
       "      <td>320.6</td>\n",
       "      <td>320.2</td>\n",
       "      <td>320.4</td>\n",
       "      <td>320.8</td>\n",
       "      <td>321.2</td>\n",
       "      <td>321.2</td>\n",
       "      <td>323.0</td>\n",
       "      <td>326.9</td>\n",
       "      <td>329.9</td>\n",
       "    </tr>\n",
       "    <tr>\n",
       "      <th>3</th>\n",
       "      <td>498.1</td>\n",
       "      <td>500.9</td>\n",
       "      <td>503.1</td>\n",
       "      <td>504.6</td>\n",
       "      <td>505.5</td>\n",
       "      <td>505.7</td>\n",
       "      <td>505.3</td>\n",
       "      <td>504.2</td>\n",
       "      <td>503.6</td>\n",
       "      <td>503.4</td>\n",
       "      <td>...</td>\n",
       "      <td>1289.8</td>\n",
       "      <td>1287.7</td>\n",
       "      <td>1287.4</td>\n",
       "      <td>1291.5</td>\n",
       "      <td>1296.6</td>\n",
       "      <td>1299.0</td>\n",
       "      <td>1302.7</td>\n",
       "      <td>1306.4</td>\n",
       "      <td>1308.5</td>\n",
       "      <td>1307.0</td>\n",
       "    </tr>\n",
       "    <tr>\n",
       "      <th>4</th>\n",
       "      <td>77.3</td>\n",
       "      <td>77.3</td>\n",
       "      <td>77.3</td>\n",
       "      <td>77.3</td>\n",
       "      <td>77.4</td>\n",
       "      <td>77.5</td>\n",
       "      <td>77.6</td>\n",
       "      <td>77.7</td>\n",
       "      <td>77.7</td>\n",
       "      <td>77.8</td>\n",
       "      <td>...</td>\n",
       "      <td>119.1</td>\n",
       "      <td>119.4</td>\n",
       "      <td>120.0</td>\n",
       "      <td>120.3</td>\n",
       "      <td>120.3</td>\n",
       "      <td>120.3</td>\n",
       "      <td>120.3</td>\n",
       "      <td>120.5</td>\n",
       "      <td>121.0</td>\n",
       "      <td>121.5</td>\n",
       "    </tr>\n",
       "  </tbody>\n",
       "</table>\n",
       "<p>5 rows × 265 columns</p>\n",
       "</div>"
      ],
      "text/plain": [
       "   1996-04-01  1996-05-01  1996-06-01  1996-07-01  1996-08-01  1996-09-01  \\\n",
       "0       334.2       335.4       336.5       337.6       338.5       339.5   \n",
       "1       235.7       236.9       236.7       235.4       233.3       230.6   \n",
       "2       210.4       212.2       212.2       210.7       208.3       205.5   \n",
       "3       498.1       500.9       503.1       504.6       505.5       505.7   \n",
       "4        77.3        77.3        77.3        77.3        77.4        77.5   \n",
       "\n",
       "   1996-10-01  1996-11-01  1996-12-01  1997-01-01  ...  2017-07-01  \\\n",
       "0       340.4       341.3       342.6       344.4  ...      1005.5   \n",
       "1       227.3       223.4       219.6       215.8  ...       308.0   \n",
       "2       202.5       199.8       198.3       197.3  ...       321.0   \n",
       "3       505.3       504.2       503.6       503.4  ...      1289.8   \n",
       "4        77.6        77.7        77.7        77.8  ...       119.1   \n",
       "\n",
       "   2017-08-01  2017-09-01  2017-10-01  2017-11-01  2017-12-01  2018-01-01  \\\n",
       "0      1007.5      1007.8      1009.6      1013.3      1018.7      1024.4   \n",
       "1       310.0       312.5       314.1       315.0       316.6       318.1   \n",
       "2       320.6       320.2       320.4       320.8       321.2       321.2   \n",
       "3      1287.7      1287.4      1291.5      1296.6      1299.0      1302.7   \n",
       "4       119.4       120.0       120.3       120.3       120.3       120.3   \n",
       "\n",
       "   2018-02-01  2018-03-01  2018-04-01  \n",
       "0      1030.7      1033.8      1030.6  \n",
       "1       319.6       321.1       321.8  \n",
       "2       323.0       326.9       329.9  \n",
       "3      1306.4      1308.5      1307.0  \n",
       "4       120.5       121.0       121.5  \n",
       "\n",
       "[5 rows x 265 columns]"
      ]
     },
     "execution_count": 101,
     "metadata": {},
     "output_type": "execute_result"
    }
   ],
   "source": [
    "data_df.head()"
   ]
  },
  {
   "cell_type": "code",
   "execution_count": 103,
   "metadata": {
    "ExecuteTime": {
     "end_time": "2022-04-29T17:50:26.747074Z",
     "start_time": "2022-04-29T17:50:26.322106Z"
    }
   },
   "outputs": [
    {
     "data": {
      "text/html": [
       "<div>\n",
       "<style scoped>\n",
       "    .dataframe tbody tr th:only-of-type {\n",
       "        vertical-align: middle;\n",
       "    }\n",
       "\n",
       "    .dataframe tbody tr th {\n",
       "        vertical-align: top;\n",
       "    }\n",
       "\n",
       "    .dataframe thead th {\n",
       "        text-align: right;\n",
       "    }\n",
       "</style>\n",
       "<table border=\"1\" class=\"dataframe\">\n",
       "  <thead>\n",
       "    <tr style=\"text-align: right;\">\n",
       "      <th></th>\n",
       "      <th>1996-04-01</th>\n",
       "      <th>1996-05-01</th>\n",
       "      <th>1996-06-01</th>\n",
       "      <th>1996-07-01</th>\n",
       "      <th>1996-08-01</th>\n",
       "      <th>1996-09-01</th>\n",
       "      <th>1996-10-01</th>\n",
       "      <th>1996-11-01</th>\n",
       "      <th>1996-12-01</th>\n",
       "      <th>1997-01-01</th>\n",
       "      <th>...</th>\n",
       "      <th>2017-07-01</th>\n",
       "      <th>2017-08-01</th>\n",
       "      <th>2017-09-01</th>\n",
       "      <th>2017-10-01</th>\n",
       "      <th>2017-11-01</th>\n",
       "      <th>2017-12-01</th>\n",
       "      <th>2018-01-01</th>\n",
       "      <th>2018-02-01</th>\n",
       "      <th>2018-03-01</th>\n",
       "      <th>2018-04-01</th>\n",
       "    </tr>\n",
       "  </thead>\n",
       "  <tbody>\n",
       "    <tr>\n",
       "      <th>count</th>\n",
       "      <td>13684.0</td>\n",
       "      <td>13684.00</td>\n",
       "      <td>13684.00</td>\n",
       "      <td>13684.00</td>\n",
       "      <td>13684.00</td>\n",
       "      <td>13684.00</td>\n",
       "      <td>13684.00</td>\n",
       "      <td>13684.00</td>\n",
       "      <td>13684.00</td>\n",
       "      <td>13684.00</td>\n",
       "      <td>...</td>\n",
       "      <td>14723.00</td>\n",
       "      <td>14723.00</td>\n",
       "      <td>14723.00</td>\n",
       "      <td>14723.00</td>\n",
       "      <td>14723.00</td>\n",
       "      <td>14723.00</td>\n",
       "      <td>14723.00</td>\n",
       "      <td>14723.00</td>\n",
       "      <td>14723.00</td>\n",
       "      <td>14723.00</td>\n",
       "    </tr>\n",
       "    <tr>\n",
       "      <th>mean</th>\n",
       "      <td>118.3</td>\n",
       "      <td>118.42</td>\n",
       "      <td>118.54</td>\n",
       "      <td>118.65</td>\n",
       "      <td>118.78</td>\n",
       "      <td>118.93</td>\n",
       "      <td>119.12</td>\n",
       "      <td>119.35</td>\n",
       "      <td>119.69</td>\n",
       "      <td>120.12</td>\n",
       "      <td>...</td>\n",
       "      <td>273.34</td>\n",
       "      <td>274.87</td>\n",
       "      <td>276.46</td>\n",
       "      <td>278.03</td>\n",
       "      <td>279.52</td>\n",
       "      <td>281.10</td>\n",
       "      <td>282.66</td>\n",
       "      <td>284.37</td>\n",
       "      <td>286.51</td>\n",
       "      <td>288.04</td>\n",
       "    </tr>\n",
       "    <tr>\n",
       "      <th>std</th>\n",
       "      <td>86.0</td>\n",
       "      <td>86.16</td>\n",
       "      <td>86.31</td>\n",
       "      <td>86.47</td>\n",
       "      <td>86.65</td>\n",
       "      <td>86.87</td>\n",
       "      <td>87.15</td>\n",
       "      <td>87.48</td>\n",
       "      <td>87.91</td>\n",
       "      <td>88.41</td>\n",
       "      <td>...</td>\n",
       "      <td>360.40</td>\n",
       "      <td>361.47</td>\n",
       "      <td>362.76</td>\n",
       "      <td>364.46</td>\n",
       "      <td>365.60</td>\n",
       "      <td>367.05</td>\n",
       "      <td>369.57</td>\n",
       "      <td>371.77</td>\n",
       "      <td>372.46</td>\n",
       "      <td>372.05</td>\n",
       "    </tr>\n",
       "    <tr>\n",
       "      <th>min</th>\n",
       "      <td>11.3</td>\n",
       "      <td>11.50</td>\n",
       "      <td>11.60</td>\n",
       "      <td>11.80</td>\n",
       "      <td>11.80</td>\n",
       "      <td>12.00</td>\n",
       "      <td>12.10</td>\n",
       "      <td>12.20</td>\n",
       "      <td>12.30</td>\n",
       "      <td>12.50</td>\n",
       "      <td>...</td>\n",
       "      <td>14.40</td>\n",
       "      <td>14.50</td>\n",
       "      <td>14.70</td>\n",
       "      <td>14.80</td>\n",
       "      <td>14.50</td>\n",
       "      <td>14.30</td>\n",
       "      <td>14.10</td>\n",
       "      <td>13.90</td>\n",
       "      <td>13.80</td>\n",
       "      <td>13.80</td>\n",
       "    </tr>\n",
       "    <tr>\n",
       "      <th>25%</th>\n",
       "      <td>68.8</td>\n",
       "      <td>68.90</td>\n",
       "      <td>69.10</td>\n",
       "      <td>69.20</td>\n",
       "      <td>69.38</td>\n",
       "      <td>69.50</td>\n",
       "      <td>69.60</td>\n",
       "      <td>69.80</td>\n",
       "      <td>70.00</td>\n",
       "      <td>70.30</td>\n",
       "      <td>...</td>\n",
       "      <td>126.90</td>\n",
       "      <td>127.50</td>\n",
       "      <td>128.20</td>\n",
       "      <td>128.70</td>\n",
       "      <td>129.25</td>\n",
       "      <td>129.90</td>\n",
       "      <td>130.60</td>\n",
       "      <td>131.05</td>\n",
       "      <td>131.95</td>\n",
       "      <td>132.40</td>\n",
       "    </tr>\n",
       "    <tr>\n",
       "      <th>50%</th>\n",
       "      <td>99.5</td>\n",
       "      <td>99.50</td>\n",
       "      <td>99.70</td>\n",
       "      <td>99.70</td>\n",
       "      <td>99.80</td>\n",
       "      <td>99.90</td>\n",
       "      <td>99.95</td>\n",
       "      <td>100.10</td>\n",
       "      <td>100.30</td>\n",
       "      <td>100.60</td>\n",
       "      <td>...</td>\n",
       "      <td>188.40</td>\n",
       "      <td>189.60</td>\n",
       "      <td>190.50</td>\n",
       "      <td>191.40</td>\n",
       "      <td>192.50</td>\n",
       "      <td>193.40</td>\n",
       "      <td>194.10</td>\n",
       "      <td>195.00</td>\n",
       "      <td>196.70</td>\n",
       "      <td>198.10</td>\n",
       "    </tr>\n",
       "    <tr>\n",
       "      <th>75%</th>\n",
       "      <td>143.2</td>\n",
       "      <td>143.30</td>\n",
       "      <td>143.22</td>\n",
       "      <td>143.22</td>\n",
       "      <td>143.50</td>\n",
       "      <td>143.70</td>\n",
       "      <td>143.90</td>\n",
       "      <td>144.12</td>\n",
       "      <td>144.30</td>\n",
       "      <td>144.60</td>\n",
       "      <td>...</td>\n",
       "      <td>305.00</td>\n",
       "      <td>306.65</td>\n",
       "      <td>308.50</td>\n",
       "      <td>309.80</td>\n",
       "      <td>311.70</td>\n",
       "      <td>313.40</td>\n",
       "      <td>315.10</td>\n",
       "      <td>316.85</td>\n",
       "      <td>318.85</td>\n",
       "      <td>321.10</td>\n",
       "    </tr>\n",
       "    <tr>\n",
       "      <th>max</th>\n",
       "      <td>3676.7</td>\n",
       "      <td>3704.20</td>\n",
       "      <td>3729.60</td>\n",
       "      <td>3754.60</td>\n",
       "      <td>3781.80</td>\n",
       "      <td>3813.50</td>\n",
       "      <td>3849.60</td>\n",
       "      <td>3888.90</td>\n",
       "      <td>3928.80</td>\n",
       "      <td>3964.60</td>\n",
       "      <td>...</td>\n",
       "      <td>18889.90</td>\n",
       "      <td>18703.50</td>\n",
       "      <td>18605.30</td>\n",
       "      <td>18569.40</td>\n",
       "      <td>18428.80</td>\n",
       "      <td>18307.10</td>\n",
       "      <td>18365.90</td>\n",
       "      <td>18530.40</td>\n",
       "      <td>18337.70</td>\n",
       "      <td>17894.90</td>\n",
       "    </tr>\n",
       "  </tbody>\n",
       "</table>\n",
       "<p>8 rows × 265 columns</p>\n",
       "</div>"
      ],
      "text/plain": [
       "       1996-04-01  1996-05-01  1996-06-01  1996-07-01  1996-08-01  1996-09-01  \\\n",
       "count     13684.0    13684.00    13684.00    13684.00    13684.00    13684.00   \n",
       "mean        118.3      118.42      118.54      118.65      118.78      118.93   \n",
       "std          86.0       86.16       86.31       86.47       86.65       86.87   \n",
       "min          11.3       11.50       11.60       11.80       11.80       12.00   \n",
       "25%          68.8       68.90       69.10       69.20       69.38       69.50   \n",
       "50%          99.5       99.50       99.70       99.70       99.80       99.90   \n",
       "75%         143.2      143.30      143.22      143.22      143.50      143.70   \n",
       "max        3676.7     3704.20     3729.60     3754.60     3781.80     3813.50   \n",
       "\n",
       "       1996-10-01  1996-11-01  1996-12-01  1997-01-01  ...  2017-07-01  \\\n",
       "count    13684.00    13684.00    13684.00    13684.00  ...    14723.00   \n",
       "mean       119.12      119.35      119.69      120.12  ...      273.34   \n",
       "std         87.15       87.48       87.91       88.41  ...      360.40   \n",
       "min         12.10       12.20       12.30       12.50  ...       14.40   \n",
       "25%         69.60       69.80       70.00       70.30  ...      126.90   \n",
       "50%         99.95      100.10      100.30      100.60  ...      188.40   \n",
       "75%        143.90      144.12      144.30      144.60  ...      305.00   \n",
       "max       3849.60     3888.90     3928.80     3964.60  ...    18889.90   \n",
       "\n",
       "       2017-08-01  2017-09-01  2017-10-01  2017-11-01  2017-12-01  2018-01-01  \\\n",
       "count    14723.00    14723.00    14723.00    14723.00    14723.00    14723.00   \n",
       "mean       274.87      276.46      278.03      279.52      281.10      282.66   \n",
       "std        361.47      362.76      364.46      365.60      367.05      369.57   \n",
       "min         14.50       14.70       14.80       14.50       14.30       14.10   \n",
       "25%        127.50      128.20      128.70      129.25      129.90      130.60   \n",
       "50%        189.60      190.50      191.40      192.50      193.40      194.10   \n",
       "75%        306.65      308.50      309.80      311.70      313.40      315.10   \n",
       "max      18703.50    18605.30    18569.40    18428.80    18307.10    18365.90   \n",
       "\n",
       "       2018-02-01  2018-03-01  2018-04-01  \n",
       "count    14723.00    14723.00    14723.00  \n",
       "mean       284.37      286.51      288.04  \n",
       "std        371.77      372.46      372.05  \n",
       "min         13.90       13.80       13.80  \n",
       "25%        131.05      131.95      132.40  \n",
       "50%        195.00      196.70      198.10  \n",
       "75%        316.85      318.85      321.10  \n",
       "max      18530.40    18337.70    17894.90  \n",
       "\n",
       "[8 rows x 265 columns]"
      ]
     },
     "execution_count": 103,
     "metadata": {},
     "output_type": "execute_result"
    }
   ],
   "source": [
    "data_df.describe().round(2)"
   ]
  },
  {
   "cell_type": "markdown",
   "metadata": {},
   "source": [
    "## Slicing out Years and attempting to Melt"
   ]
  },
  {
   "cell_type": "code",
   "execution_count": 110,
   "metadata": {
    "ExecuteTime": {
     "end_time": "2022-04-29T17:55:05.094951Z",
     "start_time": "2022-04-29T17:55:05.069103Z"
    }
   },
   "outputs": [
    {
     "data": {
      "text/html": [
       "<div>\n",
       "<style scoped>\n",
       "    .dataframe tbody tr th:only-of-type {\n",
       "        vertical-align: middle;\n",
       "    }\n",
       "\n",
       "    .dataframe tbody tr th {\n",
       "        vertical-align: top;\n",
       "    }\n",
       "\n",
       "    .dataframe thead th {\n",
       "        text-align: right;\n",
       "    }\n",
       "</style>\n",
       "<table border=\"1\" class=\"dataframe\">\n",
       "  <thead>\n",
       "    <tr style=\"text-align: right;\">\n",
       "      <th></th>\n",
       "      <th>1996-04-01</th>\n",
       "      <th>1996-05-01</th>\n",
       "      <th>1996-06-01</th>\n",
       "      <th>1996-07-01</th>\n",
       "      <th>1996-08-01</th>\n",
       "      <th>1996-09-01</th>\n",
       "      <th>1996-10-01</th>\n",
       "      <th>1996-11-01</th>\n",
       "      <th>1996-12-01</th>\n",
       "    </tr>\n",
       "  </thead>\n",
       "  <tbody>\n",
       "    <tr>\n",
       "      <th>0</th>\n",
       "      <td>334.2</td>\n",
       "      <td>335.4</td>\n",
       "      <td>336.5</td>\n",
       "      <td>337.6</td>\n",
       "      <td>338.5</td>\n",
       "      <td>339.5</td>\n",
       "      <td>340.4</td>\n",
       "      <td>341.3</td>\n",
       "      <td>342.6</td>\n",
       "    </tr>\n",
       "    <tr>\n",
       "      <th>1</th>\n",
       "      <td>235.7</td>\n",
       "      <td>236.9</td>\n",
       "      <td>236.7</td>\n",
       "      <td>235.4</td>\n",
       "      <td>233.3</td>\n",
       "      <td>230.6</td>\n",
       "      <td>227.3</td>\n",
       "      <td>223.4</td>\n",
       "      <td>219.6</td>\n",
       "    </tr>\n",
       "    <tr>\n",
       "      <th>2</th>\n",
       "      <td>210.4</td>\n",
       "      <td>212.2</td>\n",
       "      <td>212.2</td>\n",
       "      <td>210.7</td>\n",
       "      <td>208.3</td>\n",
       "      <td>205.5</td>\n",
       "      <td>202.5</td>\n",
       "      <td>199.8</td>\n",
       "      <td>198.3</td>\n",
       "    </tr>\n",
       "    <tr>\n",
       "      <th>3</th>\n",
       "      <td>498.1</td>\n",
       "      <td>500.9</td>\n",
       "      <td>503.1</td>\n",
       "      <td>504.6</td>\n",
       "      <td>505.5</td>\n",
       "      <td>505.7</td>\n",
       "      <td>505.3</td>\n",
       "      <td>504.2</td>\n",
       "      <td>503.6</td>\n",
       "    </tr>\n",
       "    <tr>\n",
       "      <th>4</th>\n",
       "      <td>77.3</td>\n",
       "      <td>77.3</td>\n",
       "      <td>77.3</td>\n",
       "      <td>77.3</td>\n",
       "      <td>77.4</td>\n",
       "      <td>77.5</td>\n",
       "      <td>77.6</td>\n",
       "      <td>77.7</td>\n",
       "      <td>77.7</td>\n",
       "    </tr>\n",
       "  </tbody>\n",
       "</table>\n",
       "</div>"
      ],
      "text/plain": [
       "   1996-04-01  1996-05-01  1996-06-01  1996-07-01  1996-08-01  1996-09-01  \\\n",
       "0       334.2       335.4       336.5       337.6       338.5       339.5   \n",
       "1       235.7       236.9       236.7       235.4       233.3       230.6   \n",
       "2       210.4       212.2       212.2       210.7       208.3       205.5   \n",
       "3       498.1       500.9       503.1       504.6       505.5       505.7   \n",
       "4        77.3        77.3        77.3        77.3        77.4        77.5   \n",
       "\n",
       "   1996-10-01  1996-11-01  1996-12-01  \n",
       "0       340.4       341.3       342.6  \n",
       "1       227.3       223.4       219.6  \n",
       "2       202.5       199.8       198.3  \n",
       "3       505.3       504.2       503.6  \n",
       "4        77.6        77.7        77.7  "
      ]
     },
     "execution_count": 110,
     "metadata": {},
     "output_type": "execute_result"
    }
   ],
   "source": [
    "yr_1996 = data_df.iloc[:,:9]\n",
    "yr_1996.head()"
   ]
  },
  {
   "cell_type": "code",
   "execution_count": 111,
   "metadata": {
    "ExecuteTime": {
     "end_time": "2022-04-29T17:56:36.754811Z",
     "start_time": "2022-04-29T17:56:36.702321Z"
    }
   },
   "outputs": [
    {
     "ename": "KeyError",
     "evalue": "\"The following 'id_vars' are not present in the DataFrame: ['City', 'CountyName', 'Metro', 'RegionID', 'RegionName', 'SizeRank', 'State']\"",
     "output_type": "error",
     "traceback": [
      "\u001b[0;31m---------------------------------------------------------------------------\u001b[0m",
      "\u001b[0;31mKeyError\u001b[0m                                  Traceback (most recent call last)",
      "\u001b[0;32m<ipython-input-111-762c847daec2>\u001b[0m in \u001b[0;36m<module>\u001b[0;34m\u001b[0m\n\u001b[0;32m----> 1\u001b[0;31m \u001b[0mmelt_data\u001b[0m\u001b[0;34m(\u001b[0m\u001b[0myr_1996\u001b[0m\u001b[0;34m)\u001b[0m\u001b[0;34m\u001b[0m\u001b[0;34m\u001b[0m\u001b[0m\n\u001b[0m",
      "\u001b[0;32m<ipython-input-2-528c039c2550>\u001b[0m in \u001b[0;36mmelt_data\u001b[0;34m(df)\u001b[0m\n\u001b[1;32m      9\u001b[0m     \"\"\"\n\u001b[1;32m     10\u001b[0m \u001b[0;34m\u001b[0m\u001b[0m\n\u001b[0;32m---> 11\u001b[0;31m     \u001b[0mmelted\u001b[0m \u001b[0;34m=\u001b[0m \u001b[0mpd\u001b[0m\u001b[0;34m.\u001b[0m\u001b[0mmelt\u001b[0m\u001b[0;34m(\u001b[0m\u001b[0mdf\u001b[0m\u001b[0;34m,\u001b[0m \u001b[0mid_vars\u001b[0m\u001b[0;34m=\u001b[0m\u001b[0;34m[\u001b[0m\u001b[0;34m'RegionName'\u001b[0m\u001b[0;34m,\u001b[0m \u001b[0;34m'RegionID'\u001b[0m\u001b[0;34m,\u001b[0m \u001b[0;34m'SizeRank'\u001b[0m\u001b[0;34m,\u001b[0m \u001b[0;34m'City'\u001b[0m\u001b[0;34m,\u001b[0m \u001b[0;34m'State'\u001b[0m\u001b[0;34m,\u001b[0m \u001b[0;34m'Metro'\u001b[0m\u001b[0;34m,\u001b[0m \u001b[0;34m'CountyName'\u001b[0m\u001b[0;34m]\u001b[0m\u001b[0;34m,\u001b[0m \u001b[0mvar_name\u001b[0m\u001b[0;34m=\u001b[0m\u001b[0;34m'time'\u001b[0m\u001b[0;34m)\u001b[0m\u001b[0;34m\u001b[0m\u001b[0;34m\u001b[0m\u001b[0m\n\u001b[0m\u001b[1;32m     12\u001b[0m     \u001b[0mmelted\u001b[0m\u001b[0;34m[\u001b[0m\u001b[0;34m'time'\u001b[0m\u001b[0;34m]\u001b[0m \u001b[0;34m=\u001b[0m \u001b[0mpd\u001b[0m\u001b[0;34m.\u001b[0m\u001b[0mto_datetime\u001b[0m\u001b[0;34m(\u001b[0m\u001b[0mmelted\u001b[0m\u001b[0;34m[\u001b[0m\u001b[0;34m'time'\u001b[0m\u001b[0;34m]\u001b[0m\u001b[0;34m,\u001b[0m \u001b[0minfer_datetime_format\u001b[0m\u001b[0;34m=\u001b[0m\u001b[0;32mTrue\u001b[0m\u001b[0;34m)\u001b[0m\u001b[0;34m\u001b[0m\u001b[0;34m\u001b[0m\u001b[0m\n\u001b[1;32m     13\u001b[0m     \u001b[0mmelted\u001b[0m \u001b[0;34m=\u001b[0m \u001b[0mmelted\u001b[0m\u001b[0;34m.\u001b[0m\u001b[0mdropna\u001b[0m\u001b[0;34m(\u001b[0m\u001b[0msubset\u001b[0m\u001b[0;34m=\u001b[0m\u001b[0;34m[\u001b[0m\u001b[0;34m'value'\u001b[0m\u001b[0;34m]\u001b[0m\u001b[0;34m)\u001b[0m\u001b[0;34m\u001b[0m\u001b[0;34m\u001b[0m\u001b[0m\n",
      "\u001b[0;32m~/opt/anaconda3/envs/learn-env/lib/python3.8/site-packages/pandas/core/reshape/melt.py\u001b[0m in \u001b[0;36mmelt\u001b[0;34m(frame, id_vars, value_vars, var_name, value_name, col_level, ignore_index)\u001b[0m\n\u001b[1;32m     65\u001b[0m             \u001b[0mmissing\u001b[0m \u001b[0;34m=\u001b[0m \u001b[0mIndex\u001b[0m\u001b[0;34m(\u001b[0m\u001b[0mcom\u001b[0m\u001b[0;34m.\u001b[0m\u001b[0mflatten\u001b[0m\u001b[0;34m(\u001b[0m\u001b[0mid_vars\u001b[0m\u001b[0;34m)\u001b[0m\u001b[0;34m)\u001b[0m\u001b[0;34m.\u001b[0m\u001b[0mdifference\u001b[0m\u001b[0;34m(\u001b[0m\u001b[0mcols\u001b[0m\u001b[0;34m)\u001b[0m\u001b[0;34m\u001b[0m\u001b[0;34m\u001b[0m\u001b[0m\n\u001b[1;32m     66\u001b[0m             \u001b[0;32mif\u001b[0m \u001b[0;32mnot\u001b[0m \u001b[0mmissing\u001b[0m\u001b[0;34m.\u001b[0m\u001b[0mempty\u001b[0m\u001b[0;34m:\u001b[0m\u001b[0;34m\u001b[0m\u001b[0;34m\u001b[0m\u001b[0m\n\u001b[0;32m---> 67\u001b[0;31m                 raise KeyError(\n\u001b[0m\u001b[1;32m     68\u001b[0m                     \u001b[0;34m\"The following 'id_vars' are not present \"\u001b[0m\u001b[0;34m\u001b[0m\u001b[0;34m\u001b[0m\u001b[0m\n\u001b[1;32m     69\u001b[0m                     \u001b[0;34mf\"in the DataFrame: {list(missing)}\"\u001b[0m\u001b[0;34m\u001b[0m\u001b[0;34m\u001b[0m\u001b[0m\n",
      "\u001b[0;31mKeyError\u001b[0m: \"The following 'id_vars' are not present in the DataFrame: ['City', 'CountyName', 'Metro', 'RegionID', 'RegionName', 'SizeRank', 'State']\""
     ]
    }
   ],
   "source": [
    "melt_data(yr_1996)"
   ]
  },
  {
   "cell_type": "code",
   "execution_count": null,
   "metadata": {},
   "outputs": [],
   "source": []
  },
  {
   "cell_type": "code",
   "execution_count": null,
   "metadata": {},
   "outputs": [],
   "source": []
  },
  {
   "cell_type": "code",
   "execution_count": null,
   "metadata": {},
   "outputs": [],
   "source": []
  },
  {
   "cell_type": "code",
   "execution_count": null,
   "metadata": {},
   "outputs": [],
   "source": []
  },
  {
   "cell_type": "code",
   "execution_count": null,
   "metadata": {},
   "outputs": [],
   "source": []
  },
  {
   "cell_type": "code",
   "execution_count": null,
   "metadata": {},
   "outputs": [],
   "source": []
  },
  {
   "cell_type": "code",
   "execution_count": null,
   "metadata": {},
   "outputs": [],
   "source": []
  },
  {
   "cell_type": "code",
   "execution_count": null,
   "metadata": {},
   "outputs": [],
   "source": []
  },
  {
   "cell_type": "code",
   "execution_count": null,
   "metadata": {},
   "outputs": [],
   "source": []
  },
  {
   "cell_type": "code",
   "execution_count": null,
   "metadata": {},
   "outputs": [],
   "source": []
  },
  {
   "cell_type": "code",
   "execution_count": null,
   "metadata": {},
   "outputs": [],
   "source": []
  },
  {
   "cell_type": "code",
   "execution_count": null,
   "metadata": {},
   "outputs": [],
   "source": []
  },
  {
   "cell_type": "code",
   "execution_count": null,
   "metadata": {},
   "outputs": [],
   "source": []
  },
  {
   "cell_type": "code",
   "execution_count": null,
   "metadata": {},
   "outputs": [],
   "source": []
  },
  {
   "cell_type": "code",
   "execution_count": null,
   "metadata": {},
   "outputs": [],
   "source": []
  },
  {
   "cell_type": "code",
   "execution_count": null,
   "metadata": {},
   "outputs": [],
   "source": []
  },
  {
   "cell_type": "code",
   "execution_count": null,
   "metadata": {},
   "outputs": [],
   "source": []
  },
  {
   "cell_type": "code",
   "execution_count": null,
   "metadata": {},
   "outputs": [],
   "source": []
  },
  {
   "cell_type": "code",
   "execution_count": null,
   "metadata": {},
   "outputs": [],
   "source": []
  },
  {
   "cell_type": "markdown",
   "metadata": {},
   "source": [
    "# Archive"
   ]
  },
  {
   "cell_type": "code",
   "execution_count": 106,
   "metadata": {
    "ExecuteTime": {
     "end_time": "2022-04-29T17:52:23.771332Z",
     "start_time": "2022-04-29T17:52:23.756092Z"
    }
   },
   "outputs": [],
   "source": [
    "#data_df.isnull().sum()"
   ]
  },
  {
   "cell_type": "code",
   "execution_count": null,
   "metadata": {
    "ExecuteTime": {
     "end_time": "2022-04-29T14:37:54.258230Z",
     "start_time": "2022-04-29T14:37:54.255776Z"
    }
   },
   "outputs": [],
   "source": [
    "#df.columns[7:]"
   ]
  },
  {
   "cell_type": "code",
   "execution_count": null,
   "metadata": {
    "ExecuteTime": {
     "end_time": "2022-04-29T14:40:16.550589Z",
     "start_time": "2022-04-29T14:40:16.531301Z"
    }
   },
   "outputs": [],
   "source": [
    "#date_time_cols = pd.to_datetime(df.columns[7:])\n",
    "#date_time_cols"
   ]
  },
  {
   "cell_type": "code",
   "execution_count": null,
   "metadata": {
    "ExecuteTime": {
     "end_time": "2022-04-29T14:42:40.054731Z",
     "start_time": "2022-04-29T14:42:40.048772Z"
    }
   },
   "outputs": [],
   "source": [
    "#cat_cols = df.columns[:7]\n",
    "#cat_cols"
   ]
  },
  {
   "cell_type": "code",
   "execution_count": null,
   "metadata": {
    "ExecuteTime": {
     "end_time": "2022-04-29T14:42:59.920508Z",
     "start_time": "2022-04-29T14:42:59.794571Z"
    }
   },
   "outputs": [],
   "source": [
    "#new_cols = cat_cols + date_time_cols\n",
    "#new_cols"
   ]
  },
  {
   "cell_type": "code",
   "execution_count": null,
   "metadata": {
    "ExecuteTime": {
     "end_time": "2022-04-29T14:41:13.865252Z",
     "start_time": "2022-04-29T14:41:13.859488Z"
    }
   },
   "outputs": [],
   "source": [
    "#df.rename(columns[7:] = date_time_cols)"
   ]
  },
  {
   "cell_type": "markdown",
   "metadata": {},
   "source": [
    "## Transposing DF"
   ]
  },
  {
   "cell_type": "code",
   "execution_count": null,
   "metadata": {
    "ExecuteTime": {
     "end_time": "2022-04-29T14:45:48.053207Z",
     "start_time": "2022-04-29T14:45:47.503375Z"
    }
   },
   "outputs": [],
   "source": [
    "flipped_df = df.transpose()"
   ]
  },
  {
   "cell_type": "code",
   "execution_count": null,
   "metadata": {
    "ExecuteTime": {
     "end_time": "2022-04-29T14:45:56.791573Z",
     "start_time": "2022-04-29T14:45:56.757960Z"
    }
   },
   "outputs": [],
   "source": [
    "flipped_df.head(10)"
   ]
  },
  {
   "cell_type": "code",
   "execution_count": null,
   "metadata": {
    "ExecuteTime": {
     "end_time": "2022-04-29T14:59:10.562322Z",
     "start_time": "2022-04-29T14:59:09.157442Z"
    }
   },
   "outputs": [],
   "source": [
    "#melt_data(flipped_df)\n",
    "melt_data(df)"
   ]
  },
  {
   "cell_type": "code",
   "execution_count": null,
   "metadata": {
    "ExecuteTime": {
     "end_time": "2022-04-29T14:56:26.647668Z",
     "start_time": "2022-04-29T14:56:26.643592Z"
    }
   },
   "outputs": [],
   "source": [
    "#roi = table9.apply(lambda x: x['total_profit'] / x['production_budget'], axis=1)\n",
    "test = df.loc[8]\n",
    "#test"
   ]
  },
  {
   "cell_type": "code",
   "execution_count": null,
   "metadata": {
    "ExecuteTime": {
     "end_time": "2022-04-29T14:56:33.285474Z",
     "start_time": "2022-04-29T14:56:33.261286Z"
    }
   },
   "outputs": [],
   "source": [
    "melt_data(test)"
   ]
  },
  {
   "cell_type": "code",
   "execution_count": null,
   "metadata": {},
   "outputs": [],
   "source": []
  },
  {
   "cell_type": "markdown",
   "metadata": {
    "ExecuteTime": {
     "end_time": "2022-04-28T19:14:02.905552Z",
     "start_time": "2022-04-28T19:14:02.901647Z"
    }
   },
   "source": [
    "## Exploring SizeRank"
   ]
  },
  {
   "cell_type": "code",
   "execution_count": null,
   "metadata": {
    "ExecuteTime": {
     "end_time": "2022-04-29T14:10:11.548193Z",
     "start_time": "2022-04-29T14:10:11.455561Z"
    }
   },
   "outputs": [],
   "source": [
    "df.sort_values('SizeRank').head()"
   ]
  },
  {
   "cell_type": "code",
   "execution_count": null,
   "metadata": {
    "ExecuteTime": {
     "end_time": "2022-04-28T19:23:25.438266Z",
     "start_time": "2022-04-28T19:23:25.359036Z"
    }
   },
   "outputs": [],
   "source": [
    "df.sort_values(by = ['State', 'City'], ascending = True)"
   ]
  },
  {
   "cell_type": "code",
   "execution_count": null,
   "metadata": {
    "ExecuteTime": {
     "end_time": "2022-04-29T13:59:41.603719Z",
     "start_time": "2022-04-29T13:59:41.589001Z"
    }
   },
   "outputs": [],
   "source": [
    "cat_data = df[['RegionID', 'RegionName', 'City', 'State', 'Metro', 'CountyName', 'SizeRank']]"
   ]
  },
  {
   "cell_type": "code",
   "execution_count": null,
   "metadata": {
    "ExecuteTime": {
     "end_time": "2022-04-29T13:59:43.638153Z",
     "start_time": "2022-04-29T13:59:43.611959Z"
    }
   },
   "outputs": [],
   "source": [
    "cat_data"
   ]
  },
  {
   "cell_type": "code",
   "execution_count": null,
   "metadata": {
    "ExecuteTime": {
     "end_time": "2022-04-29T13:59:46.108156Z",
     "start_time": "2022-04-29T13:59:46.078445Z"
    }
   },
   "outputs": [],
   "source": [
    "df.head()"
   ]
  },
  {
   "cell_type": "code",
   "execution_count": null,
   "metadata": {
    "ExecuteTime": {
     "end_time": "2022-04-29T14:00:03.018134Z",
     "start_time": "2022-04-29T14:00:02.951464Z"
    }
   },
   "outputs": [],
   "source": [
    "date_data = df.drop(['RegionID', 'RegionName', 'City', 'State', 'Metro', 'CountyName', 'SizeRank'], axis=1)"
   ]
  },
  {
   "cell_type": "code",
   "execution_count": null,
   "metadata": {
    "ExecuteTime": {
     "end_time": "2022-04-29T14:04:32.473158Z",
     "start_time": "2022-04-29T14:04:32.441999Z"
    }
   },
   "outputs": [],
   "source": [
    "date_data.head()"
   ]
  },
  {
   "cell_type": "code",
   "execution_count": null,
   "metadata": {
    "ExecuteTime": {
     "end_time": "2022-04-29T14:00:04.819950Z",
     "start_time": "2022-04-29T14:00:04.809291Z"
    }
   },
   "outputs": [],
   "source": [
    "date_time_data = get_datetimes(date_data)"
   ]
  },
  {
   "cell_type": "code",
   "execution_count": null,
   "metadata": {
    "ExecuteTime": {
     "end_time": "2022-04-29T14:00:22.297104Z",
     "start_time": "2022-04-29T14:00:22.289324Z"
    }
   },
   "outputs": [],
   "source": [
    "date_time_data"
   ]
  },
  {
   "cell_type": "code",
   "execution_count": null,
   "metadata": {
    "ExecuteTime": {
     "end_time": "2022-04-29T14:00:22.976934Z",
     "start_time": "2022-04-29T14:00:22.974984Z"
    }
   },
   "outputs": [],
   "source": [
    "len(date_time_data)"
   ]
  },
  {
   "cell_type": "code",
   "execution_count": null,
   "metadata": {
    "ExecuteTime": {
     "end_time": "2022-04-29T14:00:12.009366Z",
     "start_time": "2022-04-29T14:00:11.997305Z"
    }
   },
   "outputs": [],
   "source": [
    "list(date_data.columns)"
   ]
  },
  {
   "cell_type": "code",
   "execution_count": null,
   "metadata": {
    "ExecuteTime": {
     "end_time": "2022-04-29T14:04:10.744522Z",
     "start_time": "2022-04-29T14:04:10.733761Z"
    }
   },
   "outputs": [],
   "source": [
    "#df2 = date_data.append(date_time_data)"
   ]
  },
  {
   "cell_type": "markdown",
   "metadata": {},
   "source": [
    "## Changing column names to DateTime Format"
   ]
  },
  {
   "cell_type": "code",
   "execution_count": null,
   "metadata": {
    "ExecuteTime": {
     "end_time": "2022-04-29T14:05:09.512889Z",
     "start_time": "2022-04-29T14:05:09.490966Z"
    }
   },
   "outputs": [],
   "source": [
    "#df.columns = pd.to_datetime(df.columns)\n",
    "date_data.columns = pd.to_datetime(date_data.columns)"
   ]
  },
  {
   "cell_type": "code",
   "execution_count": null,
   "metadata": {
    "ExecuteTime": {
     "end_time": "2022-04-29T14:05:15.299363Z",
     "start_time": "2022-04-29T14:05:15.257543Z"
    }
   },
   "outputs": [],
   "source": [
    "date_data"
   ]
  },
  {
   "cell_type": "markdown",
   "metadata": {},
   "source": [
    "### Merging with Categories"
   ]
  },
  {
   "cell_type": "code",
   "execution_count": null,
   "metadata": {
    "ExecuteTime": {
     "end_time": "2022-04-29T14:13:59.529986Z",
     "start_time": "2022-04-29T14:13:59.503164Z"
    }
   },
   "outputs": [],
   "source": [
    "#imdb_df = pd.merge(table7, table4, on= 'tconst', how='inner')\n",
    "base_df = pd.merge(cat_data, date_data, how='outer')"
   ]
  },
  {
   "cell_type": "markdown",
   "metadata": {},
   "source": [
    "# Mod 4 Project - Starter Notebook\n",
    "\n",
    "This notebook has been provided to you so that you can make use of the following starter code to help with the trickier parts of preprocessing the Zillow dataset. \n",
    "\n",
    "The notebook contains a rough outline the general order you'll likely want to take in this project. You'll notice that most of the areas are left blank. This is so that it's more obvious exactly when you should make use of the starter code provided for preprocessing. \n",
    "\n",
    "**_NOTE:_** The number of empty cells are not meant to infer how much or how little code should be involved in any given step--we've just provided a few for your convenience. Add, delete, and change things around in this notebook as needed!\n",
    "\n",
    "## Some Notes Before Starting\n",
    "\n",
    "This project will be one of the more challenging projects you complete in this program. This is because working with Time Series data is a bit different than working with regular datasets. In order to make this a bit less frustrating and help you understand what you need to do (and when you need to do it), we'll quickly review the dataset formats that you'll encounter in this project. \n",
    "\n",
    "### Wide Format vs Long Format\n",
    "\n",
    "If you take a look at the format of the data in `zillow_data.csv`, you'll notice that the actual Time Series values are stored as separate columns. Here's a sample: \n",
    "\n",
    "<img src='https://raw.githubusercontent.com/learn-co-students/dsc-mod-4-project-seattle-ds-102819/master/images/df_head.png'>\n",
    "\n",
    "You'll notice that the first seven columns look like any other dataset you're used to working with. However, column 8 refers to the median housing sales values for April 1996, column 9 for May 1996, and so on. This This is called **_Wide Format_**, and it makes the dataframe intuitive and easy to read. However, there are problems with this format when it comes to actually learning from the data, because the data only makes sense if you know the name of the column that the data can be found it. Since column names are metadata, our algorithms will miss out on what dates each value is for. This means that before we pass this data to our ARIMA model, we'll need to reshape our dataset to **_Long Format_**. Reshaped into long format, the dataframe above would now look like:\n",
    "\n",
    "<img src='https://raw.githubusercontent.com/learn-co-students/dsc-mod-4-project-seattle-ds-102819/master/images/melted1.png'>\n",
    "\n",
    "There are now many more rows in this dataset--one for each unique time and zipcode combination in the data! Once our dataset is in this format, we'll be able to train an ARIMA model on it. The method used to convert from Wide to Long is `pd.melt()`, and it is common to refer to our dataset as 'melted' after the transition to denote that it is in long format. \n",
    "\n",
    "## Helper Functions Provided\n",
    "\n",
    "Melting a dataset can be tricky if you've never done it before, so you'll see that we have provided a sample function, `melt_data()`, to help you with this step below. Also provided is:\n",
    "\n",
    "* `get_datetimes()`, a function to deal with converting the column values for datetimes as a pandas series of datetime objects\n",
    "* Some good parameters for matplotlib to help make your visualizations more readable. \n",
    "\n",
    "Good luck!\n",
    "\n",
    "\n",
    "## Step 1: Load the Data/Filtering for Chosen Zipcodes"
   ]
  },
  {
   "cell_type": "code",
   "execution_count": null,
   "metadata": {},
   "outputs": [],
   "source": []
  },
  {
   "cell_type": "code",
   "execution_count": null,
   "metadata": {},
   "outputs": [],
   "source": []
  },
  {
   "cell_type": "code",
   "execution_count": null,
   "metadata": {},
   "outputs": [],
   "source": []
  },
  {
   "cell_type": "markdown",
   "metadata": {},
   "source": [
    "## Step 2: Data Preprocessing"
   ]
  },
  {
   "cell_type": "code",
   "execution_count": null,
   "metadata": {},
   "outputs": [],
   "source": [
    "def get_datetimes(df):\n",
    "    \"\"\"\n",
    "    Takes a dataframe:\n",
    "    returns only those column names that can be converted into datetime objects \n",
    "    as datetime objects.\n",
    "    NOTE number of returned columns may not match total number of columns in passed dataframe\n",
    "    \"\"\"\n",
    "    \n",
    "    return pd.to_datetime(df.columns.values[1:], format='%Y-%m')"
   ]
  },
  {
   "cell_type": "code",
   "execution_count": null,
   "metadata": {},
   "outputs": [],
   "source": []
  },
  {
   "cell_type": "code",
   "execution_count": null,
   "metadata": {},
   "outputs": [],
   "source": []
  },
  {
   "cell_type": "code",
   "execution_count": null,
   "metadata": {},
   "outputs": [],
   "source": []
  },
  {
   "cell_type": "markdown",
   "metadata": {},
   "source": [
    "## Step 3: EDA and Visualization"
   ]
  },
  {
   "cell_type": "code",
   "execution_count": null,
   "metadata": {},
   "outputs": [],
   "source": [
    "font = {'family' : 'normal',\n",
    "        'weight' : 'bold',\n",
    "        'size'   : 22}\n",
    "\n",
    "matplotlib.rc('font', **font)\n",
    "\n",
    "# NOTE: if you visualizations are too cluttered to read, try calling 'plt.gcf().autofmt_xdate()'!"
   ]
  },
  {
   "cell_type": "code",
   "execution_count": null,
   "metadata": {},
   "outputs": [],
   "source": []
  },
  {
   "cell_type": "code",
   "execution_count": null,
   "metadata": {},
   "outputs": [],
   "source": []
  },
  {
   "cell_type": "code",
   "execution_count": null,
   "metadata": {},
   "outputs": [],
   "source": []
  },
  {
   "cell_type": "markdown",
   "metadata": {},
   "source": [
    "## Step 4: Reshape from Wide to Long Format"
   ]
  },
  {
   "cell_type": "code",
   "execution_count": null,
   "metadata": {},
   "outputs": [],
   "source": [
    "def melt_data(df):\n",
    "    \"\"\"\n",
    "    Takes the zillow_data dataset in wide form or a subset of the zillow_dataset.  \n",
    "    Returns a long-form datetime dataframe \n",
    "    with the datetime column names as the index and the values as the 'values' column.\n",
    "    \n",
    "    If more than one row is passes in the wide-form dataset, the values column\n",
    "    will be the mean of the values from the datetime columns in all of the rows.\n",
    "    \"\"\"\n",
    "    \n",
    "    melted = pd.melt(df, id_vars=['RegionName', 'RegionID', 'SizeRank', 'City', 'State', 'Metro', 'CountyName'], var_name='time')\n",
    "    melted['time'] = pd.to_datetime(melted['time'], infer_datetime_format=True)\n",
    "    melted = melted.dropna(subset=['value'])\n",
    "    return melted.groupby('time').aggregate({'value':'mean'})"
   ]
  },
  {
   "cell_type": "code",
   "execution_count": null,
   "metadata": {},
   "outputs": [],
   "source": []
  },
  {
   "cell_type": "code",
   "execution_count": null,
   "metadata": {},
   "outputs": [],
   "source": []
  },
  {
   "cell_type": "code",
   "execution_count": null,
   "metadata": {},
   "outputs": [],
   "source": []
  },
  {
   "cell_type": "markdown",
   "metadata": {},
   "source": [
    "## Step 5: ARIMA Modeling"
   ]
  },
  {
   "cell_type": "code",
   "execution_count": null,
   "metadata": {},
   "outputs": [],
   "source": []
  },
  {
   "cell_type": "code",
   "execution_count": null,
   "metadata": {},
   "outputs": [],
   "source": []
  },
  {
   "cell_type": "code",
   "execution_count": null,
   "metadata": {},
   "outputs": [],
   "source": []
  },
  {
   "cell_type": "code",
   "execution_count": null,
   "metadata": {},
   "outputs": [],
   "source": []
  },
  {
   "cell_type": "code",
   "execution_count": null,
   "metadata": {},
   "outputs": [],
   "source": []
  },
  {
   "cell_type": "code",
   "execution_count": null,
   "metadata": {},
   "outputs": [],
   "source": []
  },
  {
   "cell_type": "markdown",
   "metadata": {},
   "source": [
    "## Step 6: Interpreting Results"
   ]
  },
  {
   "cell_type": "code",
   "execution_count": null,
   "metadata": {},
   "outputs": [],
   "source": []
  },
  {
   "cell_type": "code",
   "execution_count": null,
   "metadata": {},
   "outputs": [],
   "source": []
  },
  {
   "cell_type": "code",
   "execution_count": null,
   "metadata": {},
   "outputs": [],
   "source": []
  }
 ],
 "metadata": {
  "kernelspec": {
   "display_name": "Python 3",
   "language": "python",
   "name": "python3"
  },
  "language_info": {
   "codemirror_mode": {
    "name": "ipython",
    "version": 3
   },
   "file_extension": ".py",
   "mimetype": "text/x-python",
   "name": "python",
   "nbconvert_exporter": "python",
   "pygments_lexer": "ipython3",
   "version": "3.8.5"
  },
  "toc": {
   "base_numbering": 1,
   "nav_menu": {},
   "number_sections": true,
   "sideBar": true,
   "skip_h1_title": false,
   "title_cell": "Table of Contents",
   "title_sidebar": "Contents",
   "toc_cell": false,
   "toc_position": {
    "height": "calc(100% - 180px)",
    "left": "10px",
    "top": "150px",
    "width": "288px"
   },
   "toc_section_display": true,
   "toc_window_display": true
  },
  "varInspector": {
   "cols": {
    "lenName": 16,
    "lenType": 16,
    "lenVar": 40
   },
   "kernels_config": {
    "python": {
     "delete_cmd_postfix": "",
     "delete_cmd_prefix": "del ",
     "library": "var_list.py",
     "varRefreshCmd": "print(var_dic_list())"
    },
    "r": {
     "delete_cmd_postfix": ") ",
     "delete_cmd_prefix": "rm(",
     "library": "var_list.r",
     "varRefreshCmd": "cat(var_dic_list()) "
    }
   },
   "types_to_exclude": [
    "module",
    "function",
    "builtin_function_or_method",
    "instance",
    "_Feature"
   ],
   "window_display": false
  }
 },
 "nbformat": 4,
 "nbformat_minor": 2
}
